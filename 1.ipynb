{
  "cells": [
    {
      "cell_type": "markdown",
      "metadata": {},
      "source": [
        "# NLP TASK PART 1\n",
        "TASK A) Word Embeddings\n",
        "TASK B) Phrase Embedding (static)\n",
        "\n",
        "(rest done in other parts)"
      ]
    },
    {
      "cell_type": "markdown",
      "metadata": {
        "id": "OPalZ0-9f452"
      },
      "source": [
        "## Installing required libraries"
      ]
    },
    {
      "cell_type": "code",
      "execution_count": null,
      "metadata": {
        "colab": {
          "base_uri": "https://localhost:8080/"
        },
        "id": "Juva2AydZ_sX",
        "outputId": "fedcdc6e-fbfe-440a-c2f6-9e975dc66532"
      },
      "outputs": [
        {
          "name": "stderr",
          "output_type": "stream",
          "text": [
            "[nltk_data] Downloading package stopwords to /root/nltk_data...\n",
            "[nltk_data]   Unzipping corpora/stopwords.zip.\n",
            "[nltk_data] Downloading package punkt to /root/nltk_data...\n",
            "[nltk_data]   Unzipping tokenizers/punkt.zip.\n",
            "[nltk_data] Downloading package wordnet to /root/nltk_data...\n",
            "[nltk_data] Downloading package brown to /root/nltk_data...\n",
            "[nltk_data]   Unzipping corpora/brown.zip.\n"
          ]
        }
      ],
      "source": [
        "import gensim as gs\n",
        "import gensim\n",
        "import nltk\n",
        "nltk.download('stopwords')\n",
        "nltk.download('punkt') #required for preprocess function to work\n",
        "from nltk.corpus import stopwords\n",
        "nltk.download('wordnet')\n",
        "from nltk.stem import WordNetLemmatizer\n",
        "nltk.download('brown')\n",
        "import multiprocessing\n",
        "import matplotlib.pyplot as plt\n",
        "import pandas as pd\n",
        "import spacy\n",
        "import numpy as np\n",
        "from scipy.spatial.distance import cosine\n",
        "from sklearn.metrics import mean_squared_error\n",
        "from sklearn.decomposition import PCA\n",
        "import plotly.express as p\n",
        "from sklearn.metrics import classification_report"
      ]
    },
    {
      "cell_type": "code",
      "execution_count": null,
      "metadata": {},
      "outputs": [],
      "source": [
        "import tensorflow as tf\n",
        "from tensorflow.keras.models import Sequential, Model\n",
        "from tensorflow.keras.layers import Dense, Dropout, Input, Embedding, GlobalAveragePooling1D\n",
        "from tensorflow.keras.layers import concatenate\n",
        "from tensorflow.keras.callbacks import EarlyStopping\n",
        "from tensorflow.keras.regularizers import l2\n",
        "from tensorflow.keras.preprocessing.text import Tokenizer\n",
        "from tensorflow.keras.preprocessing.sequence import pad_sequences"
      ]
    },
    {
      "cell_type": "markdown",
      "metadata": {
        "id": "SfSlG3USf_hJ"
      },
      "source": [
        "## Part 1: Word Embeddings"
      ]
    },
    {
      "cell_type": "markdown",
      "metadata": {
        "id": "3JqUuaNAgl9d"
      },
      "source": [
        "### 1.a Constrained"
      ]
    },
    {
      "cell_type": "markdown",
      "metadata": {
        "id": "oXvAHPWjgDxO"
      },
      "source": [
        "#### Preprocessing text:"
      ]
    },
    {
      "cell_type": "code",
      "execution_count": null,
      "metadata": {
        "id": "7WpE0aiJclnU"
      },
      "outputs": [],
      "source": [
        "def read_path(file_name):\n",
        "  with open(file_name, 'r') as file:\n",
        "    text = file.read()\n",
        "  return text"
      ]
    },
    {
      "cell_type": "code",
      "execution_count": null,
      "metadata": {
        "id": "FlK_3LIhdJHw"
      },
      "outputs": [],
      "source": [
        "def preprocess_text(text):\n",
        "  sentences = nltk.sent_tokenize(text)\n",
        "  # stop_words = set(stopwords.words('english'))\n",
        "  processed_sentences = []\n",
        "  for sentence in sentences:\n",
        "    words = nltk.word_tokenize(sentence)\n",
        "    lemmatizer = WordNetLemmatizer()\n",
        "    # filtered_words = [word.lower() for word in words if word.lower() not in stop_words]\n",
        "    filtered_words = [word.lower() for word in words]\n",
        "    filtered_words = [lemmatizer.lemmatize(word) for word in filtered_words]\n",
        "    processed_sentences.append(filtered_words)\n",
        "  return processed_sentences"
      ]
    },
    {
      "cell_type": "code",
      "execution_count": null,
      "metadata": {
        "id": "SYhkPGO8bqmt"
      },
      "outputs": [],
      "source": [
        "afinn_111 = r\"datasets/AFINN-111.txt\""
      ]
    },
    {
      "cell_type": "code",
      "execution_count": null,
      "metadata": {
        "id": "YOFK_FmRNAlh"
      },
      "outputs": [],
      "source": [
        "\n",
        "brown_corpus = nltk.corpus.brown.words()\n",
        "brown_corpus_processed = preprocess_text(' '.join(brown_corpus))\n"
      ]
    },
    {
      "cell_type": "code",
      "execution_count": null,
      "metadata": {
        "colab": {
          "base_uri": "https://localhost:8080/"
        },
        "id": "mOhJypIvNbdr",
        "outputId": "6238a570-67f9-46ed-8dd4-ecbc46214bef"
      },
      "outputs": [
        {
          "name": "stderr",
          "output_type": "stream",
          "text": [
            "IOPub data rate exceeded.\n",
            "The notebook server will temporarily stop sending output\n",
            "to the client in order to avoid crashing it.\n",
            "To change this limit, set the config variable\n",
            "`--NotebookApp.iopub_data_rate_limit`.\n",
            "\n",
            "Current values:\n",
            "NotebookApp.iopub_data_rate_limit=1000000.0 (bytes/sec)\n",
            "NotebookApp.rate_limit_window=3.0 (secs)\n",
            "\n"
          ]
        }
      ],
      "source": [
        "print(brown_corpus_processed)"
      ]
    },
    {
      "cell_type": "markdown",
      "metadata": {
        "id": "0NxURoaLgIGo"
      },
      "source": [
        "#### Model"
      ]
    },
    {
      "cell_type": "code",
      "execution_count": null,
      "metadata": {
        "id": "Lv4booWR0Hyf"
      },
      "outputs": [],
      "source": [
        "cores = multiprocessing.cpu_count()\n",
        "model = gs.models.Word2Vec(window = 10, vector_size = 300, negative = 5,\n",
        "                           min_count = 2, workers = cores-1,\n",
        "                           shrink_windows = True)\n",
        "model.build_vocab(brown_corpus_processed)"
      ]
    },
    {
      "cell_type": "code",
      "execution_count": null,
      "metadata": {
        "colab": {
          "base_uri": "https://localhost:8080/"
        },
        "id": "eeEf16L81ezW",
        "outputId": "b4c694c6-e7d1-41bb-80a7-bc6b625d72fd"
      },
      "outputs": [
        {
          "data": {
            "text/plain": [
              "(4085162, 5869235)"
            ]
          },
          "execution_count": 10,
          "metadata": {},
          "output_type": "execute_result"
        }
      ],
      "source": [
        "model.train(brown_corpus_processed, total_examples = model.corpus_count, epochs = model.epochs)"
      ]
    },
    {
      "cell_type": "code",
      "execution_count": null,
      "metadata": {
        "id": "tcC6g3N6uNUk"
      },
      "outputs": [],
      "source": [
        "test = r\"datasets/SimLex-999.txt\"\n",
        "def try_similarity(word1, word2, model):\n",
        "    try:\n",
        "        return model.wv.similarity(word1, word2)\n",
        "    except KeyError:\n",
        "        return 0\n",
        "\n",
        "def grade_similarity(similarity):\n",
        "  if(similarity > 0.8):\n",
        "    return 1\n",
        "  elif(similarity > 0.6):\n",
        "    return 2\n",
        "  elif(similarity > 0.4):\n",
        "    return 3\n",
        "  elif(similarity > 0.2):\n",
        "    return 4\n",
        "  else:\n",
        "    return 5"
      ]
    },
    {
      "cell_type": "code",
      "execution_count": null,
      "metadata": {
        "colab": {
          "base_uri": "https://localhost:8080/"
        },
        "id": "h3Hm9nTYufG7",
        "outputId": "b4fadea2-a3f2-4ad9-fe8b-a8aa815c611c"
      },
      "outputs": [
        {
          "name": "stdout",
          "output_type": "stream",
          "text": [
            "   word1        word2  SimLex999  ModelSimilarity\n",
            "0    old          new      0.158         0.319609\n",
            "1  smart  intelligent      0.920         0.744467\n",
            "2   hard    difficult      0.877         0.735163\n",
            "3  happy     cheerful      0.955         0.638997\n",
            "4   hard         easy      0.095         0.910724\n"
          ]
        }
      ],
      "source": [
        "df = pd.read_csv(test, sep=\"\\t\")\n",
        "df = df[['word1', 'word2', 'SimLex999']]\n",
        "df['SimLex999'] = df['SimLex999']/10\n",
        "df['ModelSimilarity'] = df.apply(lambda row: try_similarity(row['word1'], row['word2'], model), axis=1)\n",
        "print(df.head())"
      ]
    },
    {
      "cell_type": "code",
      "execution_count": null,
      "metadata": {
        "colab": {
          "base_uri": "https://localhost:8080/"
        },
        "id": "T84yNiQfz3P9",
        "outputId": "cc5b3ca6-f058-4831-b172-0445ba30b738"
      },
      "outputs": [
        {
          "name": "stdout",
          "output_type": "stream",
          "text": [
            "0.9209209209209209\n",
            "      word1        word2  SimLex999  ModelSimilarity  word1_afinn  word2_afinn\n",
            "0       old          new      0.158         0.319609          0.0          0.0\n",
            "1     smart  intelligent      0.920         0.744467          0.2          0.4\n",
            "2      hard    difficult      0.877         0.735163         -0.2         -0.2\n",
            "3     happy     cheerful      0.955         0.638997          0.6          0.4\n",
            "4      hard         easy      0.095         0.910724         -0.2          0.2\n",
            "..      ...          ...        ...              ...          ...          ...\n",
            "994    join      acquire      0.285         0.871304          0.2          0.0\n",
            "995    send       attend      0.167         0.840495          0.0          0.0\n",
            "996  gather       attend      0.480         0.882083          0.0          0.0\n",
            "997  absorb     withdraw      0.297         0.758678          0.0          0.0\n",
            "998  attend       arrive      0.608         0.775865          0.0          0.0\n",
            "\n",
            "[999 rows x 6 columns]\n"
          ]
        }
      ],
      "source": [
        "\n",
        "def add_afinn_scores(df, afinn_file):\n",
        "    afinn_dict = {}\n",
        "    with open(afinn_file) as f:\n",
        "        for line in f:\n",
        "            parts = line.strip().split('\\t')\n",
        "            if len(parts) == 2:\n",
        "                word, score = parts\n",
        "                afinn_dict[word] = float(score) / 5\n",
        "\n",
        "    df['word1_afinn'] = df['word1'].map(afinn_dict).fillna(0)\n",
        "    df['word2_afinn'] = df['word2'].map(afinn_dict).fillna(0)\n",
        "\n",
        "    return df\n",
        "\n",
        "df = add_afinn_scores(df, afinn_111)\n",
        "print(len(df[df['word1_afinn']*df['word2_afinn']==0])/len(df))\n",
        "print(df)\n"
      ]
    },
    {
      "cell_type": "markdown",
      "metadata": {
        "id": "x4y1ruRy-IFk"
      },
      "source": [
        "Since all the values are graded between -5 and 5, normalizing them to fall between -1 and 1 would make score*10 be only even values. We consider that while making the function for our new model score. Also we can see from the percentage we printed that most of the words are not accounted for.\n"
      ]
    },
    {
      "cell_type": "code",
      "execution_count": null,
      "metadata": {
        "colab": {
          "base_uri": "https://localhost:8080/"
        },
        "id": "fHBAe_3s14xb",
        "outputId": "fe51d3b9-199c-4d25-b671-9abceb47a62f"
      },
      "outputs": [
        {
          "name": "stdout",
          "output_type": "stream",
          "text": [
            "      word1        word2  SimLex999  ModelSimilarity  word1_afinn  \\\n",
            "0       old          new      0.158         0.319609          0.0   \n",
            "1     smart  intelligent      0.920         0.744467          0.2   \n",
            "2      hard    difficult      0.877         0.735163         -0.2   \n",
            "3     happy     cheerful      0.955         0.638997          0.6   \n",
            "4      hard         easy      0.095         0.910724         -0.2   \n",
            "..      ...          ...        ...              ...          ...   \n",
            "994    join      acquire      0.285         0.871304          0.2   \n",
            "995    send       attend      0.167         0.840495          0.0   \n",
            "996  gather       attend      0.480         0.882083          0.0   \n",
            "997  absorb     withdraw      0.297         0.758678          0.0   \n",
            "998  attend       arrive      0.608         0.775865          0.0   \n",
            "\n",
            "     word2_afinn    NewSim  \n",
            "0            0.0  0.319609  \n",
            "1            0.4  0.644467  \n",
            "2           -0.2  0.735163  \n",
            "3            0.4  0.638997  \n",
            "4            0.2  0.710724  \n",
            "..           ...       ...  \n",
            "994          0.0  0.871304  \n",
            "995          0.0  0.840495  \n",
            "996          0.0  0.882083  \n",
            "997          0.0  0.758678  \n",
            "998          0.0  0.775865  \n",
            "\n",
            "[999 rows x 7 columns]\n"
          ]
        }
      ],
      "source": [
        "\n",
        "def new_model_score(df):\n",
        "    df['NewSim'] = np.NaN\n",
        "    for index, row in df.iterrows():\n",
        "        new_sim = row['ModelSimilarity'] #def\n",
        "        if row['word1_afinn'] == 0 or row['word2_afinn'] == 0 or row['word1_afinn'] == row['word2_afinn']:\n",
        "            pass\n",
        "        elif row['word1_afinn'] * row['word2_afinn'] < 0:\n",
        "            # Opposite polarity handling\n",
        "            max_val = max(abs(row['word1_afinn']), abs(row['word2_afinn']))\n",
        "            min_val = min(abs(row['word1_afinn']), abs(row['word2_afinn']))\n",
        "            if row['ModelSimilarity'] - max_val > 0:\n",
        "                new_sim = row['ModelSimilarity'] - max_val\n",
        "            elif row['ModelSimilarity'] - min_val > 0:\n",
        "                new_sim = row['ModelSimilarity'] - min_val\n",
        "        elif abs(row['word1_afinn'] - row['word2_afinn']) == 0.2:\n",
        "            # Difference in polarity is one grade\n",
        "            if row['ModelSimilarity'] - 0.1 > 0:\n",
        "                new_sim = row['ModelSimilarity'] - 0.1\n",
        "        elif abs(row['word1_afinn'] - row['word2_afinn']) > 0.2:\n",
        "            # Significant difference in polarity\n",
        "            if row['ModelSimilarity'] - 0.2 > 0:\n",
        "                new_sim = row['ModelSimilarity'] - 0.2\n",
        "            elif row['ModelSimilarity'] - 0.1 > 0:\n",
        "                new_sim = row['ModelSimilarity'] - 0.1\n",
        "\n",
        "        df.loc[index, 'NewSim'] = new_sim\n",
        "\n",
        "    return df\n",
        "\n",
        "df = new_model_score(df)\n",
        "print(df)\n"
      ]
    },
    {
      "cell_type": "code",
      "execution_count": null,
      "metadata": {
        "colab": {
          "base_uri": "https://localhost:8080/"
        },
        "id": "bxks6VeBvGPy",
        "outputId": "d6148b3f-0f7d-4715-fce9-bae7337ae3e4"
      },
      "outputs": [
        {
          "name": "stdout",
          "output_type": "stream",
          "text": [
            "Accuracy with 30% difference : 47.65%\n",
            "Accuracy with 20% difference : 33.03%\n",
            "Accuracy with 10% difference : 16.02%\n",
            "Accuracy with polarity accounted for (15% diff) : 26.33%\n",
            "Accuracy with grades and polarity accounted for : 47.35%\n"
          ]
        }
      ],
      "source": [
        "def calculate_accuracy(df, threshold):\n",
        "    df['Difference'] = abs(df['SimLex999'] - df['ModelSimilarity'])\n",
        "    df['IsAccurate'] = df['Difference'] <= threshold\n",
        "    accuracy_percentage = (df['IsAccurate'].sum() / len(df)) * 100\n",
        "    df.drop(columns = ['Difference', 'IsAccurate'], inplace = True)\n",
        "    return accuracy_percentage\n",
        "\n",
        "def calc_accuracy_grades(df):\n",
        "    df[\"test_grade\"] = df.apply(lambda row: grade_similarity(row['SimLex999']), axis = 1)\n",
        "    df[\"model_grade\"] = df.apply(lambda row: int(grade_similarity(row['NewSim'])), axis =1 )\n",
        "    df['Difference'] = abs(df['test_grade'] - df['model_grade'])\n",
        "    df['IsAccurate'] = df['Difference'] <= 1\n",
        "    accuracy_percentage = (df['IsAccurate'].sum() / len(df)) * 100\n",
        "    df.drop(columns = ['Difference', 'IsAccurate', 'test_grade', 'model_grade'], inplace = True)\n",
        "    return accuracy_percentage\n",
        "\n",
        "def calc_normalized_acc(df, threshold = 0.15):\n",
        "    df['Difference'] = abs(df['SimLex999'] - df['NewSim'])\n",
        "    df['IsAccurate'] = df['Difference'] <= threshold\n",
        "    accuracy_percentage = (df['IsAccurate'].sum() / len(df)) * 100\n",
        "    df.drop(columns = ['Difference', 'IsAccurate'], inplace = True)\n",
        "    return accuracy_percentage\n",
        "\n",
        "\n",
        "accuracy_30 = calculate_accuracy(df, 0.3)\n",
        "accuracy_20 = calculate_accuracy(df, 0.2)\n",
        "accuracy_10 = calculate_accuracy(df, 0.1)\n",
        "accuracy_grade = calc_accuracy_grades(df)\n",
        "accuracy_new = calc_normalized_acc(df)\n",
        "\n",
        "print(f\"Accuracy with 30% difference : {accuracy_30:.2f}%\")\n",
        "print(f\"Accuracy with 20% difference : {accuracy_20:.2f}%\")\n",
        "print(f\"Accuracy with 10% difference : {accuracy_10:.2f}%\")\n",
        "print(f\"Accuracy with polarity accounted for (15% diff) : {accuracy_new:.2f}%\")\n",
        "print(f\"Accuracy with grades and polarity accounted for : {accuracy_grade:.2f}%\")\n"
      ]
    },
    {
      "cell_type": "code",
      "execution_count": null,
      "metadata": {
        "colab": {
          "base_uri": "https://localhost:8080/"
        },
        "id": "mBgyXdjrCZzH",
        "outputId": "7996a9a6-0021-42a6-dae3-64f4fbfaf2a2"
      },
      "outputs": [
        {
          "name": "stdout",
          "output_type": "stream",
          "text": [
            "Mean squared error without accounting for polarity:  0.1796314143992172\n",
            "Mean squared error with accounting for polarity:  0.17155386703660036\n"
          ]
        }
      ],
      "source": [
        "\n",
        "mse_w2v = mean_squared_error(df['SimLex999'], df['ModelSimilarity'])\n",
        "mse_w_polarity = mean_squared_error(df['SimLex999'], df['NewSim'])\n",
        "print(\"Mean squared error without accounting for polarity: \", mse_w2v)\n",
        "print(\"Mean squared error with accounting for polarity: \" , mse_w_polarity)"
      ]
    },
    {
      "cell_type": "code",
      "execution_count": null,
      "metadata": {
        "id": "QTbP_Dd9JEfj"
      },
      "outputs": [],
      "source": [
        "#using PCA to come to 2 dimension, and we can keep polarity as the third dimension and plot\n",
        "y = model.wv.index_to_key\n",
        "pca = PCA(n_components =3)\n",
        "X = pca.fit_transform(model.wv.get_normed_vectors())"
      ]
    },
    {
      "cell_type": "code",
      "execution_count": null,
      "metadata": {
        "colab": {
          "base_uri": "https://localhost:8080/",
          "height": 542
        },
        "id": "yWPAzjcvKdkZ",
        "outputId": "9300b240-1ee7-4ca3-8019-bbbfd6d41065"
      },
      "outputs": [
        {
          "data": {
            "text/html": [
              "<html>\n",
              "<head><meta charset=\"utf-8\" /></head>\n",
              "<body>\n",
              "    <div>            <script src=\"https://cdnjs.cloudflare.com/ajax/libs/mathjax/2.7.5/MathJax.js?config=TeX-AMS-MML_SVG\"></script><script type=\"text/javascript\">if (window.MathJax && window.MathJax.Hub && window.MathJax.Hub.Config) {window.MathJax.Hub.Config({SVG: {font: \"STIX-Web\"}});}</script>                <script type=\"text/javascript\">window.PlotlyConfig = {MathJaxConfig: 'local'};</script>\n",
              "        <script charset=\"utf-8\" src=\"https://cdn.plot.ly/plotly-2.24.1.min.js\"></script>                <div id=\"86e49a8a-83f5-4130-a0f2-8ce91d685d0a\" class=\"plotly-graph-div\" style=\"height:525px; width:100%;\"></div>            <script type=\"text/javascript\">                                    window.PLOTLYENV=window.PLOTLYENV || {};                                    if (document.getElementById(\"86e49a8a-83f5-4130-a0f2-8ce91d685d0a\")) {                    Plotly.newPlot(                        \"86e49a8a-83f5-4130-a0f2-8ce91d685d0a\",                        [{\"hovertemplate\":\"color=issue\\u003cbr\\u003e0=%{x}\\u003cbr\\u003e1=%{y}\\u003cbr\\u003e2=%{z}\\u003cextra\\u003e\\u003c\\u002fextra\\u003e\",\"legendgroup\":\"issue\",\"marker\":{\"color\":\"#636efa\",\"symbol\":\"circle\"},\"mode\":\"markers\",\"name\":\"issue\",\"scene\":\"scene\",\"showlegend\":true,\"x\":[0.1495646983385086],\"y\":[0.19345813989639282],\"z\":[-0.45717304944992065],\"type\":\"scatter3d\"},{\"hovertemplate\":\"color=total\\u003cbr\\u003e0=%{x}\\u003cbr\\u003e1=%{y}\\u003cbr\\u003e2=%{z}\\u003cextra\\u003e\\u003c\\u002fextra\\u003e\",\"legendgroup\":\"total\",\"marker\":{\"color\":\"#EF553B\",\"symbol\":\"circle\"},\"mode\":\"markers\",\"name\":\"total\",\"scene\":\"scene\",\"showlegend\":true,\"x\":[-0.18637607991695404],\"y\":[0.3440198600292206],\"z\":[-0.3220393657684326],\"type\":\"scatter3d\"},{\"hovertemplate\":\"color=america\\u003cbr\\u003e0=%{x}\\u003cbr\\u003e1=%{y}\\u003cbr\\u003e2=%{z}\\u003cextra\\u003e\\u003c\\u002fextra\\u003e\",\"legendgroup\":\"america\",\"marker\":{\"color\":\"#00cc96\",\"symbol\":\"circle\"},\"mode\":\"markers\",\"name\":\"america\",\"scene\":\"scene\",\"showlegend\":true,\"x\":[-0.09816160053014755],\"y\":[0.27519795298576355],\"z\":[-0.27200570702552795],\"type\":\"scatter3d\"},{\"hovertemplate\":\"color=stand\\u003cbr\\u003e0=%{x}\\u003cbr\\u003e1=%{y}\\u003cbr\\u003e2=%{z}\\u003cextra\\u003e\\u003c\\u002fextra\\u003e\",\"legendgroup\":\"stand\",\"marker\":{\"color\":\"#ab63fa\",\"symbol\":\"circle\"},\"mode\":\"markers\",\"name\":\"stand\",\"scene\":\"scene\",\"showlegend\":true,\"x\":[0.11434680968523026],\"y\":[0.14954963326454163],\"z\":[-0.07305951416492462],\"type\":\"scatter3d\"},{\"hovertemplate\":\"color=able\\u003cbr\\u003e0=%{x}\\u003cbr\\u003e1=%{y}\\u003cbr\\u003e2=%{z}\\u003cextra\\u003e\\u003c\\u002fextra\\u003e\",\"legendgroup\":\"able\",\"marker\":{\"color\":\"#FFA15A\",\"symbol\":\"circle\"},\"mode\":\"markers\",\"name\":\"able\",\"scene\":\"scene\",\"showlegend\":true,\"x\":[0.6195070743560791],\"y\":[-0.020500484853982925],\"z\":[-0.023782655596733093],\"type\":\"scatter3d\"},{\"hovertemplate\":\"color=amount\\u003cbr\\u003e0=%{x}\\u003cbr\\u003e1=%{y}\\u003cbr\\u003e2=%{z}\\u003cextra\\u003e\\u003c\\u002fextra\\u003e\",\"legendgroup\":\"amount\",\"marker\":{\"color\":\"#19d3f3\",\"symbol\":\"circle\"},\"mode\":\"markers\",\"name\":\"amount\",\"scene\":\"scene\",\"showlegend\":true,\"x\":[0.0911458283662796],\"y\":[0.13758911192417145],\"z\":[-0.44822099804878235],\"type\":\"scatter3d\"},{\"hovertemplate\":\"color=provide\\u003cbr\\u003e0=%{x}\\u003cbr\\u003e1=%{y}\\u003cbr\\u003e2=%{z}\\u003cextra\\u003e\\u003c\\u002fextra\\u003e\",\"legendgroup\":\"provide\",\"marker\":{\"color\":\"#FF6692\",\"symbol\":\"circle\"},\"mode\":\"markers\",\"name\":\"provide\",\"scene\":\"scene\",\"showlegend\":true,\"x\":[0.16196918487548828],\"y\":[0.07200609147548676],\"z\":[-0.42780762910842896],\"type\":\"scatter3d\"},{\"hovertemplate\":\"color=music\\u003cbr\\u003e0=%{x}\\u003cbr\\u003e1=%{y}\\u003cbr\\u003e2=%{z}\\u003cextra\\u003e\\u003c\\u002fextra\\u003e\",\"legendgroup\":\"music\",\"marker\":{\"color\":\"#B6E880\",\"symbol\":\"circle\"},\"mode\":\"markers\",\"name\":\"music\",\"scene\":\"scene\",\"showlegend\":true,\"x\":[0.07655744254589081],\"y\":[-0.06486156582832336],\"z\":[-0.06805568933486938],\"type\":\"scatter3d\"},{\"hovertemplate\":\"color=education\\u003cbr\\u003e0=%{x}\\u003cbr\\u003e1=%{y}\\u003cbr\\u003e2=%{z}\\u003cextra\\u003e\\u003c\\u002fextra\\u003e\",\"legendgroup\":\"education\",\"marker\":{\"color\":\"#FF97FF\",\"symbol\":\"circle\"},\"mode\":\"markers\",\"name\":\"education\",\"scene\":\"scene\",\"showlegend\":true,\"x\":[0.05136580765247345],\"y\":[0.18579798936843872],\"z\":[-0.44826340675354004],\"type\":\"scatter3d\"},{\"hovertemplate\":\"color=hundred\\u003cbr\\u003e0=%{x}\\u003cbr\\u003e1=%{y}\\u003cbr\\u003e2=%{z}\\u003cextra\\u003e\\u003c\\u002fextra\\u003e\",\"legendgroup\":\"hundred\",\"marker\":{\"color\":\"#FECB52\",\"symbol\":\"circle\"},\"mode\":\"markers\",\"name\":\"hundred\",\"scene\":\"scene\",\"showlegend\":true,\"x\":[-0.11457036435604095],\"y\":[0.4226054549217224],\"z\":[0.043776094913482666],\"type\":\"scatter3d\"},{\"hovertemplate\":\"color=4\\u003cbr\\u003e0=%{x}\\u003cbr\\u003e1=%{y}\\u003cbr\\u003e2=%{z}\\u003cextra\\u003e\\u003c\\u002fextra\\u003e\",\"legendgroup\":\"4\",\"marker\":{\"color\":\"#636efa\",\"symbol\":\"circle\"},\"mode\":\"markers\",\"name\":\"4\",\"scene\":\"scene\",\"showlegend\":true,\"x\":[-0.2994808256626129],\"y\":[0.36149924993515015],\"z\":[0.20785439014434814],\"type\":\"scatter3d\"},{\"hovertemplate\":\"color=top\\u003cbr\\u003e0=%{x}\\u003cbr\\u003e1=%{y}\\u003cbr\\u003e2=%{z}\\u003cextra\\u003e\\u003c\\u002fextra\\u003e\",\"legendgroup\":\"top\",\"marker\":{\"color\":\"#EF553B\",\"symbol\":\"circle\"},\"mode\":\"markers\",\"name\":\"top\",\"scene\":\"scene\",\"showlegend\":true,\"x\":[-0.28853827714920044],\"y\":[0.5292973518371582],\"z\":[0.012587027624249458],\"type\":\"scatter3d\"},{\"hovertemplate\":\"color=return\\u003cbr\\u003e0=%{x}\\u003cbr\\u003e1=%{y}\\u003cbr\\u003e2=%{z}\\u003cextra\\u003e\\u003c\\u002fextra\\u003e\",\"legendgroup\":\"return\",\"marker\":{\"color\":\"#00cc96\",\"symbol\":\"circle\"},\"mode\":\"markers\",\"name\":\"return\",\"scene\":\"scene\",\"showlegend\":true,\"x\":[0.18301330506801605],\"y\":[0.2609899044036865],\"z\":[-0.11523173004388809],\"type\":\"scatter3d\"},{\"hovertemplate\":\"color=union\\u003cbr\\u003e0=%{x}\\u003cbr\\u003e1=%{y}\\u003cbr\\u003e2=%{z}\\u003cextra\\u003e\\u003c\\u002fextra\\u003e\",\"legendgroup\":\"union\",\"marker\":{\"color\":\"#ab63fa\",\"symbol\":\"circle\"},\"mode\":\"markers\",\"name\":\"union\",\"scene\":\"scene\",\"showlegend\":true,\"x\":[-0.05785764008760452],\"y\":[0.15612323582172394],\"z\":[-0.38148120045661926],\"type\":\"scatter3d\"},{\"hovertemplate\":\"color=washington\\u003cbr\\u003e0=%{x}\\u003cbr\\u003e1=%{y}\\u003cbr\\u003e2=%{z}\\u003cextra\\u003e\\u003c\\u002fextra\\u003e\",\"legendgroup\":\"washington\",\"marker\":{\"color\":\"#FFA15A\",\"symbol\":\"circle\"},\"mode\":\"markers\",\"name\":\"washington\",\"scene\":\"scene\",\"showlegend\":true,\"x\":[-0.2536543011665344],\"y\":[0.36558204889297485],\"z\":[0.19797015190124512],\"type\":\"scatter3d\"},{\"hovertemplate\":\"color=black\\u003cbr\\u003e0=%{x}\\u003cbr\\u003e1=%{y}\\u003cbr\\u003e2=%{z}\\u003cextra\\u003e\\u003c\\u002fextra\\u003e\",\"legendgroup\":\"black\",\"marker\":{\"color\":\"#19d3f3\",\"symbol\":\"circle\"},\"mode\":\"markers\",\"name\":\"black\",\"scene\":\"scene\",\"showlegend\":true,\"x\":[-0.275592565536499],\"y\":[0.2580488920211792],\"z\":[0.3313121497631073],\"type\":\"scatter3d\"},{\"hovertemplate\":\"color=story\\u003cbr\\u003e0=%{x}\\u003cbr\\u003e1=%{y}\\u003cbr\\u003e2=%{z}\\u003cextra\\u003e\\u003c\\u002fextra\\u003e\",\"legendgroup\":\"story\",\"marker\":{\"color\":\"#FF6692\",\"symbol\":\"circle\"},\"mode\":\"markers\",\"name\":\"story\",\"scene\":\"scene\",\"showlegend\":true,\"x\":[0.31940698623657227],\"y\":[0.011023001745343208],\"z\":[-0.11427787691354752],\"type\":\"scatter3d\"},{\"hovertemplate\":\"color=military\\u003cbr\\u003e0=%{x}\\u003cbr\\u003e1=%{y}\\u003cbr\\u003e2=%{z}\\u003cextra\\u003e\\u003c\\u002fextra\\u003e\",\"legendgroup\":\"military\",\"marker\":{\"color\":\"#B6E880\",\"symbol\":\"circle\"},\"mode\":\"markers\",\"name\":\"military\",\"scene\":\"scene\",\"showlegend\":true,\"x\":[-0.09200559556484222],\"y\":[0.16400015354156494],\"z\":[-0.45909491181373596],\"type\":\"scatter3d\"},{\"hovertemplate\":\"color=stood\\u003cbr\\u003e0=%{x}\\u003cbr\\u003e1=%{y}\\u003cbr\\u003e2=%{z}\\u003cextra\\u003e\\u003c\\u002fextra\\u003e\",\"legendgroup\":\"stood\",\"marker\":{\"color\":\"#FF97FF\",\"symbol\":\"circle\"},\"mode\":\"markers\",\"name\":\"stood\",\"scene\":\"scene\",\"showlegend\":true,\"x\":[-0.1434396356344223],\"y\":[0.26006659865379333],\"z\":[0.32044336199760437],\"type\":\"scatter3d\"},{\"hovertemplate\":\"color=hold\\u003cbr\\u003e0=%{x}\\u003cbr\\u003e1=%{y}\\u003cbr\\u003e2=%{z}\\u003cextra\\u003e\\u003c\\u002fextra\\u003e\",\"legendgroup\":\"hold\",\"marker\":{\"color\":\"#FECB52\",\"symbol\":\"circle\"},\"mode\":\"markers\",\"name\":\"hold\",\"scene\":\"scene\",\"showlegend\":true,\"x\":[0.361756294965744],\"y\":[-0.031664393842220306],\"z\":[-0.035531915724277496],\"type\":\"scatter3d\"},{\"hovertemplate\":\"color=outside\\u003cbr\\u003e0=%{x}\\u003cbr\\u003e1=%{y}\\u003cbr\\u003e2=%{z}\\u003cextra\\u003e\\u003c\\u002fextra\\u003e\",\"legendgroup\":\"outside\",\"marker\":{\"color\":\"#636efa\",\"symbol\":\"circle\"},\"mode\":\"markers\",\"name\":\"outside\",\"scene\":\"scene\",\"showlegend\":true,\"x\":[-0.18937724828720093],\"y\":[0.2138323336839676],\"z\":[-0.06280937790870667],\"type\":\"scatter3d\"},{\"hovertemplate\":\"color=secretary\\u003cbr\\u003e0=%{x}\\u003cbr\\u003e1=%{y}\\u003cbr\\u003e2=%{z}\\u003cextra\\u003e\\u003c\\u002fextra\\u003e\",\"legendgroup\":\"secretary\",\"marker\":{\"color\":\"#EF553B\",\"symbol\":\"circle\"},\"mode\":\"markers\",\"name\":\"secretary\",\"scene\":\"scene\",\"showlegend\":true,\"x\":[-0.12462910264730453],\"y\":[0.309105783700943],\"z\":[-0.03126774728298187],\"type\":\"scatter3d\"},{\"hovertemplate\":\"color=evidence\\u003cbr\\u003e0=%{x}\\u003cbr\\u003e1=%{y}\\u003cbr\\u003e2=%{z}\\u003cextra\\u003e\\u003c\\u002fextra\\u003e\",\"legendgroup\":\"evidence\",\"marker\":{\"color\":\"#00cc96\",\"symbol\":\"circle\"},\"mode\":\"markers\",\"name\":\"evidence\",\"scene\":\"scene\",\"showlegend\":true,\"x\":[0.4668782651424408],\"y\":[0.0408390574157238],\"z\":[-0.5360981225967407],\"type\":\"scatter3d\"},{\"hovertemplate\":\"color=paper\\u003cbr\\u003e0=%{x}\\u003cbr\\u003e1=%{y}\\u003cbr\\u003e2=%{z}\\u003cextra\\u003e\\u003c\\u002fextra\\u003e\",\"legendgroup\":\"paper\",\"marker\":{\"color\":\"#ab63fa\",\"symbol\":\"circle\"},\"mode\":\"markers\",\"name\":\"paper\",\"scene\":\"scene\",\"showlegend\":true,\"x\":[-0.0944204032421112],\"y\":[0.20017731189727783],\"z\":[-0.02195769175887108],\"type\":\"scatter3d\"},{\"hovertemplate\":\"color=statement\\u003cbr\\u003e0=%{x}\\u003cbr\\u003e1=%{y}\\u003cbr\\u003e2=%{z}\\u003cextra\\u003e\\u003c\\u002fextra\\u003e\",\"legendgroup\":\"statement\",\"marker\":{\"color\":\"#FFA15A\",\"symbol\":\"circle\"},\"mode\":\"markers\",\"name\":\"statement\",\"scene\":\"scene\",\"showlegend\":true,\"x\":[0.339409202337265],\"y\":[-0.010129952803254128],\"z\":[-0.3787422478199005],\"type\":\"scatter3d\"},{\"hovertemplate\":\"color=north\\u003cbr\\u003e0=%{x}\\u003cbr\\u003e1=%{y}\\u003cbr\\u003e2=%{z}\\u003cextra\\u003e\\u003c\\u002fextra\\u003e\",\"legendgroup\":\"north\",\"marker\":{\"color\":\"#19d3f3\",\"symbol\":\"circle\"},\"mode\":\"markers\",\"name\":\"north\",\"scene\":\"scene\",\"showlegend\":true,\"x\":[-0.3831290900707245],\"y\":[0.4183826148509979],\"z\":[0.013233247213065624],\"type\":\"scatter3d\"},{\"hovertemplate\":\"color=island\\u003cbr\\u003e0=%{x}\\u003cbr\\u003e1=%{y}\\u003cbr\\u003e2=%{z}\\u003cextra\\u003e\\u003c\\u002fextra\\u003e\",\"legendgroup\":\"island\",\"marker\":{\"color\":\"#FF6692\",\"symbol\":\"circle\"},\"mode\":\"markers\",\"name\":\"island\",\"scene\":\"scene\",\"showlegend\":true,\"x\":[-0.3482043445110321],\"y\":[0.4947682321071625],\"z\":[0.06546143442392349],\"type\":\"scatter3d\"},{\"hovertemplate\":\"color=move\\u003cbr\\u003e0=%{x}\\u003cbr\\u003e1=%{y}\\u003cbr\\u003e2=%{z}\\u003cextra\\u003e\\u003c\\u002fextra\\u003e\",\"legendgroup\":\"move\",\"marker\":{\"color\":\"#B6E880\",\"symbol\":\"circle\"},\"mode\":\"markers\",\"name\":\"move\",\"scene\":\"scene\",\"showlegend\":true,\"x\":[0.1862626075744629],\"y\":[0.2259385585784912],\"z\":[-0.14773720502853394],\"type\":\"scatter3d\"},{\"hovertemplate\":\"color=fire\\u003cbr\\u003e0=%{x}\\u003cbr\\u003e1=%{y}\\u003cbr\\u003e2=%{z}\\u003cextra\\u003e\\u003c\\u002fextra\\u003e\",\"legendgroup\":\"fire\",\"marker\":{\"color\":\"#FF97FF\",\"symbol\":\"circle\"},\"mode\":\"markers\",\"name\":\"fire\",\"scene\":\"scene\",\"showlegend\":true,\"x\":[-0.2678241729736328],\"y\":[0.2099444717168808],\"z\":[0.029478635638952255],\"type\":\"scatter3d\"},{\"hovertemplate\":\"color=usually\\u003cbr\\u003e0=%{x}\\u003cbr\\u003e1=%{y}\\u003cbr\\u003e2=%{z}\\u003cextra\\u003e\\u003c\\u002fextra\\u003e\",\"legendgroup\":\"usually\",\"marker\":{\"color\":\"#FECB52\",\"symbol\":\"circle\"},\"mode\":\"markers\",\"name\":\"usually\",\"scene\":\"scene\",\"showlegend\":true,\"x\":[0.15222801268100739],\"y\":[0.009846586734056473],\"z\":[-0.44808274507522583],\"type\":\"scatter3d\"},{\"hovertemplate\":\"color=leave\\u003cbr\\u003e0=%{x}\\u003cbr\\u003e1=%{y}\\u003cbr\\u003e2=%{z}\\u003cextra\\u003e\\u003c\\u002fextra\\u003e\",\"legendgroup\":\"leave\",\"marker\":{\"color\":\"#636efa\",\"symbol\":\"circle\"},\"mode\":\"markers\",\"name\":\"leave\",\"scene\":\"scene\",\"showlegend\":true,\"x\":[0.5320196151733398],\"y\":[-0.048455338925123215],\"z\":[0.1676347255706787],\"type\":\"scatter3d\"},{\"hovertemplate\":\"color=therefore\\u003cbr\\u003e0=%{x}\\u003cbr\\u003e1=%{y}\\u003cbr\\u003e2=%{z}\\u003cextra\\u003e\\u003c\\u002fextra\\u003e\",\"legendgroup\":\"therefore\",\"marker\":{\"color\":\"#EF553B\",\"symbol\":\"circle\"},\"mode\":\"markers\",\"name\":\"therefore\",\"scene\":\"scene\",\"showlegend\":true,\"x\":[0.47577381134033203],\"y\":[-0.08325431495904922],\"z\":[-0.31435200572013855],\"type\":\"scatter3d\"},{\"hovertemplate\":\"color=son\\u003cbr\\u003e0=%{x}\\u003cbr\\u003e1=%{y}\\u003cbr\\u003e2=%{z}\\u003cextra\\u003e\\u003c\\u002fextra\\u003e\",\"legendgroup\":\"son\",\"marker\":{\"color\":\"#00cc96\",\"symbol\":\"circle\"},\"mode\":\"markers\",\"name\":\"son\",\"scene\":\"scene\",\"showlegend\":true,\"x\":[0.22713790833950043],\"y\":[0.16984404623508453],\"z\":[0.3820856809616089],\"type\":\"scatter3d\"},{\"hovertemplate\":\"color=officer\\u003cbr\\u003e0=%{x}\\u003cbr\\u003e1=%{y}\\u003cbr\\u003e2=%{z}\\u003cextra\\u003e\\u003c\\u002fextra\\u003e\",\"legendgroup\":\"officer\",\"marker\":{\"color\":\"#ab63fa\",\"symbol\":\"circle\"},\"mode\":\"markers\",\"name\":\"officer\",\"scene\":\"scene\",\"showlegend\":true,\"x\":[-0.1319531947374344],\"y\":[0.2867319881916046],\"z\":[0.029462257400155067],\"type\":\"scatter3d\"},{\"hovertemplate\":\"color=hard\\u003cbr\\u003e0=%{x}\\u003cbr\\u003e1=%{y}\\u003cbr\\u003e2=%{z}\\u003cextra\\u003e\\u003c\\u002fextra\\u003e\",\"legendgroup\":\"hard\",\"marker\":{\"color\":\"#FFA15A\",\"symbol\":\"circle\"},\"mode\":\"markers\",\"name\":\"hard\",\"scene\":\"scene\",\"showlegend\":true,\"x\":[0.37282589077949524],\"y\":[-0.2024518996477127],\"z\":[0.02039589360356331],\"type\":\"scatter3d\"},{\"hovertemplate\":\"color=red\\u003cbr\\u003e0=%{x}\\u003cbr\\u003e1=%{y}\\u003cbr\\u003e2=%{z}\\u003cextra\\u003e\\u003c\\u002fextra\\u003e\",\"legendgroup\":\"red\",\"marker\":{\"color\":\"#19d3f3\",\"symbol\":\"circle\"},\"mode\":\"markers\",\"name\":\"red\",\"scene\":\"scene\",\"showlegend\":true,\"x\":[-0.3574170172214508],\"y\":[0.2981763482093811],\"z\":[0.15304218232631683],\"type\":\"scatter3d\"},{\"hovertemplate\":\"color=strong\\u003cbr\\u003e0=%{x}\\u003cbr\\u003e1=%{y}\\u003cbr\\u003e2=%{z}\\u003cextra\\u003e\\u003c\\u002fextra\\u003e\",\"legendgroup\":\"strong\",\"marker\":{\"color\":\"#FF6692\",\"symbol\":\"circle\"},\"mode\":\"markers\",\"name\":\"strong\",\"scene\":\"scene\",\"showlegend\":true,\"x\":[0.10868124663829803],\"y\":[-0.03540553152561188],\"z\":[-0.21387208998203278],\"type\":\"scatter3d\"},{\"hovertemplate\":\"color=various\\u003cbr\\u003e0=%{x}\\u003cbr\\u003e1=%{y}\\u003cbr\\u003e2=%{z}\\u003cextra\\u003e\\u003c\\u002fextra\\u003e\",\"legendgroup\":\"various\",\"marker\":{\"color\":\"#B6E880\",\"symbol\":\"circle\"},\"mode\":\"markers\",\"name\":\"various\",\"scene\":\"scene\",\"showlegend\":true,\"x\":[-0.19040243327617645],\"y\":[0.24001973867416382],\"z\":[-0.4004758596420288],\"type\":\"scatter3d\"},{\"hovertemplate\":\"color=modern\\u003cbr\\u003e0=%{x}\\u003cbr\\u003e1=%{y}\\u003cbr\\u003e2=%{z}\\u003cextra\\u003e\\u003c\\u002fextra\\u003e\",\"legendgroup\":\"modern\",\"marker\":{\"color\":\"#FF97FF\",\"symbol\":\"circle\"},\"mode\":\"markers\",\"name\":\"modern\",\"scene\":\"scene\",\"showlegend\":true,\"x\":[0.1597345620393753],\"y\":[-0.09315633028745651],\"z\":[-0.39041048288345337],\"type\":\"scatter3d\"},{\"hovertemplate\":\"color=believe\\u003cbr\\u003e0=%{x}\\u003cbr\\u003e1=%{y}\\u003cbr\\u003e2=%{z}\\u003cextra\\u003e\\u003c\\u002fextra\\u003e\",\"legendgroup\":\"believe\",\"marker\":{\"color\":\"#FECB52\",\"symbol\":\"circle\"},\"mode\":\"markers\",\"name\":\"believe\",\"scene\":\"scene\",\"showlegend\":true,\"x\":[0.7435091733932495],\"y\":[-0.21760576963424683],\"z\":[-0.08187246322631836],\"type\":\"scatter3d\"},{\"hovertemplate\":\"color=soon\\u003cbr\\u003e0=%{x}\\u003cbr\\u003e1=%{y}\\u003cbr\\u003e2=%{z}\\u003cextra\\u003e\\u003c\\u002fextra\\u003e\",\"legendgroup\":\"soon\",\"marker\":{\"color\":\"#636efa\",\"symbol\":\"circle\"},\"mode\":\"markers\",\"name\":\"soon\",\"scene\":\"scene\",\"showlegend\":true,\"x\":[0.41814863681793213],\"y\":[-0.08634109795093536],\"z\":[-0.024386147037148476],\"type\":\"scatter3d\"},{\"hovertemplate\":\"color=brown\\u003cbr\\u003e0=%{x}\\u003cbr\\u003e1=%{y}\\u003cbr\\u003e2=%{z}\\u003cextra\\u003e\\u003c\\u002fextra\\u003e\",\"legendgroup\":\"brown\",\"marker\":{\"color\":\"#EF553B\",\"symbol\":\"circle\"},\"mode\":\"markers\",\"name\":\"brown\",\"scene\":\"scene\",\"showlegend\":true,\"x\":[-0.21334415674209595],\"y\":[0.2601701617240906],\"z\":[0.434111088514328],\"type\":\"scatter3d\"},{\"hovertemplate\":\"color=nature\\u003cbr\\u003e0=%{x}\\u003cbr\\u003e1=%{y}\\u003cbr\\u003e2=%{z}\\u003cextra\\u003e\\u003c\\u002fextra\\u003e\",\"legendgroup\":\"nature\",\"marker\":{\"color\":\"#00cc96\",\"symbol\":\"circle\"},\"mode\":\"markers\",\"name\":\"nature\",\"scene\":\"scene\",\"showlegend\":true,\"x\":[0.38494300842285156],\"y\":[0.071072518825531],\"z\":[-0.572634220123291],\"type\":\"scatter3d\"},{\"hovertemplate\":\"color=peace\\u003cbr\\u003e0=%{x}\\u003cbr\\u003e1=%{y}\\u003cbr\\u003e2=%{z}\\u003cextra\\u003e\\u003c\\u002fextra\\u003e\",\"legendgroup\":\"peace\",\"marker\":{\"color\":\"#ab63fa\",\"symbol\":\"circle\"},\"mode\":\"markers\",\"name\":\"peace\",\"scene\":\"scene\",\"showlegend\":true,\"x\":[0.22533972561359406],\"y\":[0.0781918615102768],\"z\":[-0.2861191928386688],\"type\":\"scatter3d\"},{\"hovertemplate\":\"color=food\\u003cbr\\u003e0=%{x}\\u003cbr\\u003e1=%{y}\\u003cbr\\u003e2=%{z}\\u003cextra\\u003e\\u003c\\u002fextra\\u003e\",\"legendgroup\":\"food\",\"marker\":{\"color\":\"#FFA15A\",\"symbol\":\"circle\"},\"mode\":\"markers\",\"name\":\"food\",\"scene\":\"scene\",\"showlegend\":true,\"x\":[0.019339479506015778],\"y\":[0.007368750404566526],\"z\":[-0.460007905960083],\"type\":\"scatter3d\"},{\"hovertemplate\":\"color=near\\u003cbr\\u003e0=%{x}\\u003cbr\\u003e1=%{y}\\u003cbr\\u003e2=%{z}\\u003cextra\\u003e\\u003c\\u002fextra\\u003e\",\"legendgroup\":\"near\",\"marker\":{\"color\":\"#19d3f3\",\"symbol\":\"circle\"},\"mode\":\"markers\",\"name\":\"near\",\"scene\":\"scene\",\"showlegend\":true,\"x\":[-0.30214595794677734],\"y\":[0.1739029735326767],\"z\":[0.19025728106498718],\"type\":\"scatter3d\"},{\"hovertemplate\":\"color=operation\\u003cbr\\u003e0=%{x}\\u003cbr\\u003e1=%{y}\\u003cbr\\u003e2=%{z}\\u003cextra\\u003e\\u003c\\u002fextra\\u003e\",\"legendgroup\":\"operation\",\"marker\":{\"color\":\"#FF6692\",\"symbol\":\"circle\"},\"mode\":\"markers\",\"name\":\"operation\",\"scene\":\"scene\",\"showlegend\":true,\"x\":[-0.1869235634803772],\"y\":[0.3799404203891754],\"z\":[-0.3580426275730133],\"type\":\"scatter3d\"},{\"hovertemplate\":\"color=heart\\u003cbr\\u003e0=%{x}\\u003cbr\\u003e1=%{y}\\u003cbr\\u003e2=%{z}\\u003cextra\\u003e\\u003c\\u002fextra\\u003e\",\"legendgroup\":\"heart\",\"marker\":{\"color\":\"#B6E880\",\"symbol\":\"circle\"},\"mode\":\"markers\",\"name\":\"heart\",\"scene\":\"scene\",\"showlegend\":true,\"x\":[0.19981123507022858],\"y\":[0.1840532124042511],\"z\":[-0.054602887481451035],\"type\":\"scatter3d\"},{\"hovertemplate\":\"color=personal\\u003cbr\\u003e0=%{x}\\u003cbr\\u003e1=%{y}\\u003cbr\\u003e2=%{z}\\u003cextra\\u003e\\u003c\\u002fextra\\u003e\",\"legendgroup\":\"personal\",\"marker\":{\"color\":\"#FF97FF\",\"symbol\":\"circle\"},\"mode\":\"markers\",\"name\":\"personal\",\"scene\":\"scene\",\"showlegend\":true,\"x\":[0.15415741503238678],\"y\":[-0.09862866252660751],\"z\":[-0.35311126708984375],\"type\":\"scatter3d\"},{\"hovertemplate\":\"color=answer\\u003cbr\\u003e0=%{x}\\u003cbr\\u003e1=%{y}\\u003cbr\\u003e2=%{z}\\u003cextra\\u003e\\u003c\\u002fextra\\u003e\",\"legendgroup\":\"answer\",\"marker\":{\"color\":\"#FECB52\",\"symbol\":\"circle\"},\"mode\":\"markers\",\"name\":\"answer\",\"scene\":\"scene\",\"showlegend\":true,\"x\":[0.62616366147995],\"y\":[-0.026994718238711357],\"z\":[-0.28971895575523376],\"type\":\"scatter3d\"},{\"hovertemplate\":\"color=support\\u003cbr\\u003e0=%{x}\\u003cbr\\u003e1=%{y}\\u003cbr\\u003e2=%{z}\\u003cextra\\u003e\\u003c\\u002fextra\\u003e\",\"legendgroup\":\"support\",\"marker\":{\"color\":\"#636efa\",\"symbol\":\"circle\"},\"mode\":\"markers\",\"name\":\"support\",\"scene\":\"scene\",\"showlegend\":true,\"x\":[0.055816709995269775],\"y\":[0.08161797374486923],\"z\":[-0.3875611424446106],\"type\":\"scatter3d\"},{\"hovertemplate\":\"color=space\\u003cbr\\u003e0=%{x}\\u003cbr\\u003e1=%{y}\\u003cbr\\u003e2=%{z}\\u003cextra\\u003e\\u003c\\u002fextra\\u003e\",\"legendgroup\":\"space\",\"marker\":{\"color\":\"#EF553B\",\"symbol\":\"circle\"},\"mode\":\"markers\",\"name\":\"space\",\"scene\":\"scene\",\"showlegend\":true,\"x\":[-0.10606926679611206],\"y\":[0.16627362370491028],\"z\":[-0.3878079950809479],\"type\":\"scatter3d\"},{\"hovertemplate\":\"color=nor\\u003cbr\\u003e0=%{x}\\u003cbr\\u003e1=%{y}\\u003cbr\\u003e2=%{z}\\u003cextra\\u003e\\u003c\\u002fextra\\u003e\",\"legendgroup\":\"nor\",\"marker\":{\"color\":\"#00cc96\",\"symbol\":\"circle\"},\"mode\":\"markers\",\"name\":\"nor\",\"scene\":\"scene\",\"showlegend\":true,\"x\":[0.6818352341651917],\"y\":[-0.2334517538547516],\"z\":[-0.2572229206562042],\"type\":\"scatter3d\"},{\"hovertemplate\":\"color=english\\u003cbr\\u003e0=%{x}\\u003cbr\\u003e1=%{y}\\u003cbr\\u003e2=%{z}\\u003cextra\\u003e\\u003c\\u002fextra\\u003e\",\"legendgroup\":\"english\",\"marker\":{\"color\":\"#ab63fa\",\"symbol\":\"circle\"},\"mode\":\"markers\",\"name\":\"english\",\"scene\":\"scene\",\"showlegend\":true,\"x\":[-0.07095296680927277],\"y\":[0.05875309184193611],\"z\":[-0.0843886211514473],\"type\":\"scatter3d\"},{\"hovertemplate\":\"color=product\\u003cbr\\u003e0=%{x}\\u003cbr\\u003e1=%{y}\\u003cbr\\u003e2=%{z}\\u003cextra\\u003e\\u003c\\u002fextra\\u003e\",\"legendgroup\":\"product\",\"marker\":{\"color\":\"#FFA15A\",\"symbol\":\"circle\"},\"mode\":\"markers\",\"name\":\"product\",\"scene\":\"scene\",\"showlegend\":true,\"x\":[-0.14871220290660858],\"y\":[0.2404763102531433],\"z\":[-0.4009745121002197],\"type\":\"scatter3d\"},{\"hovertemplate\":\"color=bill\\u003cbr\\u003e0=%{x}\\u003cbr\\u003e1=%{y}\\u003cbr\\u003e2=%{z}\\u003cextra\\u003e\\u003c\\u002fextra\\u003e\",\"legendgroup\":\"bill\",\"marker\":{\"color\":\"#19d3f3\",\"symbol\":\"circle\"},\"mode\":\"markers\",\"name\":\"bill\",\"scene\":\"scene\",\"showlegend\":true,\"x\":[-0.12066598236560822],\"y\":[0.2563377618789673],\"z\":[-0.023766320198774338],\"type\":\"scatter3d\"},{\"hovertemplate\":\"color=alone\\u003cbr\\u003e0=%{x}\\u003cbr\\u003e1=%{y}\\u003cbr\\u003e2=%{z}\\u003cextra\\u003e\\u003c\\u002fextra\\u003e\",\"legendgroup\":\"alone\",\"marker\":{\"color\":\"#FF6692\",\"symbol\":\"circle\"},\"mode\":\"markers\",\"name\":\"alone\",\"scene\":\"scene\",\"showlegend\":true,\"x\":[0.1630796492099762],\"y\":[0.04911862313747406],\"z\":[-0.21153852343559265],\"type\":\"scatter3d\"},{\"hovertemplate\":\"color=station\\u003cbr\\u003e0=%{x}\\u003cbr\\u003e1=%{y}\\u003cbr\\u003e2=%{z}\\u003cextra\\u003e\\u003c\\u002fextra\\u003e\",\"legendgroup\":\"station\",\"marker\":{\"color\":\"#B6E880\",\"symbol\":\"circle\"},\"mode\":\"markers\",\"name\":\"station\",\"scene\":\"scene\",\"showlegend\":true,\"x\":[-0.26564276218414307],\"y\":[0.4825182855129242],\"z\":[-0.15810933709144592],\"type\":\"scatter3d\"},{\"hovertemplate\":\"color=gone\\u003cbr\\u003e0=%{x}\\u003cbr\\u003e1=%{y}\\u003cbr\\u003e2=%{z}\\u003cextra\\u003e\\u003c\\u002fextra\\u003e\",\"legendgroup\":\"gone\",\"marker\":{\"color\":\"#FF97FF\",\"symbol\":\"circle\"},\"mode\":\"markers\",\"name\":\"gone\",\"scene\":\"scene\",\"showlegend\":true,\"x\":[0.25169500708580017],\"y\":[0.32987871766090393],\"z\":[0.12975400686264038],\"type\":\"scatter3d\"},{\"hovertemplate\":\"color=living\\u003cbr\\u003e0=%{x}\\u003cbr\\u003e1=%{y}\\u003cbr\\u003e2=%{z}\\u003cextra\\u003e\\u003c\\u002fextra\\u003e\",\"legendgroup\":\"living\",\"marker\":{\"color\":\"#FECB52\",\"symbol\":\"circle\"},\"mode\":\"markers\",\"name\":\"living\",\"scene\":\"scene\",\"showlegend\":true,\"x\":[0.012967560440301895],\"y\":[0.09303846955299377],\"z\":[-0.08474494516849518],\"type\":\"scatter3d\"},{\"hovertemplate\":\"color=started\\u003cbr\\u003e0=%{x}\\u003cbr\\u003e1=%{y}\\u003cbr\\u003e2=%{z}\\u003cextra\\u003e\\u003c\\u002fextra\\u003e\",\"legendgroup\":\"started\",\"marker\":{\"color\":\"#636efa\",\"symbol\":\"circle\"},\"mode\":\"markers\",\"name\":\"started\",\"scene\":\"scene\",\"showlegend\":true,\"x\":[-0.07224874943494797],\"y\":[0.2078215777873993],\"z\":[0.3873312473297119],\"type\":\"scatter3d\"},{\"hovertemplate\":\"color=third\\u003cbr\\u003e0=%{x}\\u003cbr\\u003e1=%{y}\\u003cbr\\u003e2=%{z}\\u003cextra\\u003e\\u003c\\u002fextra\\u003e\",\"legendgroup\":\"third\",\"marker\":{\"color\":\"#EF553B\",\"symbol\":\"circle\"},\"mode\":\"markers\",\"name\":\"third\",\"scene\":\"scene\",\"showlegend\":true,\"x\":[-0.16426046192646027],\"y\":[0.3045006990432739],\"z\":[-0.11473022401332855],\"type\":\"scatter3d\"},{\"hovertemplate\":\"color=horse\\u003cbr\\u003e0=%{x}\\u003cbr\\u003e1=%{y}\\u003cbr\\u003e2=%{z}\\u003cextra\\u003e\\u003c\\u002fextra\\u003e\",\"legendgroup\":\"horse\",\"marker\":{\"color\":\"#00cc96\",\"symbol\":\"circle\"},\"mode\":\"markers\",\"name\":\"horse\",\"scene\":\"scene\",\"showlegend\":true,\"x\":[-0.11982724815607071],\"y\":[0.2360815852880478],\"z\":[0.19696031510829926],\"type\":\"scatter3d\"},{\"hovertemplate\":\"color=longer\\u003cbr\\u003e0=%{x}\\u003cbr\\u003e1=%{y}\\u003cbr\\u003e2=%{z}\\u003cextra\\u003e\\u003c\\u002fextra\\u003e\",\"legendgroup\":\"longer\",\"marker\":{\"color\":\"#ab63fa\",\"symbol\":\"circle\"},\"mode\":\"markers\",\"name\":\"longer\",\"scene\":\"scene\",\"showlegend\":true,\"x\":[0.7081592082977295],\"y\":[-0.06811219453811646],\"z\":[-0.2159494161605835],\"type\":\"scatter3d\"},{\"hovertemplate\":\"color=color\\u003cbr\\u003e0=%{x}\\u003cbr\\u003e1=%{y}\\u003cbr\\u003e2=%{z}\\u003cextra\\u003e\\u003c\\u002fextra\\u003e\",\"legendgroup\":\"color\",\"marker\":{\"color\":\"#FFA15A\",\"symbol\":\"circle\"},\"mode\":\"markers\",\"name\":\"color\",\"scene\":\"scene\",\"showlegend\":true,\"x\":[-0.24694818258285522],\"y\":[0.13943952322006226],\"z\":[-0.13929864764213562],\"type\":\"scatter3d\"},{\"hovertemplate\":\"color=county\\u003cbr\\u003e0=%{x}\\u003cbr\\u003e1=%{y}\\u003cbr\\u003e2=%{z}\\u003cextra\\u003e\\u003c\\u002fextra\\u003e\",\"legendgroup\":\"county\",\"marker\":{\"color\":\"#19d3f3\",\"symbol\":\"circle\"},\"mode\":\"markers\",\"name\":\"county\",\"scene\":\"scene\",\"showlegend\":true,\"x\":[-0.2733888328075409],\"y\":[0.33632802963256836],\"z\":[-0.160980224609375],\"type\":\"scatter3d\"},{\"hovertemplate\":\"color=organization\\u003cbr\\u003e0=%{x}\\u003cbr\\u003e1=%{y}\\u003cbr\\u003e2=%{z}\\u003cextra\\u003e\\u003c\\u002fextra\\u003e\",\"legendgroup\":\"organization\",\"marker\":{\"color\":\"#FF6692\",\"symbol\":\"circle\"},\"mode\":\"markers\",\"name\":\"organization\",\"scene\":\"scene\",\"showlegend\":true,\"x\":[-0.05106896162033081],\"y\":[0.20496243238449097],\"z\":[-0.4881875216960907],\"type\":\"scatter3d\"},{\"hovertemplate\":\"color=read\\u003cbr\\u003e0=%{x}\\u003cbr\\u003e1=%{y}\\u003cbr\\u003e2=%{z}\\u003cextra\\u003e\\u003c\\u002fextra\\u003e\",\"legendgroup\":\"read\",\"marker\":{\"color\":\"#B6E880\",\"symbol\":\"circle\"},\"mode\":\"markers\",\"name\":\"read\",\"scene\":\"scene\",\"showlegend\":true,\"x\":[0.40219202637672424],\"y\":[-0.034628868103027344],\"z\":[-0.07639727741479874],\"type\":\"scatter3d\"},{\"hovertemplate\":\"color=private\\u003cbr\\u003e0=%{x}\\u003cbr\\u003e1=%{y}\\u003cbr\\u003e2=%{z}\\u003cextra\\u003e\\u003c\\u002fextra\\u003e\",\"legendgroup\":\"private\",\"marker\":{\"color\":\"#FF97FF\",\"symbol\":\"circle\"},\"mode\":\"markers\",\"name\":\"private\",\"scene\":\"scene\",\"showlegend\":true,\"x\":[-0.11629345268011093],\"y\":[0.05277232453227043],\"z\":[-0.34925559163093567],\"type\":\"scatter3d\"},{\"hovertemplate\":\"color=finally\\u003cbr\\u003e0=%{x}\\u003cbr\\u003e1=%{y}\\u003cbr\\u003e2=%{z}\\u003cextra\\u003e\\u003c\\u002fextra\\u003e\",\"legendgroup\":\"finally\",\"marker\":{\"color\":\"#FECB52\",\"symbol\":\"circle\"},\"mode\":\"markers\",\"name\":\"finally\",\"scene\":\"scene\",\"showlegend\":true,\"x\":[0.033898551017045975],\"y\":[0.0248411912471056],\"z\":[0.17140249907970428],\"type\":\"scatter3d\"},{\"hovertemplate\":\"color=unit\\u003cbr\\u003e0=%{x}\\u003cbr\\u003e1=%{y}\\u003cbr\\u003e2=%{z}\\u003cextra\\u003e\\u003c\\u002fextra\\u003e\",\"legendgroup\":\"unit\",\"marker\":{\"color\":\"#636efa\",\"symbol\":\"circle\"},\"mode\":\"markers\",\"name\":\"unit\",\"scene\":\"scene\",\"showlegend\":true,\"x\":[-0.21909070014953613],\"y\":[0.2670504152774811],\"z\":[-0.36113592982292175],\"type\":\"scatter3d\"},{\"hovertemplate\":\"color=pay\\u003cbr\\u003e0=%{x}\\u003cbr\\u003e1=%{y}\\u003cbr\\u003e2=%{z}\\u003cextra\\u003e\\u003c\\u002fextra\\u003e\",\"legendgroup\":\"pay\",\"marker\":{\"color\":\"#EF553B\",\"symbol\":\"circle\"},\"mode\":\"markers\",\"name\":\"pay\",\"scene\":\"scene\",\"showlegend\":true,\"x\":[0.26259130239486694],\"y\":[0.09884904325008392],\"z\":[-0.2413395792245865],\"type\":\"scatter3d\"},{\"hovertemplate\":\"color=committee\\u003cbr\\u003e0=%{x}\\u003cbr\\u003e1=%{y}\\u003cbr\\u003e2=%{z}\\u003cextra\\u003e\\u003c\\u002fextra\\u003e\",\"legendgroup\":\"committee\",\"marker\":{\"color\":\"#00cc96\",\"symbol\":\"circle\"},\"mode\":\"markers\",\"name\":\"committee\",\"scene\":\"scene\",\"showlegend\":true,\"x\":[-0.2404085397720337],\"y\":[0.2682783603668213],\"z\":[-0.0539240799844265],\"type\":\"scatter3d\"},{\"hovertemplate\":\"color=greater\\u003cbr\\u003e0=%{x}\\u003cbr\\u003e1=%{y}\\u003cbr\\u003e2=%{z}\\u003cextra\\u003e\\u003c\\u002fextra\\u003e\",\"legendgroup\":\"greater\",\"marker\":{\"color\":\"#ab63fa\",\"symbol\":\"circle\"},\"mode\":\"markers\",\"name\":\"greater\",\"scene\":\"scene\",\"showlegend\":true,\"x\":[0.24392543733119965],\"y\":[0.14763763546943665],\"z\":[-0.3867131173610687],\"type\":\"scatter3d\"},{\"hovertemplate\":\"color=everything\\u003cbr\\u003e0=%{x}\\u003cbr\\u003e1=%{y}\\u003cbr\\u003e2=%{z}\\u003cextra\\u003e\\u003c\\u002fextra\\u003e\",\"legendgroup\":\"everything\",\"marker\":{\"color\":\"#FFA15A\",\"symbol\":\"circle\"},\"mode\":\"markers\",\"name\":\"everything\",\"scene\":\"scene\",\"showlegend\":true,\"x\":[0.5883712768554688],\"y\":[-0.15543505549430847],\"z\":[0.05679875612258911],\"type\":\"scatter3d\"},{\"hovertemplate\":\"color=cause\\u003cbr\\u003e0=%{x}\\u003cbr\\u003e1=%{y}\\u003cbr\\u003e2=%{z}\\u003cextra\\u003e\\u003c\\u002fextra\\u003e\",\"legendgroup\":\"cause\",\"marker\":{\"color\":\"#19d3f3\",\"symbol\":\"circle\"},\"mode\":\"markers\",\"name\":\"cause\",\"scene\":\"scene\",\"showlegend\":true,\"x\":[0.3183167576789856],\"y\":[-0.05403506010770798],\"z\":[-0.3631927967071533],\"type\":\"scatter3d\"},{\"hovertemplate\":\"color=meeting\\u003cbr\\u003e0=%{x}\\u003cbr\\u003e1=%{y}\\u003cbr\\u003e2=%{z}\\u003cextra\\u003e\\u003c\\u002fextra\\u003e\",\"legendgroup\":\"meeting\",\"marker\":{\"color\":\"#FF6692\",\"symbol\":\"circle\"},\"mode\":\"markers\",\"name\":\"meeting\",\"scene\":\"scene\",\"showlegend\":true,\"x\":[-0.11267484724521637],\"y\":[0.48096391558647156],\"z\":[-0.24631927907466888],\"type\":\"scatter3d\"},{\"hovertemplate\":\"color=needed\\u003cbr\\u003e0=%{x}\\u003cbr\\u003e1=%{y}\\u003cbr\\u003e2=%{z}\\u003cextra\\u003e\\u003c\\u002fextra\\u003e\",\"legendgroup\":\"needed\",\"marker\":{\"color\":\"#B6E880\",\"symbol\":\"circle\"},\"mode\":\"markers\",\"name\":\"needed\",\"scene\":\"scene\",\"showlegend\":true,\"x\":[0.37331703305244446],\"y\":[-0.10883412510156631],\"z\":[-0.3813014626502991],\"type\":\"scatter3d\"},{\"hovertemplate\":\"color=expected\\u003cbr\\u003e0=%{x}\\u003cbr\\u003e1=%{y}\\u003cbr\\u003e2=%{z}\\u003cextra\\u003e\\u003c\\u002fextra\\u003e\",\"legendgroup\":\"expected\",\"marker\":{\"color\":\"#FF97FF\",\"symbol\":\"circle\"},\"mode\":\"markers\",\"name\":\"expected\",\"scene\":\"scene\",\"showlegend\":true,\"x\":[0.4058822989463806],\"y\":[0.05245544761419296],\"z\":[-0.30254065990448],\"type\":\"scatter3d\"},{\"hovertemplate\":\"color=leader\\u003cbr\\u003e0=%{x}\\u003cbr\\u003e1=%{y}\\u003cbr\\u003e2=%{z}\\u003cextra\\u003e\\u003c\\u002fextra\\u003e\",\"legendgroup\":\"leader\",\"marker\":{\"color\":\"#FECB52\",\"symbol\":\"circle\"},\"mode\":\"markers\",\"name\":\"leader\",\"scene\":\"scene\",\"showlegend\":true,\"x\":[-0.0753323957324028],\"y\":[0.1833486109972],\"z\":[-0.3249669373035431],\"type\":\"scatter3d\"},{\"hovertemplate\":\"color=dr.\\u003cbr\\u003e0=%{x}\\u003cbr\\u003e1=%{y}\\u003cbr\\u003e2=%{z}\\u003cextra\\u003e\\u003c\\u002fextra\\u003e\",\"legendgroup\":\"dr.\",\"marker\":{\"color\":\"#636efa\",\"symbol\":\"circle\"},\"mode\":\"markers\",\"name\":\"dr.\",\"scene\":\"scene\",\"showlegend\":true,\"x\":[-0.09461425244808197],\"y\":[0.041566915810108185],\"z\":[0.33113282918930054],\"type\":\"scatter3d\"},{\"hovertemplate\":\"color=kept\\u003cbr\\u003e0=%{x}\\u003cbr\\u003e1=%{y}\\u003cbr\\u003e2=%{z}\\u003cextra\\u003e\\u003c\\u002fextra\\u003e\",\"legendgroup\":\"kept\",\"marker\":{\"color\":\"#EF553B\",\"symbol\":\"circle\"},\"mode\":\"markers\",\"name\":\"kept\",\"scene\":\"scene\",\"showlegend\":true,\"x\":[-0.01700267381966114],\"y\":[0.0744757428765297],\"z\":[0.1453968733549118],\"type\":\"scatter3d\"},{\"hovertemplate\":\"color=market\\u003cbr\\u003e0=%{x}\\u003cbr\\u003e1=%{y}\\u003cbr\\u003e2=%{z}\\u003cextra\\u003e\\u003c\\u002fextra\\u003e\",\"legendgroup\":\"market\",\"marker\":{\"color\":\"#00cc96\",\"symbol\":\"circle\"},\"mode\":\"markers\",\"name\":\"market\",\"scene\":\"scene\",\"showlegend\":true,\"x\":[0.0006698952056467533],\"y\":[0.19033022224903107],\"z\":[-0.49790966510772705],\"type\":\"scatter3d\"},{\"hovertemplate\":\"color=plant\\u003cbr\\u003e0=%{x}\\u003cbr\\u003e1=%{y}\\u003cbr\\u003e2=%{z}\\u003cextra\\u003e\\u003c\\u002fextra\\u003e\",\"legendgroup\":\"plant\",\"marker\":{\"color\":\"#ab63fa\",\"symbol\":\"circle\"},\"mode\":\"markers\",\"name\":\"plant\",\"scene\":\"scene\",\"showlegend\":true,\"x\":[-0.29841476678848267],\"y\":[0.3657298684120178],\"z\":[-0.17908044159412384],\"type\":\"scatter3d\"},{\"hovertemplate\":\"color=dark\\u003cbr\\u003e0=%{x}\\u003cbr\\u003e1=%{y}\\u003cbr\\u003e2=%{z}\\u003cextra\\u003e\\u003c\\u002fextra\\u003e\",\"legendgroup\":\"dark\",\"marker\":{\"color\":\"#FFA15A\",\"symbol\":\"circle\"},\"mode\":\"markers\",\"name\":\"dark\",\"scene\":\"scene\",\"showlegend\":true,\"x\":[-0.1998487263917923],\"y\":[0.20411035418510437],\"z\":[0.19445361196994781],\"type\":\"scatter3d\"},{\"hovertemplate\":\"color=start\\u003cbr\\u003e0=%{x}\\u003cbr\\u003e1=%{y}\\u003cbr\\u003e2=%{z}\\u003cextra\\u003e\\u003c\\u002fextra\\u003e\",\"legendgroup\":\"start\",\"marker\":{\"color\":\"#19d3f3\",\"symbol\":\"circle\"},\"mode\":\"markers\",\"name\":\"start\",\"scene\":\"scene\",\"showlegend\":true,\"x\":[0.065739206969738],\"y\":[0.31887146830558777],\"z\":[-0.0902092382311821],\"type\":\"scatter3d\"},{\"hovertemplate\":\"color=else\\u003cbr\\u003e0=%{x}\\u003cbr\\u003e1=%{y}\\u003cbr\\u003e2=%{z}\\u003cextra\\u003e\\u003c\\u002fextra\\u003e\",\"legendgroup\":\"else\",\"marker\":{\"color\":\"#FF6692\",\"symbol\":\"circle\"},\"mode\":\"markers\",\"name\":\"else\",\"scene\":\"scene\",\"showlegend\":true,\"x\":[0.7857094407081604],\"y\":[-0.2783113121986389],\"z\":[-0.11448666453361511],\"type\":\"scatter3d\"},{\"hovertemplate\":\"color=particular\\u003cbr\\u003e0=%{x}\\u003cbr\\u003e1=%{y}\\u003cbr\\u003e2=%{z}\\u003cextra\\u003e\\u003c\\u002fextra\\u003e\",\"legendgroup\":\"particular\",\"marker\":{\"color\":\"#B6E880\",\"symbol\":\"circle\"},\"mode\":\"markers\",\"name\":\"particular\",\"scene\":\"scene\",\"showlegend\":true,\"x\":[0.10860519856214523],\"y\":[0.033730827271938324],\"z\":[-0.5359563231468201],\"type\":\"scatter3d\"},{\"hovertemplate\":\"color=standard\\u003cbr\\u003e0=%{x}\\u003cbr\\u003e1=%{y}\\u003cbr\\u003e2=%{z}\\u003cextra\\u003e\\u003c\\u002fextra\\u003e\",\"legendgroup\":\"standard\",\"marker\":{\"color\":\"#FF97FF\",\"symbol\":\"circle\"},\"mode\":\"markers\",\"name\":\"standard\",\"scene\":\"scene\",\"showlegend\":true,\"x\":[-0.1329546868801117],\"y\":[0.12022285163402557],\"z\":[-0.40279173851013184],\"type\":\"scatter3d\"},{\"hovertemplate\":\"color=basis\\u003cbr\\u003e0=%{x}\\u003cbr\\u003e1=%{y}\\u003cbr\\u003e2=%{z}\\u003cextra\\u003e\\u003c\\u002fextra\\u003e\",\"legendgroup\":\"basis\",\"marker\":{\"color\":\"#FECB52\",\"symbol\":\"circle\"},\"mode\":\"markers\",\"name\":\"basis\",\"scene\":\"scene\",\"showlegend\":true,\"x\":[0.007588691543787718],\"y\":[0.3096676468849182],\"z\":[-0.4508625268936157],\"type\":\"scatter3d\"},{\"hovertemplate\":\"color=note\\u003cbr\\u003e0=%{x}\\u003cbr\\u003e1=%{y}\\u003cbr\\u003e2=%{z}\\u003cextra\\u003e\\u003c\\u002fextra\\u003e\",\"legendgroup\":\"note\",\"marker\":{\"color\":\"#636efa\",\"symbol\":\"circle\"},\"mode\":\"markers\",\"name\":\"note\",\"scene\":\"scene\",\"showlegend\":true,\"x\":[0.10875652730464935],\"y\":[0.051906757056713104],\"z\":[-0.12778256833553314],\"type\":\"scatter3d\"},{\"hovertemplate\":\"color=meet\\u003cbr\\u003e0=%{x}\\u003cbr\\u003e1=%{y}\\u003cbr\\u003e2=%{z}\\u003cextra\\u003e\\u003c\\u002fextra\\u003e\",\"legendgroup\":\"meet\",\"marker\":{\"color\":\"#EF553B\",\"symbol\":\"circle\"},\"mode\":\"markers\",\"name\":\"meet\",\"scene\":\"scene\",\"showlegend\":true,\"x\":[0.16256804764270782],\"y\":[0.01650421693921089],\"z\":[-0.33822640776634216],\"type\":\"scatter3d\"},{\"hovertemplate\":\"color=river\\u003cbr\\u003e0=%{x}\\u003cbr\\u003e1=%{y}\\u003cbr\\u003e2=%{z}\\u003cextra\\u003e\\u003c\\u002fextra\\u003e\",\"legendgroup\":\"river\",\"marker\":{\"color\":\"#00cc96\",\"symbol\":\"circle\"},\"mode\":\"markers\",\"name\":\"river\",\"scene\":\"scene\",\"showlegend\":true,\"x\":[-0.3905066251754761],\"y\":[0.460626482963562],\"z\":[0.18223001062870026],\"type\":\"scatter3d\"},{\"hovertemplate\":\"color=east\\u003cbr\\u003e0=%{x}\\u003cbr\\u003e1=%{y}\\u003cbr\\u003e2=%{z}\\u003cextra\\u003e\\u003c\\u002fextra\\u003e\",\"legendgroup\":\"east\",\"marker\":{\"color\":\"#ab63fa\",\"symbol\":\"circle\"},\"mode\":\"markers\",\"name\":\"east\",\"scene\":\"scene\",\"showlegend\":true,\"x\":[-0.3702155351638794],\"y\":[0.4117121696472168],\"z\":[0.06754515320062637],\"type\":\"scatter3d\"},{\"hovertemplate\":\"color=game\\u003cbr\\u003e0=%{x}\\u003cbr\\u003e1=%{y}\\u003cbr\\u003e2=%{z}\\u003cextra\\u003e\\u003c\\u002fextra\\u003e\",\"legendgroup\":\"game\",\"marker\":{\"color\":\"#FFA15A\",\"symbol\":\"circle\"},\"mode\":\"markers\",\"name\":\"game\",\"scene\":\"scene\",\"showlegend\":true,\"x\":[-0.11541512608528137],\"y\":[0.40056082606315613],\"z\":[-0.0960073173046112],\"type\":\"scatter3d\"},{\"hovertemplate\":\"color=source\\u003cbr\\u003e0=%{x}\\u003cbr\\u003e1=%{y}\\u003cbr\\u003e2=%{z}\\u003cextra\\u003e\\u003c\\u002fextra\\u003e\",\"legendgroup\":\"source\",\"marker\":{\"color\":\"#19d3f3\",\"symbol\":\"circle\"},\"mode\":\"markers\",\"name\":\"source\",\"scene\":\"scene\",\"showlegend\":true,\"x\":[0.0076029300689697266],\"y\":[0.1087840124964714],\"z\":[-0.5238828063011169],\"type\":\"scatter3d\"},{\"hovertemplate\":\"color=required\\u003cbr\\u003e0=%{x}\\u003cbr\\u003e1=%{y}\\u003cbr\\u003e2=%{z}\\u003cextra\\u003e\\u003c\\u002fextra\\u003e\",\"legendgroup\":\"required\",\"marker\":{\"color\":\"#FF6692\",\"symbol\":\"circle\"},\"mode\":\"markers\",\"name\":\"required\",\"scene\":\"scene\",\"showlegend\":true,\"x\":[0.033235009759664536],\"y\":[0.0884120836853981],\"z\":[-0.4449145197868347],\"type\":\"scatter3d\"},{\"hovertemplate\":\"color=complete\\u003cbr\\u003e0=%{x}\\u003cbr\\u003e1=%{y}\\u003cbr\\u003e2=%{z}\\u003cextra\\u003e\\u003c\\u002fextra\\u003e\",\"legendgroup\":\"complete\",\"marker\":{\"color\":\"#B6E880\",\"symbol\":\"circle\"},\"mode\":\"markers\",\"name\":\"complete\",\"scene\":\"scene\",\"showlegend\":true,\"x\":[0.05308710038661957],\"y\":[0.01813647709786892],\"z\":[-0.45627132058143616],\"type\":\"scatter3d\"},{\"hovertemplate\":\"color=event\\u003cbr\\u003e0=%{x}\\u003cbr\\u003e1=%{y}\\u003cbr\\u003e2=%{z}\\u003cextra\\u003e\\u003c\\u002fextra\\u003e\",\"legendgroup\":\"event\",\"marker\":{\"color\":\"#FF97FF\",\"symbol\":\"circle\"},\"mode\":\"markers\",\"name\":\"event\",\"scene\":\"scene\",\"showlegend\":true,\"x\":[0.16085512936115265],\"y\":[0.308162659406662],\"z\":[-0.4898292124271393],\"type\":\"scatter3d\"},{\"hovertemplate\":\"color=rest\\u003cbr\\u003e0=%{x}\\u003cbr\\u003e1=%{y}\\u003cbr\\u003e2=%{z}\\u003cextra\\u003e\\u003c\\u002fextra\\u003e\",\"legendgroup\":\"rest\",\"marker\":{\"color\":\"#FECB52\",\"symbol\":\"circle\"},\"mode\":\"markers\",\"name\":\"rest\",\"scene\":\"scene\",\"showlegend\":true,\"x\":[-0.05097990855574608],\"y\":[0.32545194029808044],\"z\":[-0.11139322072267532],\"type\":\"scatter3d\"},{\"hovertemplate\":\"color=cent\\u003cbr\\u003e0=%{x}\\u003cbr\\u003e1=%{y}\\u003cbr\\u003e2=%{z}\\u003cextra\\u003e\\u003c\\u002fextra\\u003e\",\"legendgroup\":\"cent\",\"marker\":{\"color\":\"#636efa\",\"symbol\":\"circle\"},\"mode\":\"markers\",\"name\":\"cent\",\"scene\":\"scene\",\"showlegend\":true,\"x\":[-0.17659898102283478],\"y\":[0.4906727373600006],\"z\":[0.10289948433637619],\"type\":\"scatter3d\"},{\"hovertemplate\":\"color=except\\u003cbr\\u003e0=%{x}\\u003cbr\\u003e1=%{y}\\u003cbr\\u003e2=%{z}\\u003cextra\\u003e\\u003c\\u002fextra\\u003e\",\"legendgroup\":\"except\",\"marker\":{\"color\":\"#EF553B\",\"symbol\":\"circle\"},\"mode\":\"markers\",\"name\":\"except\",\"scene\":\"scene\",\"showlegend\":true,\"x\":[0.13622204959392548],\"y\":[0.05892576649785042],\"z\":[-0.18267107009887695],\"type\":\"scatter3d\"},{\"hovertemplate\":\"color=moved\\u003cbr\\u003e0=%{x}\\u003cbr\\u003e1=%{y}\\u003cbr\\u003e2=%{z}\\u003cextra\\u003e\\u003c\\u002fextra\\u003e\",\"legendgroup\":\"moved\",\"marker\":{\"color\":\"#00cc96\",\"symbol\":\"circle\"},\"mode\":\"markers\",\"name\":\"moved\",\"scene\":\"scene\",\"showlegend\":true,\"x\":[-0.12947992980480194],\"y\":[0.2868354022502899],\"z\":[0.3729826509952545],\"type\":\"scatter3d\"},{\"hovertemplate\":\"color=wrote\\u003cbr\\u003e0=%{x}\\u003cbr\\u003e1=%{y}\\u003cbr\\u003e2=%{z}\\u003cextra\\u003e\\u003c\\u002fextra\\u003e\",\"legendgroup\":\"wrote\",\"marker\":{\"color\":\"#ab63fa\",\"symbol\":\"circle\"},\"mode\":\"markers\",\"name\":\"wrote\",\"scene\":\"scene\",\"showlegend\":true,\"x\":[0.22134645283222198],\"y\":[0.05362683907151222],\"z\":[0.5112124681472778],\"type\":\"scatter3d\"},{\"hovertemplate\":\"color=principle\\u003cbr\\u003e0=%{x}\\u003cbr\\u003e1=%{y}\\u003cbr\\u003e2=%{z}\\u003cextra\\u003e\\u003c\\u002fextra\\u003e\",\"legendgroup\":\"principle\",\"marker\":{\"color\":\"#FFA15A\",\"symbol\":\"circle\"},\"mode\":\"markers\",\"name\":\"principle\",\"scene\":\"scene\",\"showlegend\":true,\"x\":[0.17620719969272614],\"y\":[-0.0428113155066967],\"z\":[-0.4955258071422577],\"type\":\"scatter3d\"},{\"hovertemplate\":\"color=test\\u003cbr\\u003e0=%{x}\\u003cbr\\u003e1=%{y}\\u003cbr\\u003e2=%{z}\\u003cextra\\u003e\\u003c\\u002fextra\\u003e\",\"legendgroup\":\"test\",\"marker\":{\"color\":\"#19d3f3\",\"symbol\":\"circle\"},\"mode\":\"markers\",\"name\":\"test\",\"scene\":\"scene\",\"showlegend\":true,\"x\":[-0.13441990315914154],\"y\":[0.18748138844966888],\"z\":[-0.332626610994339],\"type\":\"scatter3d\"},{\"hovertemplate\":\"color=fall\\u003cbr\\u003e0=%{x}\\u003cbr\\u003e1=%{y}\\u003cbr\\u003e2=%{z}\\u003cextra\\u003e\\u003c\\u002fextra\\u003e\",\"legendgroup\":\"fall\",\"marker\":{\"color\":\"#FF6692\",\"symbol\":\"circle\"},\"mode\":\"markers\",\"name\":\"fall\",\"scene\":\"scene\",\"showlegend\":true,\"x\":[-0.04558752477169037],\"y\":[0.37440207600593567],\"z\":[-0.04228575900197029],\"type\":\"scatter3d\"},{\"hovertemplate\":\"color=attention\\u003cbr\\u003e0=%{x}\\u003cbr\\u003e1=%{y}\\u003cbr\\u003e2=%{z}\\u003cextra\\u003e\\u003c\\u002fextra\\u003e\",\"legendgroup\":\"attention\",\"marker\":{\"color\":\"#B6E880\",\"symbol\":\"circle\"},\"mode\":\"markers\",\"name\":\"attention\",\"scene\":\"scene\",\"showlegend\":true,\"x\":[0.250149130821228],\"y\":[0.13526564836502075],\"z\":[-0.43287187814712524],\"type\":\"scatter3d\"},{\"hovertemplate\":\"color=late\\u003cbr\\u003e0=%{x}\\u003cbr\\u003e1=%{y}\\u003cbr\\u003e2=%{z}\\u003cextra\\u003e\\u003c\\u002fextra\\u003e\",\"legendgroup\":\"late\",\"marker\":{\"color\":\"#FF97FF\",\"symbol\":\"circle\"},\"mode\":\"markers\",\"name\":\"late\",\"scene\":\"scene\",\"showlegend\":true,\"x\":[-0.14867131412029266],\"y\":[0.24749448895454407],\"z\":[0.21980127692222595],\"type\":\"scatter3d\"},{\"hovertemplate\":\"color=defense\\u003cbr\\u003e0=%{x}\\u003cbr\\u003e1=%{y}\\u003cbr\\u003e2=%{z}\\u003cextra\\u003e\\u003c\\u002fextra\\u003e\",\"legendgroup\":\"defense\",\"marker\":{\"color\":\"#FECB52\",\"symbol\":\"circle\"},\"mode\":\"markers\",\"name\":\"defense\",\"scene\":\"scene\",\"showlegend\":true,\"x\":[-0.19145990908145905],\"y\":[0.2311631143093109],\"z\":[-0.31340110301971436],\"type\":\"scatter3d\"},{\"hovertemplate\":\"color=volume\\u003cbr\\u003e0=%{x}\\u003cbr\\u003e1=%{y}\\u003cbr\\u003e2=%{z}\\u003cextra\\u003e\\u003c\\u002fextra\\u003e\",\"legendgroup\":\"volume\",\"marker\":{\"color\":\"#636efa\",\"symbol\":\"circle\"},\"mode\":\"markers\",\"name\":\"volume\",\"scene\":\"scene\",\"showlegend\":true,\"x\":[-0.2538946568965912],\"y\":[0.3845014274120331],\"z\":[-0.1371718794107437],\"type\":\"scatter3d\"},{\"hovertemplate\":\"color=1960\\u003cbr\\u003e0=%{x}\\u003cbr\\u003e1=%{y}\\u003cbr\\u003e2=%{z}\\u003cextra\\u003e\\u003c\\u002fextra\\u003e\",\"legendgroup\":\"1960\",\"marker\":{\"color\":\"#EF553B\",\"symbol\":\"circle\"},\"mode\":\"markers\",\"name\":\"1960\",\"scene\":\"scene\",\"showlegend\":true,\"x\":[-0.28640472888946533],\"y\":[0.46184059977531433],\"z\":[0.07522853463888168],\"type\":\"scatter3d\"},{\"hovertemplate\":\"color=recent\\u003cbr\\u003e0=%{x}\\u003cbr\\u003e1=%{y}\\u003cbr\\u003e2=%{z}\\u003cextra\\u003e\\u003c\\u002fextra\\u003e\",\"legendgroup\":\"recent\",\"marker\":{\"color\":\"#00cc96\",\"symbol\":\"circle\"},\"mode\":\"markers\",\"name\":\"recent\",\"scene\":\"scene\",\"showlegend\":true,\"x\":[-0.05878626927733421],\"y\":[0.16179773211479187],\"z\":[-0.2457427978515625],\"type\":\"scatter3d\"},{\"hovertemplate\":\"color=inside\\u003cbr\\u003e0=%{x}\\u003cbr\\u003e1=%{y}\\u003cbr\\u003e2=%{z}\\u003cextra\\u003e\\u003c\\u002fextra\\u003e\",\"legendgroup\":\"inside\",\"marker\":{\"color\":\"#ab63fa\",\"symbol\":\"circle\"},\"mode\":\"markers\",\"name\":\"inside\",\"scene\":\"scene\",\"showlegend\":true,\"x\":[-0.1203596219420433],\"y\":[0.027947643771767616],\"z\":[0.1207757219672203],\"type\":\"scatter3d\"},{\"hovertemplate\":\"color=club\\u003cbr\\u003e0=%{x}\\u003cbr\\u003e1=%{y}\\u003cbr\\u003e2=%{z}\\u003cextra\\u003e\\u003c\\u002fextra\\u003e\",\"legendgroup\":\"club\",\"marker\":{\"color\":\"#FFA15A\",\"symbol\":\"circle\"},\"mode\":\"markers\",\"name\":\"club\",\"scene\":\"scene\",\"showlegend\":true,\"x\":[-0.29697099328041077],\"y\":[0.26598668098449707],\"z\":[-0.018043367192149162],\"type\":\"scatter3d\"},{\"hovertemplate\":\"color=sale\\u003cbr\\u003e0=%{x}\\u003cbr\\u003e1=%{y}\\u003cbr\\u003e2=%{z}\\u003cextra\\u003e\\u003c\\u002fextra\\u003e\",\"legendgroup\":\"sale\",\"marker\":{\"color\":\"#19d3f3\",\"symbol\":\"circle\"},\"mode\":\"markers\",\"name\":\"sale\",\"scene\":\"scene\",\"showlegend\":true,\"x\":[-0.20314659178256989],\"y\":[0.3845057189464569],\"z\":[-0.33239370584487915],\"type\":\"scatter3d\"},{\"hovertemplate\":\"color=taking\\u003cbr\\u003e0=%{x}\\u003cbr\\u003e1=%{y}\\u003cbr\\u003e2=%{z}\\u003cextra\\u003e\\u003c\\u002fextra\\u003e\",\"legendgroup\":\"taking\",\"marker\":{\"color\":\"#FF6692\",\"symbol\":\"circle\"},\"mode\":\"markers\",\"name\":\"taking\",\"scene\":\"scene\",\"showlegend\":true,\"x\":[-0.018608545884490013],\"y\":[0.08184245973825455],\"z\":[-0.14294512569904327],\"type\":\"scatter3d\"},{\"hovertemplate\":\"color=live\\u003cbr\\u003e0=%{x}\\u003cbr\\u003e1=%{y}\\u003cbr\\u003e2=%{z}\\u003cextra\\u003e\\u003c\\u002fextra\\u003e\",\"legendgroup\":\"live\",\"marker\":{\"color\":\"#B6E880\",\"symbol\":\"circle\"},\"mode\":\"markers\",\"name\":\"live\",\"scene\":\"scene\",\"showlegend\":true,\"x\":[0.3796372711658478],\"y\":[0.1832752525806427],\"z\":[-0.2033127248287201],\"type\":\"scatter3d\"},{\"hovertemplate\":\"color=factor\\u003cbr\\u003e0=%{x}\\u003cbr\\u003e1=%{y}\\u003cbr\\u003e2=%{z}\\u003cextra\\u003e\\u003c\\u002fextra\\u003e\",\"legendgroup\":\"factor\",\"marker\":{\"color\":\"#FF97FF\",\"symbol\":\"circle\"},\"mode\":\"markers\",\"name\":\"factor\",\"scene\":\"scene\",\"showlegend\":true,\"x\":[0.18560415506362915],\"y\":[0.07715647667646408],\"z\":[-0.6040230989456177],\"type\":\"scatter3d\"},{\"hovertemplate\":\"color=sort\\u003cbr\\u003e0=%{x}\\u003cbr\\u003e1=%{y}\\u003cbr\\u003e2=%{z}\\u003cextra\\u003e\\u003c\\u002fextra\\u003e\",\"legendgroup\":\"sort\",\"marker\":{\"color\":\"#FECB52\",\"symbol\":\"circle\"},\"mode\":\"markers\",\"name\":\"sort\",\"scene\":\"scene\",\"showlegend\":true,\"x\":[0.38118502497673035],\"y\":[3.078012014157139e-05],\"z\":[-0.4076383411884308],\"type\":\"scatter3d\"},{\"hovertemplate\":\"color=movement\\u003cbr\\u003e0=%{x}\\u003cbr\\u003e1=%{y}\\u003cbr\\u003e2=%{z}\\u003cextra\\u003e\\u003c\\u002fextra\\u003e\",\"legendgroup\":\"movement\",\"marker\":{\"color\":\"#636efa\",\"symbol\":\"circle\"},\"mode\":\"markers\",\"name\":\"movement\",\"scene\":\"scene\",\"showlegend\":true,\"x\":[-0.0591057613492012],\"y\":[0.1523652970790863],\"z\":[-0.352896124124527],\"type\":\"scatter3d\"},{\"hovertemplate\":\"color=coming\\u003cbr\\u003e0=%{x}\\u003cbr\\u003e1=%{y}\\u003cbr\\u003e2=%{z}\\u003cextra\\u003e\\u003c\\u002fextra\\u003e\",\"legendgroup\":\"coming\",\"marker\":{\"color\":\"#EF553B\",\"symbol\":\"circle\"},\"mode\":\"markers\",\"name\":\"coming\",\"scene\":\"scene\",\"showlegend\":true,\"x\":[0.07759126275777817],\"y\":[0.32307004928588867],\"z\":[-0.028758829459547997],\"type\":\"scatter3d\"},{\"hovertemplate\":\"color=beyond\\u003cbr\\u003e0=%{x}\\u003cbr\\u003e1=%{y}\\u003cbr\\u003e2=%{z}\\u003cextra\\u003e\\u003c\\u002fextra\\u003e\",\"legendgroup\":\"beyond\",\"marker\":{\"color\":\"#00cc96\",\"symbol\":\"circle\"},\"mode\":\"markers\",\"name\":\"beyond\",\"scene\":\"scene\",\"showlegend\":true,\"x\":[-0.01419865433126688],\"y\":[-0.15683217346668243],\"z\":[-0.144163116812706],\"type\":\"scatter3d\"},{\"hovertemplate\":\"color=low\\u003cbr\\u003e0=%{x}\\u003cbr\\u003e1=%{y}\\u003cbr\\u003e2=%{z}\\u003cextra\\u003e\\u003c\\u002fextra\\u003e\",\"legendgroup\":\"low\",\"marker\":{\"color\":\"#ab63fa\",\"symbol\":\"circle\"},\"mode\":\"markers\",\"name\":\"low\",\"scene\":\"scene\",\"showlegend\":true,\"x\":[-0.17059111595153809],\"y\":[0.13893626630306244],\"z\":[-0.1578519493341446],\"type\":\"scatter3d\"},{\"hovertemplate\":\"color=dead\\u003cbr\\u003e0=%{x}\\u003cbr\\u003e1=%{y}\\u003cbr\\u003e2=%{z}\\u003cextra\\u003e\\u003c\\u002fextra\\u003e\",\"legendgroup\":\"dead\",\"marker\":{\"color\":\"#FFA15A\",\"symbol\":\"circle\"},\"mode\":\"markers\",\"name\":\"dead\",\"scene\":\"scene\",\"showlegend\":true,\"x\":[0.2357291281223297],\"y\":[-0.023210279643535614],\"z\":[0.06471044570207596],\"type\":\"scatter3d\"},{\"hovertemplate\":\"color=fear\\u003cbr\\u003e0=%{x}\\u003cbr\\u003e1=%{y}\\u003cbr\\u003e2=%{z}\\u003cextra\\u003e\\u003c\\u002fextra\\u003e\",\"legendgroup\":\"fear\",\"marker\":{\"color\":\"#19d3f3\",\"symbol\":\"circle\"},\"mode\":\"markers\",\"name\":\"fear\",\"scene\":\"scene\",\"showlegend\":true,\"x\":[0.42934298515319824],\"y\":[-0.016851376742124557],\"z\":[-0.23027294874191284],\"type\":\"scatter3d\"},{\"hovertemplate\":\"color=lost\\u003cbr\\u003e0=%{x}\\u003cbr\\u003e1=%{y}\\u003cbr\\u003e2=%{z}\\u003cextra\\u003e\\u003c\\u002fextra\\u003e\",\"legendgroup\":\"lost\",\"marker\":{\"color\":\"#FF6692\",\"symbol\":\"circle\"},\"mode\":\"markers\",\"name\":\"lost\",\"scene\":\"scene\",\"showlegend\":true,\"x\":[0.18435126543045044],\"y\":[-0.053421445190906525],\"z\":[0.08607695996761322],\"type\":\"scatter3d\"},{\"hovertemplate\":\"color=trial\\u003cbr\\u003e0=%{x}\\u003cbr\\u003e1=%{y}\\u003cbr\\u003e2=%{z}\\u003cextra\\u003e\\u003c\\u002fextra\\u003e\",\"legendgroup\":\"trial\",\"marker\":{\"color\":\"#B6E880\",\"symbol\":\"circle\"},\"mode\":\"markers\",\"name\":\"trial\",\"scene\":\"scene\",\"showlegend\":true,\"x\":[0.0863526239991188],\"y\":[0.28824275732040405],\"z\":[-0.22260592877864838],\"type\":\"scatter3d\"},{\"hovertemplate\":\"color=data\\u003cbr\\u003e0=%{x}\\u003cbr\\u003e1=%{y}\\u003cbr\\u003e2=%{z}\\u003cextra\\u003e\\u003c\\u002fextra\\u003e\",\"legendgroup\":\"data\",\"marker\":{\"color\":\"#FF97FF\",\"symbol\":\"circle\"},\"mode\":\"markers\",\"name\":\"data\",\"scene\":\"scene\",\"showlegend\":true,\"x\":[-0.11931882798671722],\"y\":[0.1590641438961029],\"z\":[-0.37817659974098206],\"type\":\"scatter3d\"},{\"hovertemplate\":\"color=cold\\u003cbr\\u003e0=%{x}\\u003cbr\\u003e1=%{y}\\u003cbr\\u003e2=%{z}\\u003cextra\\u003e\\u003c\\u002fextra\\u003e\",\"legendgroup\":\"cold\",\"marker\":{\"color\":\"#FECB52\",\"symbol\":\"circle\"},\"mode\":\"markers\",\"name\":\"cold\",\"scene\":\"scene\",\"showlegend\":true,\"x\":[-0.08554959297180176],\"y\":[0.09511035680770874],\"z\":[-0.007436133921146393],\"type\":\"scatter3d\"},{\"hovertemplate\":\"color=single\\u003cbr\\u003e0=%{x}\\u003cbr\\u003e1=%{y}\\u003cbr\\u003e2=%{z}\\u003cextra\\u003e\\u003c\\u002fextra\\u003e\",\"legendgroup\":\"single\",\"marker\":{\"color\":\"#636efa\",\"symbol\":\"circle\"},\"mode\":\"markers\",\"name\":\"single\",\"scene\":\"scene\",\"showlegend\":true,\"x\":[-0.12229954451322556],\"y\":[0.09050125628709793],\"z\":[-0.3718329966068268],\"type\":\"scatter3d\"},{\"hovertemplate\":\"color=district\\u003cbr\\u003e0=%{x}\\u003cbr\\u003e1=%{y}\\u003cbr\\u003e2=%{z}\\u003cextra\\u003e\\u003c\\u002fextra\\u003e\",\"legendgroup\":\"district\",\"marker\":{\"color\":\"#EF553B\",\"symbol\":\"circle\"},\"mode\":\"markers\",\"name\":\"district\",\"scene\":\"scene\",\"showlegend\":true,\"x\":[-0.27274128794670105],\"y\":[0.3438297212123871],\"z\":[-0.08850270509719849],\"type\":\"scatter3d\"},{\"hovertemplate\":\"color=looking\\u003cbr\\u003e0=%{x}\\u003cbr\\u003e1=%{y}\\u003cbr\\u003e2=%{z}\\u003cextra\\u003e\\u003c\\u002fextra\\u003e\",\"legendgroup\":\"looking\",\"marker\":{\"color\":\"#00cc96\",\"symbol\":\"circle\"},\"mode\":\"markers\",\"name\":\"looking\",\"scene\":\"scene\",\"showlegend\":true,\"x\":[0.23755404353141785],\"y\":[0.19327811896800995],\"z\":[0.24051886796951294],\"type\":\"scatter3d\"},{\"hovertemplate\":\"color=*\\u003cbr\\u003e0=%{x}\\u003cbr\\u003e1=%{y}\\u003cbr\\u003e2=%{z}\\u003cextra\\u003e\\u003c\\u002fextra\\u003e\",\"legendgroup\":\"*\",\"marker\":{\"color\":\"#ab63fa\",\"symbol\":\"circle\"},\"mode\":\"markers\",\"name\":\"*\",\"scene\":\"scene\",\"showlegend\":true,\"x\":[-0.15102533996105194],\"y\":[0.22173333168029785],\"z\":[-0.10723953694105148],\"type\":\"scatter3d\"},{\"hovertemplate\":\"color=beginning\\u003cbr\\u003e0=%{x}\\u003cbr\\u003e1=%{y}\\u003cbr\\u003e2=%{z}\\u003cextra\\u003e\\u003c\\u002fextra\\u003e\",\"legendgroup\":\"beginning\",\"marker\":{\"color\":\"#FFA15A\",\"symbol\":\"circle\"},\"mode\":\"markers\",\"name\":\"beginning\",\"scene\":\"scene\",\"showlegend\":true,\"x\":[-0.025824369862675667],\"y\":[0.353276789188385],\"z\":[-0.18571612238883972],\"type\":\"scatter3d\"},{\"hovertemplate\":\"color=decision\\u003cbr\\u003e0=%{x}\\u003cbr\\u003e1=%{y}\\u003cbr\\u003e2=%{z}\\u003cextra\\u003e\\u003c\\u002fextra\\u003e\",\"legendgroup\":\"decision\",\"marker\":{\"color\":\"#19d3f3\",\"symbol\":\"circle\"},\"mode\":\"markers\",\"name\":\"decision\",\"scene\":\"scene\",\"showlegend\":true,\"x\":[0.2612318694591522],\"y\":[0.07109472900629044],\"z\":[-0.4484966993331909],\"type\":\"scatter3d\"},{\"hovertemplate\":\"color=instead\\u003cbr\\u003e0=%{x}\\u003cbr\\u003e1=%{y}\\u003cbr\\u003e2=%{z}\\u003cextra\\u003e\\u003c\\u002fextra\\u003e\",\"legendgroup\":\"instead\",\"marker\":{\"color\":\"#FF6692\",\"symbol\":\"circle\"},\"mode\":\"markers\",\"name\":\"instead\",\"scene\":\"scene\",\"showlegend\":true,\"x\":[-0.11945535987615585],\"y\":[0.12854096293449402],\"z\":[-0.13042789697647095],\"type\":\"scatter3d\"},{\"hovertemplate\":\"color=claim\\u003cbr\\u003e0=%{x}\\u003cbr\\u003e1=%{y}\\u003cbr\\u003e2=%{z}\\u003cextra\\u003e\\u003c\\u002fextra\\u003e\",\"legendgroup\":\"claim\",\"marker\":{\"color\":\"#B6E880\",\"symbol\":\"circle\"},\"mode\":\"markers\",\"name\":\"claim\",\"scene\":\"scene\",\"showlegend\":true,\"x\":[0.19634632766246796],\"y\":[0.03699880838394165],\"z\":[-0.40840944647789],\"type\":\"scatter3d\"},{\"hovertemplate\":\"color=window\\u003cbr\\u003e0=%{x}\\u003cbr\\u003e1=%{y}\\u003cbr\\u003e2=%{z}\\u003cextra\\u003e\\u003c\\u002fextra\\u003e\",\"legendgroup\":\"window\",\"marker\":{\"color\":\"#FF97FF\",\"symbol\":\"circle\"},\"mode\":\"markers\",\"name\":\"window\",\"scene\":\"scene\",\"showlegend\":true,\"x\":[-0.23638932406902313],\"y\":[0.3777770400047302],\"z\":[0.2632370591163635],\"type\":\"scatter3d\"},{\"hovertemplate\":\"color=research\\u003cbr\\u003e0=%{x}\\u003cbr\\u003e1=%{y}\\u003cbr\\u003e2=%{z}\\u003cextra\\u003e\\u003c\\u002fextra\\u003e\",\"legendgroup\":\"research\",\"marker\":{\"color\":\"#FECB52\",\"symbol\":\"circle\"},\"mode\":\"markers\",\"name\":\"research\",\"scene\":\"scene\",\"showlegend\":true,\"x\":[-0.25824305415153503],\"y\":[0.27508804202079773],\"z\":[-0.2702261805534363],\"type\":\"scatter3d\"},{\"hovertemplate\":\"color=added\\u003cbr\\u003e0=%{x}\\u003cbr\\u003e1=%{y}\\u003cbr\\u003e2=%{z}\\u003cextra\\u003e\\u003c\\u002fextra\\u003e\",\"legendgroup\":\"added\",\"marker\":{\"color\":\"#636efa\",\"symbol\":\"circle\"},\"mode\":\"markers\",\"name\":\"added\",\"scene\":\"scene\",\"showlegend\":true,\"x\":[0.0924399197101593],\"y\":[0.04900224134325981],\"z\":[-0.17939551174640656],\"type\":\"scatter3d\"},{\"hovertemplate\":\"color=basic\\u003cbr\\u003e0=%{x}\\u003cbr\\u003e1=%{y}\\u003cbr\\u003e2=%{z}\\u003cextra\\u003e\\u003c\\u002fextra\\u003e\",\"legendgroup\":\"basic\",\"marker\":{\"color\":\"#EF553B\",\"symbol\":\"circle\"},\"mode\":\"markers\",\"name\":\"basic\",\"scene\":\"scene\",\"showlegend\":true,\"x\":[0.07690804451704025],\"y\":[0.07745809108018875],\"z\":[-0.5425916314125061],\"type\":\"scatter3d\"},{\"hovertemplate\":\"color=opportunity\\u003cbr\\u003e0=%{x}\\u003cbr\\u003e1=%{y}\\u003cbr\\u003e2=%{z}\\u003cextra\\u003e\\u003c\\u002fextra\\u003e\",\"legendgroup\":\"opportunity\",\"marker\":{\"color\":\"#00cc96\",\"symbol\":\"circle\"},\"mode\":\"markers\",\"name\":\"opportunity\",\"scene\":\"scene\",\"showlegend\":true,\"x\":[0.30118489265441895],\"y\":[0.0855105072259903],\"z\":[-0.3911183476448059],\"type\":\"scatter3d\"},{\"hovertemplate\":\"color=talk\\u003cbr\\u003e0=%{x}\\u003cbr\\u003e1=%{y}\\u003cbr\\u003e2=%{z}\\u003cextra\\u003e\\u003c\\u002fextra\\u003e\",\"legendgroup\":\"talk\",\"marker\":{\"color\":\"#ab63fa\",\"symbol\":\"circle\"},\"mode\":\"markers\",\"name\":\"talk\",\"scene\":\"scene\",\"showlegend\":true,\"x\":[0.43127331137657166],\"y\":[0.17282216250896454],\"z\":[-0.028805453330278397],\"type\":\"scatter3d\"},{\"hovertemplate\":\"color=followed\\u003cbr\\u003e0=%{x}\\u003cbr\\u003e1=%{y}\\u003cbr\\u003e2=%{z}\\u003cextra\\u003e\\u003c\\u002fextra\\u003e\",\"legendgroup\":\"followed\",\"marker\":{\"color\":\"#FFA15A\",\"symbol\":\"circle\"},\"mode\":\"markers\",\"name\":\"followed\",\"scene\":\"scene\",\"showlegend\":true,\"x\":[-0.2616925537586212],\"y\":[0.20667056739330292],\"z\":[0.13294221460819244],\"type\":\"scatter3d\"},{\"hovertemplate\":\"color=negro\\u003cbr\\u003e0=%{x}\\u003cbr\\u003e1=%{y}\\u003cbr\\u003e2=%{z}\\u003cextra\\u003e\\u003c\\u002fextra\\u003e\",\"legendgroup\":\"negro\",\"marker\":{\"color\":\"#19d3f3\",\"symbol\":\"circle\"},\"mode\":\"markers\",\"name\":\"negro\",\"scene\":\"scene\",\"showlegend\":true,\"x\":[-0.0579778328537941],\"y\":[0.1465073972940445],\"z\":[-0.3428313732147217],\"type\":\"scatter3d\"},{\"hovertemplate\":\"color=simply\\u003cbr\\u003e0=%{x}\\u003cbr\\u003e1=%{y}\\u003cbr\\u003e2=%{z}\\u003cextra\\u003e\\u003c\\u002fextra\\u003e\",\"legendgroup\":\"simply\",\"marker\":{\"color\":\"#FF6692\",\"symbol\":\"circle\"},\"mode\":\"markers\",\"name\":\"simply\",\"scene\":\"scene\",\"showlegend\":true,\"x\":[0.47112393379211426],\"y\":[-0.2759663164615631],\"z\":[-0.22356994450092316],\"type\":\"scatter3d\"},{\"hovertemplate\":\"color=including\\u003cbr\\u003e0=%{x}\\u003cbr\\u003e1=%{y}\\u003cbr\\u003e2=%{z}\\u003cextra\\u003e\\u003c\\u002fextra\\u003e\",\"legendgroup\":\"including\",\"marker\":{\"color\":\"#B6E880\",\"symbol\":\"circle\"},\"mode\":\"markers\",\"name\":\"including\",\"scene\":\"scene\",\"showlegend\":true,\"x\":[-0.26420965790748596],\"y\":[0.08403567224740982],\"z\":[-0.07917315512895584],\"type\":\"scatter3d\"},{\"hovertemplate\":\"color=ca\\u003cbr\\u003e0=%{x}\\u003cbr\\u003e1=%{y}\\u003cbr\\u003e2=%{z}\\u003cextra\\u003e\\u003c\\u002fextra\\u003e\",\"legendgroup\":\"ca\",\"marker\":{\"color\":\"#FF97FF\",\"symbol\":\"circle\"},\"mode\":\"markers\",\"name\":\"ca\",\"scene\":\"scene\",\"showlegend\":true,\"x\":[0.6384619474411011],\"y\":[-0.24099022150039673],\"z\":[0.31554755568504333],\"type\":\"scatter3d\"},{\"hovertemplate\":\"color=care\\u003cbr\\u003e0=%{x}\\u003cbr\\u003e1=%{y}\\u003cbr\\u003e2=%{z}\\u003cextra\\u003e\\u003c\\u002fextra\\u003e\",\"legendgroup\":\"care\",\"marker\":{\"color\":\"#FECB52\",\"symbol\":\"circle\"},\"mode\":\"markers\",\"name\":\"care\",\"scene\":\"scene\",\"showlegend\":true,\"x\":[0.32568854093551636],\"y\":[-0.04892938211560249],\"z\":[-0.22799420356750488],\"type\":\"scatter3d\"},{\"hovertemplate\":\"color=developed\\u003cbr\\u003e0=%{x}\\u003cbr\\u003e1=%{y}\\u003cbr\\u003e2=%{z}\\u003cextra\\u003e\\u003c\\u002fextra\\u003e\",\"legendgroup\":\"developed\",\"marker\":{\"color\":\"#636efa\",\"symbol\":\"circle\"},\"mode\":\"markers\",\"name\":\"developed\",\"scene\":\"scene\",\"showlegend\":true,\"x\":[-0.06258190423250198],\"y\":[0.05974737927317619],\"z\":[-0.29161009192466736],\"type\":\"scatter3d\"},{\"hovertemplate\":\"color=tried\\u003cbr\\u003e0=%{x}\\u003cbr\\u003e1=%{y}\\u003cbr\\u003e2=%{z}\\u003cextra\\u003e\\u003c\\u002fextra\\u003e\",\"legendgroup\":\"tried\",\"marker\":{\"color\":\"#EF553B\",\"symbol\":\"circle\"},\"mode\":\"markers\",\"name\":\"tried\",\"scene\":\"scene\",\"showlegend\":true,\"x\":[0.3030661344528198],\"y\":[-0.07453978806734085],\"z\":[0.21790950000286102],\"type\":\"scatter3d\"},{\"hovertemplate\":\"color=floor\\u003cbr\\u003e0=%{x}\\u003cbr\\u003e1=%{y}\\u003cbr\\u003e2=%{z}\\u003cextra\\u003e\\u003c\\u002fextra\\u003e\",\"legendgroup\":\"floor\",\"marker\":{\"color\":\"#00cc96\",\"symbol\":\"circle\"},\"mode\":\"markers\",\"name\":\"floor\",\"scene\":\"scene\",\"showlegend\":true,\"x\":[-0.29603874683380127],\"y\":[0.4348255395889282],\"z\":[0.08545757830142975],\"type\":\"scatter3d\"},{\"hovertemplate\":\"color=10\\u003cbr\\u003e0=%{x}\\u003cbr\\u003e1=%{y}\\u003cbr\\u003e2=%{z}\\u003cextra\\u003e\\u003c\\u002fextra\\u003e\",\"legendgroup\":\"10\",\"marker\":{\"color\":\"#ab63fa\",\"symbol\":\"circle\"},\"mode\":\"markers\",\"name\":\"10\",\"scene\":\"scene\",\"showlegend\":true,\"x\":[-0.2782883644104004],\"y\":[0.3944588899612427],\"z\":[0.0644288957118988],\"type\":\"scatter3d\"},{\"hovertemplate\":\"color=lot\\u003cbr\\u003e0=%{x}\\u003cbr\\u003e1=%{y}\\u003cbr\\u003e2=%{z}\\u003cextra\\u003e\\u003c\\u002fextra\\u003e\",\"legendgroup\":\"lot\",\"marker\":{\"color\":\"#FFA15A\",\"symbol\":\"circle\"},\"mode\":\"markers\",\"name\":\"lot\",\"scene\":\"scene\",\"showlegend\":true,\"x\":[0.4609815776348114],\"y\":[0.19289059937000275],\"z\":[-0.28264471888542175],\"type\":\"scatter3d\"},{\"hovertemplate\":\"color=reached\\u003cbr\\u003e0=%{x}\\u003cbr\\u003e1=%{y}\\u003cbr\\u003e2=%{z}\\u003cextra\\u003e\\u003c\\u002fextra\\u003e\",\"legendgroup\":\"reached\",\"marker\":{\"color\":\"#19d3f3\",\"symbol\":\"circle\"},\"mode\":\"markers\",\"name\":\"reached\",\"scene\":\"scene\",\"showlegend\":true,\"x\":[-0.22023561596870422],\"y\":[0.12071173638105392],\"z\":[0.22328045964241028],\"type\":\"scatter3d\"},{\"hovertemplate\":\"color=price\\u003cbr\\u003e0=%{x}\\u003cbr\\u003e1=%{y}\\u003cbr\\u003e2=%{z}\\u003cextra\\u003e\\u003c\\u002fextra\\u003e\",\"legendgroup\":\"price\",\"marker\":{\"color\":\"#FF6692\",\"symbol\":\"circle\"},\"mode\":\"markers\",\"name\":\"price\",\"scene\":\"scene\",\"showlegend\":true,\"x\":[0.03569301962852478],\"y\":[0.18736544251441956],\"z\":[-0.46045854687690735],\"type\":\"scatter3d\"},{\"hovertemplate\":\"color=equipment\\u003cbr\\u003e0=%{x}\\u003cbr\\u003e1=%{y}\\u003cbr\\u003e2=%{z}\\u003cextra\\u003e\\u003c\\u002fextra\\u003e\",\"legendgroup\":\"equipment\",\"marker\":{\"color\":\"#B6E880\",\"symbol\":\"circle\"},\"mode\":\"markers\",\"name\":\"equipment\",\"scene\":\"scene\",\"showlegend\":true,\"x\":[-0.17792163789272308],\"y\":[0.2076461911201477],\"z\":[-0.3908763825893402],\"type\":\"scatter3d\"},{\"hovertemplate\":\"color=central\\u003cbr\\u003e0=%{x}\\u003cbr\\u003e1=%{y}\\u003cbr\\u003e2=%{z}\\u003cextra\\u003e\\u003c\\u002fextra\\u003e\",\"legendgroup\":\"central\",\"marker\":{\"color\":\"#FF97FF\",\"symbol\":\"circle\"},\"mode\":\"markers\",\"name\":\"central\",\"scene\":\"scene\",\"showlegend\":true,\"x\":[-0.2770271301269531],\"y\":[0.2530296742916107],\"z\":[-0.2437671422958374],\"type\":\"scatter3d\"},{\"hovertemplate\":\"color=administration\\u003cbr\\u003e0=%{x}\\u003cbr\\u003e1=%{y}\\u003cbr\\u003e2=%{z}\\u003cextra\\u003e\\u003c\\u002fextra\\u003e\",\"legendgroup\":\"administration\",\"marker\":{\"color\":\"#FECB52\",\"symbol\":\"circle\"},\"mode\":\"markers\",\"name\":\"administration\",\"scene\":\"scene\",\"showlegend\":true,\"x\":[-0.14233440160751343],\"y\":[0.28800544142723083],\"z\":[-0.33601927757263184],\"type\":\"scatter3d\"},{\"hovertemplate\":\"color=science\\u003cbr\\u003e0=%{x}\\u003cbr\\u003e1=%{y}\\u003cbr\\u003e2=%{z}\\u003cextra\\u003e\\u003c\\u002fextra\\u003e\",\"legendgroup\":\"science\",\"marker\":{\"color\":\"#636efa\",\"symbol\":\"circle\"},\"mode\":\"markers\",\"name\":\"science\",\"scene\":\"scene\",\"showlegend\":true,\"x\":[0.11328244209289551],\"y\":[0.12007439881563187],\"z\":[-0.5017893314361572],\"type\":\"scatter3d\"},{\"hovertemplate\":\"color=list\\u003cbr\\u003e0=%{x}\\u003cbr\\u003e1=%{y}\\u003cbr\\u003e2=%{z}\\u003cextra\\u003e\\u003c\\u002fextra\\u003e\",\"legendgroup\":\"list\",\"marker\":{\"color\":\"#EF553B\",\"symbol\":\"circle\"},\"mode\":\"markers\",\"name\":\"list\",\"scene\":\"scene\",\"showlegend\":true,\"x\":[-0.13913819193840027],\"y\":[0.3034418821334839],\"z\":[-0.3018685281276703],\"type\":\"scatter3d\"},{\"hovertemplate\":\"color=earth\\u003cbr\\u003e0=%{x}\\u003cbr\\u003e1=%{y}\\u003cbr\\u003e2=%{z}\\u003cextra\\u003e\\u003c\\u002fextra\\u003e\",\"legendgroup\":\"earth\",\"marker\":{\"color\":\"#00cc96\",\"symbol\":\"circle\"},\"mode\":\"markers\",\"name\":\"earth\",\"scene\":\"scene\",\"showlegend\":true,\"x\":[-0.06067308411002159],\"y\":[0.2501330077648163],\"z\":[-0.2622441053390503],\"type\":\"scatter3d\"},{\"hovertemplate\":\"color=range\\u003cbr\\u003e0=%{x}\\u003cbr\\u003e1=%{y}\\u003cbr\\u003e2=%{z}\\u003cextra\\u003e\\u003c\\u002fextra\\u003e\",\"legendgroup\":\"range\",\"marker\":{\"color\":\"#ab63fa\",\"symbol\":\"circle\"},\"mode\":\"markers\",\"name\":\"range\",\"scene\":\"scene\",\"showlegend\":true,\"x\":[-0.22425873577594757],\"y\":[0.29702165722846985],\"z\":[-0.2752297520637512],\"type\":\"scatter3d\"},{\"hovertemplate\":\"color=charge\\u003cbr\\u003e0=%{x}\\u003cbr\\u003e1=%{y}\\u003cbr\\u003e2=%{z}\\u003cextra\\u003e\\u003c\\u002fextra\\u003e\",\"legendgroup\":\"charge\",\"marker\":{\"color\":\"#FFA15A\",\"symbol\":\"circle\"},\"mode\":\"markers\",\"name\":\"charge\",\"scene\":\"scene\",\"showlegend\":true,\"x\":[-0.0609043650329113],\"y\":[0.24297982454299927],\"z\":[-0.2634533643722534],\"type\":\"scatter3d\"},{\"hovertemplate\":\"color=stock\\u003cbr\\u003e0=%{x}\\u003cbr\\u003e1=%{y}\\u003cbr\\u003e2=%{z}\\u003cextra\\u003e\\u003c\\u002fextra\\u003e\",\"legendgroup\":\"stock\",\"marker\":{\"color\":\"#19d3f3\",\"symbol\":\"circle\"},\"mode\":\"markers\",\"name\":\"stock\",\"scene\":\"scene\",\"showlegend\":true,\"x\":[-0.2516922354698181],\"y\":[0.2504008114337921],\"z\":[-0.2409777045249939],\"type\":\"scatter3d\"},{\"hovertemplate\":\"color=shown\\u003cbr\\u003e0=%{x}\\u003cbr\\u003e1=%{y}\\u003cbr\\u003e2=%{z}\\u003cextra\\u003e\\u003c\\u002fextra\\u003e\",\"legendgroup\":\"shown\",\"marker\":{\"color\":\"#FF6692\",\"symbol\":\"circle\"},\"mode\":\"markers\",\"name\":\"shown\",\"scene\":\"scene\",\"showlegend\":true,\"x\":[-0.11559626460075378],\"y\":[0.39011043310165405],\"z\":[-0.11295302957296371],\"type\":\"scatter3d\"},{\"hovertemplate\":\"color=kennedy\\u003cbr\\u003e0=%{x}\\u003cbr\\u003e1=%{y}\\u003cbr\\u003e2=%{z}\\u003cextra\\u003e\\u003c\\u002fextra\\u003e\",\"legendgroup\":\"kennedy\",\"marker\":{\"color\":\"#B6E880\",\"symbol\":\"circle\"},\"mode\":\"markers\",\"name\":\"kennedy\",\"scene\":\"scene\",\"showlegend\":true,\"x\":[0.11036928743124008],\"y\":[0.0045346892438828945],\"z\":[0.212590292096138],\"type\":\"scatter3d\"},{\"hovertemplate\":\"color=final\\u003cbr\\u003e0=%{x}\\u003cbr\\u003e1=%{y}\\u003cbr\\u003e2=%{z}\\u003cextra\\u003e\\u003c\\u002fextra\\u003e\",\"legendgroup\":\"final\",\"marker\":{\"color\":\"#FF97FF\",\"symbol\":\"circle\"},\"mode\":\"markers\",\"name\":\"final\",\"scene\":\"scene\",\"showlegend\":true,\"x\":[-0.11612441390752792],\"y\":[0.21636418998241425],\"z\":[-0.2162511795759201],\"type\":\"scatter3d\"},{\"hovertemplate\":\"color=actually\\u003cbr\\u003e0=%{x}\\u003cbr\\u003e1=%{y}\\u003cbr\\u003e2=%{z}\\u003cextra\\u003e\\u003c\\u002fextra\\u003e\",\"legendgroup\":\"actually\",\"marker\":{\"color\":\"#FECB52\",\"symbol\":\"circle\"},\"mode\":\"markers\",\"name\":\"actually\",\"scene\":\"scene\",\"showlegend\":true,\"x\":[0.3596949279308319],\"y\":[-0.21847836673259735],\"z\":[-0.3139350116252899],\"type\":\"scatter3d\"},{\"hovertemplate\":\"color=&\\u003cbr\\u003e0=%{x}\\u003cbr\\u003e1=%{y}\\u003cbr\\u003e2=%{z}\\u003cextra\\u003e\\u003c\\u002fextra\\u003e\",\"legendgroup\":\"&\",\"marker\":{\"color\":\"#636efa\",\"symbol\":\"circle\"},\"mode\":\"markers\",\"name\":\"&\",\"scene\":\"scene\",\"showlegend\":true,\"x\":[-0.31202077865600586],\"y\":[0.16418565809726715],\"z\":[0.37120792269706726],\"type\":\"scatter3d\"},{\"hovertemplate\":\"color=firm\\u003cbr\\u003e0=%{x}\\u003cbr\\u003e1=%{y}\\u003cbr\\u003e2=%{z}\\u003cextra\\u003e\\u003c\\u002fextra\\u003e\",\"legendgroup\":\"firm\",\"marker\":{\"color\":\"#EF553B\",\"symbol\":\"circle\"},\"mode\":\"markers\",\"name\":\"firm\",\"scene\":\"scene\",\"showlegend\":true,\"x\":[-0.30647867918014526],\"y\":[0.3283771872520447],\"z\":[-0.1657874882221222],\"type\":\"scatter3d\"},{\"hovertemplate\":\"color=reaction\\u003cbr\\u003e0=%{x}\\u003cbr\\u003e1=%{y}\\u003cbr\\u003e2=%{z}\\u003cextra\\u003e\\u003c\\u002fextra\\u003e\",\"legendgroup\":\"reaction\",\"marker\":{\"color\":\"#00cc96\",\"symbol\":\"circle\"},\"mode\":\"markers\",\"name\":\"reaction\",\"scene\":\"scene\",\"showlegend\":true,\"x\":[-0.15164747834205627],\"y\":[0.2546241581439972],\"z\":[-0.3756355941295624],\"type\":\"scatter3d\"},{\"hovertemplate\":\"color=ten\\u003cbr\\u003e0=%{x}\\u003cbr\\u003e1=%{y}\\u003cbr\\u003e2=%{z}\\u003cextra\\u003e\\u003c\\u002fextra\\u003e\",\"legendgroup\":\"ten\",\"marker\":{\"color\":\"#ab63fa\",\"symbol\":\"circle\"},\"mode\":\"markers\",\"name\":\"ten\",\"scene\":\"scene\",\"showlegend\":true,\"x\":[-0.029620708897709846],\"y\":[0.3316299319267273],\"z\":[0.12935929000377655],\"type\":\"scatter3d\"},{\"hovertemplate\":\"color=religious\\u003cbr\\u003e0=%{x}\\u003cbr\\u003e1=%{y}\\u003cbr\\u003e2=%{z}\\u003cextra\\u003e\\u003c\\u002fextra\\u003e\",\"legendgroup\":\"religious\",\"marker\":{\"color\":\"#FFA15A\",\"symbol\":\"circle\"},\"mode\":\"markers\",\"name\":\"religious\",\"scene\":\"scene\",\"showlegend\":true,\"x\":[0.20963133871555328],\"y\":[-0.03801686316728592],\"z\":[-0.5153307318687439],\"type\":\"scatter3d\"},{\"hovertemplate\":\"color=relation\\u003cbr\\u003e0=%{x}\\u003cbr\\u003e1=%{y}\\u003cbr\\u003e2=%{z}\\u003cextra\\u003e\\u003c\\u002fextra\\u003e\",\"legendgroup\":\"relation\",\"marker\":{\"color\":\"#19d3f3\",\"symbol\":\"circle\"},\"mode\":\"markers\",\"name\":\"relation\",\"scene\":\"scene\",\"showlegend\":true,\"x\":[0.002731812186539173],\"y\":[0.06918558478355408],\"z\":[-0.3945695459842682],\"type\":\"scatter3d\"},{\"hovertemplate\":\"color=blue\\u003cbr\\u003e0=%{x}\\u003cbr\\u003e1=%{y}\\u003cbr\\u003e2=%{z}\\u003cextra\\u003e\\u003c\\u002fextra\\u003e\",\"legendgroup\":\"blue\",\"marker\":{\"color\":\"#FF6692\",\"symbol\":\"circle\"},\"mode\":\"markers\",\"name\":\"blue\",\"scene\":\"scene\",\"showlegend\":true,\"x\":[-0.35406556725502014],\"y\":[0.24442929029464722],\"z\":[0.2970089912414551],\"type\":\"scatter3d\"},{\"hovertemplate\":\"color=direction\\u003cbr\\u003e0=%{x}\\u003cbr\\u003e1=%{y}\\u003cbr\\u003e2=%{z}\\u003cextra\\u003e\\u003c\\u002fextra\\u003e\",\"legendgroup\":\"direction\",\"marker\":{\"color\":\"#B6E880\",\"symbol\":\"circle\"},\"mode\":\"markers\",\"name\":\"direction\",\"scene\":\"scene\",\"showlegend\":true,\"x\":[-0.2222335934638977],\"y\":[0.32348740100860596],\"z\":[-0.21246589720249176],\"type\":\"scatter3d\"},{\"hovertemplate\":\"color=getting\\u003cbr\\u003e0=%{x}\\u003cbr\\u003e1=%{y}\\u003cbr\\u003e2=%{z}\\u003cextra\\u003e\\u003c\\u002fextra\\u003e\",\"legendgroup\":\"getting\",\"marker\":{\"color\":\"#FF97FF\",\"symbol\":\"circle\"},\"mode\":\"markers\",\"name\":\"getting\",\"scene\":\"scene\",\"showlegend\":true,\"x\":[0.4252319633960724],\"y\":[0.07084129005670547],\"z\":[-0.14666756987571716],\"type\":\"scatter3d\"},{\"hovertemplate\":\"color=trying\\u003cbr\\u003e0=%{x}\\u003cbr\\u003e1=%{y}\\u003cbr\\u003e2=%{z}\\u003cextra\\u003e\\u003c\\u002fextra\\u003e\",\"legendgroup\":\"trying\",\"marker\":{\"color\":\"#FECB52\",\"symbol\":\"circle\"},\"mode\":\"markers\",\"name\":\"trying\",\"scene\":\"scene\",\"showlegend\":true,\"x\":[0.3390614092350006],\"y\":[-0.07292558252811432],\"z\":[-0.047267235815525055],\"type\":\"scatter3d\"},{\"hovertemplate\":\"color=fine\\u003cbr\\u003e0=%{x}\\u003cbr\\u003e1=%{y}\\u003cbr\\u003e2=%{z}\\u003cextra\\u003e\\u003c\\u002fextra\\u003e\",\"legendgroup\":\"fine\",\"marker\":{\"color\":\"#636efa\",\"symbol\":\"circle\"},\"mode\":\"markers\",\"name\":\"fine\",\"scene\":\"scene\",\"showlegend\":true,\"x\":[0.05557393655180931],\"y\":[-0.06696832180023193],\"z\":[-0.1827063113451004],\"type\":\"scatter3d\"},{\"hovertemplate\":\"color=association\\u003cbr\\u003e0=%{x}\\u003cbr\\u003e1=%{y}\\u003cbr\\u003e2=%{z}\\u003cextra\\u003e\\u003c\\u002fextra\\u003e\",\"legendgroup\":\"association\",\"marker\":{\"color\":\"#EF553B\",\"symbol\":\"circle\"},\"mode\":\"markers\",\"name\":\"association\",\"scene\":\"scene\",\"showlegend\":true,\"x\":[-0.33798667788505554],\"y\":[0.2857955992221832],\"z\":[-0.13416503369808197],\"type\":\"scatter3d\"},{\"hovertemplate\":\"color=christian\\u003cbr\\u003e0=%{x}\\u003cbr\\u003e1=%{y}\\u003cbr\\u003e2=%{z}\\u003cextra\\u003e\\u003c\\u002fextra\\u003e\",\"legendgroup\":\"christian\",\"marker\":{\"color\":\"#00cc96\",\"symbol\":\"circle\"},\"mode\":\"markers\",\"name\":\"christian\",\"scene\":\"scene\",\"showlegend\":true,\"x\":[0.12161547690629959],\"y\":[-0.15779878199100494],\"z\":[-0.43441256880760193],\"type\":\"scatter3d\"},{\"hovertemplate\":\"color=doing\\u003cbr\\u003e0=%{x}\\u003cbr\\u003e1=%{y}\\u003cbr\\u003e2=%{z}\\u003cextra\\u003e\\u003c\\u002fextra\\u003e\",\"legendgroup\":\"doing\",\"marker\":{\"color\":\"#ab63fa\",\"symbol\":\"circle\"},\"mode\":\"markers\",\"name\":\"doing\",\"scene\":\"scene\",\"showlegend\":true,\"x\":[0.6251171827316284],\"y\":[-0.2559644281864166],\"z\":[-0.17960280179977417],\"type\":\"scatter3d\"},{\"hovertemplate\":\"color=received\\u003cbr\\u003e0=%{x}\\u003cbr\\u003e1=%{y}\\u003cbr\\u003e2=%{z}\\u003cextra\\u003e\\u003c\\u002fextra\\u003e\",\"legendgroup\":\"received\",\"marker\":{\"color\":\"#FFA15A\",\"symbol\":\"circle\"},\"mode\":\"markers\",\"name\":\"received\",\"scene\":\"scene\",\"showlegend\":true,\"x\":[0.03576795756816864],\"y\":[0.1346239596605301],\"z\":[-0.03376694768667221],\"type\":\"scatter3d\"},{\"hovertemplate\":\"color=sign\\u003cbr\\u003e0=%{x}\\u003cbr\\u003e1=%{y}\\u003cbr\\u003e2=%{z}\\u003cextra\\u003e\\u003c\\u002fextra\\u003e\",\"legendgroup\":\"sign\",\"marker\":{\"color\":\"#19d3f3\",\"symbol\":\"circle\"},\"mode\":\"markers\",\"name\":\"sign\",\"scene\":\"scene\",\"showlegend\":true,\"x\":[-0.08152928203344345],\"y\":[0.09304580837488174],\"z\":[-0.2875867187976837],\"type\":\"scatter3d\"},{\"hovertemplate\":\"color=aid\\u003cbr\\u003e0=%{x}\\u003cbr\\u003e1=%{y}\\u003cbr\\u003e2=%{z}\\u003cextra\\u003e\\u003c\\u002fextra\\u003e\",\"legendgroup\":\"aid\",\"marker\":{\"color\":\"#FF6692\",\"symbol\":\"circle\"},\"mode\":\"markers\",\"name\":\"aid\",\"scene\":\"scene\",\"showlegend\":true,\"x\":[-0.14353081583976746],\"y\":[0.14702798426151276],\"z\":[-0.35724446177482605],\"type\":\"scatter3d\"},{\"hovertemplate\":\"color=indeed\\u003cbr\\u003e0=%{x}\\u003cbr\\u003e1=%{y}\\u003cbr\\u003e2=%{z}\\u003cextra\\u003e\\u003c\\u002fextra\\u003e\",\"legendgroup\":\"indeed\",\"marker\":{\"color\":\"#B6E880\",\"symbol\":\"circle\"},\"mode\":\"markers\",\"name\":\"indeed\",\"scene\":\"scene\",\"showlegend\":true,\"x\":[0.47004199028015137],\"y\":[-0.192717507481575],\"z\":[-0.2258862853050232],\"type\":\"scatter3d\"},{\"hovertemplate\":\"color=medical\\u003cbr\\u003e0=%{x}\\u003cbr\\u003e1=%{y}\\u003cbr\\u003e2=%{z}\\u003cextra\\u003e\\u003c\\u002fextra\\u003e\",\"legendgroup\":\"medical\",\"marker\":{\"color\":\"#FF97FF\",\"symbol\":\"circle\"},\"mode\":\"markers\",\"name\":\"medical\",\"scene\":\"scene\",\"showlegend\":true,\"x\":[-0.25982892513275146],\"y\":[0.19350925087928772],\"z\":[-0.1355152428150177],\"type\":\"scatter3d\"},{\"hovertemplate\":\"color=lead\\u003cbr\\u003e0=%{x}\\u003cbr\\u003e1=%{y}\\u003cbr\\u003e2=%{z}\\u003cextra\\u003e\\u003c\\u002fextra\\u003e\",\"legendgroup\":\"lead\",\"marker\":{\"color\":\"#FECB52\",\"symbol\":\"circle\"},\"mode\":\"markers\",\"name\":\"lead\",\"scene\":\"scene\",\"showlegend\":true,\"x\":[0.08860190212726593],\"y\":[0.03641838580369949],\"z\":[-0.20921963453292847],\"type\":\"scatter3d\"},{\"hovertemplate\":\"color=st.\\u003cbr\\u003e0=%{x}\\u003cbr\\u003e1=%{y}\\u003cbr\\u003e2=%{z}\\u003cextra\\u003e\\u003c\\u002fextra\\u003e\",\"legendgroup\":\"st.\",\"marker\":{\"color\":\"#636efa\",\"symbol\":\"circle\"},\"mode\":\"markers\",\"name\":\"st.\",\"scene\":\"scene\",\"showlegend\":true,\"x\":[-0.3155648708343506],\"y\":[0.3246690034866333],\"z\":[0.3064783811569214],\"type\":\"scatter3d\"},{\"hovertemplate\":\"color=especially\\u003cbr\\u003e0=%{x}\\u003cbr\\u003e1=%{y}\\u003cbr\\u003e2=%{z}\\u003cextra\\u003e\\u003c\\u002fextra\\u003e\",\"legendgroup\":\"especially\",\"marker\":{\"color\":\"#EF553B\",\"symbol\":\"circle\"},\"mode\":\"markers\",\"name\":\"especially\",\"scene\":\"scene\",\"showlegend\":true,\"x\":[0.19916653633117676],\"y\":[-0.00014730964903719723],\"z\":[-0.43866199254989624],\"type\":\"scatter3d\"},{\"hovertemplate\":\"color=husband\\u003cbr\\u003e0=%{x}\\u003cbr\\u003e1=%{y}\\u003cbr\\u003e2=%{z}\\u003cextra\\u003e\\u003c\\u002fextra\\u003e\",\"legendgroup\":\"husband\",\"marker\":{\"color\":\"#00cc96\",\"symbol\":\"circle\"},\"mode\":\"markers\",\"name\":\"husband\",\"scene\":\"scene\",\"showlegend\":true,\"x\":[0.4155067205429077],\"y\":[0.06844398379325867],\"z\":[0.2127913534641266],\"type\":\"scatter3d\"},{\"hovertemplate\":\"color=gun\\u003cbr\\u003e0=%{x}\\u003cbr\\u003e1=%{y}\\u003cbr\\u003e2=%{z}\\u003cextra\\u003e\\u003c\\u002fextra\\u003e\",\"legendgroup\":\"gun\",\"marker\":{\"color\":\"#ab63fa\",\"symbol\":\"circle\"},\"mode\":\"markers\",\"name\":\"gun\",\"scene\":\"scene\",\"showlegend\":true,\"x\":[-0.14646689593791962],\"y\":[0.20752929151058197],\"z\":[0.1396791636943817],\"type\":\"scatter3d\"},{\"hovertemplate\":\"color=function\\u003cbr\\u003e0=%{x}\\u003cbr\\u003e1=%{y}\\u003cbr\\u003e2=%{z}\\u003cextra\\u003e\\u003c\\u002fextra\\u003e\",\"legendgroup\":\"function\",\"marker\":{\"color\":\"#FFA15A\",\"symbol\":\"circle\"},\"mode\":\"markers\",\"name\":\"function\",\"scene\":\"scene\",\"showlegend\":true,\"x\":[0.11780226975679398],\"y\":[0.1244860291481018],\"z\":[-0.46528491377830505],\"type\":\"scatter3d\"},{\"hovertemplate\":\"color=difficult\\u003cbr\\u003e0=%{x}\\u003cbr\\u003e1=%{y}\\u003cbr\\u003e2=%{z}\\u003cextra\\u003e\\u003c\\u002fextra\\u003e\",\"legendgroup\":\"difficult\",\"marker\":{\"color\":\"#19d3f3\",\"symbol\":\"circle\"},\"mode\":\"markers\",\"name\":\"difficult\",\"scene\":\"scene\",\"showlegend\":true,\"x\":[0.5832525491714478],\"y\":[-0.20094558596611023],\"z\":[-0.3804628551006317],\"type\":\"scatter3d\"},{\"hovertemplate\":\"color=project\\u003cbr\\u003e0=%{x}\\u003cbr\\u003e1=%{y}\\u003cbr\\u003e2=%{z}\\u003cextra\\u003e\\u003c\\u002fextra\\u003e\",\"legendgroup\":\"project\",\"marker\":{\"color\":\"#FF6692\",\"symbol\":\"circle\"},\"mode\":\"markers\",\"name\":\"project\",\"scene\":\"scene\",\"showlegend\":true,\"x\":[-0.0913546234369278],\"y\":[0.22235383093357086],\"z\":[-0.4177786707878113],\"type\":\"scatter3d\"},{\"hovertemplate\":\"color=tree\\u003cbr\\u003e0=%{x}\\u003cbr\\u003e1=%{y}\\u003cbr\\u003e2=%{z}\\u003cextra\\u003e\\u003c\\u002fextra\\u003e\",\"legendgroup\":\"tree\",\"marker\":{\"color\":\"#B6E880\",\"symbol\":\"circle\"},\"mode\":\"markers\",\"name\":\"tree\",\"scene\":\"scene\",\"showlegend\":true,\"x\":[-0.27287399768829346],\"y\":[0.28108909726142883],\"z\":[0.09028348326683044],\"type\":\"scatter3d\"},{\"hovertemplate\":\"color=temperature\\u003cbr\\u003e0=%{x}\\u003cbr\\u003e1=%{y}\\u003cbr\\u003e2=%{z}\\u003cextra\\u003e\\u003c\\u002fextra\\u003e\",\"legendgroup\":\"temperature\",\"marker\":{\"color\":\"#FF97FF\",\"symbol\":\"circle\"},\"mode\":\"markers\",\"name\":\"temperature\",\"scene\":\"scene\",\"showlegend\":true,\"x\":[-0.28863757848739624],\"y\":[0.2957649230957031],\"z\":[-0.09342676401138306],\"type\":\"scatter3d\"},{\"hovertemplate\":\"color=simple\\u003cbr\\u003e0=%{x}\\u003cbr\\u003e1=%{y}\\u003cbr\\u003e2=%{z}\\u003cextra\\u003e\\u003c\\u002fextra\\u003e\",\"legendgroup\":\"simple\",\"marker\":{\"color\":\"#FECB52\",\"symbol\":\"circle\"},\"mode\":\"markers\",\"name\":\"simple\",\"scene\":\"scene\",\"showlegend\":true,\"x\":[0.4132356643676758],\"y\":[-0.25884106755256653],\"z\":[-0.2890172600746155],\"type\":\"scatter3d\"},{\"hovertemplate\":\"color=hair\\u003cbr\\u003e0=%{x}\\u003cbr\\u003e1=%{y}\\u003cbr\\u003e2=%{z}\\u003cextra\\u003e\\u003c\\u002fextra\\u003e\",\"legendgroup\":\"hair\",\"marker\":{\"color\":\"#636efa\",\"symbol\":\"circle\"},\"mode\":\"markers\",\"name\":\"hair\",\"scene\":\"scene\",\"showlegend\":true,\"x\":[-0.22470125555992126],\"y\":[0.22216551005840302],\"z\":[0.36236220598220825],\"type\":\"scatter3d\"},{\"hovertemplate\":\"color=pattern\\u003cbr\\u003e0=%{x}\\u003cbr\\u003e1=%{y}\\u003cbr\\u003e2=%{z}\\u003cextra\\u003e\\u003c\\u002fextra\\u003e\",\"legendgroup\":\"pattern\",\"marker\":{\"color\":\"#EF553B\",\"symbol\":\"circle\"},\"mode\":\"markers\",\"name\":\"pattern\",\"scene\":\"scene\",\"showlegend\":true,\"x\":[-0.14657439291477203],\"y\":[0.12891390919685364],\"z\":[-0.4109417498111725],\"type\":\"scatter3d\"},{\"hovertemplate\":\"color=fund\\u003cbr\\u003e0=%{x}\\u003cbr\\u003e1=%{y}\\u003cbr\\u003e2=%{z}\\u003cextra\\u003e\\u003c\\u002fextra\\u003e\",\"legendgroup\":\"fund\",\"marker\":{\"color\":\"#00cc96\",\"symbol\":\"circle\"},\"mode\":\"markers\",\"name\":\"fund\",\"scene\":\"scene\",\"showlegend\":true,\"x\":[-0.14778460562229156],\"y\":[0.2578376829624176],\"z\":[-0.33645203709602356],\"type\":\"scatter3d\"},{\"hovertemplate\":\"color=higher\\u003cbr\\u003e0=%{x}\\u003cbr\\u003e1=%{y}\\u003cbr\\u003e2=%{z}\\u003cextra\\u003e\\u003c\\u002fextra\\u003e\",\"legendgroup\":\"higher\",\"marker\":{\"color\":\"#ab63fa\",\"symbol\":\"circle\"},\"mode\":\"markers\",\"name\":\"higher\",\"scene\":\"scene\",\"showlegend\":true,\"x\":[0.09664658457040787],\"y\":[0.17007499933242798],\"z\":[-0.36254602670669556],\"type\":\"scatter3d\"},{\"hovertemplate\":\"color=element\\u003cbr\\u003e0=%{x}\\u003cbr\\u003e1=%{y}\\u003cbr\\u003e2=%{z}\\u003cextra\\u003e\\u003c\\u002fextra\\u003e\",\"legendgroup\":\"element\",\"marker\":{\"color\":\"#FFA15A\",\"symbol\":\"circle\"},\"mode\":\"markers\",\"name\":\"element\",\"scene\":\"scene\",\"showlegend\":true,\"x\":[0.14728054404258728],\"y\":[0.10328767448663712],\"z\":[-0.5491991639137268],\"type\":\"scatter3d\"},{\"hovertemplate\":\"color=walked\\u003cbr\\u003e0=%{x}\\u003cbr\\u003e1=%{y}\\u003cbr\\u003e2=%{z}\\u003cextra\\u003e\\u003c\\u002fextra\\u003e\",\"legendgroup\":\"walked\",\"marker\":{\"color\":\"#19d3f3\",\"symbol\":\"circle\"},\"mode\":\"markers\",\"name\":\"walked\",\"scene\":\"scene\",\"showlegend\":true,\"x\":[-0.14735160768032074],\"y\":[0.2870396673679352],\"z\":[0.38857531547546387],\"type\":\"scatter3d\"},{\"hovertemplate\":\"color=technique\\u003cbr\\u003e0=%{x}\\u003cbr\\u003e1=%{y}\\u003cbr\\u003e2=%{z}\\u003cextra\\u003e\\u003c\\u002fextra\\u003e\",\"legendgroup\":\"technique\",\"marker\":{\"color\":\"#FF6692\",\"symbol\":\"circle\"},\"mode\":\"markers\",\"name\":\"technique\",\"scene\":\"scene\",\"showlegend\":true,\"x\":[0.0686720758676529],\"y\":[-0.094937764108181],\"z\":[-0.3622250258922577],\"type\":\"scatter3d\"},{\"hovertemplate\":\"color=quality\\u003cbr\\u003e0=%{x}\\u003cbr\\u003e1=%{y}\\u003cbr\\u003e2=%{z}\\u003cextra\\u003e\\u003c\\u002fextra\\u003e\",\"legendgroup\":\"quality\",\"marker\":{\"color\":\"#B6E880\",\"symbol\":\"circle\"},\"mode\":\"markers\",\"name\":\"quality\",\"scene\":\"scene\",\"showlegend\":true,\"x\":[0.13543447852134705],\"y\":[-0.0349089577794075],\"z\":[-0.4325672388076782],\"type\":\"scatter3d\"},{\"hovertemplate\":\"color=hall\\u003cbr\\u003e0=%{x}\\u003cbr\\u003e1=%{y}\\u003cbr\\u003e2=%{z}\\u003cextra\\u003e\\u003c\\u002fextra\\u003e\",\"legendgroup\":\"hall\",\"marker\":{\"color\":\"#FF97FF\",\"symbol\":\"circle\"},\"mode\":\"markers\",\"name\":\"hall\",\"scene\":\"scene\",\"showlegend\":true,\"x\":[-0.16940057277679443],\"y\":[0.3590163588523865],\"z\":[0.16087381541728973],\"type\":\"scatter3d\"},{\"hovertemplate\":\"color=bring\\u003cbr\\u003e0=%{x}\\u003cbr\\u003e1=%{y}\\u003cbr\\u003e2=%{z}\\u003cextra\\u003e\\u003c\\u002fextra\\u003e\",\"legendgroup\":\"bring\",\"marker\":{\"color\":\"#FECB52\",\"symbol\":\"circle\"},\"mode\":\"markers\",\"name\":\"bring\",\"scene\":\"scene\",\"showlegend\":true,\"x\":[0.27284130454063416],\"y\":[0.1946280151605606],\"z\":[-0.051786866039037704],\"type\":\"scatter3d\"},{\"hovertemplate\":\"color=foreign\\u003cbr\\u003e0=%{x}\\u003cbr\\u003e1=%{y}\\u003cbr\\u003e2=%{z}\\u003cextra\\u003e\\u003c\\u002fextra\\u003e\",\"legendgroup\":\"foreign\",\"marker\":{\"color\":\"#636efa\",\"symbol\":\"circle\"},\"mode\":\"markers\",\"name\":\"foreign\",\"scene\":\"scene\",\"showlegend\":true,\"x\":[-0.06992952525615692],\"y\":[0.05590246245265007],\"z\":[-0.3801884949207306],\"type\":\"scatter3d\"},{\"hovertemplate\":\"color=summer\\u003cbr\\u003e0=%{x}\\u003cbr\\u003e1=%{y}\\u003cbr\\u003e2=%{z}\\u003cextra\\u003e\\u003c\\u002fextra\\u003e\",\"legendgroup\":\"summer\",\"marker\":{\"color\":\"#EF553B\",\"symbol\":\"circle\"},\"mode\":\"markers\",\"name\":\"summer\",\"scene\":\"scene\",\"showlegend\":true,\"x\":[-0.13895443081855774],\"y\":[0.4600057601928711],\"z\":[0.0319669283926487],\"type\":\"scatter3d\"},{\"hovertemplate\":\"color=reading\\u003cbr\\u003e0=%{x}\\u003cbr\\u003e1=%{y}\\u003cbr\\u003e2=%{z}\\u003cextra\\u003e\\u003c\\u002fextra\\u003e\",\"legendgroup\":\"reading\",\"marker\":{\"color\":\"#00cc96\",\"symbol\":\"circle\"},\"mode\":\"markers\",\"name\":\"reading\",\"scene\":\"scene\",\"showlegend\":true,\"x\":[0.06116202473640442],\"y\":[0.038117628544569016],\"z\":[-0.34400248527526855],\"type\":\"scatter3d\"},{\"hovertemplate\":\"color=deal\\u003cbr\\u003e0=%{x}\\u003cbr\\u003e1=%{y}\\u003cbr\\u003e2=%{z}\\u003cextra\\u003e\\u003c\\u002fextra\\u003e\",\"legendgroup\":\"deal\",\"marker\":{\"color\":\"#ab63fa\",\"symbol\":\"circle\"},\"mode\":\"markers\",\"name\":\"deal\",\"scene\":\"scene\",\"showlegend\":true,\"x\":[0.45718657970428467],\"y\":[0.04899255931377411],\"z\":[-0.39124971628189087],\"type\":\"scatter3d\"},{\"hovertemplate\":\"color=rule\\u003cbr\\u003e0=%{x}\\u003cbr\\u003e1=%{y}\\u003cbr\\u003e2=%{z}\\u003cextra\\u003e\\u003c\\u002fextra\\u003e\",\"legendgroup\":\"rule\",\"marker\":{\"color\":\"#FFA15A\",\"symbol\":\"circle\"},\"mode\":\"markers\",\"name\":\"rule\",\"scene\":\"scene\",\"showlegend\":true,\"x\":[0.1742383986711502],\"y\":[-0.014276457950472832],\"z\":[-0.47257545590400696],\"type\":\"scatter3d\"},{\"hovertemplate\":\"color=square\\u003cbr\\u003e0=%{x}\\u003cbr\\u003e1=%{y}\\u003cbr\\u003e2=%{z}\\u003cextra\\u003e\\u003c\\u002fextra\\u003e\",\"legendgroup\":\"square\",\"marker\":{\"color\":\"#19d3f3\",\"symbol\":\"circle\"},\"mode\":\"markers\",\"name\":\"square\",\"scene\":\"scene\",\"showlegend\":true,\"x\":[-0.33338141441345215],\"y\":[0.4591187834739685],\"z\":[-0.06384692341089249],\"type\":\"scatter3d\"},{\"hovertemplate\":\"color=working\\u003cbr\\u003e0=%{x}\\u003cbr\\u003e1=%{y}\\u003cbr\\u003e2=%{z}\\u003cextra\\u003e\\u003c\\u002fextra\\u003e\",\"legendgroup\":\"working\",\"marker\":{\"color\":\"#FF6692\",\"symbol\":\"circle\"},\"mode\":\"markers\",\"name\":\"working\",\"scene\":\"scene\",\"showlegend\":true,\"x\":[0.11996299773454666],\"y\":[0.1539330780506134],\"z\":[-0.2769334316253662],\"type\":\"scatter3d\"},{\"hovertemplate\":\"color=passed\\u003cbr\\u003e0=%{x}\\u003cbr\\u003e1=%{y}\\u003cbr\\u003e2=%{z}\\u003cextra\\u003e\\u003c\\u002fextra\\u003e\",\"legendgroup\":\"passed\",\"marker\":{\"color\":\"#B6E880\",\"symbol\":\"circle\"},\"mode\":\"markers\",\"name\":\"passed\",\"scene\":\"scene\",\"showlegend\":true,\"x\":[-0.1859259456396103],\"y\":[0.37938815355300903],\"z\":[0.18569062650203705],\"type\":\"scatter3d\"},{\"hovertemplate\":\"color=machine\\u003cbr\\u003e0=%{x}\\u003cbr\\u003e1=%{y}\\u003cbr\\u003e2=%{z}\\u003cextra\\u003e\\u003c\\u002fextra\\u003e\",\"legendgroup\":\"machine\",\"marker\":{\"color\":\"#FF97FF\",\"symbol\":\"circle\"},\"mode\":\"markers\",\"name\":\"machine\",\"scene\":\"scene\",\"showlegend\":true,\"x\":[-0.2173885703086853],\"y\":[0.06853102147579193],\"z\":[-0.07595424354076385],\"type\":\"scatter3d\"},{\"hovertemplate\":\"color=similar\\u003cbr\\u003e0=%{x}\\u003cbr\\u003e1=%{y}\\u003cbr\\u003e2=%{z}\\u003cextra\\u003e\\u003c\\u002fextra\\u003e\",\"legendgroup\":\"similar\",\"marker\":{\"color\":\"#FECB52\",\"symbol\":\"circle\"},\"mode\":\"markers\",\"name\":\"similar\",\"scene\":\"scene\",\"showlegend\":true,\"x\":[-0.1457018405199051],\"y\":[0.12064288556575775],\"z\":[-0.3202677071094513],\"type\":\"scatter3d\"},{\"hovertemplate\":\"color=demand\\u003cbr\\u003e0=%{x}\\u003cbr\\u003e1=%{y}\\u003cbr\\u003e2=%{z}\\u003cextra\\u003e\\u003c\\u002fextra\\u003e\",\"legendgroup\":\"demand\",\"marker\":{\"color\":\"#636efa\",\"symbol\":\"circle\"},\"mode\":\"markers\",\"name\":\"demand\",\"scene\":\"scene\",\"showlegend\":true,\"x\":[0.0890524834394455],\"y\":[0.09460283815860748],\"z\":[-0.49276202917099],\"type\":\"scatter3d\"},{\"hovertemplate\":\"color=trouble\\u003cbr\\u003e0=%{x}\\u003cbr\\u003e1=%{y}\\u003cbr\\u003e2=%{z}\\u003cextra\\u003e\\u003c\\u002fextra\\u003e\",\"legendgroup\":\"trouble\",\"marker\":{\"color\":\"#EF553B\",\"symbol\":\"circle\"},\"mode\":\"markers\",\"name\":\"trouble\",\"scene\":\"scene\",\"showlegend\":true,\"x\":[0.6109704375267029],\"y\":[-0.0042654662393033504],\"z\":[-0.20597518980503082],\"type\":\"scatter3d\"},{\"hovertemplate\":\"color=training\\u003cbr\\u003e0=%{x}\\u003cbr\\u003e1=%{y}\\u003cbr\\u003e2=%{z}\\u003cextra\\u003e\\u003c\\u002fextra\\u003e\",\"legendgroup\":\"training\",\"marker\":{\"color\":\"#00cc96\",\"symbol\":\"circle\"},\"mode\":\"markers\",\"name\":\"training\",\"scene\":\"scene\",\"showlegend\":true,\"x\":[-0.02059539221227169],\"y\":[0.2023528516292572],\"z\":[-0.4024101793766022],\"type\":\"scatter3d\"},{\"hovertemplate\":\"color=u.s.\\u003cbr\\u003e0=%{x}\\u003cbr\\u003e1=%{y}\\u003cbr\\u003e2=%{z}\\u003cextra\\u003e\\u003c\\u002fextra\\u003e\",\"legendgroup\":\"u.s.\",\"marker\":{\"color\":\"#ab63fa\",\"symbol\":\"circle\"},\"mode\":\"markers\",\"name\":\"u.s.\",\"scene\":\"scene\",\"showlegend\":true,\"x\":[-0.3098693788051605],\"y\":[0.20476023852825165],\"z\":[-0.15911243855953217],\"type\":\"scatter3d\"},{\"hovertemplate\":\"color=natural\\u003cbr\\u003e0=%{x}\\u003cbr\\u003e1=%{y}\\u003cbr\\u003e2=%{z}\\u003cextra\\u003e\\u003c\\u002fextra\\u003e\",\"legendgroup\":\"natural\",\"marker\":{\"color\":\"#FFA15A\",\"symbol\":\"circle\"},\"mode\":\"markers\",\"name\":\"natural\",\"scene\":\"scene\",\"showlegend\":true,\"x\":[0.15374185144901276],\"y\":[-0.09818336367607117],\"z\":[-0.41204553842544556],\"type\":\"scatter3d\"},{\"hovertemplate\":\"color=growth\\u003cbr\\u003e0=%{x}\\u003cbr\\u003e1=%{y}\\u003cbr\\u003e2=%{z}\\u003cextra\\u003e\\u003c\\u002fextra\\u003e\",\"legendgroup\":\"growth\",\"marker\":{\"color\":\"#19d3f3\",\"symbol\":\"circle\"},\"mode\":\"markers\",\"name\":\"growth\",\"scene\":\"scene\",\"showlegend\":true,\"x\":[-0.12001203745603561],\"y\":[0.2427847683429718],\"z\":[-0.44341522455215454],\"type\":\"scatter3d\"},{\"hovertemplate\":\"color=image\\u003cbr\\u003e0=%{x}\\u003cbr\\u003e1=%{y}\\u003cbr\\u003e2=%{z}\\u003cextra\\u003e\\u003c\\u002fextra\\u003e\",\"legendgroup\":\"image\",\"marker\":{\"color\":\"#FF6692\",\"symbol\":\"circle\"},\"mode\":\"markers\",\"name\":\"image\",\"scene\":\"scene\",\"showlegend\":true,\"x\":[0.052736278623342514],\"y\":[0.028951656073331833],\"z\":[-0.37630024552345276],\"type\":\"scatter3d\"},{\"hovertemplate\":\"color=congress\\u003cbr\\u003e0=%{x}\\u003cbr\\u003e1=%{y}\\u003cbr\\u003e2=%{z}\\u003cextra\\u003e\\u003c\\u002fextra\\u003e\",\"legendgroup\":\"congress\",\"marker\":{\"color\":\"#B6E880\",\"symbol\":\"circle\"},\"mode\":\"markers\",\"name\":\"congress\",\"scene\":\"scene\",\"showlegend\":true,\"x\":[-0.004937855992466211],\"y\":[0.2517870366573334],\"z\":[-0.1760890781879425],\"type\":\"scatter3d\"},{\"hovertemplate\":\"color=chance\\u003cbr\\u003e0=%{x}\\u003cbr\\u003e1=%{y}\\u003cbr\\u003e2=%{z}\\u003cextra\\u003e\\u003c\\u002fextra\\u003e\",\"legendgroup\":\"chance\",\"marker\":{\"color\":\"#FF97FF\",\"symbol\":\"circle\"},\"mode\":\"markers\",\"name\":\"chance\",\"scene\":\"scene\",\"showlegend\":true,\"x\":[0.4413270652294159],\"y\":[0.049007922410964966],\"z\":[-0.29611533880233765],\"type\":\"scatter3d\"},{\"hovertemplate\":\"color=performance\\u003cbr\\u003e0=%{x}\\u003cbr\\u003e1=%{y}\\u003cbr\\u003e2=%{z}\\u003cextra\\u003e\\u003c\\u002fextra\\u003e\",\"legendgroup\":\"performance\",\"marker\":{\"color\":\"#FECB52\",\"symbol\":\"circle\"},\"mode\":\"markers\",\"name\":\"performance\",\"scene\":\"scene\",\"showlegend\":true,\"x\":[0.07972431927919388],\"y\":[0.1830417960882187],\"z\":[-0.2886276841163635],\"type\":\"scatter3d\"},{\"hovertemplate\":\"color=england\\u003cbr\\u003e0=%{x}\\u003cbr\\u003e1=%{y}\\u003cbr\\u003e2=%{z}\\u003cextra\\u003e\\u003c\\u002fextra\\u003e\",\"legendgroup\":\"england\",\"marker\":{\"color\":\"#636efa\",\"symbol\":\"circle\"},\"mode\":\"markers\",\"name\":\"england\",\"scene\":\"scene\",\"showlegend\":true,\"x\":[-0.17848560214042664],\"y\":[0.2879253327846527],\"z\":[-0.09825169295072556],\"type\":\"scatter3d\"},{\"hovertemplate\":\"color=production\\u003cbr\\u003e0=%{x}\\u003cbr\\u003e1=%{y}\\u003cbr\\u003e2=%{z}\\u003cextra\\u003e\\u003c\\u002fextra\\u003e\",\"legendgroup\":\"production\",\"marker\":{\"color\":\"#EF553B\",\"symbol\":\"circle\"},\"mode\":\"markers\",\"name\":\"production\",\"scene\":\"scene\",\"showlegend\":true,\"x\":[-0.08101125806570053],\"y\":[0.1692427396774292],\"z\":[-0.4393606185913086],\"type\":\"scatter3d\"},{\"hovertemplate\":\"color=attitude\\u003cbr\\u003e0=%{x}\\u003cbr\\u003e1=%{y}\\u003cbr\\u003e2=%{z}\\u003cextra\\u003e\\u003c\\u002fextra\\u003e\",\"legendgroup\":\"attitude\",\"marker\":{\"color\":\"#00cc96\",\"symbol\":\"circle\"},\"mode\":\"markers\",\"name\":\"attitude\",\"scene\":\"scene\",\"showlegend\":true,\"x\":[0.29667067527770996],\"y\":[-0.001555295311845839],\"z\":[-0.473924845457077],\"type\":\"scatter3d\"},{\"hovertemplate\":\"color=account\\u003cbr\\u003e0=%{x}\\u003cbr\\u003e1=%{y}\\u003cbr\\u003e2=%{z}\\u003cextra\\u003e\\u003c\\u002fextra\\u003e\",\"legendgroup\":\"account\",\"marker\":{\"color\":\"#ab63fa\",\"symbol\":\"circle\"},\"mode\":\"markers\",\"name\":\"account\",\"scene\":\"scene\",\"showlegend\":true,\"x\":[0.046082235872745514],\"y\":[0.28695565462112427],\"z\":[-0.3801023066043854],\"type\":\"scatter3d\"},{\"hovertemplate\":\"color=police\\u003cbr\\u003e0=%{x}\\u003cbr\\u003e1=%{y}\\u003cbr\\u003e2=%{z}\\u003cextra\\u003e\\u003c\\u002fextra\\u003e\",\"legendgroup\":\"police\",\"marker\":{\"color\":\"#FFA15A\",\"symbol\":\"circle\"},\"mode\":\"markers\",\"name\":\"police\",\"scene\":\"scene\",\"showlegend\":true,\"x\":[-0.11896129697561264],\"y\":[0.08492488414049149],\"z\":[0.10328090190887451],\"type\":\"scatter3d\"},{\"hovertemplate\":\"color=5\\u003cbr\\u003e0=%{x}\\u003cbr\\u003e1=%{y}\\u003cbr\\u003e2=%{z}\\u003cextra\\u003e\\u003c\\u002fextra\\u003e\",\"legendgroup\":\"5\",\"marker\":{\"color\":\"#19d3f3\",\"symbol\":\"circle\"},\"mode\":\"markers\",\"name\":\"5\",\"scene\":\"scene\",\"showlegend\":true,\"x\":[-0.27358442544937134],\"y\":[0.2754289209842682],\"z\":[0.10199736803770065],\"type\":\"scatter3d\"},{\"hovertemplate\":\"color=international\\u003cbr\\u003e0=%{x}\\u003cbr\\u003e1=%{y}\\u003cbr\\u003e2=%{z}\\u003cextra\\u003e\\u003c\\u002fextra\\u003e\",\"legendgroup\":\"international\",\"marker\":{\"color\":\"#FF6692\",\"symbol\":\"circle\"},\"mode\":\"markers\",\"name\":\"international\",\"scene\":\"scene\",\"showlegend\":true,\"x\":[-0.18241272866725922],\"y\":[0.20867864787578583],\"z\":[-0.35623177886009216],\"type\":\"scatter3d\"},{\"hovertemplate\":\"color=william\\u003cbr\\u003e0=%{x}\\u003cbr\\u003e1=%{y}\\u003cbr\\u003e2=%{z}\\u003cextra\\u003e\\u003c\\u002fextra\\u003e\",\"legendgroup\":\"william\",\"marker\":{\"color\":\"#B6E880\",\"symbol\":\"circle\"},\"mode\":\"markers\",\"name\":\"william\",\"scene\":\"scene\",\"showlegend\":true,\"x\":[-0.21149885654449463],\"y\":[0.12853829562664032],\"z\":[0.44817960262298584],\"type\":\"scatter3d\"},{\"hovertemplate\":\"color=character\\u003cbr\\u003e0=%{x}\\u003cbr\\u003e1=%{y}\\u003cbr\\u003e2=%{z}\\u003cextra\\u003e\\u003c\\u002fextra\\u003e\",\"legendgroup\":\"character\",\"marker\":{\"color\":\"#FF97FF\",\"symbol\":\"circle\"},\"mode\":\"markers\",\"name\":\"character\",\"scene\":\"scene\",\"showlegend\":true,\"x\":[0.08225982636213303],\"y\":[-0.0473611056804657],\"z\":[-0.36481764912605286],\"type\":\"scatter3d\"},{\"hovertemplate\":\"color=written\\u003cbr\\u003e0=%{x}\\u003cbr\\u003e1=%{y}\\u003cbr\\u003e2=%{z}\\u003cextra\\u003e\\u003c\\u002fextra\\u003e\",\"legendgroup\":\"written\",\"marker\":{\"color\":\"#FECB52\",\"symbol\":\"circle\"},\"mode\":\"markers\",\"name\":\"written\",\"scene\":\"scene\",\"showlegend\":true,\"x\":[0.14760811626911163],\"y\":[0.21139761805534363],\"z\":[-0.14040124416351318],\"type\":\"scatter3d\"},{\"hovertemplate\":\"color=try\\u003cbr\\u003e0=%{x}\\u003cbr\\u003e1=%{y}\\u003cbr\\u003e2=%{z}\\u003cextra\\u003e\\u003c\\u002fextra\\u003e\",\"legendgroup\":\"try\",\"marker\":{\"color\":\"#636efa\",\"symbol\":\"circle\"},\"mode\":\"markers\",\"name\":\"try\",\"scene\":\"scene\",\"showlegend\":true,\"x\":[0.5839695334434509],\"y\":[-0.14353393018245697],\"z\":[-0.03657829761505127],\"type\":\"scatter3d\"},{\"hovertemplate\":\"color=suddenly\\u003cbr\\u003e0=%{x}\\u003cbr\\u003e1=%{y}\\u003cbr\\u003e2=%{z}\\u003cextra\\u003e\\u003c\\u002fextra\\u003e\",\"legendgroup\":\"suddenly\",\"marker\":{\"color\":\"#EF553B\",\"symbol\":\"circle\"},\"mode\":\"markers\",\"name\":\"suddenly\",\"scene\":\"scene\",\"showlegend\":true,\"x\":[-0.018985677510499954],\"y\":[-0.03671477735042572],\"z\":[0.22330589592456818],\"type\":\"scatter3d\"},{\"hovertemplate\":\"color=hear\\u003cbr\\u003e0=%{x}\\u003cbr\\u003e1=%{y}\\u003cbr\\u003e2=%{z}\\u003cextra\\u003e\\u003c\\u002fextra\\u003e\",\"legendgroup\":\"hear\",\"marker\":{\"color\":\"#00cc96\",\"symbol\":\"circle\"},\"mode\":\"markers\",\"name\":\"hear\",\"scene\":\"scene\",\"showlegend\":true,\"x\":[0.46796557307243347],\"y\":[-0.02132338657975197],\"z\":[0.08110149949789047],\"type\":\"scatter3d\"},{\"hovertemplate\":\"color=labor\\u003cbr\\u003e0=%{x}\\u003cbr\\u003e1=%{y}\\u003cbr\\u003e2=%{z}\\u003cextra\\u003e\\u003c\\u002fextra\\u003e\",\"legendgroup\":\"labor\",\"marker\":{\"color\":\"#ab63fa\",\"symbol\":\"circle\"},\"mode\":\"markers\",\"name\":\"labor\",\"scene\":\"scene\",\"showlegend\":true,\"x\":[-0.07416210323572159],\"y\":[0.11602544784545898],\"z\":[-0.3536425232887268],\"type\":\"scatter3d\"},{\"hovertemplate\":\"color=army\\u003cbr\\u003e0=%{x}\\u003cbr\\u003e1=%{y}\\u003cbr\\u003e2=%{z}\\u003cextra\\u003e\\u003c\\u002fextra\\u003e\",\"legendgroup\":\"army\",\"marker\":{\"color\":\"#FFA15A\",\"symbol\":\"circle\"},\"mode\":\"markers\",\"name\":\"army\",\"scene\":\"scene\",\"showlegend\":true,\"x\":[-0.3292551338672638],\"y\":[0.4281262457370758],\"z\":[0.009761790744960308],\"type\":\"scatter3d\"},{\"hovertemplate\":\"color=teacher\\u003cbr\\u003e0=%{x}\\u003cbr\\u003e1=%{y}\\u003cbr\\u003e2=%{z}\\u003cextra\\u003e\\u003c\\u002fextra\\u003e\",\"legendgroup\":\"teacher\",\"marker\":{\"color\":\"#19d3f3\",\"symbol\":\"circle\"},\"mode\":\"markers\",\"name\":\"teacher\",\"scene\":\"scene\",\"showlegend\":true,\"x\":[0.16830497980117798],\"y\":[-0.008419429883360863],\"z\":[-0.34689682722091675],\"type\":\"scatter3d\"},{\"hovertemplate\":\"color=trade\\u003cbr\\u003e0=%{x}\\u003cbr\\u003e1=%{y}\\u003cbr\\u003e2=%{z}\\u003cextra\\u003e\\u003c\\u002fextra\\u003e\",\"legendgroup\":\"trade\",\"marker\":{\"color\":\"#FF6692\",\"symbol\":\"circle\"},\"mode\":\"markers\",\"name\":\"trade\",\"scene\":\"scene\",\"showlegend\":true,\"x\":[-0.20793849229812622],\"y\":[0.16389484703540802],\"z\":[-0.21328820288181305],\"type\":\"scatter3d\"},{\"hovertemplate\":\"color=addition\\u003cbr\\u003e0=%{x}\\u003cbr\\u003e1=%{y}\\u003cbr\\u003e2=%{z}\\u003cextra\\u003e\\u003c\\u002fextra\\u003e\",\"legendgroup\":\"addition\",\"marker\":{\"color\":\"#B6E880\",\"symbol\":\"circle\"},\"mode\":\"markers\",\"name\":\"addition\",\"scene\":\"scene\",\"showlegend\":true,\"x\":[-0.039694368839263916],\"y\":[0.2628997564315796],\"z\":[-0.36997729539871216],\"type\":\"scatter3d\"},{\"hovertemplate\":\"color=considered\\u003cbr\\u003e0=%{x}\\u003cbr\\u003e1=%{y}\\u003cbr\\u003e2=%{z}\\u003cextra\\u003e\\u003c\\u002fextra\\u003e\",\"legendgroup\":\"considered\",\"marker\":{\"color\":\"#FF97FF\",\"symbol\":\"circle\"},\"mode\":\"markers\",\"name\":\"considered\",\"scene\":\"scene\",\"showlegend\":true,\"x\":[0.3433181345462799],\"y\":[-0.14856933057308197],\"z\":[-0.2675169110298157],\"type\":\"scatter3d\"},{\"hovertemplate\":\"color=likely\\u003cbr\\u003e0=%{x}\\u003cbr\\u003e1=%{y}\\u003cbr\\u003e2=%{z}\\u003cextra\\u003e\\u003c\\u002fextra\\u003e\",\"legendgroup\":\"likely\",\"marker\":{\"color\":\"#FECB52\",\"symbol\":\"circle\"},\"mode\":\"markers\",\"name\":\"likely\",\"scene\":\"scene\",\"showlegend\":true,\"x\":[0.6400585174560547],\"y\":[-0.049025505781173706],\"z\":[-0.33650651574134827],\"type\":\"scatter3d\"},{\"hovertemplate\":\"color=writer\\u003cbr\\u003e0=%{x}\\u003cbr\\u003e1=%{y}\\u003cbr\\u003e2=%{z}\\u003cextra\\u003e\\u003c\\u002fextra\\u003e\",\"legendgroup\":\"writer\",\"marker\":{\"color\":\"#636efa\",\"symbol\":\"circle\"},\"mode\":\"markers\",\"name\":\"writer\",\"scene\":\"scene\",\"showlegend\":true,\"x\":[0.4371219277381897],\"y\":[-0.10639870911836624],\"z\":[-0.17596791684627533],\"type\":\"scatter3d\"},{\"hovertemplate\":\"color=size\\u003cbr\\u003e0=%{x}\\u003cbr\\u003e1=%{y}\\u003cbr\\u003e2=%{z}\\u003cextra\\u003e\\u003c\\u002fextra\\u003e\",\"legendgroup\":\"size\",\"marker\":{\"color\":\"#EF553B\",\"symbol\":\"circle\"},\"mode\":\"markers\",\"name\":\"size\",\"scene\":\"scene\",\"showlegend\":true,\"x\":[-0.1669430285692215],\"y\":[0.3167122006416321],\"z\":[-0.3576994836330414],\"type\":\"scatter3d\"},{\"hovertemplate\":\"color=sat\\u003cbr\\u003e0=%{x}\\u003cbr\\u003e1=%{y}\\u003cbr\\u003e2=%{z}\\u003cextra\\u003e\\u003c\\u002fextra\\u003e\",\"legendgroup\":\"sat\",\"marker\":{\"color\":\"#00cc96\",\"symbol\":\"circle\"},\"mode\":\"markers\",\"name\":\"sat\",\"scene\":\"scene\",\"showlegend\":true,\"x\":[-0.1605135053396225],\"y\":[0.2280103862285614],\"z\":[0.3691307604312897],\"type\":\"scatter3d\"},{\"hovertemplate\":\"color=theory\\u003cbr\\u003e0=%{x}\\u003cbr\\u003e1=%{y}\\u003cbr\\u003e2=%{z}\\u003cextra\\u003e\\u003c\\u002fextra\\u003e\",\"legendgroup\":\"theory\",\"marker\":{\"color\":\"#ab63fa\",\"symbol\":\"circle\"},\"mode\":\"markers\",\"name\":\"theory\",\"scene\":\"scene\",\"showlegend\":true,\"x\":[0.18626753985881805],\"y\":[-0.019504766911268234],\"z\":[-0.45246490836143494],\"type\":\"scatter3d\"},{\"hovertemplate\":\"color=happened\\u003cbr\\u003e0=%{x}\\u003cbr\\u003e1=%{y}\\u003cbr\\u003e2=%{z}\\u003cextra\\u003e\\u003c\\u002fextra\\u003e\",\"legendgroup\":\"happened\",\"marker\":{\"color\":\"#FFA15A\",\"symbol\":\"circle\"},\"mode\":\"markers\",\"name\":\"happened\",\"scene\":\"scene\",\"showlegend\":true,\"x\":[0.651157557964325],\"y\":[-0.059730492532253265],\"z\":[0.005042769014835358],\"type\":\"scatter3d\"},{\"hovertemplate\":\"color=entire\\u003cbr\\u003e0=%{x}\\u003cbr\\u003e1=%{y}\\u003cbr\\u003e2=%{z}\\u003cextra\\u003e\\u003c\\u002fextra\\u003e\",\"legendgroup\":\"entire\",\"marker\":{\"color\":\"#19d3f3\",\"symbol\":\"circle\"},\"mode\":\"markers\",\"name\":\"entire\",\"scene\":\"scene\",\"showlegend\":true,\"x\":[-0.22466173768043518],\"y\":[0.16578702628612518],\"z\":[-0.23423205316066742],\"type\":\"scatter3d\"},{\"hovertemplate\":\"color=evening\\u003cbr\\u003e0=%{x}\\u003cbr\\u003e1=%{y}\\u003cbr\\u003e2=%{z}\\u003cextra\\u003e\\u003c\\u002fextra\\u003e\",\"legendgroup\":\"evening\",\"marker\":{\"color\":\"#FF6692\",\"symbol\":\"circle\"},\"mode\":\"markers\",\"name\":\"evening\",\"scene\":\"scene\",\"showlegend\":true,\"x\":[-0.06247390806674957],\"y\":[0.23729951679706573],\"z\":[0.06081824749708176],\"type\":\"scatter3d\"},{\"hovertemplate\":\"color=language\\u003cbr\\u003e0=%{x}\\u003cbr\\u003e1=%{y}\\u003cbr\\u003e2=%{z}\\u003cextra\\u003e\\u003c\\u002fextra\\u003e\",\"legendgroup\":\"language\",\"marker\":{\"color\":\"#B6E880\",\"symbol\":\"circle\"},\"mode\":\"markers\",\"name\":\"language\",\"scene\":\"scene\",\"showlegend\":true,\"x\":[0.16363215446472168],\"y\":[-0.07140396535396576],\"z\":[-0.46934595704078674],\"type\":\"scatter3d\"},{\"hovertemplate\":\"color=supply\\u003cbr\\u003e0=%{x}\\u003cbr\\u003e1=%{y}\\u003cbr\\u003e2=%{z}\\u003cextra\\u003e\\u003c\\u002fextra\\u003e\",\"legendgroup\":\"supply\",\"marker\":{\"color\":\"#FF97FF\",\"symbol\":\"circle\"},\"mode\":\"markers\",\"name\":\"supply\",\"scene\":\"scene\",\"showlegend\":true,\"x\":[-0.17676301300525665],\"y\":[0.1117725595831871],\"z\":[-0.23199202120304108],\"type\":\"scatter3d\"},{\"hovertemplate\":\"color=doctor\\u003cbr\\u003e0=%{x}\\u003cbr\\u003e1=%{y}\\u003cbr\\u003e2=%{z}\\u003cextra\\u003e\\u003c\\u002fextra\\u003e\",\"legendgroup\":\"doctor\",\"marker\":{\"color\":\"#FECB52\",\"symbol\":\"circle\"},\"mode\":\"markers\",\"name\":\"doctor\",\"scene\":\"scene\",\"showlegend\":true,\"x\":[0.12752462923526764],\"y\":[0.16551384329795837],\"z\":[-0.028906729072332382],\"type\":\"scatter3d\"},{\"hovertemplate\":\"color=moral\\u003cbr\\u003e0=%{x}\\u003cbr\\u003e1=%{y}\\u003cbr\\u003e2=%{z}\\u003cextra\\u003e\\u003c\\u002fextra\\u003e\",\"legendgroup\":\"moral\",\"marker\":{\"color\":\"#636efa\",\"symbol\":\"circle\"},\"mode\":\"markers\",\"name\":\"moral\",\"scene\":\"scene\",\"showlegend\":true,\"x\":[0.3058612048625946],\"y\":[-0.20043477416038513],\"z\":[-0.46262726187705994],\"type\":\"scatter3d\"},{\"hovertemplate\":\"color=meaning\\u003cbr\\u003e0=%{x}\\u003cbr\\u003e1=%{y}\\u003cbr\\u003e2=%{z}\\u003cextra\\u003e\\u003c\\u002fextra\\u003e\",\"legendgroup\":\"meaning\",\"marker\":{\"color\":\"#EF553B\",\"symbol\":\"circle\"},\"mode\":\"markers\",\"name\":\"meaning\",\"scene\":\"scene\",\"showlegend\":true,\"x\":[0.331510454416275],\"y\":[-0.06024670973420143],\"z\":[-0.4548259377479553],\"type\":\"scatter3d\"},{\"hovertemplate\":\"color=spring\\u003cbr\\u003e0=%{x}\\u003cbr\\u003e1=%{y}\\u003cbr\\u003e2=%{z}\\u003cextra\\u003e\\u003c\\u002fextra\\u003e\",\"legendgroup\":\"spring\",\"marker\":{\"color\":\"#00cc96\",\"symbol\":\"circle\"},\"mode\":\"markers\",\"name\":\"spring\",\"scene\":\"scene\",\"showlegend\":true,\"x\":[-0.19301167130470276],\"y\":[0.4013942778110504],\"z\":[0.008614973165094852],\"type\":\"scatter3d\"},{\"hovertemplate\":\"color=degree\\u003cbr\\u003e0=%{x}\\u003cbr\\u003e1=%{y}\\u003cbr\\u003e2=%{z}\\u003cextra\\u003e\\u003c\\u002fextra\\u003e\",\"legendgroup\":\"degree\",\"marker\":{\"color\":\"#ab63fa\",\"symbol\":\"circle\"},\"mode\":\"markers\",\"name\":\"degree\",\"scene\":\"scene\",\"showlegend\":true,\"x\":[0.013584814965724945],\"y\":[0.13213850557804108],\"z\":[-0.4834529757499695],\"type\":\"scatter3d\"},{\"hovertemplate\":\"color=approach\\u003cbr\\u003e0=%{x}\\u003cbr\\u003e1=%{y}\\u003cbr\\u003e2=%{z}\\u003cextra\\u003e\\u003c\\u002fextra\\u003e\",\"legendgroup\":\"approach\",\"marker\":{\"color\":\"#FFA15A\",\"symbol\":\"circle\"},\"mode\":\"markers\",\"name\":\"approach\",\"scene\":\"scene\",\"showlegend\":true,\"x\":[0.1356111466884613],\"y\":[0.037775564938783646],\"z\":[-0.4203624725341797],\"type\":\"scatter3d\"},{\"hovertemplate\":\"color=%\\u003cbr\\u003e0=%{x}\\u003cbr\\u003e1=%{y}\\u003cbr\\u003e2=%{z}\\u003cextra\\u003e\\u003c\\u002fextra\\u003e\",\"legendgroup\":\"%\",\"marker\":{\"color\":\"#19d3f3\",\"symbol\":\"circle\"},\"mode\":\"markers\",\"name\":\"%\",\"scene\":\"scene\",\"showlegend\":true,\"x\":[-0.23950475454330444],\"y\":[0.3396153748035431],\"z\":[0.009926309809088707],\"type\":\"scatter3d\"},{\"hovertemplate\":\"color=hotel\\u003cbr\\u003e0=%{x}\\u003cbr\\u003e1=%{y}\\u003cbr\\u003e2=%{z}\\u003cextra\\u003e\\u003c\\u002fextra\\u003e\",\"legendgroup\":\"hotel\",\"marker\":{\"color\":\"#FF6692\",\"symbol\":\"circle\"},\"mode\":\"markers\",\"name\":\"hotel\",\"scene\":\"scene\",\"showlegend\":true,\"x\":[-0.16726069152355194],\"y\":[0.19924747943878174],\"z\":[0.26383259892463684],\"type\":\"scatter3d\"},{\"hovertemplate\":\"color=involved\\u003cbr\\u003e0=%{x}\\u003cbr\\u003e1=%{y}\\u003cbr\\u003e2=%{z}\\u003cextra\\u003e\\u003c\\u002fextra\\u003e\",\"legendgroup\":\"involved\",\"marker\":{\"color\":\"#B6E880\",\"symbol\":\"circle\"},\"mode\":\"markers\",\"name\":\"involved\",\"scene\":\"scene\",\"showlegend\":true,\"x\":[0.30935585498809814],\"y\":[-0.00188287696801126],\"z\":[-0.5537866950035095],\"type\":\"scatter3d\"},{\"hovertemplate\":\"color=practice\\u003cbr\\u003e0=%{x}\\u003cbr\\u003e1=%{y}\\u003cbr\\u003e2=%{z}\\u003cextra\\u003e\\u003c\\u002fextra\\u003e\",\"legendgroup\":\"practice\",\"marker\":{\"color\":\"#FF97FF\",\"symbol\":\"circle\"},\"mode\":\"markers\",\"name\":\"practice\",\"scene\":\"scene\",\"showlegend\":true,\"x\":[0.025217926129698753],\"y\":[-0.004754180554300547],\"z\":[-0.4695699214935303],\"type\":\"scatter3d\"},{\"hovertemplate\":\"color=dog\\u003cbr\\u003e0=%{x}\\u003cbr\\u003e1=%{y}\\u003cbr\\u003e2=%{z}\\u003cextra\\u003e\\u003c\\u002fextra\\u003e\",\"legendgroup\":\"dog\",\"marker\":{\"color\":\"#FECB52\",\"symbol\":\"circle\"},\"mode\":\"markers\",\"name\":\"dog\",\"scene\":\"scene\",\"showlegend\":true,\"x\":[0.027166184037923813],\"y\":[0.11331390589475632],\"z\":[-0.04800213873386383],\"type\":\"scatter3d\"},{\"hovertemplate\":\"color=respect\\u003cbr\\u003e0=%{x}\\u003cbr\\u003e1=%{y}\\u003cbr\\u003e2=%{z}\\u003cextra\\u003e\\u003c\\u002fextra\\u003e\",\"legendgroup\":\"respect\",\"marker\":{\"color\":\"#636efa\",\"symbol\":\"circle\"},\"mode\":\"markers\",\"name\":\"respect\",\"scene\":\"scene\",\"showlegend\":true,\"x\":[0.10146556794643402],\"y\":[0.09708986431360245],\"z\":[-0.4613637328147888],\"type\":\"scatter3d\"},{\"hovertemplate\":\"color=whom\\u003cbr\\u003e0=%{x}\\u003cbr\\u003e1=%{y}\\u003cbr\\u003e2=%{z}\\u003cextra\\u003e\\u003c\\u002fextra\\u003e\",\"legendgroup\":\"whom\",\"marker\":{\"color\":\"#EF553B\",\"symbol\":\"circle\"},\"mode\":\"markers\",\"name\":\"whom\",\"scene\":\"scene\",\"showlegend\":true,\"x\":[0.43934547901153564],\"y\":[0.02352496236562729],\"z\":[0.06501875072717667],\"type\":\"scatter3d\"},{\"hovertemplate\":\"color=particularly\\u003cbr\\u003e0=%{x}\\u003cbr\\u003e1=%{y}\\u003cbr\\u003e2=%{z}\\u003cextra\\u003e\\u003c\\u002fextra\\u003e\",\"legendgroup\":\"particularly\",\"marker\":{\"color\":\"#00cc96\",\"symbol\":\"circle\"},\"mode\":\"markers\",\"name\":\"particularly\",\"scene\":\"scene\",\"showlegend\":true,\"x\":[0.07130469381809235],\"y\":[-0.006310504861176014],\"z\":[-0.4212995767593384],\"type\":\"scatter3d\"},{\"hovertemplate\":\"color=cell\\u003cbr\\u003e0=%{x}\\u003cbr\\u003e1=%{y}\\u003cbr\\u003e2=%{z}\\u003cextra\\u003e\\u003c\\u002fextra\\u003e\",\"legendgroup\":\"cell\",\"marker\":{\"color\":\"#ab63fa\",\"symbol\":\"circle\"},\"mode\":\"markers\",\"name\":\"cell\",\"scene\":\"scene\",\"showlegend\":true,\"x\":[-0.22357414662837982],\"y\":[0.24489332735538483],\"z\":[-0.25803831219673157],\"type\":\"scatter3d\"},{\"hovertemplate\":\"color=increased\\u003cbr\\u003e0=%{x}\\u003cbr\\u003e1=%{y}\\u003cbr\\u003e2=%{z}\\u003cextra\\u003e\\u003c\\u002fextra\\u003e\",\"legendgroup\":\"increased\",\"marker\":{\"color\":\"#FFA15A\",\"symbol\":\"circle\"},\"mode\":\"markers\",\"name\":\"increased\",\"scene\":\"scene\",\"showlegend\":true,\"x\":[-0.22940602898597717],\"y\":[0.2510596811771393],\"z\":[-0.273261159658432],\"type\":\"scatter3d\"},{\"hovertemplate\":\"color=influence\\u003cbr\\u003e0=%{x}\\u003cbr\\u003e1=%{y}\\u003cbr\\u003e2=%{z}\\u003cextra\\u003e\\u003c\\u002fextra\\u003e\",\"legendgroup\":\"influence\",\"marker\":{\"color\":\"#19d3f3\",\"symbol\":\"circle\"},\"mode\":\"markers\",\"name\":\"influence\",\"scene\":\"scene\",\"showlegend\":true,\"x\":[0.07888969779014587],\"y\":[0.054475683718919754],\"z\":[-0.4821714162826538],\"type\":\"scatter3d\"},{\"hovertemplate\":\"color=anyone\\u003cbr\\u003e0=%{x}\\u003cbr\\u003e1=%{y}\\u003cbr\\u003e2=%{z}\\u003cextra\\u003e\\u003c\\u002fextra\\u003e\",\"legendgroup\":\"anyone\",\"marker\":{\"color\":\"#FF6692\",\"symbol\":\"circle\"},\"mode\":\"markers\",\"name\":\"anyone\",\"scene\":\"scene\",\"showlegend\":true,\"x\":[0.7474556565284729],\"y\":[-0.14215417206287384],\"z\":[-0.05400843545794487],\"type\":\"scatter3d\"},{\"hovertemplate\":\"color=earlier\\u003cbr\\u003e0=%{x}\\u003cbr\\u003e1=%{y}\\u003cbr\\u003e2=%{z}\\u003cextra\\u003e\\u003c\\u002fextra\\u003e\",\"legendgroup\":\"earlier\",\"marker\":{\"color\":\"#B6E880\",\"symbol\":\"circle\"},\"mode\":\"markers\",\"name\":\"earlier\",\"scene\":\"scene\",\"showlegend\":true,\"x\":[-0.021284053102135658],\"y\":[0.137222558259964],\"z\":[-0.18764781951904297],\"type\":\"scatter3d\"},{\"hovertemplate\":\"color=lay\\u003cbr\\u003e0=%{x}\\u003cbr\\u003e1=%{y}\\u003cbr\\u003e2=%{z}\\u003cextra\\u003e\\u003c\\u002fextra\\u003e\",\"legendgroup\":\"lay\",\"marker\":{\"color\":\"#FF97FF\",\"symbol\":\"circle\"},\"mode\":\"markers\",\"name\":\"lay\",\"scene\":\"scene\",\"showlegend\":true,\"x\":[-0.14938655495643616],\"y\":[0.02464938908815384],\"z\":[0.1073247641324997],\"type\":\"scatter3d\"},{\"hovertemplate\":\"color=thinking\\u003cbr\\u003e0=%{x}\\u003cbr\\u003e1=%{y}\\u003cbr\\u003e2=%{z}\\u003cextra\\u003e\\u003c\\u002fextra\\u003e\",\"legendgroup\":\"thinking\",\"marker\":{\"color\":\"#FECB52\",\"symbol\":\"circle\"},\"mode\":\"markers\",\"name\":\"thinking\",\"scene\":\"scene\",\"showlegend\":true,\"x\":[0.4350420832633972],\"y\":[-0.11748556047677994],\"z\":[-0.1466677337884903],\"type\":\"scatter3d\"},{\"hovertemplate\":\"color=sent\\u003cbr\\u003e0=%{x}\\u003cbr\\u003e1=%{y}\\u003cbr\\u003e2=%{z}\\u003cextra\\u003e\\u003c\\u002fextra\\u003e\",\"legendgroup\":\"sent\",\"marker\":{\"color\":\"#636efa\",\"symbol\":\"circle\"},\"mode\":\"markers\",\"name\":\"sent\",\"scene\":\"scene\",\"showlegend\":true,\"x\":[-0.16694068908691406],\"y\":[0.19738022983074188],\"z\":[0.2860717177391052],\"type\":\"scatter3d\"},{\"hovertemplate\":\"color=below\\u003cbr\\u003e0=%{x}\\u003cbr\\u003e1=%{y}\\u003cbr\\u003e2=%{z}\\u003cextra\\u003e\\u003c\\u002fextra\\u003e\",\"legendgroup\":\"below\",\"marker\":{\"color\":\"#EF553B\",\"symbol\":\"circle\"},\"mode\":\"markers\",\"name\":\"below\",\"scene\":\"scene\",\"showlegend\":true,\"x\":[-0.30196452140808105],\"y\":[0.18012672662734985],\"z\":[0.034474730491638184],\"type\":\"scatter3d\"},{\"hovertemplate\":\"color=knowledge\\u003cbr\\u003e0=%{x}\\u003cbr\\u003e1=%{y}\\u003cbr\\u003e2=%{z}\\u003cextra\\u003e\\u003c\\u002fextra\\u003e\",\"legendgroup\":\"knowledge\",\"marker\":{\"color\":\"#00cc96\",\"symbol\":\"circle\"},\"mode\":\"markers\",\"name\":\"knowledge\",\"scene\":\"scene\",\"showlegend\":true,\"x\":[0.3616600036621094],\"y\":[-0.029740000143647194],\"z\":[-0.48227864503860474],\"type\":\"scatter3d\"},{\"hovertemplate\":\"color=using\\u003cbr\\u003e0=%{x}\\u003cbr\\u003e1=%{y}\\u003cbr\\u003e2=%{z}\\u003cextra\\u003e\\u003c\\u002fextra\\u003e\",\"legendgroup\":\"using\",\"marker\":{\"color\":\"#ab63fa\",\"symbol\":\"circle\"},\"mode\":\"markers\",\"name\":\"using\",\"scene\":\"scene\",\"showlegend\":true,\"x\":[-0.17297659814357758],\"y\":[-0.02896815724670887],\"z\":[-0.15228112041950226],\"type\":\"scatter3d\"},{\"hovertemplate\":\"color=paid\\u003cbr\\u003e0=%{x}\\u003cbr\\u003e1=%{y}\\u003cbr\\u003e2=%{z}\\u003cextra\\u003e\\u003c\\u002fextra\\u003e\",\"legendgroup\":\"paid\",\"marker\":{\"color\":\"#FFA15A\",\"symbol\":\"circle\"},\"mode\":\"markers\",\"name\":\"paid\",\"scene\":\"scene\",\"showlegend\":true,\"x\":[0.0035871376749128103],\"y\":[0.0957072377204895],\"z\":[-0.24073222279548645],\"type\":\"scatter3d\"},{\"hovertemplate\":\"color=thousand\\u003cbr\\u003e0=%{x}\\u003cbr\\u003e1=%{y}\\u003cbr\\u003e2=%{z}\\u003cextra\\u003e\\u003c\\u002fextra\\u003e\",\"legendgroup\":\"thousand\",\"marker\":{\"color\":\"#19d3f3\",\"symbol\":\"circle\"},\"mode\":\"markers\",\"name\":\"thousand\",\"scene\":\"scene\",\"showlegend\":true,\"x\":[-0.15799592435359955],\"y\":[0.3094384968280792],\"z\":[-0.04401102289557457],\"type\":\"scatter3d\"},{\"hovertemplate\":\"color=poet\\u003cbr\\u003e0=%{x}\\u003cbr\\u003e1=%{y}\\u003cbr\\u003e2=%{z}\\u003cextra\\u003e\\u003c\\u002fextra\\u003e\",\"legendgroup\":\"poet\",\"marker\":{\"color\":\"#FF6692\",\"symbol\":\"circle\"},\"mode\":\"markers\",\"name\":\"poet\",\"scene\":\"scene\",\"showlegend\":true,\"x\":[0.1619233936071396],\"y\":[-0.04522237554192543],\"z\":[-0.10693499445915222],\"type\":\"scatter3d\"},{\"hovertemplate\":\"color=yes\\u003cbr\\u003e0=%{x}\\u003cbr\\u003e1=%{y}\\u003cbr\\u003e2=%{z}\\u003cextra\\u003e\\u003c\\u002fextra\\u003e\",\"legendgroup\":\"yes\",\"marker\":{\"color\":\"#B6E880\",\"symbol\":\"circle\"},\"mode\":\"markers\",\"name\":\"yes\",\"scene\":\"scene\",\"showlegend\":true,\"x\":[0.48433077335357666],\"y\":[-0.142386332154274],\"z\":[0.025794237852096558],\"type\":\"scatter3d\"},{\"hovertemplate\":\"color=population\\u003cbr\\u003e0=%{x}\\u003cbr\\u003e1=%{y}\\u003cbr\\u003e2=%{z}\\u003cextra\\u003e\\u003c\\u002fextra\\u003e\",\"legendgroup\":\"population\",\"marker\":{\"color\":\"#FF97FF\",\"symbol\":\"circle\"},\"mode\":\"markers\",\"name\":\"population\",\"scene\":\"scene\",\"showlegend\":true,\"x\":[-0.13919302821159363],\"y\":[0.30795732140541077],\"z\":[-0.41856658458709717],\"type\":\"scatter3d\"},{\"hovertemplate\":\"color=share\\u003cbr\\u003e0=%{x}\\u003cbr\\u003e1=%{y}\\u003cbr\\u003e2=%{z}\\u003cextra\\u003e\\u003c\\u002fextra\\u003e\",\"legendgroup\":\"share\",\"marker\":{\"color\":\"#FECB52\",\"symbol\":\"circle\"},\"mode\":\"markers\",\"name\":\"share\",\"scene\":\"scene\",\"showlegend\":true,\"x\":[-0.058624446392059326],\"y\":[0.27060118317604065],\"z\":[-0.38189446926116943],\"type\":\"scatter3d\"},{\"hovertemplate\":\"color=dollar\\u003cbr\\u003e0=%{x}\\u003cbr\\u003e1=%{y}\\u003cbr\\u003e2=%{z}\\u003cextra\\u003e\\u003c\\u002fextra\\u003e\",\"legendgroup\":\"dollar\",\"marker\":{\"color\":\"#636efa\",\"symbol\":\"circle\"},\"mode\":\"markers\",\"name\":\"dollar\",\"scene\":\"scene\",\"showlegend\":true,\"x\":[-0.04076605290174484],\"y\":[0.3162304162979126],\"z\":[-0.08089107275009155],\"type\":\"scatter3d\"},{\"hovertemplate\":\"color=industrial\\u003cbr\\u003e0=%{x}\\u003cbr\\u003e1=%{y}\\u003cbr\\u003e2=%{z}\\u003cextra\\u003e\\u003c\\u002fextra\\u003e\",\"legendgroup\":\"industrial\",\"marker\":{\"color\":\"#EF553B\",\"symbol\":\"circle\"},\"mode\":\"markers\",\"name\":\"industrial\",\"scene\":\"scene\",\"showlegend\":true,\"x\":[-0.275371253490448],\"y\":[0.19000209867954254],\"z\":[-0.25040969252586365],\"type\":\"scatter3d\"},{\"hovertemplate\":\"color=patient\\u003cbr\\u003e0=%{x}\\u003cbr\\u003e1=%{y}\\u003cbr\\u003e2=%{z}\\u003cextra\\u003e\\u003c\\u002fextra\\u003e\",\"legendgroup\":\"patient\",\"marker\":{\"color\":\"#00cc96\",\"symbol\":\"circle\"},\"mode\":\"markers\",\"name\":\"patient\",\"scene\":\"scene\",\"showlegend\":true,\"x\":[0.15711592137813568],\"y\":[0.07350730150938034],\"z\":[-0.09601959586143494],\"type\":\"scatter3d\"},{\"hovertemplate\":\"color=ready\\u003cbr\\u003e0=%{x}\\u003cbr\\u003e1=%{y}\\u003cbr\\u003e2=%{z}\\u003cextra\\u003e\\u003c\\u002fextra\\u003e\",\"legendgroup\":\"ready\",\"marker\":{\"color\":\"#ab63fa\",\"symbol\":\"circle\"},\"mode\":\"markers\",\"name\":\"ready\",\"scene\":\"scene\",\"showlegend\":true,\"x\":[0.19564245641231537],\"y\":[0.0683402493596077],\"z\":[-0.04150804132223129],\"type\":\"scatter3d\"},{\"hovertemplate\":\"color=bad\\u003cbr\\u003e0=%{x}\\u003cbr\\u003e1=%{y}\\u003cbr\\u003e2=%{z}\\u003cextra\\u003e\\u003c\\u002fextra\\u003e\",\"legendgroup\":\"bad\",\"marker\":{\"color\":\"#FFA15A\",\"symbol\":\"circle\"},\"mode\":\"markers\",\"name\":\"bad\",\"scene\":\"scene\",\"showlegend\":true,\"x\":[0.43352368474006653],\"y\":[-0.18982014060020447],\"z\":[-0.16919995844364166],\"type\":\"scatter3d\"},{\"hovertemplate\":\"color=certainly\\u003cbr\\u003e0=%{x}\\u003cbr\\u003e1=%{y}\\u003cbr\\u003e2=%{z}\\u003cextra\\u003e\\u003c\\u002fextra\\u003e\",\"legendgroup\":\"certainly\",\"marker\":{\"color\":\"#19d3f3\",\"symbol\":\"circle\"},\"mode\":\"markers\",\"name\":\"certainly\",\"scene\":\"scene\",\"showlegend\":true,\"x\":[0.5998431444168091],\"y\":[-0.13855832815170288],\"z\":[-0.32868653535842896],\"type\":\"scatter3d\"},{\"hovertemplate\":\"color=responsibility\\u003cbr\\u003e0=%{x}\\u003cbr\\u003e1=%{y}\\u003cbr\\u003e2=%{z}\\u003cextra\\u003e\\u003c\\u002fextra\\u003e\",\"legendgroup\":\"responsibility\",\"marker\":{\"color\":\"#FF6692\",\"symbol\":\"circle\"},\"mode\":\"markers\",\"name\":\"responsibility\",\"scene\":\"scene\",\"showlegend\":true,\"x\":[0.003053860506042838],\"y\":[0.15970313549041748],\"z\":[-0.447723388671875],\"type\":\"scatter3d\"},{\"hovertemplate\":\"color=soviet\\u003cbr\\u003e0=%{x}\\u003cbr\\u003e1=%{y}\\u003cbr\\u003e2=%{z}\\u003cextra\\u003e\\u003c\\u002fextra\\u003e\",\"legendgroup\":\"soviet\",\"marker\":{\"color\":\"#B6E880\",\"symbol\":\"circle\"},\"mode\":\"markers\",\"name\":\"soviet\",\"scene\":\"scene\",\"showlegend\":true,\"x\":[0.03497270867228508],\"y\":[0.03586949408054352],\"z\":[-0.398282915353775],\"type\":\"scatter3d\"},{\"hovertemplate\":\"color=shot\\u003cbr\\u003e0=%{x}\\u003cbr\\u003e1=%{y}\\u003cbr\\u003e2=%{z}\\u003cextra\\u003e\\u003c\\u002fextra\\u003e\",\"legendgroup\":\"shot\",\"marker\":{\"color\":\"#FF97FF\",\"symbol\":\"circle\"},\"mode\":\"markers\",\"name\":\"shot\",\"scene\":\"scene\",\"showlegend\":true,\"x\":[-0.08684244006872177],\"y\":[0.34796208143234253],\"z\":[0.0843776986002922],\"type\":\"scatter3d\"},{\"hovertemplate\":\"color=design\\u003cbr\\u003e0=%{x}\\u003cbr\\u003e1=%{y}\\u003cbr\\u003e2=%{z}\\u003cextra\\u003e\\u003c\\u002fextra\\u003e\",\"legendgroup\":\"design\",\"marker\":{\"color\":\"#FECB52\",\"symbol\":\"circle\"},\"mode\":\"markers\",\"name\":\"design\",\"scene\":\"scene\",\"showlegend\":true,\"x\":[0.002538135740906],\"y\":[0.041143741458654404],\"z\":[-0.4587612748146057],\"type\":\"scatter3d\"},{\"hovertemplate\":\"color=due\\u003cbr\\u003e0=%{x}\\u003cbr\\u003e1=%{y}\\u003cbr\\u003e2=%{z}\\u003cextra\\u003e\\u003c\\u002fextra\\u003e\",\"legendgroup\":\"due\",\"marker\":{\"color\":\"#636efa\",\"symbol\":\"circle\"},\"mode\":\"markers\",\"name\":\"due\",\"scene\":\"scene\",\"showlegend\":true,\"x\":[0.12904174625873566],\"y\":[-0.03307107836008072],\"z\":[-0.30174437165260315],\"type\":\"scatter3d\"},{\"hovertemplate\":\"color=nearly\\u003cbr\\u003e0=%{x}\\u003cbr\\u003e1=%{y}\\u003cbr\\u003e2=%{z}\\u003cextra\\u003e\\u003c\\u002fextra\\u003e\",\"legendgroup\":\"nearly\",\"marker\":{\"color\":\"#EF553B\",\"symbol\":\"circle\"},\"mode\":\"markers\",\"name\":\"nearly\",\"scene\":\"scene\",\"showlegend\":true,\"x\":[-0.21837188303470612],\"y\":[0.05099083483219147],\"z\":[0.006874412763863802],\"type\":\"scatter3d\"},{\"hovertemplate\":\"color=showed\\u003cbr\\u003e0=%{x}\\u003cbr\\u003e1=%{y}\\u003cbr\\u003e2=%{z}\\u003cextra\\u003e\\u003c\\u002fextra\\u003e\",\"legendgroup\":\"showed\",\"marker\":{\"color\":\"#00cc96\",\"symbol\":\"circle\"},\"mode\":\"markers\",\"name\":\"showed\",\"scene\":\"scene\",\"showlegend\":true,\"x\":[-0.1444375216960907],\"y\":[-0.1375126987695694],\"z\":[0.09285051375627518],\"type\":\"scatter3d\"},{\"hovertemplate\":\"color=throughout\\u003cbr\\u003e0=%{x}\\u003cbr\\u003e1=%{y}\\u003cbr\\u003e2=%{z}\\u003cextra\\u003e\\u003c\\u002fextra\\u003e\",\"legendgroup\":\"throughout\",\"marker\":{\"color\":\"#ab63fa\",\"symbol\":\"circle\"},\"mode\":\"markers\",\"name\":\"throughout\",\"scene\":\"scene\",\"showlegend\":true,\"x\":[-0.15589779615402222],\"y\":[-0.0031683878041803837],\"z\":[-0.18251052498817444],\"type\":\"scatter3d\"},{\"hovertemplate\":\"color=concern\\u003cbr\\u003e0=%{x}\\u003cbr\\u003e1=%{y}\\u003cbr\\u003e2=%{z}\\u003cextra\\u003e\\u003c\\u002fextra\\u003e\",\"legendgroup\":\"concern\",\"marker\":{\"color\":\"#FFA15A\",\"symbol\":\"circle\"},\"mode\":\"markers\",\"name\":\"concern\",\"scene\":\"scene\",\"showlegend\":true,\"x\":[0.0680730938911438],\"y\":[0.021648254245519638],\"z\":[-0.43752217292785645],\"type\":\"scatter3d\"},{\"hovertemplate\":\"color=directly\\u003cbr\\u003e0=%{x}\\u003cbr\\u003e1=%{y}\\u003cbr\\u003e2=%{z}\\u003cextra\\u003e\\u003c\\u002fextra\\u003e\",\"legendgroup\":\"directly\",\"marker\":{\"color\":\"#19d3f3\",\"symbol\":\"circle\"},\"mode\":\"markers\",\"name\":\"directly\",\"scene\":\"scene\",\"showlegend\":true,\"x\":[-0.14901229739189148],\"y\":[0.0035042562521994114],\"z\":[-0.2218901664018631],\"type\":\"scatter3d\"},{\"hovertemplate\":\"color=neither\\u003cbr\\u003e0=%{x}\\u003cbr\\u003e1=%{y}\\u003cbr\\u003e2=%{z}\\u003cextra\\u003e\\u003c\\u002fextra\\u003e\",\"legendgroup\":\"neither\",\"marker\":{\"color\":\"#FF6692\",\"symbol\":\"circle\"},\"mode\":\"markers\",\"name\":\"neither\",\"scene\":\"scene\",\"showlegend\":true,\"x\":[0.6455302238464355],\"y\":[-0.3404539227485657],\"z\":[-0.08209095895290375],\"type\":\"scatter3d\"},{\"hovertemplate\":\"color=strength\\u003cbr\\u003e0=%{x}\\u003cbr\\u003e1=%{y}\\u003cbr\\u003e2=%{z}\\u003cextra\\u003e\\u003c\\u002fextra\\u003e\",\"legendgroup\":\"strength\",\"marker\":{\"color\":\"#B6E880\",\"symbol\":\"circle\"},\"mode\":\"markers\",\"name\":\"strength\",\"scene\":\"scene\",\"showlegend\":true,\"x\":[-0.07891614735126495],\"y\":[0.061230387538671494],\"z\":[-0.3361928164958954],\"type\":\"scatter3d\"},{\"hovertemplate\":\"color=decided\\u003cbr\\u003e0=%{x}\\u003cbr\\u003e1=%{y}\\u003cbr\\u003e2=%{z}\\u003cextra\\u003e\\u003c\\u002fextra\\u003e\",\"legendgroup\":\"decided\",\"marker\":{\"color\":\"#FF97FF\",\"symbol\":\"circle\"},\"mode\":\"markers\",\"name\":\"decided\",\"scene\":\"scene\",\"showlegend\":true,\"x\":[0.36113259196281433],\"y\":[-0.13789764046669006],\"z\":[0.12204323709011078],\"type\":\"scatter3d\"},{\"hovertemplate\":\"color=opinion\\u003cbr\\u003e0=%{x}\\u003cbr\\u003e1=%{y}\\u003cbr\\u003e2=%{z}\\u003cextra\\u003e\\u003c\\u002fextra\\u003e\",\"legendgroup\":\"opinion\",\"marker\":{\"color\":\"#FECB52\",\"symbol\":\"circle\"},\"mode\":\"markers\",\"name\":\"opinion\",\"scene\":\"scene\",\"showlegend\":true,\"x\":[0.3629762828350067],\"y\":[-0.01266726665198803],\"z\":[-0.4385239779949188],\"type\":\"scatter3d\"},{\"hovertemplate\":\"color=according\\u003cbr\\u003e0=%{x}\\u003cbr\\u003e1=%{y}\\u003cbr\\u003e2=%{z}\\u003cextra\\u003e\\u003c\\u002fextra\\u003e\",\"legendgroup\":\"according\",\"marker\":{\"color\":\"#636efa\",\"symbol\":\"circle\"},\"mode\":\"markers\",\"name\":\"according\",\"scene\":\"scene\",\"showlegend\":true,\"x\":[-0.17624273896217346],\"y\":[0.06490788608789444],\"z\":[-0.11024579405784607],\"type\":\"scatter3d\"},{\"hovertemplate\":\"color=average\\u003cbr\\u003e0=%{x}\\u003cbr\\u003e1=%{y}\\u003cbr\\u003e2=%{z}\\u003cextra\\u003e\\u003c\\u002fextra\\u003e\",\"legendgroup\":\"average\",\"marker\":{\"color\":\"#EF553B\",\"symbol\":\"circle\"},\"mode\":\"markers\",\"name\":\"average\",\"scene\":\"scene\",\"showlegend\":true,\"x\":[-0.15220488607883453],\"y\":[0.2840034067630768],\"z\":[-0.213766947388649],\"type\":\"scatter3d\"},{\"hovertemplate\":\"color=measure\\u003cbr\\u003e0=%{x}\\u003cbr\\u003e1=%{y}\\u003cbr\\u003e2=%{z}\\u003cextra\\u003e\\u003c\\u002fextra\\u003e\",\"legendgroup\":\"measure\",\"marker\":{\"color\":\"#00cc96\",\"symbol\":\"circle\"},\"mode\":\"markers\",\"name\":\"measure\",\"scene\":\"scene\",\"showlegend\":true,\"x\":[0.010791256092488766],\"y\":[0.07815122604370117],\"z\":[-0.4509549140930176],\"type\":\"scatter3d\"},{\"hovertemplate\":\"color=procedure\\u003cbr\\u003e0=%{x}\\u003cbr\\u003e1=%{y}\\u003cbr\\u003e2=%{z}\\u003cextra\\u003e\\u003c\\u002fextra\\u003e\",\"legendgroup\":\"procedure\",\"marker\":{\"color\":\"#ab63fa\",\"symbol\":\"circle\"},\"mode\":\"markers\",\"name\":\"procedure\",\"scene\":\"scene\",\"showlegend\":true,\"x\":[-0.06793784350156784],\"y\":[0.03645430877804756],\"z\":[-0.39499789476394653],\"type\":\"scatter3d\"},{\"hovertemplate\":\"color=institution\\u003cbr\\u003e0=%{x}\\u003cbr\\u003e1=%{y}\\u003cbr\\u003e2=%{z}\\u003cextra\\u003e\\u003c\\u002fextra\\u003e\",\"legendgroup\":\"institution\",\"marker\":{\"color\":\"#FFA15A\",\"symbol\":\"circle\"},\"mode\":\"markers\",\"name\":\"institution\",\"scene\":\"scene\",\"showlegend\":true,\"x\":[0.06925315409898758],\"y\":[0.020831597968935966],\"z\":[-0.5093263387680054],\"type\":\"scatter3d\"},{\"hovertemplate\":\"color=farm\\u003cbr\\u003e0=%{x}\\u003cbr\\u003e1=%{y}\\u003cbr\\u003e2=%{z}\\u003cextra\\u003e\\u003c\\u002fextra\\u003e\",\"legendgroup\":\"farm\",\"marker\":{\"color\":\"#19d3f3\",\"symbol\":\"circle\"},\"mode\":\"markers\",\"name\":\"farm\",\"scene\":\"scene\",\"showlegend\":true,\"x\":[-0.19632194936275482],\"y\":[0.20463253557682037],\"z\":[-0.2757968306541443],\"type\":\"scatter3d\"},{\"hovertemplate\":\"color=plane\\u003cbr\\u003e0=%{x}\\u003cbr\\u003e1=%{y}\\u003cbr\\u003e2=%{z}\\u003cextra\\u003e\\u003c\\u002fextra\\u003e\",\"legendgroup\":\"plane\",\"marker\":{\"color\":\"#FF6692\",\"symbol\":\"circle\"},\"mode\":\"markers\",\"name\":\"plane\",\"scene\":\"scene\",\"showlegend\":true,\"x\":[-0.23909896612167358],\"y\":[0.3457358181476593],\"z\":[-0.17167283594608307],\"type\":\"scatter3d\"},{\"hovertemplate\":\"color=bed\\u003cbr\\u003e0=%{x}\\u003cbr\\u003e1=%{y}\\u003cbr\\u003e2=%{z}\\u003cextra\\u003e\\u003c\\u002fextra\\u003e\",\"legendgroup\":\"bed\",\"marker\":{\"color\":\"#B6E880\",\"symbol\":\"circle\"},\"mode\":\"markers\",\"name\":\"bed\",\"scene\":\"scene\",\"showlegend\":true,\"x\":[-0.07663983106613159],\"y\":[0.24827121198177338],\"z\":[0.2638838589191437],\"type\":\"scatter3d\"},{\"hovertemplate\":\"color=length\\u003cbr\\u003e0=%{x}\\u003cbr\\u003e1=%{y}\\u003cbr\\u003e2=%{z}\\u003cextra\\u003e\\u003c\\u002fextra\\u003e\",\"legendgroup\":\"length\",\"marker\":{\"color\":\"#FF97FF\",\"symbol\":\"circle\"},\"mode\":\"markers\",\"name\":\"length\",\"scene\":\"scene\",\"showlegend\":true,\"x\":[-0.22721758484840393],\"y\":[0.39472344517707825],\"z\":[-0.21206438541412354],\"type\":\"scatter3d\"},{\"hovertemplate\":\"color=french\\u003cbr\\u003e0=%{x}\\u003cbr\\u003e1=%{y}\\u003cbr\\u003e2=%{z}\\u003cextra\\u003e\\u003c\\u002fextra\\u003e\",\"legendgroup\":\"french\",\"marker\":{\"color\":\"#FECB52\",\"symbol\":\"circle\"},\"mode\":\"markers\",\"name\":\"french\",\"scene\":\"scene\",\"showlegend\":true,\"x\":[-0.18848197162151337],\"y\":[0.013758585788309574],\"z\":[0.0686449185013771],\"type\":\"scatter3d\"},{\"hovertemplate\":\"color=begin\\u003cbr\\u003e0=%{x}\\u003cbr\\u003e1=%{y}\\u003cbr\\u003e2=%{z}\\u003cextra\\u003e\\u003c\\u002fextra\\u003e\",\"legendgroup\":\"begin\",\"marker\":{\"color\":\"#636efa\",\"symbol\":\"circle\"},\"mode\":\"markers\",\"name\":\"begin\",\"scene\":\"scene\",\"showlegend\":true,\"x\":[0.06912669539451599],\"y\":[-0.007064011413604021],\"z\":[-0.16490356624126434],\"type\":\"scatter3d\"},{\"hovertemplate\":\"color=manner\\u003cbr\\u003e0=%{x}\\u003cbr\\u003e1=%{y}\\u003cbr\\u003e2=%{z}\\u003cextra\\u003e\\u003c\\u002fextra\\u003e\",\"legendgroup\":\"manner\",\"marker\":{\"color\":\"#EF553B\",\"symbol\":\"circle\"},\"mode\":\"markers\",\"name\":\"manner\",\"scene\":\"scene\",\"showlegend\":true,\"x\":[0.10637596994638443],\"y\":[0.13343042135238647],\"z\":[-0.40031084418296814],\"type\":\"scatter3d\"},{\"hovertemplate\":\"color=role\\u003cbr\\u003e0=%{x}\\u003cbr\\u003e1=%{y}\\u003cbr\\u003e2=%{z}\\u003cextra\\u003e\\u003c\\u002fextra\\u003e\",\"legendgroup\":\"role\",\"marker\":{\"color\":\"#00cc96\",\"symbol\":\"circle\"},\"mode\":\"markers\",\"name\":\"role\",\"scene\":\"scene\",\"showlegend\":true,\"x\":[0.09552476555109024],\"y\":[0.03645789250731468],\"z\":[-0.298088401556015],\"type\":\"scatter3d\"},{\"hovertemplate\":\"color=remember\\u003cbr\\u003e0=%{x}\\u003cbr\\u003e1=%{y}\\u003cbr\\u003e2=%{z}\\u003cextra\\u003e\\u003c\\u002fextra\\u003e\",\"legendgroup\":\"remember\",\"marker\":{\"color\":\"#ab63fa\",\"symbol\":\"circle\"},\"mode\":\"markers\",\"name\":\"remember\",\"scene\":\"scene\",\"showlegend\":true,\"x\":[0.5847408175468445],\"y\":[-0.09800031781196594],\"z\":[-0.03803861513733864],\"type\":\"scatter3d\"},{\"hovertemplate\":\"color=physical\\u003cbr\\u003e0=%{x}\\u003cbr\\u003e1=%{y}\\u003cbr\\u003e2=%{z}\\u003cextra\\u003e\\u003c\\u002fextra\\u003e\",\"legendgroup\":\"physical\",\"marker\":{\"color\":\"#FFA15A\",\"symbol\":\"circle\"},\"mode\":\"markers\",\"name\":\"physical\",\"scene\":\"scene\",\"showlegend\":true,\"x\":[0.10057708621025085],\"y\":[-0.1288885772228241],\"z\":[-0.43749579787254333],\"type\":\"scatter3d\"},{\"hovertemplate\":\"color=treatment\\u003cbr\\u003e0=%{x}\\u003cbr\\u003e1=%{y}\\u003cbr\\u003e2=%{z}\\u003cextra\\u003e\\u003c\\u002fextra\\u003e\",\"legendgroup\":\"treatment\",\"marker\":{\"color\":\"#19d3f3\",\"symbol\":\"circle\"},\"mode\":\"markers\",\"name\":\"treatment\",\"scene\":\"scene\",\"showlegend\":true,\"x\":[-0.07136789709329605],\"y\":[0.08047281205654144],\"z\":[-0.3560621738433838],\"type\":\"scatter3d\"},{\"hovertemplate\":\"color=understand\\u003cbr\\u003e0=%{x}\\u003cbr\\u003e1=%{y}\\u003cbr\\u003e2=%{z}\\u003cextra\\u003e\\u003c\\u002fextra\\u003e\",\"legendgroup\":\"understand\",\"marker\":{\"color\":\"#FF6692\",\"symbol\":\"circle\"},\"mode\":\"markers\",\"name\":\"understand\",\"scene\":\"scene\",\"showlegend\":true,\"x\":[0.7549827694892883],\"y\":[-0.18996204435825348],\"z\":[-0.11691243201494217],\"type\":\"scatter3d\"},{\"hovertemplate\":\"color=southern\\u003cbr\\u003e0=%{x}\\u003cbr\\u003e1=%{y}\\u003cbr\\u003e2=%{z}\\u003cextra\\u003e\\u003c\\u002fextra\\u003e\",\"legendgroup\":\"southern\",\"marker\":{\"color\":\"#B6E880\",\"symbol\":\"circle\"},\"mode\":\"markers\",\"name\":\"southern\",\"scene\":\"scene\",\"showlegend\":true,\"x\":[-0.15607191622257233],\"y\":[0.07826491445302963],\"z\":[-0.18250919878482819],\"type\":\"scatter3d\"},{\"hovertemplate\":\"color=official\\u003cbr\\u003e0=%{x}\\u003cbr\\u003e1=%{y}\\u003cbr\\u003e2=%{z}\\u003cextra\\u003e\\u003c\\u002fextra\\u003e\",\"legendgroup\":\"official\",\"marker\":{\"color\":\"#FF97FF\",\"symbol\":\"circle\"},\"mode\":\"markers\",\"name\":\"official\",\"scene\":\"scene\",\"showlegend\":true,\"x\":[-0.1434224545955658],\"y\":[0.038547348231077194],\"z\":[-0.16118621826171875],\"type\":\"scatter3d\"},{\"hovertemplate\":\"color=western\\u003cbr\\u003e0=%{x}\\u003cbr\\u003e1=%{y}\\u003cbr\\u003e2=%{z}\\u003cextra\\u003e\\u003c\\u002fextra\\u003e\",\"legendgroup\":\"western\",\"marker\":{\"color\":\"#FECB52\",\"symbol\":\"circle\"},\"mode\":\"markers\",\"name\":\"western\",\"scene\":\"scene\",\"showlegend\":true,\"x\":[-0.2005317211151123],\"y\":[0.1350528597831726],\"z\":[-0.20127487182617188],\"type\":\"scatter3d\"},{\"hovertemplate\":\"color=normal\\u003cbr\\u003e0=%{x}\\u003cbr\\u003e1=%{y}\\u003cbr\\u003e2=%{z}\\u003cextra\\u003e\\u003c\\u002fextra\\u003e\",\"legendgroup\":\"normal\",\"marker\":{\"color\":\"#636efa\",\"symbol\":\"circle\"},\"mode\":\"markers\",\"name\":\"normal\",\"scene\":\"scene\",\"showlegend\":true,\"x\":[0.04090159386396408],\"y\":[0.0033627350348979235],\"z\":[-0.4175955355167389],\"type\":\"scatter3d\"},{\"hovertemplate\":\"color=religion\\u003cbr\\u003e0=%{x}\\u003cbr\\u003e1=%{y}\\u003cbr\\u003e2=%{z}\\u003cextra\\u003e\\u003c\\u002fextra\\u003e\",\"legendgroup\":\"religion\",\"marker\":{\"color\":\"#EF553B\",\"symbol\":\"circle\"},\"mode\":\"markers\",\"name\":\"religion\",\"scene\":\"scene\",\"showlegend\":true,\"x\":[0.1343446671962738],\"y\":[0.0089330542832613],\"z\":[-0.48820754885673523],\"type\":\"scatter3d\"},{\"hovertemplate\":\"color=couple\\u003cbr\\u003e0=%{x}\\u003cbr\\u003e1=%{y}\\u003cbr\\u003e2=%{z}\\u003cextra\\u003e\\u003c\\u002fextra\\u003e\",\"legendgroup\":\"couple\",\"marker\":{\"color\":\"#00cc96\",\"symbol\":\"circle\"},\"mode\":\"markers\",\"name\":\"couple\",\"scene\":\"scene\",\"showlegend\":true,\"x\":[0.16002941131591797],\"y\":[0.2549574375152588],\"z\":[-0.11154693365097046],\"type\":\"scatter3d\"},{\"hovertemplate\":\"color=communist\\u003cbr\\u003e0=%{x}\\u003cbr\\u003e1=%{y}\\u003cbr\\u003e2=%{z}\\u003cextra\\u003e\\u003c\\u002fextra\\u003e\",\"legendgroup\":\"communist\",\"marker\":{\"color\":\"#ab63fa\",\"symbol\":\"circle\"},\"mode\":\"markers\",\"name\":\"communist\",\"scene\":\"scene\",\"showlegend\":true,\"x\":[-0.09560911357402802],\"y\":[0.07357501983642578],\"z\":[-0.2835494577884674],\"type\":\"scatter3d\"},{\"hovertemplate\":\"color=hit\\u003cbr\\u003e0=%{x}\\u003cbr\\u003e1=%{y}\\u003cbr\\u003e2=%{z}\\u003cextra\\u003e\\u003c\\u002fextra\\u003e\",\"legendgroup\":\"hit\",\"marker\":{\"color\":\"#FFA15A\",\"symbol\":\"circle\"},\"mode\":\"markers\",\"name\":\"hit\",\"scene\":\"scene\",\"showlegend\":true,\"x\":[0.008307615295052528],\"y\":[0.07335829734802246],\"z\":[0.05219395458698273],\"type\":\"scatter3d\"},{\"hovertemplate\":\"color=press\\u003cbr\\u003e0=%{x}\\u003cbr\\u003e1=%{y}\\u003cbr\\u003e2=%{z}\\u003cextra\\u003e\\u003c\\u002fextra\\u003e\",\"legendgroup\":\"press\",\"marker\":{\"color\":\"#19d3f3\",\"symbol\":\"circle\"},\"mode\":\"markers\",\"name\":\"press\",\"scene\":\"scene\",\"showlegend\":true,\"x\":[-0.2483489215373993],\"y\":[0.1452096849679947],\"z\":[-0.12401266396045685],\"type\":\"scatter3d\"},{\"hovertemplate\":\"color=1961\\u003cbr\\u003e0=%{x}\\u003cbr\\u003e1=%{y}\\u003cbr\\u003e2=%{z}\\u003cextra\\u003e\\u003c\\u002fextra\\u003e\",\"legendgroup\":\"1961\",\"marker\":{\"color\":\"#FF6692\",\"symbol\":\"circle\"},\"mode\":\"markers\",\"name\":\"1961\",\"scene\":\"scene\",\"showlegend\":true,\"x\":[-0.2207198590040207],\"y\":[0.40441709756851196],\"z\":[-0.09525198489427567],\"type\":\"scatter3d\"},{\"hovertemplate\":\"color=merely\\u003cbr\\u003e0=%{x}\\u003cbr\\u003e1=%{y}\\u003cbr\\u003e2=%{z}\\u003cextra\\u003e\\u003c\\u002fextra\\u003e\",\"legendgroup\":\"merely\",\"marker\":{\"color\":\"#B6E880\",\"symbol\":\"circle\"},\"mode\":\"markers\",\"name\":\"merely\",\"scene\":\"scene\",\"showlegend\":true,\"x\":[0.38520896434783936],\"y\":[-0.2805638909339905],\"z\":[-0.22240576148033142],\"type\":\"scatter3d\"},{\"hovertemplate\":\"color=appeared\\u003cbr\\u003e0=%{x}\\u003cbr\\u003e1=%{y}\\u003cbr\\u003e2=%{z}\\u003cextra\\u003e\\u003c\\u002fextra\\u003e\",\"legendgroup\":\"appeared\",\"marker\":{\"color\":\"#FF97FF\",\"symbol\":\"circle\"},\"mode\":\"markers\",\"name\":\"appeared\",\"scene\":\"scene\",\"showlegend\":true,\"x\":[-0.09248638153076172],\"y\":[0.10671496391296387],\"z\":[0.08561408519744873],\"type\":\"scatter3d\"},{\"hovertemplate\":\"color=c\\u003cbr\\u003e0=%{x}\\u003cbr\\u003e1=%{y}\\u003cbr\\u003e2=%{z}\\u003cextra\\u003e\\u003c\\u002fextra\\u003e\",\"legendgroup\":\"c\",\"marker\":{\"color\":\"#FECB52\",\"symbol\":\"circle\"},\"mode\":\"markers\",\"name\":\"c\",\"scene\":\"scene\",\"showlegend\":true,\"x\":[-0.17066502571105957],\"y\":[0.18578749895095825],\"z\":[-0.13379813730716705],\"type\":\"scatter3d\"},{\"hovertemplate\":\"color=concerned\\u003cbr\\u003e0=%{x}\\u003cbr\\u003e1=%{y}\\u003cbr\\u003e2=%{z}\\u003cextra\\u003e\\u003c\\u002fextra\\u003e\",\"legendgroup\":\"concerned\",\"marker\":{\"color\":\"#636efa\",\"symbol\":\"circle\"},\"mode\":\"markers\",\"name\":\"concerned\",\"scene\":\"scene\",\"showlegend\":true,\"x\":[0.3135529160499573],\"y\":[0.014282088726758957],\"z\":[-0.4163840711116791],\"type\":\"scatter3d\"},{\"hovertemplate\":\"color=scene\\u003cbr\\u003e0=%{x}\\u003cbr\\u003e1=%{y}\\u003cbr\\u003e2=%{z}\\u003cextra\\u003e\\u003c\\u002fextra\\u003e\",\"legendgroup\":\"scene\",\"marker\":{\"color\":\"#EF553B\",\"symbol\":\"circle\"},\"mode\":\"markers\",\"name\":\"scene\",\"scene\":\"scene\",\"showlegend\":true,\"x\":[0.015976425260305405],\"y\":[0.06377599388360977],\"z\":[-0.1732889860868454],\"type\":\"scatter3d\"},{\"hovertemplate\":\"color=wrong\\u003cbr\\u003e0=%{x}\\u003cbr\\u003e1=%{y}\\u003cbr\\u003e2=%{z}\\u003cextra\\u003e\\u003c\\u002fextra\\u003e\",\"legendgroup\":\"wrong\",\"marker\":{\"color\":\"#00cc96\",\"symbol\":\"circle\"},\"mode\":\"markers\",\"name\":\"wrong\",\"scene\":\"scene\",\"showlegend\":true,\"x\":[0.678804337978363],\"y\":[-0.14168502390384674],\"z\":[-0.07073619216680527],\"type\":\"scatter3d\"},{\"hovertemplate\":\"color=authority\\u003cbr\\u003e0=%{x}\\u003cbr\\u003e1=%{y}\\u003cbr\\u003e2=%{z}\\u003cextra\\u003e\\u003c\\u002fextra\\u003e\",\"legendgroup\":\"authority\",\"marker\":{\"color\":\"#ab63fa\",\"symbol\":\"circle\"},\"mode\":\"markers\",\"name\":\"authority\",\"scene\":\"scene\",\"showlegend\":true,\"x\":[-0.14806899428367615],\"y\":[0.09335814416408539],\"z\":[-0.19058969616889954],\"type\":\"scatter3d\"},{\"hovertemplate\":\"color=feed\\u003cbr\\u003e0=%{x}\\u003cbr\\u003e1=%{y}\\u003cbr\\u003e2=%{z}\\u003cextra\\u003e\\u003c\\u002fextra\\u003e\",\"legendgroup\":\"feed\",\"marker\":{\"color\":\"#FFA15A\",\"symbol\":\"circle\"},\"mode\":\"markers\",\"name\":\"feed\",\"scene\":\"scene\",\"showlegend\":true,\"x\":[-0.08353092521429062],\"y\":[0.10282696038484573],\"z\":[-0.18225403130054474],\"type\":\"scatter3d\"},{\"hovertemplate\":\"color=brother\\u003cbr\\u003e0=%{x}\\u003cbr\\u003e1=%{y}\\u003cbr\\u003e2=%{z}\\u003cextra\\u003e\\u003c\\u002fextra\\u003e\",\"legendgroup\":\"brother\",\"marker\":{\"color\":\"#19d3f3\",\"symbol\":\"circle\"},\"mode\":\"markers\",\"name\":\"brother\",\"scene\":\"scene\",\"showlegend\":true,\"x\":[0.18586663901805878],\"y\":[0.07778793573379517],\"z\":[0.23384058475494385],\"type\":\"scatter3d\"},{\"hovertemplate\":\"color=george\\u003cbr\\u003e0=%{x}\\u003cbr\\u003e1=%{y}\\u003cbr\\u003e2=%{z}\\u003cextra\\u003e\\u003c\\u002fextra\\u003e\",\"legendgroup\":\"george\",\"marker\":{\"color\":\"#FF6692\",\"symbol\":\"circle\"},\"mode\":\"markers\",\"name\":\"george\",\"scene\":\"scene\",\"showlegend\":true,\"x\":[-0.04283742606639862],\"y\":[-0.010660296306014061],\"z\":[0.34902846813201904],\"type\":\"scatter3d\"},{\"hovertemplate\":\"color=wish\\u003cbr\\u003e0=%{x}\\u003cbr\\u003e1=%{y}\\u003cbr\\u003e2=%{z}\\u003cextra\\u003e\\u003c\\u002fextra\\u003e\",\"legendgroup\":\"wish\",\"marker\":{\"color\":\"#B6E880\",\"symbol\":\"circle\"},\"mode\":\"markers\",\"name\":\"wish\",\"scene\":\"scene\",\"showlegend\":true,\"x\":[0.6677630543708801],\"y\":[-0.15928365290164948],\"z\":[0.05293164774775505],\"type\":\"scatter3d\"},{\"hovertemplate\":\"color=literature\\u003cbr\\u003e0=%{x}\\u003cbr\\u003e1=%{y}\\u003cbr\\u003e2=%{z}\\u003cextra\\u003e\\u003c\\u002fextra\\u003e\",\"legendgroup\":\"literature\",\"marker\":{\"color\":\"#FF97FF\",\"symbol\":\"circle\"},\"mode\":\"markers\",\"name\":\"literature\",\"scene\":\"scene\",\"showlegend\":true,\"x\":[0.2565099596977234],\"y\":[0.01888197846710682],\"z\":[-0.5317445993423462],\"type\":\"scatter3d\"},{\"hovertemplate\":\"color=ran\\u003cbr\\u003e0=%{x}\\u003cbr\\u003e1=%{y}\\u003cbr\\u003e2=%{z}\\u003cextra\\u003e\\u003c\\u002fextra\\u003e\",\"legendgroup\":\"ran\",\"marker\":{\"color\":\"#FECB52\",\"symbol\":\"circle\"},\"mode\":\"markers\",\"name\":\"ran\",\"scene\":\"scene\",\"showlegend\":true,\"x\":[-0.24411475658416748],\"y\":[0.2065921574831009],\"z\":[0.3674733340740204],\"type\":\"scatter3d\"},{\"hovertemplate\":\"color=date\\u003cbr\\u003e0=%{x}\\u003cbr\\u003e1=%{y}\\u003cbr\\u003e2=%{z}\\u003cextra\\u003e\\u003c\\u002fextra\\u003e\",\"legendgroup\":\"date\",\"marker\":{\"color\":\"#636efa\",\"symbol\":\"circle\"},\"mode\":\"markers\",\"name\":\"date\",\"scene\":\"scene\",\"showlegend\":true,\"x\":[-0.04987258464097977],\"y\":[0.30837196111679077],\"z\":[-0.050628356635570526],\"type\":\"scatter3d\"},{\"hovertemplate\":\"color=maybe\\u003cbr\\u003e0=%{x}\\u003cbr\\u003e1=%{y}\\u003cbr\\u003e2=%{z}\\u003cextra\\u003e\\u003c\\u002fextra\\u003e\",\"legendgroup\":\"maybe\",\"marker\":{\"color\":\"#EF553B\",\"symbol\":\"circle\"},\"mode\":\"markers\",\"name\":\"maybe\",\"scene\":\"scene\",\"showlegend\":true,\"x\":[0.5045179128646851],\"y\":[-0.22106397151947021],\"z\":[-0.04988161101937294],\"type\":\"scatter3d\"},{\"hovertemplate\":\"color=attempt\\u003cbr\\u003e0=%{x}\\u003cbr\\u003e1=%{y}\\u003cbr\\u003e2=%{z}\\u003cextra\\u003e\\u003c\\u002fextra\\u003e\",\"legendgroup\":\"attempt\",\"marker\":{\"color\":\"#00cc96\",\"symbol\":\"circle\"},\"mode\":\"markers\",\"name\":\"attempt\",\"scene\":\"scene\",\"showlegend\":true,\"x\":[0.23634055256843567],\"y\":[-0.07676216214895248],\"z\":[-0.26845428347587585],\"type\":\"scatter3d\"},{\"hovertemplate\":\"color=corner\\u003cbr\\u003e0=%{x}\\u003cbr\\u003e1=%{y}\\u003cbr\\u003e2=%{z}\\u003cextra\\u003e\\u003c\\u002fextra\\u003e\",\"legendgroup\":\"corner\",\"marker\":{\"color\":\"#ab63fa\",\"symbol\":\"circle\"},\"mode\":\"markers\",\"name\":\"corner\",\"scene\":\"scene\",\"showlegend\":true,\"x\":[-0.23746801912784576],\"y\":[0.3934515118598938],\"z\":[-0.022063110023736954],\"type\":\"scatter3d\"},{\"hovertemplate\":\"color=freedom\\u003cbr\\u003e0=%{x}\\u003cbr\\u003e1=%{y}\\u003cbr\\u003e2=%{z}\\u003cextra\\u003e\\u003c\\u002fextra\\u003e\",\"legendgroup\":\"freedom\",\"marker\":{\"color\":\"#FFA15A\",\"symbol\":\"circle\"},\"mode\":\"markers\",\"name\":\"freedom\",\"scene\":\"scene\",\"showlegend\":true,\"x\":[0.28219500184059143],\"y\":[0.004202661570161581],\"z\":[-0.3315129280090332],\"type\":\"scatter3d\"},{\"hovertemplate\":\"color=continued\\u003cbr\\u003e0=%{x}\\u003cbr\\u003e1=%{y}\\u003cbr\\u003e2=%{z}\\u003cextra\\u003e\\u003c\\u002fextra\\u003e\",\"legendgroup\":\"continued\",\"marker\":{\"color\":\"#19d3f3\",\"symbol\":\"circle\"},\"mode\":\"markers\",\"name\":\"continued\",\"scene\":\"scene\",\"showlegend\":true,\"x\":[-0.10516415536403656],\"y\":[0.05895491689443588],\"z\":[-0.03621684014797211],\"type\":\"scatter3d\"},{\"hovertemplate\":\"color=pool\\u003cbr\\u003e0=%{x}\\u003cbr\\u003e1=%{y}\\u003cbr\\u003e2=%{z}\\u003cextra\\u003e\\u003c\\u002fextra\\u003e\",\"legendgroup\":\"pool\",\"marker\":{\"color\":\"#FF6692\",\"symbol\":\"circle\"},\"mode\":\"markers\",\"name\":\"pool\",\"scene\":\"scene\",\"showlegend\":true,\"x\":[-0.17234903573989868],\"y\":[0.22273914515972137],\"z\":[-0.21183714270591736],\"type\":\"scatter3d\"},{\"hovertemplate\":\"color=robert\\u003cbr\\u003e0=%{x}\\u003cbr\\u003e1=%{y}\\u003cbr\\u003e2=%{z}\\u003cextra\\u003e\\u003c\\u002fextra\\u003e\",\"legendgroup\":\"robert\",\"marker\":{\"color\":\"#B6E880\",\"symbol\":\"circle\"},\"mode\":\"markers\",\"name\":\"robert\",\"scene\":\"scene\",\"showlegend\":true,\"x\":[-0.21189948916435242],\"y\":[0.06873735785484314],\"z\":[0.34484875202178955],\"type\":\"scatter3d\"},{\"hovertemplate\":\"color=loss\\u003cbr\\u003e0=%{x}\\u003cbr\\u003e1=%{y}\\u003cbr\\u003e2=%{z}\\u003cextra\\u003e\\u003c\\u002fextra\\u003e\",\"legendgroup\":\"loss\",\"marker\":{\"color\":\"#FF97FF\",\"symbol\":\"circle\"},\"mode\":\"markers\",\"name\":\"loss\",\"scene\":\"scene\",\"showlegend\":true,\"x\":[-0.1641910821199417],\"y\":[0.14036336541175842],\"z\":[-0.30865639448165894],\"type\":\"scatter3d\"},{\"hovertemplate\":\"color=led\\u003cbr\\u003e0=%{x}\\u003cbr\\u003e1=%{y}\\u003cbr\\u003e2=%{z}\\u003cextra\\u003e\\u003c\\u002fextra\\u003e\",\"legendgroup\":\"led\",\"marker\":{\"color\":\"#FECB52\",\"symbol\":\"circle\"},\"mode\":\"markers\",\"name\":\"led\",\"scene\":\"scene\",\"showlegend\":true,\"x\":[-0.2213643342256546],\"y\":[0.10721928626298904],\"z\":[-0.007582768797874451],\"type\":\"scatter3d\"},{\"hovertemplate\":\"color=generally\\u003cbr\\u003e0=%{x}\\u003cbr\\u003e1=%{y}\\u003cbr\\u003e2=%{z}\\u003cextra\\u003e\\u003c\\u002fextra\\u003e\",\"legendgroup\":\"generally\",\"marker\":{\"color\":\"#636efa\",\"symbol\":\"circle\"},\"mode\":\"markers\",\"name\":\"generally\",\"scene\":\"scene\",\"showlegend\":true,\"x\":[0.030488265678286552],\"y\":[-0.12859594821929932],\"z\":[-0.36492761969566345],\"type\":\"scatter3d\"},{\"hovertemplate\":\"color=ship\\u003cbr\\u003e0=%{x}\\u003cbr\\u003e1=%{y}\\u003cbr\\u003e2=%{z}\\u003cextra\\u003e\\u003c\\u002fextra\\u003e\",\"legendgroup\":\"ship\",\"marker\":{\"color\":\"#EF553B\",\"symbol\":\"circle\"},\"mode\":\"markers\",\"name\":\"ship\",\"scene\":\"scene\",\"showlegend\":true,\"x\":[-0.29520130157470703],\"y\":[0.3200773596763611],\"z\":[0.011032583191990852],\"type\":\"scatter3d\"},{\"hovertemplate\":\"color=writing\\u003cbr\\u003e0=%{x}\\u003cbr\\u003e1=%{y}\\u003cbr\\u003e2=%{z}\\u003cextra\\u003e\\u003c\\u002fextra\\u003e\",\"legendgroup\":\"writing\",\"marker\":{\"color\":\"#00cc96\",\"symbol\":\"circle\"},\"mode\":\"markers\",\"name\":\"writing\",\"scene\":\"scene\",\"showlegend\":true,\"x\":[0.056353017687797546],\"y\":[0.07383158057928085],\"z\":[-0.15437771379947662],\"type\":\"scatter3d\"},{\"hovertemplate\":\"color=provided\\u003cbr\\u003e0=%{x}\\u003cbr\\u003e1=%{y}\\u003cbr\\u003e2=%{z}\\u003cextra\\u003e\\u003c\\u002fextra\\u003e\",\"legendgroup\":\"provided\",\"marker\":{\"color\":\"#ab63fa\",\"symbol\":\"circle\"},\"mode\":\"markers\",\"name\":\"provided\",\"scene\":\"scene\",\"showlegend\":true,\"x\":[-0.07092002779245377],\"y\":[0.1515192985534668],\"z\":[-0.4230031371116638],\"type\":\"scatter3d\"},{\"hovertemplate\":\"color=met\\u003cbr\\u003e0=%{x}\\u003cbr\\u003e1=%{y}\\u003cbr\\u003e2=%{z}\\u003cextra\\u003e\\u003c\\u002fextra\\u003e\",\"legendgroup\":\"met\",\"marker\":{\"color\":\"#FFA15A\",\"symbol\":\"circle\"},\"mode\":\"markers\",\"name\":\"met\",\"scene\":\"scene\",\"showlegend\":true,\"x\":[0.16926245391368866],\"y\":[0.0237587783485651],\"z\":[0.11788297444581985],\"type\":\"scatter3d\"},{\"hovertemplate\":\"color=audience\\u003cbr\\u003e0=%{x}\\u003cbr\\u003e1=%{y}\\u003cbr\\u003e2=%{z}\\u003cextra\\u003e\\u003c\\u002fextra\\u003e\",\"legendgroup\":\"audience\",\"marker\":{\"color\":\"#19d3f3\",\"symbol\":\"circle\"},\"mode\":\"markers\",\"name\":\"audience\",\"scene\":\"scene\",\"showlegend\":true,\"x\":[0.18108578026294708],\"y\":[0.15635451674461365],\"z\":[-0.07445716857910156],\"type\":\"scatter3d\"},{\"hovertemplate\":\"color=former\\u003cbr\\u003e0=%{x}\\u003cbr\\u003e1=%{y}\\u003cbr\\u003e2=%{z}\\u003cextra\\u003e\\u003c\\u002fextra\\u003e\",\"legendgroup\":\"former\",\"marker\":{\"color\":\"#FF6692\",\"symbol\":\"circle\"},\"mode\":\"markers\",\"name\":\"former\",\"scene\":\"scene\",\"showlegend\":true,\"x\":[-0.2275390625],\"y\":[0.06903699785470963],\"z\":[0.05001142621040344],\"type\":\"scatter3d\"},{\"hovertemplate\":\"color=song\\u003cbr\\u003e0=%{x}\\u003cbr\\u003e1=%{y}\\u003cbr\\u003e2=%{z}\\u003cextra\\u003e\\u003c\\u002fextra\\u003e\",\"legendgroup\":\"song\",\"marker\":{\"color\":\"#B6E880\",\"symbol\":\"circle\"},\"mode\":\"markers\",\"name\":\"song\",\"scene\":\"scene\",\"showlegend\":true,\"x\":[0.004544059745967388],\"y\":[0.026537850499153137],\"z\":[-0.012866617180407047],\"type\":\"scatter3d\"},{\"hovertemplate\":\"color=de\\u003cbr\\u003e0=%{x}\\u003cbr\\u003e1=%{y}\\u003cbr\\u003e2=%{z}\\u003cextra\\u003e\\u003c\\u002fextra\\u003e\",\"legendgroup\":\"de\",\"marker\":{\"color\":\"#FF97FF\",\"symbol\":\"circle\"},\"mode\":\"markers\",\"name\":\"de\",\"scene\":\"scene\",\"showlegend\":true,\"x\":[-0.18502236902713776],\"y\":[-0.017466885969042778],\"z\":[0.20665018260478973],\"type\":\"scatter3d\"},{\"hovertemplate\":\"color=mass\\u003cbr\\u003e0=%{x}\\u003cbr\\u003e1=%{y}\\u003cbr\\u003e2=%{z}\\u003cextra\\u003e\\u003c\\u002fextra\\u003e\",\"legendgroup\":\"mass\",\"marker\":{\"color\":\"#FECB52\",\"symbol\":\"circle\"},\"mode\":\"markers\",\"name\":\"mass\",\"scene\":\"scene\",\"showlegend\":true,\"x\":[-0.267670214176178],\"y\":[0.1704695224761963],\"z\":[-0.2392946183681488],\"type\":\"scatter3d\"},{\"hovertemplate\":\"color=opened\\u003cbr\\u003e0=%{x}\\u003cbr\\u003e1=%{y}\\u003cbr\\u003e2=%{z}\\u003cextra\\u003e\\u003c\\u002fextra\\u003e\",\"legendgroup\":\"opened\",\"marker\":{\"color\":\"#636efa\",\"symbol\":\"circle\"},\"mode\":\"markers\",\"name\":\"opened\",\"scene\":\"scene\",\"showlegend\":true,\"x\":[-0.24780888855457306],\"y\":[0.24813975393772125],\"z\":[0.31851887702941895],\"type\":\"scatter3d\"},{\"hovertemplate\":\"color=series\\u003cbr\\u003e0=%{x}\\u003cbr\\u003e1=%{y}\\u003cbr\\u003e2=%{z}\\u003cextra\\u003e\\u003c\\u002fextra\\u003e\",\"legendgroup\":\"series\",\"marker\":{\"color\":\"#EF553B\",\"symbol\":\"circle\"},\"mode\":\"markers\",\"name\":\"series\",\"scene\":\"scene\",\"showlegend\":true,\"x\":[-0.26804521679878235],\"y\":[0.3267839252948761],\"z\":[-0.14927265048027039],\"type\":\"scatter3d\"},{\"hovertemplate\":\"color=doubt\\u003cbr\\u003e0=%{x}\\u003cbr\\u003e1=%{y}\\u003cbr\\u003e2=%{z}\\u003cextra\\u003e\\u003c\\u002fextra\\u003e\",\"legendgroup\":\"doubt\",\"marker\":{\"color\":\"#00cc96\",\"symbol\":\"circle\"},\"mode\":\"markers\",\"name\":\"doubt\",\"scene\":\"scene\",\"showlegend\":true,\"x\":[0.6310877203941345],\"y\":[-0.17890329658985138],\"z\":[-0.2643654942512512],\"type\":\"scatter3d\"},{\"hovertemplate\":\"color=hot\\u003cbr\\u003e0=%{x}\\u003cbr\\u003e1=%{y}\\u003cbr\\u003e2=%{z}\\u003cextra\\u003e\\u003c\\u002fextra\\u003e\",\"legendgroup\":\"hot\",\"marker\":{\"color\":\"#ab63fa\",\"symbol\":\"circle\"},\"mode\":\"markers\",\"name\":\"hot\",\"scene\":\"scene\",\"showlegend\":true,\"x\":[-0.20898805558681488],\"y\":[-0.02202228270471096],\"z\":[0.05589580535888672],\"type\":\"scatter3d\"},{\"hovertemplate\":\"color=poem\\u003cbr\\u003e0=%{x}\\u003cbr\\u003e1=%{y}\\u003cbr\\u003e2=%{z}\\u003cextra\\u003e\\u003c\\u002fextra\\u003e\",\"legendgroup\":\"poem\",\"marker\":{\"color\":\"#FFA15A\",\"symbol\":\"circle\"},\"mode\":\"markers\",\"name\":\"poem\",\"scene\":\"scene\",\"showlegend\":true,\"x\":[0.18307027220726013],\"y\":[0.10960223525762558],\"z\":[-0.19989442825317383],\"type\":\"scatter3d\"},{\"hovertemplate\":\"color=reach\\u003cbr\\u003e0=%{x}\\u003cbr\\u003e1=%{y}\\u003cbr\\u003e2=%{z}\\u003cextra\\u003e\\u003c\\u002fextra\\u003e\",\"legendgroup\":\"reach\",\"marker\":{\"color\":\"#19d3f3\",\"symbol\":\"circle\"},\"mode\":\"markers\",\"name\":\"reach\",\"scene\":\"scene\",\"showlegend\":true,\"x\":[0.046415504068136215],\"y\":[0.09081745147705078],\"z\":[-0.12104132771492004],\"type\":\"scatter3d\"},{\"hovertemplate\":\"color=objective\\u003cbr\\u003e0=%{x}\\u003cbr\\u003e1=%{y}\\u003cbr\\u003e2=%{z}\\u003cextra\\u003e\\u003c\\u002fextra\\u003e\",\"legendgroup\":\"objective\",\"marker\":{\"color\":\"#FF6692\",\"symbol\":\"circle\"},\"mode\":\"markers\",\"name\":\"objective\",\"scene\":\"scene\",\"showlegend\":true,\"x\":[0.2703993618488312],\"y\":[0.019216807559132576],\"z\":[-0.5263271927833557],\"type\":\"scatter3d\"},{\"hovertemplate\":\"color=truth\\u003cbr\\u003e0=%{x}\\u003cbr\\u003e1=%{y}\\u003cbr\\u003e2=%{z}\\u003cextra\\u003e\\u003c\\u002fextra\\u003e\",\"legendgroup\":\"truth\",\"marker\":{\"color\":\"#B6E880\",\"symbol\":\"circle\"},\"mode\":\"markers\",\"name\":\"truth\",\"scene\":\"scene\",\"showlegend\":true,\"x\":[0.38538482785224915],\"y\":[-0.1062423586845398],\"z\":[-0.35272252559661865],\"type\":\"scatter3d\"},{\"hovertemplate\":\"color=belief\\u003cbr\\u003e0=%{x}\\u003cbr\\u003e1=%{y}\\u003cbr\\u003e2=%{z}\\u003cextra\\u003e\\u003c\\u002fextra\\u003e\",\"legendgroup\":\"belief\",\"marker\":{\"color\":\"#FF97FF\",\"symbol\":\"circle\"},\"mode\":\"markers\",\"name\":\"belief\",\"scene\":\"scene\",\"showlegend\":true,\"x\":[0.41205930709838867],\"y\":[-0.2653777301311493],\"z\":[-0.2456474006175995],\"type\":\"scatter3d\"},{\"hovertemplate\":\"color=object\\u003cbr\\u003e0=%{x}\\u003cbr\\u003e1=%{y}\\u003cbr\\u003e2=%{z}\\u003cextra\\u003e\\u003c\\u002fextra\\u003e\",\"legendgroup\":\"object\",\"marker\":{\"color\":\"#FECB52\",\"symbol\":\"circle\"},\"mode\":\"markers\",\"name\":\"object\",\"scene\":\"scene\",\"showlegend\":true,\"x\":[0.17097324132919312],\"y\":[-0.11651546508073807],\"z\":[-0.2415333390235901],\"type\":\"scatter3d\"},{\"hovertemplate\":\"color=hospital\\u003cbr\\u003e0=%{x}\\u003cbr\\u003e1=%{y}\\u003cbr\\u003e2=%{z}\\u003cextra\\u003e\\u003c\\u002fextra\\u003e\",\"legendgroup\":\"hospital\",\"marker\":{\"color\":\"#636efa\",\"symbol\":\"circle\"},\"mode\":\"markers\",\"name\":\"hospital\",\"scene\":\"scene\",\"showlegend\":true,\"x\":[-0.1886833757162094],\"y\":[0.2856653928756714],\"z\":[-0.023203177377581596],\"type\":\"scatter3d\"},{\"hovertemplate\":\"color=effective\\u003cbr\\u003e0=%{x}\\u003cbr\\u003e1=%{y}\\u003cbr\\u003e2=%{z}\\u003cextra\\u003e\\u003c\\u002fextra\\u003e\",\"legendgroup\":\"effective\",\"marker\":{\"color\":\"#EF553B\",\"symbol\":\"circle\"},\"mode\":\"markers\",\"name\":\"effective\",\"scene\":\"scene\",\"showlegend\":true,\"x\":[0.13277804851531982],\"y\":[-0.051923397928476334],\"z\":[-0.4288507103919983],\"type\":\"scatter3d\"},{\"hovertemplate\":\"color=myself\\u003cbr\\u003e0=%{x}\\u003cbr\\u003e1=%{y}\\u003cbr\\u003e2=%{z}\\u003cextra\\u003e\\u003c\\u002fextra\\u003e\",\"legendgroup\":\"myself\",\"marker\":{\"color\":\"#00cc96\",\"symbol\":\"circle\"},\"mode\":\"markers\",\"name\":\"myself\",\"scene\":\"scene\",\"showlegend\":true,\"x\":[0.5511230826377869],\"y\":[0.011005514301359653],\"z\":[0.040729936212301254],\"type\":\"scatter3d\"},{\"hovertemplate\":\"color=stopped\\u003cbr\\u003e0=%{x}\\u003cbr\\u003e1=%{y}\\u003cbr\\u003e2=%{z}\\u003cextra\\u003e\\u003c\\u002fextra\\u003e\",\"legendgroup\":\"stopped\",\"marker\":{\"color\":\"#ab63fa\",\"symbol\":\"circle\"},\"mode\":\"markers\",\"name\":\"stopped\",\"scene\":\"scene\",\"showlegend\":true,\"x\":[-0.014472356997430325],\"y\":[0.011110719293355942],\"z\":[0.34779733419418335],\"type\":\"scatter3d\"},{\"hovertemplate\":\"color=experiment\\u003cbr\\u003e0=%{x}\\u003cbr\\u003e1=%{y}\\u003cbr\\u003e2=%{z}\\u003cextra\\u003e\\u003c\\u002fextra\\u003e\",\"legendgroup\":\"experiment\",\"marker\":{\"color\":\"#FFA15A\",\"symbol\":\"circle\"},\"mode\":\"markers\",\"name\":\"experiment\",\"scene\":\"scene\",\"showlegend\":true,\"x\":[-0.03710631653666496],\"y\":[0.18897324800491333],\"z\":[-0.38336658477783203],\"type\":\"scatter3d\"},{\"hovertemplate\":\"color=animal\\u003cbr\\u003e0=%{x}\\u003cbr\\u003e1=%{y}\\u003cbr\\u003e2=%{z}\\u003cextra\\u003e\\u003c\\u002fextra\\u003e\",\"legendgroup\":\"animal\",\"marker\":{\"color\":\"#19d3f3\",\"symbol\":\"circle\"},\"mode\":\"markers\",\"name\":\"animal\",\"scene\":\"scene\",\"showlegend\":true,\"x\":[-0.08822117000818253],\"y\":[-0.12351164221763611],\"z\":[-0.1209605410695076],\"type\":\"scatter3d\"},{\"hovertemplate\":\"color=planning\\u003cbr\\u003e0=%{x}\\u003cbr\\u003e1=%{y}\\u003cbr\\u003e2=%{z}\\u003cextra\\u003e\\u003c\\u002fextra\\u003e\",\"legendgroup\":\"planning\",\"marker\":{\"color\":\"#FF6692\",\"symbol\":\"circle\"},\"mode\":\"markers\",\"name\":\"planning\",\"scene\":\"scene\",\"showlegend\":true,\"x\":[-0.049016475677490234],\"y\":[0.09477293491363525],\"z\":[-0.4470415711402893],\"type\":\"scatter3d\"},{\"hovertemplate\":\"color=detail\\u003cbr\\u003e0=%{x}\\u003cbr\\u003e1=%{y}\\u003cbr\\u003e2=%{z}\\u003cextra\\u003e\\u003c\\u002fextra\\u003e\",\"legendgroup\":\"detail\",\"marker\":{\"color\":\"#B6E880\",\"symbol\":\"circle\"},\"mode\":\"markers\",\"name\":\"detail\",\"scene\":\"scene\",\"showlegend\":true,\"x\":[0.04943293705582619],\"y\":[-0.031046133488416672],\"z\":[-0.36444005370140076],\"type\":\"scatter3d\"},{\"hovertemplate\":\"color=march\\u003cbr\\u003e0=%{x}\\u003cbr\\u003e1=%{y}\\u003cbr\\u003e2=%{z}\\u003cextra\\u003e\\u003c\\u002fextra\\u003e\",\"legendgroup\":\"march\",\"marker\":{\"color\":\"#FF97FF\",\"symbol\":\"circle\"},\"mode\":\"markers\",\"name\":\"march\",\"scene\":\"scene\",\"showlegend\":true,\"x\":[-0.32344508171081543],\"y\":[0.3507460951805115],\"z\":[0.16938214004039764],\"type\":\"scatter3d\"},{\"hovertemplate\":\"color=direct\\u003cbr\\u003e0=%{x}\\u003cbr\\u003e1=%{y}\\u003cbr\\u003e2=%{z}\\u003cextra\\u003e\\u003c\\u002fextra\\u003e\",\"legendgroup\":\"direct\",\"marker\":{\"color\":\"#FECB52\",\"symbol\":\"circle\"},\"mode\":\"markers\",\"name\":\"direct\",\"scene\":\"scene\",\"showlegend\":true,\"x\":[0.009057456627488136],\"y\":[0.12057782709598541],\"z\":[-0.4635334610939026],\"type\":\"scatter3d\"},{\"hovertemplate\":\"color=possibility\\u003cbr\\u003e0=%{x}\\u003cbr\\u003e1=%{y}\\u003cbr\\u003e2=%{z}\\u003cextra\\u003e\\u003c\\u002fextra\\u003e\",\"legendgroup\":\"possibility\",\"marker\":{\"color\":\"#636efa\",\"symbol\":\"circle\"},\"mode\":\"markers\",\"name\":\"possibility\",\"scene\":\"scene\",\"showlegend\":true,\"x\":[0.19986973702907562],\"y\":[-0.0642801970243454],\"z\":[-0.42604321241378784],\"type\":\"scatter3d\"},{\"hovertemplate\":\"color=worked\\u003cbr\\u003e0=%{x}\\u003cbr\\u003e1=%{y}\\u003cbr\\u003e2=%{z}\\u003cextra\\u003e\\u003c\\u002fextra\\u003e\",\"legendgroup\":\"worked\",\"marker\":{\"color\":\"#EF553B\",\"symbol\":\"circle\"},\"mode\":\"markers\",\"name\":\"worked\",\"scene\":\"scene\",\"showlegend\":true,\"x\":[-0.006182778161019087],\"y\":[0.1717425435781479],\"z\":[0.06774172931909561],\"type\":\"scatter3d\"},{\"hovertemplate\":\"color=ball\\u003cbr\\u003e0=%{x}\\u003cbr\\u003e1=%{y}\\u003cbr\\u003e2=%{z}\\u003cextra\\u003e\\u003c\\u002fextra\\u003e\",\"legendgroup\":\"ball\",\"marker\":{\"color\":\"#00cc96\",\"symbol\":\"circle\"},\"mode\":\"markers\",\"name\":\"ball\",\"scene\":\"scene\",\"showlegend\":true,\"x\":[-0.13149085640907288],\"y\":[0.17603428661823273],\"z\":[0.28995054960250854],\"type\":\"scatter3d\"},{\"hovertemplate\":\"color=election\\u003cbr\\u003e0=%{x}\\u003cbr\\u003e1=%{y}\\u003cbr\\u003e2=%{z}\\u003cextra\\u003e\\u003c\\u002fextra\\u003e\",\"legendgroup\":\"election\",\"marker\":{\"color\":\"#ab63fa\",\"symbol\":\"circle\"},\"mode\":\"markers\",\"name\":\"election\",\"scene\":\"scene\",\"showlegend\":true,\"x\":[-0.13048520684242249],\"y\":[0.26776692271232605],\"z\":[-0.20049531757831573],\"type\":\"scatter3d\"},{\"hovertemplate\":\"color=glass\\u003cbr\\u003e0=%{x}\\u003cbr\\u003e1=%{y}\\u003cbr\\u003e2=%{z}\\u003cextra\\u003e\\u003c\\u002fextra\\u003e\",\"legendgroup\":\"glass\",\"marker\":{\"color\":\"#FFA15A\",\"symbol\":\"circle\"},\"mode\":\"markers\",\"name\":\"glass\",\"scene\":\"scene\",\"showlegend\":true,\"x\":[-0.30763623118400574],\"y\":[0.1615886241197586],\"z\":[0.12682253122329712],\"type\":\"scatter3d\"},{\"hovertemplate\":\"color=ask\\u003cbr\\u003e0=%{x}\\u003cbr\\u003e1=%{y}\\u003cbr\\u003e2=%{z}\\u003cextra\\u003e\\u003c\\u002fextra\\u003e\",\"legendgroup\":\"ask\",\"marker\":{\"color\":\"#19d3f3\",\"symbol\":\"circle\"},\"mode\":\"markers\",\"name\":\"ask\",\"scene\":\"scene\",\"showlegend\":true,\"x\":[0.5406321883201599],\"y\":[-0.16297338902950287],\"z\":[0.03701836243271828],\"type\":\"scatter3d\"},{\"hovertemplate\":\"color=stop\\u003cbr\\u003e0=%{x}\\u003cbr\\u003e1=%{y}\\u003cbr\\u003e2=%{z}\\u003cextra\\u003e\\u003c\\u002fextra\\u003e\",\"legendgroup\":\"stop\",\"marker\":{\"color\":\"#FF6692\",\"symbol\":\"circle\"},\"mode\":\"markers\",\"name\":\"stop\",\"scene\":\"scene\",\"showlegend\":true,\"x\":[0.1592419296503067],\"y\":[0.05568534508347511],\"z\":[0.07071158289909363],\"type\":\"scatter3d\"},{\"hovertemplate\":\"color=clearly\\u003cbr\\u003e0=%{x}\\u003cbr\\u003e1=%{y}\\u003cbr\\u003e2=%{z}\\u003cextra\\u003e\\u003c\\u002fextra\\u003e\",\"legendgroup\":\"clearly\",\"marker\":{\"color\":\"#B6E880\",\"symbol\":\"circle\"},\"mode\":\"markers\",\"name\":\"clearly\",\"scene\":\"scene\",\"showlegend\":true,\"x\":[0.3564215898513794],\"y\":[-0.2516845464706421],\"z\":[-0.31517601013183594],\"type\":\"scatter3d\"},{\"hovertemplate\":\"color=film\\u003cbr\\u003e0=%{x}\\u003cbr\\u003e1=%{y}\\u003cbr\\u003e2=%{z}\\u003cextra\\u003e\\u003c\\u002fextra\\u003e\",\"legendgroup\":\"film\",\"marker\":{\"color\":\"#FF97FF\",\"symbol\":\"circle\"},\"mode\":\"markers\",\"name\":\"film\",\"scene\":\"scene\",\"showlegend\":true,\"x\":[-0.20823019742965698],\"y\":[0.01441111322492361],\"z\":[-0.19175386428833008],\"type\":\"scatter3d\"},{\"hovertemplate\":\"color=chief\\u003cbr\\u003e0=%{x}\\u003cbr\\u003e1=%{y}\\u003cbr\\u003e2=%{z}\\u003cextra\\u003e\\u003c\\u002fextra\\u003e\",\"legendgroup\":\"chief\",\"marker\":{\"color\":\"#FECB52\",\"symbol\":\"circle\"},\"mode\":\"markers\",\"name\":\"chief\",\"scene\":\"scene\",\"showlegend\":true,\"x\":[-0.12486948072910309],\"y\":[-0.008452847599983215],\"z\":[0.05296032130718231],\"type\":\"scatter3d\"},{\"hovertemplate\":\"color=attack\\u003cbr\\u003e0=%{x}\\u003cbr\\u003e1=%{y}\\u003cbr\\u003e2=%{z}\\u003cextra\\u003e\\u003c\\u002fextra\\u003e\",\"legendgroup\":\"attack\",\"marker\":{\"color\":\"#636efa\",\"symbol\":\"circle\"},\"mode\":\"markers\",\"name\":\"attack\",\"scene\":\"scene\",\"showlegend\":true,\"x\":[-0.06635629385709763],\"y\":[0.06653997302055359],\"z\":[-0.22332918643951416],\"type\":\"scatter3d\"},{\"hovertemplate\":\"color=somewhat\\u003cbr\\u003e0=%{x}\\u003cbr\\u003e1=%{y}\\u003cbr\\u003e2=%{z}\\u003cextra\\u003e\\u003c\\u002fextra\\u003e\",\"legendgroup\":\"somewhat\",\"marker\":{\"color\":\"#EF553B\",\"symbol\":\"circle\"},\"mode\":\"markers\",\"name\":\"somewhat\",\"scene\":\"scene\",\"showlegend\":true,\"x\":[0.06797286123037338],\"y\":[-0.0706910714507103],\"z\":[-0.23008882999420166],\"type\":\"scatter3d\"},{\"hovertemplate\":\"color=radio\\u003cbr\\u003e0=%{x}\\u003cbr\\u003e1=%{y}\\u003cbr\\u003e2=%{z}\\u003cextra\\u003e\\u003c\\u002fextra\\u003e\",\"legendgroup\":\"radio\",\"marker\":{\"color\":\"#00cc96\",\"symbol\":\"circle\"},\"mode\":\"markers\",\"name\":\"radio\",\"scene\":\"scene\",\"showlegend\":true,\"x\":[-0.2452399730682373],\"y\":[0.14868178963661194],\"z\":[-0.16960598528385162],\"type\":\"scatter3d\"},{\"hovertemplate\":\"color=consider\\u003cbr\\u003e0=%{x}\\u003cbr\\u003e1=%{y}\\u003cbr\\u003e2=%{z}\\u003cextra\\u003e\\u003c\\u002fextra\\u003e\",\"legendgroup\":\"consider\",\"marker\":{\"color\":\"#ab63fa\",\"symbol\":\"circle\"},\"mode\":\"markers\",\"name\":\"consider\",\"scene\":\"scene\",\"showlegend\":true,\"x\":[0.32885074615478516],\"y\":[-0.2039368748664856],\"z\":[-0.2759789228439331],\"type\":\"scatter3d\"},{\"hovertemplate\":\"color=beautiful\\u003cbr\\u003e0=%{x}\\u003cbr\\u003e1=%{y}\\u003cbr\\u003e2=%{z}\\u003cextra\\u003e\\u003c\\u002fextra\\u003e\",\"legendgroup\":\"beautiful\",\"marker\":{\"color\":\"#FFA15A\",\"symbol\":\"circle\"},\"mode\":\"markers\",\"name\":\"beautiful\",\"scene\":\"scene\",\"showlegend\":true,\"x\":[0.23425820469856262],\"y\":[-0.20399390161037445],\"z\":[0.03070536069571972],\"type\":\"scatter3d\"},{\"hovertemplate\":\"color=item\\u003cbr\\u003e0=%{x}\\u003cbr\\u003e1=%{y}\\u003cbr\\u003e2=%{z}\\u003cextra\\u003e\\u003c\\u002fextra\\u003e\",\"legendgroup\":\"item\",\"marker\":{\"color\":\"#19d3f3\",\"symbol\":\"circle\"},\"mode\":\"markers\",\"name\":\"item\",\"scene\":\"scene\",\"showlegend\":true,\"x\":[-0.15165217220783234],\"y\":[0.1169598326086998],\"z\":[-0.26643499732017517],\"type\":\"scatter3d\"},{\"hovertemplate\":\"color=distance\\u003cbr\\u003e0=%{x}\\u003cbr\\u003e1=%{y}\\u003cbr\\u003e2=%{z}\\u003cextra\\u003e\\u003c\\u002fextra\\u003e\",\"legendgroup\":\"distance\",\"marker\":{\"color\":\"#FF6692\",\"symbol\":\"circle\"},\"mode\":\"markers\",\"name\":\"distance\",\"scene\":\"scene\",\"showlegend\":true,\"x\":[-0.1333419233560562],\"y\":[0.4248232841491699],\"z\":[-0.2673862874507904],\"type\":\"scatter3d\"},{\"hovertemplate\":\"color=leg\\u003cbr\\u003e0=%{x}\\u003cbr\\u003e1=%{y}\\u003cbr\\u003e2=%{z}\\u003cextra\\u003e\\u003c\\u002fextra\\u003e\",\"legendgroup\":\"leg\",\"marker\":{\"color\":\"#B6E880\",\"symbol\":\"circle\"},\"mode\":\"markers\",\"name\":\"leg\",\"scene\":\"scene\",\"showlegend\":true,\"x\":[-0.15141873061656952],\"y\":[0.2460867464542389],\"z\":[0.08578137308359146],\"type\":\"scatter3d\"},{\"hovertemplate\":\"color=relationship\\u003cbr\\u003e0=%{x}\\u003cbr\\u003e1=%{y}\\u003cbr\\u003e2=%{z}\\u003cextra\\u003e\\u003c\\u002fextra\\u003e\",\"legendgroup\":\"relationship\",\"marker\":{\"color\":\"#FF97FF\",\"symbol\":\"circle\"},\"mode\":\"markers\",\"name\":\"relationship\",\"scene\":\"scene\",\"showlegend\":true,\"x\":[0.10725310444831848],\"y\":[-0.01807582564651966],\"z\":[-0.48341113328933716],\"type\":\"scatter3d\"},{\"hovertemplate\":\"color=discussion\\u003cbr\\u003e0=%{x}\\u003cbr\\u003e1=%{y}\\u003cbr\\u003e2=%{z}\\u003cextra\\u003e\\u003c\\u002fextra\\u003e\",\"legendgroup\":\"discussion\",\"marker\":{\"color\":\"#FECB52\",\"symbol\":\"circle\"},\"mode\":\"markers\",\"name\":\"discussion\",\"scene\":\"scene\",\"showlegend\":true,\"x\":[0.15187311172485352],\"y\":[0.09110277891159058],\"z\":[-0.4701002240180969],\"type\":\"scatter3d\"},{\"hovertemplate\":\"color=placed\\u003cbr\\u003e0=%{x}\\u003cbr\\u003e1=%{y}\\u003cbr\\u003e2=%{z}\\u003cextra\\u003e\\u003c\\u002fextra\\u003e\",\"legendgroup\":\"placed\",\"marker\":{\"color\":\"#636efa\",\"symbol\":\"circle\"},\"mode\":\"markers\",\"name\":\"placed\",\"scene\":\"scene\",\"showlegend\":true,\"x\":[-0.26111483573913574],\"y\":[0.22720982134342194],\"z\":[-0.15688765048980713],\"type\":\"scatter3d\"},{\"hovertemplate\":\"color=stress\\u003cbr\\u003e0=%{x}\\u003cbr\\u003e1=%{y}\\u003cbr\\u003e2=%{z}\\u003cextra\\u003e\\u003c\\u002fextra\\u003e\",\"legendgroup\":\"stress\",\"marker\":{\"color\":\"#EF553B\",\"symbol\":\"circle\"},\"mode\":\"markers\",\"name\":\"stress\",\"scene\":\"scene\",\"showlegend\":true,\"x\":[0.34643232822418213],\"y\":[-0.14498868584632874],\"z\":[-0.24790050089359283],\"type\":\"scatter3d\"},{\"hovertemplate\":\"color=progress\\u003cbr\\u003e0=%{x}\\u003cbr\\u003e1=%{y}\\u003cbr\\u003e2=%{z}\\u003cextra\\u003e\\u003c\\u002fextra\\u003e\",\"legendgroup\":\"progress\",\"marker\":{\"color\":\"#00cc96\",\"symbol\":\"circle\"},\"mode\":\"markers\",\"name\":\"progress\",\"scene\":\"scene\",\"showlegend\":true,\"x\":[-0.10491756349802017],\"y\":[0.21176625788211823],\"z\":[-0.40735775232315063],\"type\":\"scatter3d\"},{\"hovertemplate\":\"color=visit\\u003cbr\\u003e0=%{x}\\u003cbr\\u003e1=%{y}\\u003cbr\\u003e2=%{z}\\u003cextra\\u003e\\u003c\\u002fextra\\u003e\",\"legendgroup\":\"visit\",\"marker\":{\"color\":\"#ab63fa\",\"symbol\":\"circle\"},\"mode\":\"markers\",\"name\":\"visit\",\"scene\":\"scene\",\"showlegend\":true,\"x\":[0.014516378752887249],\"y\":[0.2761496603488922],\"z\":[0.0073647769168019295],\"type\":\"scatter3d\"},{\"hovertemplate\":\"color=apparently\\u003cbr\\u003e0=%{x}\\u003cbr\\u003e1=%{y}\\u003cbr\\u003e2=%{z}\\u003cextra\\u003e\\u003c\\u002fextra\\u003e\",\"legendgroup\":\"apparently\",\"marker\":{\"color\":\"#FFA15A\",\"symbol\":\"circle\"},\"mode\":\"markers\",\"name\":\"apparently\",\"scene\":\"scene\",\"showlegend\":true,\"x\":[0.14345979690551758],\"y\":[-0.22057804465293884],\"z\":[-0.0801025852560997],\"type\":\"scatter3d\"},{\"hovertemplate\":\"color=offer\\u003cbr\\u003e0=%{x}\\u003cbr\\u003e1=%{y}\\u003cbr\\u003e2=%{z}\\u003cextra\\u003e\\u003c\\u002fextra\\u003e\",\"legendgroup\":\"offer\",\"marker\":{\"color\":\"#19d3f3\",\"symbol\":\"circle\"},\"mode\":\"markers\",\"name\":\"offer\",\"scene\":\"scene\",\"showlegend\":true,\"x\":[0.14495030045509338],\"y\":[-0.13027453422546387],\"z\":[-0.2925577759742737],\"type\":\"scatter3d\"},{\"hovertemplate\":\"color=inch\\u003cbr\\u003e0=%{x}\\u003cbr\\u003e1=%{y}\\u003cbr\\u003e2=%{z}\\u003cextra\\u003e\\u003c\\u002fextra\\u003e\",\"legendgroup\":\"inch\",\"marker\":{\"color\":\"#FF6692\",\"symbol\":\"circle\"},\"mode\":\"markers\",\"name\":\"inch\",\"scene\":\"scene\",\"showlegend\":true,\"x\":[-0.32881006598472595],\"y\":[0.4506716728210449],\"z\":[0.17854231595993042],\"type\":\"scatter3d\"},{\"hovertemplate\":\"color=season\\u003cbr\\u003e0=%{x}\\u003cbr\\u003e1=%{y}\\u003cbr\\u003e2=%{z}\\u003cextra\\u003e\\u003c\\u002fextra\\u003e\",\"legendgroup\":\"season\",\"marker\":{\"color\":\"#B6E880\",\"symbol\":\"circle\"},\"mode\":\"markers\",\"name\":\"season\",\"scene\":\"scene\",\"showlegend\":true,\"x\":[-0.08380284160375595],\"y\":[0.28425508737564087],\"z\":[-0.06034141406416893],\"type\":\"scatter3d\"},{\"hovertemplate\":\"color=key\\u003cbr\\u003e0=%{x}\\u003cbr\\u003e1=%{y}\\u003cbr\\u003e2=%{z}\\u003cextra\\u003e\\u003c\\u002fextra\\u003e\",\"legendgroup\":\"key\",\"marker\":{\"color\":\"#FF97FF\",\"symbol\":\"circle\"},\"mode\":\"markers\",\"name\":\"key\",\"scene\":\"scene\",\"showlegend\":true,\"x\":[-0.09444089233875275],\"y\":[-0.00841918308287859],\"z\":[-0.11764196306467056],\"type\":\"scatter3d\"},{\"hovertemplate\":\"color=carried\\u003cbr\\u003e0=%{x}\\u003cbr\\u003e1=%{y}\\u003cbr\\u003e2=%{z}\\u003cextra\\u003e\\u003c\\u002fextra\\u003e\",\"legendgroup\":\"carried\",\"marker\":{\"color\":\"#FECB52\",\"symbol\":\"circle\"},\"mode\":\"markers\",\"name\":\"carried\",\"scene\":\"scene\",\"showlegend\":true,\"x\":[-0.20452001690864563],\"y\":[0.3406934440135956],\"z\":[0.06289685517549515],\"type\":\"scatter3d\"},{\"hovertemplate\":\"color=choice\\u003cbr\\u003e0=%{x}\\u003cbr\\u003e1=%{y}\\u003cbr\\u003e2=%{z}\\u003cextra\\u003e\\u003c\\u002fextra\\u003e\",\"legendgroup\":\"choice\",\"marker\":{\"color\":\"#636efa\",\"symbol\":\"circle\"},\"mode\":\"markers\",\"name\":\"choice\",\"scene\":\"scene\",\"showlegend\":true,\"x\":[0.16073758900165558],\"y\":[0.06080562621355057],\"z\":[-0.4252176284790039],\"type\":\"scatter3d\"},{\"hovertemplate\":\"color=artist\\u003cbr\\u003e0=%{x}\\u003cbr\\u003e1=%{y}\\u003cbr\\u003e2=%{z}\\u003cextra\\u003e\\u003c\\u002fextra\\u003e\",\"legendgroup\":\"artist\",\"marker\":{\"color\":\"#EF553B\",\"symbol\":\"circle\"},\"mode\":\"markers\",\"name\":\"artist\",\"scene\":\"scene\",\"showlegend\":true,\"x\":[0.30767300724983215],\"y\":[-0.026815038174390793],\"z\":[-0.2629859745502472],\"type\":\"scatter3d\"},{\"hovertemplate\":\"color=herself\\u003cbr\\u003e0=%{x}\\u003cbr\\u003e1=%{y}\\u003cbr\\u003e2=%{z}\\u003cextra\\u003e\\u003c\\u002fextra\\u003e\",\"legendgroup\":\"herself\",\"marker\":{\"color\":\"#00cc96\",\"symbol\":\"circle\"},\"mode\":\"markers\",\"name\":\"herself\",\"scene\":\"scene\",\"showlegend\":true,\"x\":[0.3140610456466675],\"y\":[-0.10778530687093735],\"z\":[0.3411766290664673],\"type\":\"scatter3d\"},{\"hovertemplate\":\"color=wide\\u003cbr\\u003e0=%{x}\\u003cbr\\u003e1=%{y}\\u003cbr\\u003e2=%{z}\\u003cextra\\u003e\\u003c\\u002fextra\\u003e\",\"legendgroup\":\"wide\",\"marker\":{\"color\":\"#ab63fa\",\"symbol\":\"circle\"},\"mode\":\"markers\",\"name\":\"wide\",\"scene\":\"scene\",\"showlegend\":true,\"x\":[-0.31707581877708435],\"y\":[0.14276744425296783],\"z\":[-0.10625746846199036],\"type\":\"scatter3d\"},{\"hovertemplate\":\"color=easy\\u003cbr\\u003e0=%{x}\\u003cbr\\u003e1=%{y}\\u003cbr\\u003e2=%{z}\\u003cextra\\u003e\\u003c\\u002fextra\\u003e\",\"legendgroup\":\"easy\",\"marker\":{\"color\":\"#FFA15A\",\"symbol\":\"circle\"},\"mode\":\"markers\",\"name\":\"easy\",\"scene\":\"scene\",\"showlegend\":true,\"x\":[0.513645589351654],\"y\":[-0.2285715490579605],\"z\":[-0.09749740362167358],\"type\":\"scatter3d\"},{\"hovertemplate\":\"color=division\\u003cbr\\u003e0=%{x}\\u003cbr\\u003e1=%{y}\\u003cbr\\u003e2=%{z}\\u003cextra\\u003e\\u003c\\u002fextra\\u003e\",\"legendgroup\":\"division\",\"marker\":{\"color\":\"#19d3f3\",\"symbol\":\"circle\"},\"mode\":\"markers\",\"name\":\"division\",\"scene\":\"scene\",\"showlegend\":true,\"x\":[-0.3393374979496002],\"y\":[0.32030993700027466],\"z\":[-0.16496893763542175],\"type\":\"scatter3d\"},{\"hovertemplate\":\"color=lower\\u003cbr\\u003e0=%{x}\\u003cbr\\u003e1=%{y}\\u003cbr\\u003e2=%{z}\\u003cextra\\u003e\\u003c\\u002fextra\\u003e\",\"legendgroup\":\"lower\",\"marker\":{\"color\":\"#FF6692\",\"symbol\":\"circle\"},\"mode\":\"markers\",\"name\":\"lower\",\"scene\":\"scene\",\"showlegend\":true,\"x\":[-0.23530250787734985],\"y\":[0.21328523755073547],\"z\":[-0.20444338023662567],\"type\":\"scatter3d\"},{\"hovertemplate\":\"color=b\\u003cbr\\u003e0=%{x}\\u003cbr\\u003e1=%{y}\\u003cbr\\u003e2=%{z}\\u003cextra\\u003e\\u003c\\u002fextra\\u003e\",\"legendgroup\":\"b\",\"marker\":{\"color\":\"#B6E880\",\"symbol\":\"circle\"},\"mode\":\"markers\",\"name\":\"b\",\"scene\":\"scene\",\"showlegend\":true,\"x\":[-0.2373732626438141],\"y\":[0.12108878791332245],\"z\":[-0.022865425795316696],\"type\":\"scatter3d\"},{\"hovertemplate\":\"color=race\\u003cbr\\u003e0=%{x}\\u003cbr\\u003e1=%{y}\\u003cbr\\u003e2=%{z}\\u003cextra\\u003e\\u003c\\u002fextra\\u003e\",\"legendgroup\":\"race\",\"marker\":{\"color\":\"#FF97FF\",\"symbol\":\"circle\"},\"mode\":\"markers\",\"name\":\"race\",\"scene\":\"scene\",\"showlegend\":true,\"x\":[-0.013864459469914436],\"y\":[0.1626630425453186],\"z\":[-0.4385066628456116],\"type\":\"scatter3d\"},{\"hovertemplate\":\"color=model\\u003cbr\\u003e0=%{x}\\u003cbr\\u003e1=%{y}\\u003cbr\\u003e2=%{z}\\u003cextra\\u003e\\u003c\\u002fextra\\u003e\",\"legendgroup\":\"model\",\"marker\":{\"color\":\"#FECB52\",\"symbol\":\"circle\"},\"mode\":\"markers\",\"name\":\"model\",\"scene\":\"scene\",\"showlegend\":true,\"x\":[-0.08530411869287491],\"y\":[-0.024012595415115356],\"z\":[-0.20866987109184265],\"type\":\"scatter3d\"},{\"hovertemplate\":\"color=bridge\\u003cbr\\u003e0=%{x}\\u003cbr\\u003e1=%{y}\\u003cbr\\u003e2=%{z}\\u003cextra\\u003e\\u003c\\u002fextra\\u003e\",\"legendgroup\":\"bridge\",\"marker\":{\"color\":\"#636efa\",\"symbol\":\"circle\"},\"mode\":\"markers\",\"name\":\"bridge\",\"scene\":\"scene\",\"showlegend\":true,\"x\":[-0.2764432430267334],\"y\":[0.37688547372817993],\"z\":[0.013881586492061615],\"type\":\"scatter3d\"},{\"hovertemplate\":\"color=boat\\u003cbr\\u003e0=%{x}\\u003cbr\\u003e1=%{y}\\u003cbr\\u003e2=%{z}\\u003cextra\\u003e\\u003c\\u002fextra\\u003e\",\"legendgroup\":\"boat\",\"marker\":{\"color\":\"#EF553B\",\"symbol\":\"circle\"},\"mode\":\"markers\",\"name\":\"boat\",\"scene\":\"scene\",\"showlegend\":true,\"x\":[-0.20981796085834503],\"y\":[0.14874812960624695],\"z\":[-0.19661355018615723],\"type\":\"scatter3d\"},{\"hovertemplate\":\"color=latter\\u003cbr\\u003e0=%{x}\\u003cbr\\u003e1=%{y}\\u003cbr\\u003e2=%{z}\\u003cextra\\u003e\\u003c\\u002fextra\\u003e\",\"legendgroup\":\"latter\",\"marker\":{\"color\":\"#00cc96\",\"symbol\":\"circle\"},\"mode\":\"markers\",\"name\":\"latter\",\"scene\":\"scene\",\"showlegend\":true,\"x\":[-0.08191394805908203],\"y\":[0.17237424850463867],\"z\":[-0.3075335919857025],\"type\":\"scatter3d\"},{\"hovertemplate\":\"color=running\\u003cbr\\u003e0=%{x}\\u003cbr\\u003e1=%{y}\\u003cbr\\u003e2=%{z}\\u003cextra\\u003e\\u003c\\u002fextra\\u003e\",\"legendgroup\":\"running\",\"marker\":{\"color\":\"#ab63fa\",\"symbol\":\"circle\"},\"mode\":\"markers\",\"name\":\"running\",\"scene\":\"scene\",\"showlegend\":true,\"x\":[-0.18752345442771912],\"y\":[0.23235630989074707],\"z\":[0.03529288247227669],\"type\":\"scatter3d\"},{\"hovertemplate\":\"color=recently\\u003cbr\\u003e0=%{x}\\u003cbr\\u003e1=%{y}\\u003cbr\\u003e2=%{z}\\u003cextra\\u003e\\u003c\\u002fextra\\u003e\",\"legendgroup\":\"recently\",\"marker\":{\"color\":\"#FFA15A\",\"symbol\":\"circle\"},\"mode\":\"markers\",\"name\":\"recently\",\"scene\":\"scene\",\"showlegend\":true,\"x\":[-0.10106885433197021],\"y\":[-0.04349947348237038],\"z\":[0.029695678502321243],\"type\":\"scatter3d\"},{\"hovertemplate\":\"color=enemy\\u003cbr\\u003e0=%{x}\\u003cbr\\u003e1=%{y}\\u003cbr\\u003e2=%{z}\\u003cextra\\u003e\\u003c\\u002fextra\\u003e\",\"legendgroup\":\"enemy\",\"marker\":{\"color\":\"#19d3f3\",\"symbol\":\"circle\"},\"mode\":\"markers\",\"name\":\"enemy\",\"scene\":\"scene\",\"showlegend\":true,\"x\":[0.2283560037612915],\"y\":[0.17483378946781158],\"z\":[-0.24338825047016144],\"type\":\"scatter3d\"},{\"hovertemplate\":\"color=larger\\u003cbr\\u003e0=%{x}\\u003cbr\\u003e1=%{y}\\u003cbr\\u003e2=%{z}\\u003cextra\\u003e\\u003c\\u002fextra\\u003e\",\"legendgroup\":\"larger\",\"marker\":{\"color\":\"#FF6692\",\"symbol\":\"circle\"},\"mode\":\"markers\",\"name\":\"larger\",\"scene\":\"scene\",\"showlegend\":true,\"x\":[0.11866062879562378],\"y\":[0.08815740793943405],\"z\":[-0.3941991627216339],\"type\":\"scatter3d\"},{\"hovertemplate\":\"color=green\\u003cbr\\u003e0=%{x}\\u003cbr\\u003e1=%{y}\\u003cbr\\u003e2=%{z}\\u003cextra\\u003e\\u003c\\u002fextra\\u003e\",\"legendgroup\":\"green\",\"marker\":{\"color\":\"#B6E880\",\"symbol\":\"circle\"},\"mode\":\"markers\",\"name\":\"green\",\"scene\":\"scene\",\"showlegend\":true,\"x\":[-0.335201621055603],\"y\":[0.13206231594085693],\"z\":[0.21247167885303497],\"type\":\"scatter3d\"},{\"hovertemplate\":\"color=15\\u003cbr\\u003e0=%{x}\\u003cbr\\u003e1=%{y}\\u003cbr\\u003e2=%{z}\\u003cextra\\u003e\\u003c\\u002fextra\\u003e\",\"legendgroup\":\"15\",\"marker\":{\"color\":\"#FF97FF\",\"symbol\":\"circle\"},\"mode\":\"markers\",\"name\":\"15\",\"scene\":\"scene\",\"showlegend\":true,\"x\":[-0.26338791847229004],\"y\":[0.3842237591743469],\"z\":[0.10747475922107697],\"type\":\"scatter3d\"},{\"hovertemplate\":\"color=immediately\\u003cbr\\u003e0=%{x}\\u003cbr\\u003e1=%{y}\\u003cbr\\u003e2=%{z}\\u003cextra\\u003e\\u003c\\u002fextra\\u003e\",\"legendgroup\":\"immediately\",\"marker\":{\"color\":\"#FECB52\",\"symbol\":\"circle\"},\"mode\":\"markers\",\"name\":\"immediately\",\"scene\":\"scene\",\"showlegend\":true,\"x\":[-0.15092571079730988],\"y\":[0.05306297913193703],\"z\":[-0.09471319615840912],\"type\":\"scatter3d\"},{\"hovertemplate\":\"color=worker\\u003cbr\\u003e0=%{x}\\u003cbr\\u003e1=%{y}\\u003cbr\\u003e2=%{z}\\u003cextra\\u003e\\u003c\\u002fextra\\u003e\",\"legendgroup\":\"worker\",\"marker\":{\"color\":\"#636efa\",\"symbol\":\"circle\"},\"mode\":\"markers\",\"name\":\"worker\",\"scene\":\"scene\",\"showlegend\":true,\"x\":[0.025388896465301514],\"y\":[0.052338287234306335],\"z\":[-0.30123066902160645],\"type\":\"scatter3d\"},{\"hovertemplate\":\"color=bar\\u003cbr\\u003e0=%{x}\\u003cbr\\u003e1=%{y}\\u003cbr\\u003e2=%{z}\\u003cextra\\u003e\\u003c\\u002fextra\\u003e\",\"legendgroup\":\"bar\",\"marker\":{\"color\":\"#EF553B\",\"symbol\":\"circle\"},\"mode\":\"markers\",\"name\":\"bar\",\"scene\":\"scene\",\"showlegend\":true,\"x\":[-0.3233674466609955],\"y\":[0.2929326891899109],\"z\":[-0.026702778413891792],\"type\":\"scatter3d\"},{\"hovertemplate\":\"color=oh\\u003cbr\\u003e0=%{x}\\u003cbr\\u003e1=%{y}\\u003cbr\\u003e2=%{z}\\u003cextra\\u003e\\u003c\\u002fextra\\u003e\",\"legendgroup\":\"oh\",\"marker\":{\"color\":\"#00cc96\",\"symbol\":\"circle\"},\"mode\":\"markers\",\"name\":\"oh\",\"scene\":\"scene\",\"showlegend\":true,\"x\":[0.4740261435508728],\"y\":[-0.15822279453277588],\"z\":[0.09892475605010986],\"type\":\"scatter3d\"},{\"hovertemplate\":\"color=staff\\u003cbr\\u003e0=%{x}\\u003cbr\\u003e1=%{y}\\u003cbr\\u003e2=%{z}\\u003cextra\\u003e\\u003c\\u002fextra\\u003e\",\"legendgroup\":\"staff\",\"marker\":{\"color\":\"#ab63fa\",\"symbol\":\"circle\"},\"mode\":\"markers\",\"name\":\"staff\",\"scene\":\"scene\",\"showlegend\":true,\"x\":[-0.2743537425994873],\"y\":[0.272230327129364],\"z\":[-0.11054125428199768],\"type\":\"scatter3d\"},{\"hovertemplate\":\"color=understanding\\u003cbr\\u003e0=%{x}\\u003cbr\\u003e1=%{y}\\u003cbr\\u003e2=%{z}\\u003cextra\\u003e\\u003c\\u002fextra\\u003e\",\"legendgroup\":\"understanding\",\"marker\":{\"color\":\"#FFA15A\",\"symbol\":\"circle\"},\"mode\":\"markers\",\"name\":\"understanding\",\"scene\":\"scene\",\"showlegend\":true,\"x\":[0.32051995396614075],\"y\":[-0.04135892167687416],\"z\":[-0.5234652757644653],\"type\":\"scatter3d\"},{\"hovertemplate\":\"color=conference\\u003cbr\\u003e0=%{x}\\u003cbr\\u003e1=%{y}\\u003cbr\\u003e2=%{z}\\u003cextra\\u003e\\u003c\\u002fextra\\u003e\",\"legendgroup\":\"conference\",\"marker\":{\"color\":\"#19d3f3\",\"symbol\":\"circle\"},\"mode\":\"markers\",\"name\":\"conference\",\"scene\":\"scene\",\"showlegend\":true,\"x\":[-0.30359748005867004],\"y\":[0.2789173126220703],\"z\":[-0.033446818590164185],\"type\":\"scatter3d\"},{\"hovertemplate\":\"color=afternoon\\u003cbr\\u003e0=%{x}\\u003cbr\\u003e1=%{y}\\u003cbr\\u003e2=%{z}\\u003cextra\\u003e\\u003c\\u002fextra\\u003e\",\"legendgroup\":\"afternoon\",\"marker\":{\"color\":\"#FF6692\",\"symbol\":\"circle\"},\"mode\":\"markers\",\"name\":\"afternoon\",\"scene\":\"scene\",\"showlegend\":true,\"x\":[-0.11337568610906601],\"y\":[0.39468884468078613],\"z\":[0.12916621565818787],\"type\":\"scatter3d\"},{\"hovertemplate\":\"color=marriage\\u003cbr\\u003e0=%{x}\\u003cbr\\u003e1=%{y}\\u003cbr\\u003e2=%{z}\\u003cextra\\u003e\\u003c\\u002fextra\\u003e\",\"legendgroup\":\"marriage\",\"marker\":{\"color\":\"#B6E880\",\"symbol\":\"circle\"},\"mode\":\"markers\",\"name\":\"marriage\",\"scene\":\"scene\",\"showlegend\":true,\"x\":[0.14528660476207733],\"y\":[0.09177479892969131],\"z\":[-0.1066378727555275],\"type\":\"scatter3d\"},{\"hovertemplate\":\"color=daily\\u003cbr\\u003e0=%{x}\\u003cbr\\u003e1=%{y}\\u003cbr\\u003e2=%{z}\\u003cextra\\u003e\\u003c\\u002fextra\\u003e\",\"legendgroup\":\"daily\",\"marker\":{\"color\":\"#FF97FF\",\"symbol\":\"circle\"},\"mode\":\"markers\",\"name\":\"daily\",\"scene\":\"scene\",\"showlegend\":true,\"x\":[-0.3380078375339508],\"y\":[0.18037043511867523],\"z\":[0.05479754880070686],\"type\":\"scatter3d\"},{\"hovertemplate\":\"color=difficulty\\u003cbr\\u003e0=%{x}\\u003cbr\\u003e1=%{y}\\u003cbr\\u003e2=%{z}\\u003cextra\\u003e\\u003c\\u002fextra\\u003e\",\"legendgroup\":\"difficulty\",\"marker\":{\"color\":\"#FECB52\",\"symbol\":\"circle\"},\"mode\":\"markers\",\"name\":\"difficulty\",\"scene\":\"scene\",\"showlegend\":true,\"x\":[0.2878682315349579],\"y\":[-0.005347772501409054],\"z\":[-0.3221942186355591],\"type\":\"scatter3d\"},{\"hovertemplate\":\"color=structure\\u003cbr\\u003e0=%{x}\\u003cbr\\u003e1=%{y}\\u003cbr\\u003e2=%{z}\\u003cextra\\u003e\\u003c\\u002fextra\\u003e\",\"legendgroup\":\"structure\",\"marker\":{\"color\":\"#636efa\",\"symbol\":\"circle\"},\"mode\":\"markers\",\"name\":\"structure\",\"scene\":\"scene\",\"showlegend\":true,\"x\":[-0.10192282497882843],\"y\":[0.05604008212685585],\"z\":[-0.35156115889549255],\"type\":\"scatter3d\"},{\"hovertemplate\":\"color=hill\\u003cbr\\u003e0=%{x}\\u003cbr\\u003e1=%{y}\\u003cbr\\u003e2=%{z}\\u003cextra\\u003e\\u003c\\u002fextra\\u003e\",\"legendgroup\":\"hill\",\"marker\":{\"color\":\"#EF553B\",\"symbol\":\"circle\"},\"mode\":\"markers\",\"name\":\"hill\",\"scene\":\"scene\",\"showlegend\":true,\"x\":[-0.34926721453666687],\"y\":[0.3539971113204956],\"z\":[0.19392794370651245],\"type\":\"scatter3d\"},{\"hovertemplate\":\"color=lady\\u003cbr\\u003e0=%{x}\\u003cbr\\u003e1=%{y}\\u003cbr\\u003e2=%{z}\\u003cextra\\u003e\\u003c\\u002fextra\\u003e\",\"legendgroup\":\"lady\",\"marker\":{\"color\":\"#00cc96\",\"symbol\":\"circle\"},\"mode\":\"markers\",\"name\":\"lady\",\"scene\":\"scene\",\"showlegend\":true,\"x\":[0.16258402168750763],\"y\":[-0.035752397030591965],\"z\":[0.17660367488861084],\"type\":\"scatter3d\"},{\"hovertemplate\":\"color=blood\\u003cbr\\u003e0=%{x}\\u003cbr\\u003e1=%{y}\\u003cbr\\u003e2=%{z}\\u003cextra\\u003e\\u003c\\u002fextra\\u003e\",\"legendgroup\":\"blood\",\"marker\":{\"color\":\"#ab63fa\",\"symbol\":\"circle\"},\"mode\":\"markers\",\"name\":\"blood\",\"scene\":\"scene\",\"showlegend\":true,\"x\":[-0.229117289185524],\"y\":[0.0388253778219223],\"z\":[-0.053324174135923386],\"type\":\"scatter3d\"},{\"hovertemplate\":\"color=6\\u003cbr\\u003e0=%{x}\\u003cbr\\u003e1=%{y}\\u003cbr\\u003e2=%{z}\\u003cextra\\u003e\\u003c\\u002fextra\\u003e\",\"legendgroup\":\"6\",\"marker\":{\"color\":\"#FFA15A\",\"symbol\":\"circle\"},\"mode\":\"markers\",\"name\":\"6\",\"scene\":\"scene\",\"showlegend\":true,\"x\":[-0.2866644561290741],\"y\":[0.2418832778930664],\"z\":[0.05369539186358452],\"type\":\"scatter3d\"},{\"hovertemplate\":\"color=rise\\u003cbr\\u003e0=%{x}\\u003cbr\\u003e1=%{y}\\u003cbr\\u003e2=%{z}\\u003cextra\\u003e\\u003c\\u002fextra\\u003e\",\"legendgroup\":\"rise\",\"marker\":{\"color\":\"#19d3f3\",\"symbol\":\"circle\"},\"mode\":\"markers\",\"name\":\"rise\",\"scene\":\"scene\",\"showlegend\":true,\"x\":[-0.15366315841674805],\"y\":[0.1655006855726242],\"z\":[-0.1259465515613556],\"type\":\"scatter3d\"},{\"hovertemplate\":\"color=europe\\u003cbr\\u003e0=%{x}\\u003cbr\\u003e1=%{y}\\u003cbr\\u003e2=%{z}\\u003cextra\\u003e\\u003c\\u002fextra\\u003e\",\"legendgroup\":\"europe\",\"marker\":{\"color\":\"#FF6692\",\"symbol\":\"circle\"},\"mode\":\"markers\",\"name\":\"europe\",\"scene\":\"scene\",\"showlegend\":true,\"x\":[-0.1804567128419876],\"y\":[0.31553906202316284],\"z\":[-0.14252831041812897],\"type\":\"scatter3d\"},{\"hovertemplate\":\"color=director\\u003cbr\\u003e0=%{x}\\u003cbr\\u003e1=%{y}\\u003cbr\\u003e2=%{z}\\u003cextra\\u003e\\u003c\\u002fextra\\u003e\",\"legendgroup\":\"director\",\"marker\":{\"color\":\"#B6E880\",\"symbol\":\"circle\"},\"mode\":\"markers\",\"name\":\"director\",\"scene\":\"scene\",\"showlegend\":true,\"x\":[-0.27229079604148865],\"y\":[0.2593771815299988],\"z\":[0.08709312975406647],\"type\":\"scatter3d\"},{\"hovertemplate\":\"color=bank\\u003cbr\\u003e0=%{x}\\u003cbr\\u003e1=%{y}\\u003cbr\\u003e2=%{z}\\u003cextra\\u003e\\u003c\\u002fextra\\u003e\",\"legendgroup\":\"bank\",\"marker\":{\"color\":\"#FF97FF\",\"symbol\":\"circle\"},\"mode\":\"markers\",\"name\":\"bank\",\"scene\":\"scene\",\"showlegend\":true,\"x\":[-0.33355703949928284],\"y\":[0.3360040783882141],\"z\":[0.04066227003931999],\"type\":\"scatter3d\"},{\"hovertemplate\":\"color=agreement\\u003cbr\\u003e0=%{x}\\u003cbr\\u003e1=%{y}\\u003cbr\\u003e2=%{z}\\u003cextra\\u003e\\u003c\\u002fextra\\u003e\",\"legendgroup\":\"agreement\",\"marker\":{\"color\":\"#FECB52\",\"symbol\":\"circle\"},\"mode\":\"markers\",\"name\":\"agreement\",\"scene\":\"scene\",\"showlegend\":true,\"x\":[-0.06599237769842148],\"y\":[0.16147483885288239],\"z\":[-0.35010650753974915],\"type\":\"scatter3d\"},{\"hovertemplate\":\"color=analysis\\u003cbr\\u003e0=%{x}\\u003cbr\\u003e1=%{y}\\u003cbr\\u003e2=%{z}\\u003cextra\\u003e\\u003c\\u002fextra\\u003e\",\"legendgroup\":\"analysis\",\"marker\":{\"color\":\"#636efa\",\"symbol\":\"circle\"},\"mode\":\"markers\",\"name\":\"analysis\",\"scene\":\"scene\",\"showlegend\":true,\"x\":[0.04371233657002449],\"y\":[0.02540058270096779],\"z\":[-0.40215733647346497],\"type\":\"scatter3d\"},{\"hovertemplate\":\"color=citizen\\u003cbr\\u003e0=%{x}\\u003cbr\\u003e1=%{y}\\u003cbr\\u003e2=%{z}\\u003cextra\\u003e\\u003c\\u002fextra\\u003e\",\"legendgroup\":\"citizen\",\"marker\":{\"color\":\"#EF553B\",\"symbol\":\"circle\"},\"mode\":\"markers\",\"name\":\"citizen\",\"scene\":\"scene\",\"showlegend\":true,\"x\":[0.06709684431552887],\"y\":[0.06920769810676575],\"z\":[-0.43233034014701843],\"type\":\"scatter3d\"},{\"hovertemplate\":\"color=additional\\u003cbr\\u003e0=%{x}\\u003cbr\\u003e1=%{y}\\u003cbr\\u003e2=%{z}\\u003cextra\\u003e\\u003c\\u002fextra\\u003e\",\"legendgroup\":\"additional\",\"marker\":{\"color\":\"#00cc96\",\"symbol\":\"circle\"},\"mode\":\"markers\",\"name\":\"additional\",\"scene\":\"scene\",\"showlegend\":true,\"x\":[-0.0950271487236023],\"y\":[-0.04124867543578148],\"z\":[-0.262135773897171],\"type\":\"scatter3d\"},{\"hovertemplate\":\"color=technical\\u003cbr\\u003e0=%{x}\\u003cbr\\u003e1=%{y}\\u003cbr\\u003e2=%{z}\\u003cextra\\u003e\\u003c\\u002fextra\\u003e\",\"legendgroup\":\"technical\",\"marker\":{\"color\":\"#ab63fa\",\"symbol\":\"circle\"},\"mode\":\"markers\",\"name\":\"technical\",\"scene\":\"scene\",\"showlegend\":true,\"x\":[-0.008715705946087837],\"y\":[-0.027378462255001068],\"z\":[-0.41952285170555115],\"type\":\"scatter3d\"},{\"hovertemplate\":\"color=fiscal\\u003cbr\\u003e0=%{x}\\u003cbr\\u003e1=%{y}\\u003cbr\\u003e2=%{z}\\u003cextra\\u003e\\u003c\\u002fextra\\u003e\",\"legendgroup\":\"fiscal\",\"marker\":{\"color\":\"#FFA15A\",\"symbol\":\"circle\"},\"mode\":\"markers\",\"name\":\"fiscal\",\"scene\":\"scene\",\"showlegend\":true,\"x\":[-0.1808309108018875],\"y\":[0.2087598592042923],\"z\":[-0.21599180996418],\"type\":\"scatter3d\"},{\"hovertemplate\":\"color=cover\\u003cbr\\u003e0=%{x}\\u003cbr\\u003e1=%{y}\\u003cbr\\u003e2=%{z}\\u003cextra\\u003e\\u003c\\u002fextra\\u003e\",\"legendgroup\":\"cover\",\"marker\":{\"color\":\"#19d3f3\",\"symbol\":\"circle\"},\"mode\":\"markers\",\"name\":\"cover\",\"scene\":\"scene\",\"showlegend\":true,\"x\":[-0.25647613406181335],\"y\":[0.16652348637580872],\"z\":[-0.11055656522512436],\"type\":\"scatter3d\"},{\"hovertemplate\":\"color=corporation\\u003cbr\\u003e0=%{x}\\u003cbr\\u003e1=%{y}\\u003cbr\\u003e2=%{z}\\u003cextra\\u003e\\u003c\\u002fextra\\u003e\",\"legendgroup\":\"corporation\",\"marker\":{\"color\":\"#FF6692\",\"symbol\":\"circle\"},\"mode\":\"markers\",\"name\":\"corporation\",\"scene\":\"scene\",\"showlegend\":true,\"x\":[-0.175613671541214],\"y\":[0.19417814910411835],\"z\":[-0.27881360054016113],\"type\":\"scatter3d\"},{\"hovertemplate\":\"color=main\\u003cbr\\u003e0=%{x}\\u003cbr\\u003e1=%{y}\\u003cbr\\u003e2=%{z}\\u003cextra\\u003e\\u003c\\u002fextra\\u003e\",\"legendgroup\":\"main\",\"marker\":{\"color\":\"#B6E880\",\"symbol\":\"circle\"},\"mode\":\"markers\",\"name\":\"main\",\"scene\":\"scene\",\"showlegend\":true,\"x\":[-0.22698724269866943],\"y\":[0.14455865323543549],\"z\":[-0.1833282858133316],\"type\":\"scatter3d\"},{\"hovertemplate\":\"color=characteristic\\u003cbr\\u003e0=%{x}\\u003cbr\\u003e1=%{y}\\u003cbr\\u003e2=%{z}\\u003cextra\\u003e\\u003c\\u002fextra\\u003e\",\"legendgroup\":\"characteristic\",\"marker\":{\"color\":\"#FF97FF\",\"symbol\":\"circle\"},\"mode\":\"markers\",\"name\":\"characteristic\",\"scene\":\"scene\",\"showlegend\":true,\"x\":[0.11022245138883591],\"y\":[-0.02538459748029709],\"z\":[-0.4340324401855469],\"type\":\"scatter3d\"},{\"hovertemplate\":\"color=described\\u003cbr\\u003e0=%{x}\\u003cbr\\u003e1=%{y}\\u003cbr\\u003e2=%{z}\\u003cextra\\u003e\\u003c\\u002fextra\\u003e\",\"legendgroup\":\"described\",\"marker\":{\"color\":\"#FECB52\",\"symbol\":\"circle\"},\"mode\":\"markers\",\"name\":\"described\",\"scene\":\"scene\",\"showlegend\":true,\"x\":[-0.07020270079374313],\"y\":[0.10922888666391373],\"z\":[-0.10367338359355927],\"type\":\"scatter3d\"},{\"hovertemplate\":\"color=30\\u003cbr\\u003e0=%{x}\\u003cbr\\u003e1=%{y}\\u003cbr\\u003e2=%{z}\\u003cextra\\u003e\\u003c\\u002fextra\\u003e\",\"legendgroup\":\"30\",\"marker\":{\"color\":\"#636efa\",\"symbol\":\"circle\"},\"mode\":\"markers\",\"name\":\"30\",\"scene\":\"scene\",\"showlegend\":true,\"x\":[-0.26887109875679016],\"y\":[0.414678692817688],\"z\":[0.12430568039417267],\"type\":\"scatter3d\"},{\"hovertemplate\":\"color=served\\u003cbr\\u003e0=%{x}\\u003cbr\\u003e1=%{y}\\u003cbr\\u003e2=%{z}\\u003cextra\\u003e\\u003c\\u002fextra\\u003e\",\"legendgroup\":\"served\",\"marker\":{\"color\":\"#EF553B\",\"symbol\":\"circle\"},\"mode\":\"markers\",\"name\":\"served\",\"scene\":\"scene\",\"showlegend\":true,\"x\":[-0.004084435757249594],\"y\":[-0.026744626462459564],\"z\":[-0.05029088258743286],\"type\":\"scatter3d\"},{\"hovertemplate\":\"color=middle\\u003cbr\\u003e0=%{x}\\u003cbr\\u003e1=%{y}\\u003cbr\\u003e2=%{z}\\u003cextra\\u003e\\u003c\\u002fextra\\u003e\",\"legendgroup\":\"middle\",\"marker\":{\"color\":\"#00cc96\",\"symbol\":\"circle\"},\"mode\":\"markers\",\"name\":\"middle\",\"scene\":\"scene\",\"showlegend\":true,\"x\":[-0.24843110144138336],\"y\":[0.29381293058395386],\"z\":[-0.16801756620407104],\"type\":\"scatter3d\"},{\"hovertemplate\":\"color=determined\\u003cbr\\u003e0=%{x}\\u003cbr\\u003e1=%{y}\\u003cbr\\u003e2=%{z}\\u003cextra\\u003e\\u003c\\u002fextra\\u003e\",\"legendgroup\":\"determined\",\"marker\":{\"color\":\"#ab63fa\",\"symbol\":\"circle\"},\"mode\":\"markers\",\"name\":\"determined\",\"scene\":\"scene\",\"showlegend\":true,\"x\":[-0.011070814915001392],\"y\":[0.14508740603923798],\"z\":[-0.401144802570343],\"type\":\"scatter3d\"},{\"hovertemplate\":\"color=based\\u003cbr\\u003e0=%{x}\\u003cbr\\u003e1=%{y}\\u003cbr\\u003e2=%{z}\\u003cextra\\u003e\\u003c\\u002fextra\\u003e\",\"legendgroup\":\"based\",\"marker\":{\"color\":\"#FFA15A\",\"symbol\":\"circle\"},\"mode\":\"markers\",\"name\":\"based\",\"scene\":\"scene\",\"showlegend\":true,\"x\":[-0.052535898983478546],\"y\":[0.17238323390483856],\"z\":[-0.3349674344062805],\"type\":\"scatter3d\"},{\"hovertemplate\":\"color=reported\\u003cbr\\u003e0=%{x}\\u003cbr\\u003e1=%{y}\\u003cbr\\u003e2=%{z}\\u003cextra\\u003e\\u003c\\u002fextra\\u003e\",\"legendgroup\":\"reported\",\"marker\":{\"color\":\"#19d3f3\",\"symbol\":\"circle\"},\"mode\":\"markers\",\"name\":\"reported\",\"scene\":\"scene\",\"showlegend\":true,\"x\":[-0.21170921623706818],\"y\":[0.13207939267158508],\"z\":[-0.09230368584394455],\"type\":\"scatter3d\"},{\"hovertemplate\":\"color=sun\\u003cbr\\u003e0=%{x}\\u003cbr\\u003e1=%{y}\\u003cbr\\u003e2=%{z}\\u003cextra\\u003e\\u003c\\u002fextra\\u003e\",\"legendgroup\":\"sun\",\"marker\":{\"color\":\"#FF6692\",\"symbol\":\"circle\"},\"mode\":\"markers\",\"name\":\"sun\",\"scene\":\"scene\",\"showlegend\":true,\"x\":[-0.24131940305233002],\"y\":[0.17803315818309784],\"z\":[-0.026857655495405197],\"type\":\"scatter3d\"},{\"hovertemplate\":\"color=justice\\u003cbr\\u003e0=%{x}\\u003cbr\\u003e1=%{y}\\u003cbr\\u003e2=%{z}\\u003cextra\\u003e\\u003c\\u002fextra\\u003e\",\"legendgroup\":\"justice\",\"marker\":{\"color\":\"#B6E880\",\"symbol\":\"circle\"},\"mode\":\"markers\",\"name\":\"justice\",\"scene\":\"scene\",\"showlegend\":true,\"x\":[0.14028574526309967],\"y\":[0.05616467818617821],\"z\":[-0.2570402920246124],\"type\":\"scatter3d\"},{\"hovertemplate\":\"color=region\\u003cbr\\u003e0=%{x}\\u003cbr\\u003e1=%{y}\\u003cbr\\u003e2=%{z}\\u003cextra\\u003e\\u003c\\u002fextra\\u003e\",\"legendgroup\":\"region\",\"marker\":{\"color\":\"#FF97FF\",\"symbol\":\"circle\"},\"mode\":\"markers\",\"name\":\"region\",\"scene\":\"scene\",\"showlegend\":true,\"x\":[-0.2941582500934601],\"y\":[0.21419356763362885],\"z\":[-0.19493146240711212],\"type\":\"scatter3d\"},{\"hovertemplate\":\"color=catholic\\u003cbr\\u003e0=%{x}\\u003cbr\\u003e1=%{y}\\u003cbr\\u003e2=%{z}\\u003cextra\\u003e\\u003c\\u002fextra\\u003e\",\"legendgroup\":\"catholic\",\"marker\":{\"color\":\"#FECB52\",\"symbol\":\"circle\"},\"mode\":\"markers\",\"name\":\"catholic\",\"scene\":\"scene\",\"showlegend\":true,\"x\":[-0.106828972697258],\"y\":[-0.07359649240970612],\"z\":[-0.23135074973106384],\"type\":\"scatter3d\"},{\"hovertemplate\":\"color=british\\u003cbr\\u003e0=%{x}\\u003cbr\\u003e1=%{y}\\u003cbr\\u003e2=%{z}\\u003cextra\\u003e\\u003c\\u002fextra\\u003e\",\"legendgroup\":\"british\",\"marker\":{\"color\":\"#636efa\",\"symbol\":\"circle\"},\"mode\":\"markers\",\"name\":\"british\",\"scene\":\"scene\",\"showlegend\":true,\"x\":[-0.17262066900730133],\"y\":[0.07245943695306778],\"z\":[-0.16313371062278748],\"type\":\"scatter3d\"},{\"hovertemplate\":\"color=agency\\u003cbr\\u003e0=%{x}\\u003cbr\\u003e1=%{y}\\u003cbr\\u003e2=%{z}\\u003cextra\\u003e\\u003c\\u002fextra\\u003e\",\"legendgroup\":\"agency\",\"marker\":{\"color\":\"#EF553B\",\"symbol\":\"circle\"},\"mode\":\"markers\",\"name\":\"agency\",\"scene\":\"scene\",\"showlegend\":true,\"x\":[-0.21626242995262146],\"y\":[0.341198205947876],\"z\":[-0.3236709535121918],\"type\":\"scatter3d\"},{\"hovertemplate\":\"color=aj\\u003cbr\\u003e0=%{x}\\u003cbr\\u003e1=%{y}\\u003cbr\\u003e2=%{z}\\u003cextra\\u003e\\u003c\\u002fextra\\u003e\",\"legendgroup\":\"aj\",\"marker\":{\"color\":\"#00cc96\",\"symbol\":\"circle\"},\"mode\":\"markers\",\"name\":\"aj\",\"scene\":\"scene\",\"showlegend\":true,\"x\":[-0.3188575208187103],\"y\":[0.29550132155418396],\"z\":[-0.08097832649946213],\"type\":\"scatter3d\"},{\"hovertemplate\":\"color=stay\\u003cbr\\u003e0=%{x}\\u003cbr\\u003e1=%{y}\\u003cbr\\u003e2=%{z}\\u003cextra\\u003e\\u003c\\u002fextra\\u003e\",\"legendgroup\":\"stay\",\"marker\":{\"color\":\"#ab63fa\",\"symbol\":\"circle\"},\"mode\":\"markers\",\"name\":\"stay\",\"scene\":\"scene\",\"showlegend\":true,\"x\":[0.42299845814704895],\"y\":[0.0016117567429319024],\"z\":[-0.05373922362923622],\"type\":\"scatter3d\"},{\"hovertemplate\":\"color=style\\u003cbr\\u003e0=%{x}\\u003cbr\\u003e1=%{y}\\u003cbr\\u003e2=%{z}\\u003cextra\\u003e\\u003c\\u002fextra\\u003e\",\"legendgroup\":\"style\",\"marker\":{\"color\":\"#FFA15A\",\"symbol\":\"circle\"},\"mode\":\"markers\",\"name\":\"style\",\"scene\":\"scene\",\"showlegend\":true,\"x\":[-0.06482580304145813],\"y\":[-0.06012263149023056],\"z\":[-0.10975578427314758],\"type\":\"scatter3d\"},{\"hovertemplate\":\"color=appear\\u003cbr\\u003e0=%{x}\\u003cbr\\u003e1=%{y}\\u003cbr\\u003e2=%{z}\\u003cextra\\u003e\\u003c\\u002fextra\\u003e\",\"legendgroup\":\"appear\",\"marker\":{\"color\":\"#19d3f3\",\"symbol\":\"circle\"},\"mode\":\"markers\",\"name\":\"appear\",\"scene\":\"scene\",\"showlegend\":true,\"x\":[0.36414918303489685],\"y\":[-0.1892751306295395],\"z\":[-0.27437901496887207],\"type\":\"scatter3d\"},{\"hovertemplate\":\"color=feature\\u003cbr\\u003e0=%{x}\\u003cbr\\u003e1=%{y}\\u003cbr\\u003e2=%{z}\\u003cextra\\u003e\\u003c\\u002fextra\\u003e\",\"legendgroup\":\"feature\",\"marker\":{\"color\":\"#FF6692\",\"symbol\":\"circle\"},\"mode\":\"markers\",\"name\":\"feature\",\"scene\":\"scene\",\"showlegend\":true,\"x\":[-0.049787212163209915],\"y\":[0.08352352678775787],\"z\":[-0.4277716279029846],\"type\":\"scatter3d\"},{\"hovertemplate\":\"color=christ\\u003cbr\\u003e0=%{x}\\u003cbr\\u003e1=%{y}\\u003cbr\\u003e2=%{z}\\u003cextra\\u003e\\u003c\\u002fextra\\u003e\",\"legendgroup\":\"christ\",\"marker\":{\"color\":\"#B6E880\",\"symbol\":\"circle\"},\"mode\":\"markers\",\"name\":\"christ\",\"scene\":\"scene\",\"showlegend\":true,\"x\":[0.14602214097976685],\"y\":[0.11076439172029495],\"z\":[-0.17400354146957397],\"type\":\"scatter3d\"},{\"hovertemplate\":\"color=learned\\u003cbr\\u003e0=%{x}\\u003cbr\\u003e1=%{y}\\u003cbr\\u003e2=%{z}\\u003cextra\\u003e\\u003c\\u002fextra\\u003e\",\"legendgroup\":\"learned\",\"marker\":{\"color\":\"#FF97FF\",\"symbol\":\"circle\"},\"mode\":\"markers\",\"name\":\"learned\",\"scene\":\"scene\",\"showlegend\":true,\"x\":[0.4293045699596405],\"y\":[-0.09380150586366653],\"z\":[0.18660376965999603],\"type\":\"scatter3d\"},{\"hovertemplate\":\"color=s.\\u003cbr\\u003e0=%{x}\\u003cbr\\u003e1=%{y}\\u003cbr\\u003e2=%{z}\\u003cextra\\u003e\\u003c\\u002fextra\\u003e\",\"legendgroup\":\"s.\",\"marker\":{\"color\":\"#FECB52\",\"symbol\":\"circle\"},\"mode\":\"markers\",\"name\":\"s.\",\"scene\":\"scene\",\"showlegend\":true,\"x\":[-0.34388211369514465],\"y\":[0.19169840216636658],\"z\":[0.30194157361984253],\"type\":\"scatter3d\"},{\"hovertemplate\":\"color=commission\\u003cbr\\u003e0=%{x}\\u003cbr\\u003e1=%{y}\\u003cbr\\u003e2=%{z}\\u003cextra\\u003e\\u003c\\u002fextra\\u003e\",\"legendgroup\":\"commission\",\"marker\":{\"color\":\"#636efa\",\"symbol\":\"circle\"},\"mode\":\"markers\",\"name\":\"commission\",\"scene\":\"scene\",\"showlegend\":true,\"x\":[-0.19257807731628418],\"y\":[0.2370091676712036],\"z\":[-0.19998356699943542],\"type\":\"scatter3d\"},{\"hovertemplate\":\"color=affair\\u003cbr\\u003e0=%{x}\\u003cbr\\u003e1=%{y}\\u003cbr\\u003e2=%{z}\\u003cextra\\u003e\\u003c\\u002fextra\\u003e\",\"legendgroup\":\"affair\",\"marker\":{\"color\":\"#EF553B\",\"symbol\":\"circle\"},\"mode\":\"markers\",\"name\":\"affair\",\"scene\":\"scene\",\"showlegend\":true,\"x\":[0.042217426002025604],\"y\":[0.007170446217060089],\"z\":[-0.33443984389305115],\"type\":\"scatter3d\"},{\"hovertemplate\":\"color=serious\\u003cbr\\u003e0=%{x}\\u003cbr\\u003e1=%{y}\\u003cbr\\u003e2=%{z}\\u003cextra\\u003e\\u003c\\u002fextra\\u003e\",\"legendgroup\":\"serious\",\"marker\":{\"color\":\"#00cc96\",\"symbol\":\"circle\"},\"mode\":\"markers\",\"name\":\"serious\",\"scene\":\"scene\",\"showlegend\":true,\"x\":[0.25216177105903625],\"y\":[-0.20075520873069763],\"z\":[-0.4301850199699402],\"type\":\"scatter3d\"},{\"hovertemplate\":\"color=lack\\u003cbr\\u003e0=%{x}\\u003cbr\\u003e1=%{y}\\u003cbr\\u003e2=%{z}\\u003cextra\\u003e\\u003c\\u002fextra\\u003e\",\"legendgroup\":\"lack\",\"marker\":{\"color\":\"#ab63fa\",\"symbol\":\"circle\"},\"mode\":\"markers\",\"name\":\"lack\",\"scene\":\"scene\",\"showlegend\":true,\"x\":[0.1528717279434204],\"y\":[-0.11723104119300842],\"z\":[-0.44546428322792053],\"type\":\"scatter3d\"},{\"hovertemplate\":\"color=sunday\\u003cbr\\u003e0=%{x}\\u003cbr\\u003e1=%{y}\\u003cbr\\u003e2=%{z}\\u003cextra\\u003e\\u003c\\u002fextra\\u003e\",\"legendgroup\":\"sunday\",\"marker\":{\"color\":\"#FFA15A\",\"symbol\":\"circle\"},\"mode\":\"markers\",\"name\":\"sunday\",\"scene\":\"scene\",\"showlegend\":true,\"x\":[-0.23881196975708008],\"y\":[0.3007846176624298],\"z\":[0.12049318104982376],\"type\":\"scatter3d\"},{\"hovertemplate\":\"color=specific\\u003cbr\\u003e0=%{x}\\u003cbr\\u003e1=%{y}\\u003cbr\\u003e2=%{z}\\u003cextra\\u003e\\u003c\\u002fextra\\u003e\",\"legendgroup\":\"specific\",\"marker\":{\"color\":\"#19d3f3\",\"symbol\":\"circle\"},\"mode\":\"markers\",\"name\":\"specific\",\"scene\":\"scene\",\"showlegend\":true,\"x\":[-0.03635747730731964],\"y\":[-0.05773274973034859],\"z\":[-0.3931087553501129],\"type\":\"scatter3d\"},{\"hovertemplate\":\"color=edge\\u003cbr\\u003e0=%{x}\\u003cbr\\u003e1=%{y}\\u003cbr\\u003e2=%{z}\\u003cextra\\u003e\\u003c\\u002fextra\\u003e\",\"legendgroup\":\"edge\",\"marker\":{\"color\":\"#FF6692\",\"symbol\":\"circle\"},\"mode\":\"markers\",\"name\":\"edge\",\"scene\":\"scene\",\"showlegend\":true,\"x\":[-0.24849338829517365],\"y\":[0.2693352699279785],\"z\":[0.025378823280334473],\"type\":\"scatter3d\"},{\"hovertemplate\":\"color=slowly\\u003cbr\\u003e0=%{x}\\u003cbr\\u003e1=%{y}\\u003cbr\\u003e2=%{z}\\u003cextra\\u003e\\u003c\\u002fextra\\u003e\",\"legendgroup\":\"slowly\",\"marker\":{\"color\":\"#B6E880\",\"symbol\":\"circle\"},\"mode\":\"markers\",\"name\":\"slowly\",\"scene\":\"scene\",\"showlegend\":true,\"x\":[-0.18920530378818512],\"y\":[-0.013290908187627792],\"z\":[0.3085596263408661],\"type\":\"scatter3d\"},{\"hovertemplate\":\"color=lived\\u003cbr\\u003e0=%{x}\\u003cbr\\u003e1=%{y}\\u003cbr\\u003e2=%{z}\\u003cextra\\u003e\\u003c\\u002fextra\\u003e\",\"legendgroup\":\"lived\",\"marker\":{\"color\":\"#FF97FF\",\"symbol\":\"circle\"},\"mode\":\"markers\",\"name\":\"lived\",\"scene\":\"scene\",\"showlegend\":true,\"x\":[0.08496858924627304],\"y\":[0.11800842732191086],\"z\":[0.17554070055484772],\"type\":\"scatter3d\"},{\"hovertemplate\":\"color=success\\u003cbr\\u003e0=%{x}\\u003cbr\\u003e1=%{y}\\u003cbr\\u003e2=%{z}\\u003cextra\\u003e\\u003c\\u002fextra\\u003e\",\"legendgroup\":\"success\",\"marker\":{\"color\":\"#FECB52\",\"symbol\":\"circle\"},\"mode\":\"markers\",\"name\":\"success\",\"scene\":\"scene\",\"showlegend\":true,\"x\":[0.20849961042404175],\"y\":[0.02700919471681118],\"z\":[-0.436623752117157],\"type\":\"scatter3d\"}],                        {\"template\":{\"data\":{\"histogram2dcontour\":[{\"type\":\"histogram2dcontour\",\"colorbar\":{\"outlinewidth\":0,\"ticks\":\"\"},\"colorscale\":[[0.0,\"#0d0887\"],[0.1111111111111111,\"#46039f\"],[0.2222222222222222,\"#7201a8\"],[0.3333333333333333,\"#9c179e\"],[0.4444444444444444,\"#bd3786\"],[0.5555555555555556,\"#d8576b\"],[0.6666666666666666,\"#ed7953\"],[0.7777777777777778,\"#fb9f3a\"],[0.8888888888888888,\"#fdca26\"],[1.0,\"#f0f921\"]]}],\"choropleth\":[{\"type\":\"choropleth\",\"colorbar\":{\"outlinewidth\":0,\"ticks\":\"\"}}],\"histogram2d\":[{\"type\":\"histogram2d\",\"colorbar\":{\"outlinewidth\":0,\"ticks\":\"\"},\"colorscale\":[[0.0,\"#0d0887\"],[0.1111111111111111,\"#46039f\"],[0.2222222222222222,\"#7201a8\"],[0.3333333333333333,\"#9c179e\"],[0.4444444444444444,\"#bd3786\"],[0.5555555555555556,\"#d8576b\"],[0.6666666666666666,\"#ed7953\"],[0.7777777777777778,\"#fb9f3a\"],[0.8888888888888888,\"#fdca26\"],[1.0,\"#f0f921\"]]}],\"heatmap\":[{\"type\":\"heatmap\",\"colorbar\":{\"outlinewidth\":0,\"ticks\":\"\"},\"colorscale\":[[0.0,\"#0d0887\"],[0.1111111111111111,\"#46039f\"],[0.2222222222222222,\"#7201a8\"],[0.3333333333333333,\"#9c179e\"],[0.4444444444444444,\"#bd3786\"],[0.5555555555555556,\"#d8576b\"],[0.6666666666666666,\"#ed7953\"],[0.7777777777777778,\"#fb9f3a\"],[0.8888888888888888,\"#fdca26\"],[1.0,\"#f0f921\"]]}],\"heatmapgl\":[{\"type\":\"heatmapgl\",\"colorbar\":{\"outlinewidth\":0,\"ticks\":\"\"},\"colorscale\":[[0.0,\"#0d0887\"],[0.1111111111111111,\"#46039f\"],[0.2222222222222222,\"#7201a8\"],[0.3333333333333333,\"#9c179e\"],[0.4444444444444444,\"#bd3786\"],[0.5555555555555556,\"#d8576b\"],[0.6666666666666666,\"#ed7953\"],[0.7777777777777778,\"#fb9f3a\"],[0.8888888888888888,\"#fdca26\"],[1.0,\"#f0f921\"]]}],\"contourcarpet\":[{\"type\":\"contourcarpet\",\"colorbar\":{\"outlinewidth\":0,\"ticks\":\"\"}}],\"contour\":[{\"type\":\"contour\",\"colorbar\":{\"outlinewidth\":0,\"ticks\":\"\"},\"colorscale\":[[0.0,\"#0d0887\"],[0.1111111111111111,\"#46039f\"],[0.2222222222222222,\"#7201a8\"],[0.3333333333333333,\"#9c179e\"],[0.4444444444444444,\"#bd3786\"],[0.5555555555555556,\"#d8576b\"],[0.6666666666666666,\"#ed7953\"],[0.7777777777777778,\"#fb9f3a\"],[0.8888888888888888,\"#fdca26\"],[1.0,\"#f0f921\"]]}],\"surface\":[{\"type\":\"surface\",\"colorbar\":{\"outlinewidth\":0,\"ticks\":\"\"},\"colorscale\":[[0.0,\"#0d0887\"],[0.1111111111111111,\"#46039f\"],[0.2222222222222222,\"#7201a8\"],[0.3333333333333333,\"#9c179e\"],[0.4444444444444444,\"#bd3786\"],[0.5555555555555556,\"#d8576b\"],[0.6666666666666666,\"#ed7953\"],[0.7777777777777778,\"#fb9f3a\"],[0.8888888888888888,\"#fdca26\"],[1.0,\"#f0f921\"]]}],\"mesh3d\":[{\"type\":\"mesh3d\",\"colorbar\":{\"outlinewidth\":0,\"ticks\":\"\"}}],\"scatter\":[{\"fillpattern\":{\"fillmode\":\"overlay\",\"size\":10,\"solidity\":0.2},\"type\":\"scatter\"}],\"parcoords\":[{\"type\":\"parcoords\",\"line\":{\"colorbar\":{\"outlinewidth\":0,\"ticks\":\"\"}}}],\"scatterpolargl\":[{\"type\":\"scatterpolargl\",\"marker\":{\"colorbar\":{\"outlinewidth\":0,\"ticks\":\"\"}}}],\"bar\":[{\"error_x\":{\"color\":\"#2a3f5f\"},\"error_y\":{\"color\":\"#2a3f5f\"},\"marker\":{\"line\":{\"color\":\"#E5ECF6\",\"width\":0.5},\"pattern\":{\"fillmode\":\"overlay\",\"size\":10,\"solidity\":0.2}},\"type\":\"bar\"}],\"scattergeo\":[{\"type\":\"scattergeo\",\"marker\":{\"colorbar\":{\"outlinewidth\":0,\"ticks\":\"\"}}}],\"scatterpolar\":[{\"type\":\"scatterpolar\",\"marker\":{\"colorbar\":{\"outlinewidth\":0,\"ticks\":\"\"}}}],\"histogram\":[{\"marker\":{\"pattern\":{\"fillmode\":\"overlay\",\"size\":10,\"solidity\":0.2}},\"type\":\"histogram\"}],\"scattergl\":[{\"type\":\"scattergl\",\"marker\":{\"colorbar\":{\"outlinewidth\":0,\"ticks\":\"\"}}}],\"scatter3d\":[{\"type\":\"scatter3d\",\"line\":{\"colorbar\":{\"outlinewidth\":0,\"ticks\":\"\"}},\"marker\":{\"colorbar\":{\"outlinewidth\":0,\"ticks\":\"\"}}}],\"scattermapbox\":[{\"type\":\"scattermapbox\",\"marker\":{\"colorbar\":{\"outlinewidth\":0,\"ticks\":\"\"}}}],\"scatterternary\":[{\"type\":\"scatterternary\",\"marker\":{\"colorbar\":{\"outlinewidth\":0,\"ticks\":\"\"}}}],\"scattercarpet\":[{\"type\":\"scattercarpet\",\"marker\":{\"colorbar\":{\"outlinewidth\":0,\"ticks\":\"\"}}}],\"carpet\":[{\"aaxis\":{\"endlinecolor\":\"#2a3f5f\",\"gridcolor\":\"white\",\"linecolor\":\"white\",\"minorgridcolor\":\"white\",\"startlinecolor\":\"#2a3f5f\"},\"baxis\":{\"endlinecolor\":\"#2a3f5f\",\"gridcolor\":\"white\",\"linecolor\":\"white\",\"minorgridcolor\":\"white\",\"startlinecolor\":\"#2a3f5f\"},\"type\":\"carpet\"}],\"table\":[{\"cells\":{\"fill\":{\"color\":\"#EBF0F8\"},\"line\":{\"color\":\"white\"}},\"header\":{\"fill\":{\"color\":\"#C8D4E3\"},\"line\":{\"color\":\"white\"}},\"type\":\"table\"}],\"barpolar\":[{\"marker\":{\"line\":{\"color\":\"#E5ECF6\",\"width\":0.5},\"pattern\":{\"fillmode\":\"overlay\",\"size\":10,\"solidity\":0.2}},\"type\":\"barpolar\"}],\"pie\":[{\"automargin\":true,\"type\":\"pie\"}]},\"layout\":{\"autotypenumbers\":\"strict\",\"colorway\":[\"#636efa\",\"#EF553B\",\"#00cc96\",\"#ab63fa\",\"#FFA15A\",\"#19d3f3\",\"#FF6692\",\"#B6E880\",\"#FF97FF\",\"#FECB52\"],\"font\":{\"color\":\"#2a3f5f\"},\"hovermode\":\"closest\",\"hoverlabel\":{\"align\":\"left\"},\"paper_bgcolor\":\"white\",\"plot_bgcolor\":\"#E5ECF6\",\"polar\":{\"bgcolor\":\"#E5ECF6\",\"angularaxis\":{\"gridcolor\":\"white\",\"linecolor\":\"white\",\"ticks\":\"\"},\"radialaxis\":{\"gridcolor\":\"white\",\"linecolor\":\"white\",\"ticks\":\"\"}},\"ternary\":{\"bgcolor\":\"#E5ECF6\",\"aaxis\":{\"gridcolor\":\"white\",\"linecolor\":\"white\",\"ticks\":\"\"},\"baxis\":{\"gridcolor\":\"white\",\"linecolor\":\"white\",\"ticks\":\"\"},\"caxis\":{\"gridcolor\":\"white\",\"linecolor\":\"white\",\"ticks\":\"\"}},\"coloraxis\":{\"colorbar\":{\"outlinewidth\":0,\"ticks\":\"\"}},\"colorscale\":{\"sequential\":[[0.0,\"#0d0887\"],[0.1111111111111111,\"#46039f\"],[0.2222222222222222,\"#7201a8\"],[0.3333333333333333,\"#9c179e\"],[0.4444444444444444,\"#bd3786\"],[0.5555555555555556,\"#d8576b\"],[0.6666666666666666,\"#ed7953\"],[0.7777777777777778,\"#fb9f3a\"],[0.8888888888888888,\"#fdca26\"],[1.0,\"#f0f921\"]],\"sequentialminus\":[[0.0,\"#0d0887\"],[0.1111111111111111,\"#46039f\"],[0.2222222222222222,\"#7201a8\"],[0.3333333333333333,\"#9c179e\"],[0.4444444444444444,\"#bd3786\"],[0.5555555555555556,\"#d8576b\"],[0.6666666666666666,\"#ed7953\"],[0.7777777777777778,\"#fb9f3a\"],[0.8888888888888888,\"#fdca26\"],[1.0,\"#f0f921\"]],\"diverging\":[[0,\"#8e0152\"],[0.1,\"#c51b7d\"],[0.2,\"#de77ae\"],[0.3,\"#f1b6da\"],[0.4,\"#fde0ef\"],[0.5,\"#f7f7f7\"],[0.6,\"#e6f5d0\"],[0.7,\"#b8e186\"],[0.8,\"#7fbc41\"],[0.9,\"#4d9221\"],[1,\"#276419\"]]},\"xaxis\":{\"gridcolor\":\"white\",\"linecolor\":\"white\",\"ticks\":\"\",\"title\":{\"standoff\":15},\"zerolinecolor\":\"white\",\"automargin\":true,\"zerolinewidth\":2},\"yaxis\":{\"gridcolor\":\"white\",\"linecolor\":\"white\",\"ticks\":\"\",\"title\":{\"standoff\":15},\"zerolinecolor\":\"white\",\"automargin\":true,\"zerolinewidth\":2},\"scene\":{\"xaxis\":{\"backgroundcolor\":\"#E5ECF6\",\"gridcolor\":\"white\",\"linecolor\":\"white\",\"showbackground\":true,\"ticks\":\"\",\"zerolinecolor\":\"white\",\"gridwidth\":2},\"yaxis\":{\"backgroundcolor\":\"#E5ECF6\",\"gridcolor\":\"white\",\"linecolor\":\"white\",\"showbackground\":true,\"ticks\":\"\",\"zerolinecolor\":\"white\",\"gridwidth\":2},\"zaxis\":{\"backgroundcolor\":\"#E5ECF6\",\"gridcolor\":\"white\",\"linecolor\":\"white\",\"showbackground\":true,\"ticks\":\"\",\"zerolinecolor\":\"white\",\"gridwidth\":2}},\"shapedefaults\":{\"line\":{\"color\":\"#2a3f5f\"}},\"annotationdefaults\":{\"arrowcolor\":\"#2a3f5f\",\"arrowhead\":0,\"arrowwidth\":1},\"geo\":{\"bgcolor\":\"white\",\"landcolor\":\"#E5ECF6\",\"subunitcolor\":\"white\",\"showland\":true,\"showlakes\":true,\"lakecolor\":\"white\"},\"title\":{\"x\":0.05},\"mapbox\":{\"style\":\"light\"}}},\"scene\":{\"domain\":{\"x\":[0.0,1.0],\"y\":[0.0,1.0]},\"xaxis\":{\"title\":{\"text\":\"0\"}},\"yaxis\":{\"title\":{\"text\":\"1\"}},\"zaxis\":{\"title\":{\"text\":\"2\"}}},\"legend\":{\"title\":{\"text\":\"color\"},\"tracegroupgap\":0},\"margin\":{\"t\":60}},                        {\"responsive\": true}                    ).then(function(){\n",
              "                            \n",
              "var gd = document.getElementById('86e49a8a-83f5-4130-a0f2-8ce91d685d0a');\n",
              "var x = new MutationObserver(function (mutations, observer) {{\n",
              "        var display = window.getComputedStyle(gd).display;\n",
              "        if (!display || display === 'none') {{\n",
              "            console.log([gd, 'removed!']);\n",
              "            Plotly.purge(gd);\n",
              "            observer.disconnect();\n",
              "        }}\n",
              "}});\n",
              "\n",
              "// Listen for the removal of the full notebook cells\n",
              "var notebookContainer = gd.closest('#notebook-container');\n",
              "if (notebookContainer) {{\n",
              "    x.observe(notebookContainer, {childList: true});\n",
              "}}\n",
              "\n",
              "// Listen for the clearing of the current output cell\n",
              "var outputEl = gd.closest('.output');\n",
              "if (outputEl) {{\n",
              "    x.observe(outputEl, {childList: true});\n",
              "}}\n",
              "\n",
              "                        })                };                            </script>        </div>\n",
              "</body>\n",
              "</html>"
            ]
          },
          "metadata": {},
          "output_type": "display_data"
        }
      ],
      "source": [
        "fig = p.scatter_3d(X[500:1000], x=0, y=1, z=2, color = y[500:1000])\n",
        "fig.show()"
      ]
    },
    {
      "cell_type": "markdown",
      "metadata": {
        "id": "Omdd23vXR1oj"
      },
      "source": [
        "### 1.b Unconstrained representation of words"
      ]
    },
    {
      "cell_type": "markdown",
      "metadata": {
        "id": "_qNVjh-GmL8X"
      },
      "source": [
        "#### Preprocessing"
      ]
    },
    {
      "cell_type": "code",
      "execution_count": null,
      "metadata": {
        "colab": {
          "base_uri": "https://localhost:8080/"
        },
        "id": "CMhpZs5ggW4p",
        "outputId": "eb476d7b-b1c3-4ca3-b4a1-1736444b585a"
      },
      "outputs": [
        {
          "name": "stdout",
          "output_type": "stream",
          "text": [
            "Traceback (most recent call last):\n",
            "  File \"/usr/lib/python3.10/importlib/metadata/__init__.py\", line 927, in read_text\n",
            "    return self._path.joinpath(filename).read_text(encoding='utf-8')\n",
            "  File \"/usr/lib/python3.10/pathlib.py\", line 1134, in read_text\n",
            "    with self.open(mode='r', encoding=encoding, errors=errors) as f:\n",
            "  File \"/usr/lib/python3.10/pathlib.py\", line 1119, in open\n",
            "    return self._accessor.open(self, mode, buffering, encoding, errors,\n",
            "FileNotFoundError: [Errno 2] No such file or directory: '/usr/local/lib/python3.10/dist-packages/sphinxcontrib_serializinghtml-1.1.10.dist-info/entry_points.txt'\n",
            "\n",
            "During handling of the above exception, another exception occurred:\n",
            "\n",
            "Traceback (most recent call last):\n",
            "  File \"/usr/lib/python3.10/runpy.py\", line 187, in _run_module_as_main\n",
            "    mod_name, mod_spec, code = _get_module_details(mod_name, _Error)\n",
            "  File \"/usr/lib/python3.10/runpy.py\", line 146, in _get_module_details\n",
            "    return _get_module_details(pkg_main_name, error)\n",
            "  File \"/usr/lib/python3.10/runpy.py\", line 110, in _get_module_details\n",
            "    __import__(pkg_name)\n",
            "  File \"/usr/local/lib/python3.10/dist-packages/spacy/__init__.py\", line 6, in <module>\n",
            "    from .errors import setup_default_warnings\n",
            "  File \"/usr/local/lib/python3.10/dist-packages/spacy/errors.py\", line 3, in <module>\n",
            "    from .compat import Literal\n",
            "  File \"/usr/local/lib/python3.10/dist-packages/spacy/compat.py\", line 4, in <module>\n",
            "    from thinc.util import copy_array\n",
            "  File \"/usr/local/lib/python3.10/dist-packages/thinc/__init__.py\", line 5, in <module>\n",
            "    from .config import registry\n",
            "  File \"/usr/local/lib/python3.10/dist-packages/thinc/config.py\", line 1, in <module>\n",
            "    import catalogue\n",
            "  File \"/usr/local/lib/python3.10/dist-packages/catalogue/__init__.py\", line 11, in <module>\n",
            "    AVAILABLE_ENTRY_POINTS = importlib_metadata.entry_points()  # type: ignore\n",
            "  File \"/usr/lib/python3.10/importlib/metadata/__init__.py\", line 1021, in entry_points\n",
            "    return SelectableGroups.load(eps).select(**params)\n",
            "  File \"/usr/lib/python3.10/importlib/metadata/__init__.py\", line 459, in load\n",
            "    ordered = sorted(eps, key=by_group)\n",
            "  File \"/usr/lib/python3.10/importlib/metadata/__init__.py\", line 1019, in <genexpr>\n",
            "    dist.entry_points for dist in unique(distributions())\n",
            "  File \"/usr/lib/python3.10/importlib/metadata/__init__.py\", line 631, in entry_points\n",
            "    return EntryPoints._from_text_for(self.read_text('entry_points.txt'), self)\n",
            "  File \"/usr/lib/python3.10/importlib/metadata/__init__.py\", line 927, in read_text\n",
            "    return self._path.joinpath(filename).read_text(encoding='utf-8')\n",
            "KeyboardInterrupt\n",
            "^C\n"
          ]
        }
      ],
      "source": [
        "!python -m spacy download en_core_web_lg\n",
        "nlp = spacy.load(\"en_core_web_lg\")\n",
        "\n",
        "\n"
      ]
    },
    {
      "cell_type": "code",
      "execution_count": null,
      "metadata": {
        "colab": {
          "base_uri": "https://localhost:8080/"
        },
        "id": "1KYWtVMDocoF",
        "outputId": "6182a132-f0b6-421d-fb08-2232f4fb6b0c"
      },
      "outputs": [
        {
          "name": "stdout",
          "output_type": "stream",
          "text": [
            "--2024-02-13 19:04:22--  http://nlp.stanford.edu/data/glove.6B.zip\n",
            "Resolving nlp.stanford.edu (nlp.stanford.edu)... 171.64.67.140\n",
            "Connecting to nlp.stanford.edu (nlp.stanford.edu)|171.64.67.140|:80... connected.\n",
            "HTTP request sent, awaiting response... 302 Found\n",
            "Location: https://nlp.stanford.edu/data/glove.6B.zip [following]\n",
            "--2024-02-13 19:04:22--  https://nlp.stanford.edu/data/glove.6B.zip\n",
            "Connecting to nlp.stanford.edu (nlp.stanford.edu)|171.64.67.140|:443... connected.\n",
            "HTTP request sent, awaiting response... 301 Moved Permanently\n",
            "Location: https://downloads.cs.stanford.edu/nlp/data/glove.6B.zip [following]\n",
            "--2024-02-13 19:04:23--  https://downloads.cs.stanford.edu/nlp/data/glove.6B.zip\n",
            "Resolving downloads.cs.stanford.edu (downloads.cs.stanford.edu)... 171.64.64.22\n",
            "Connecting to downloads.cs.stanford.edu (downloads.cs.stanford.edu)|171.64.64.22|:443... connected.\n",
            "HTTP request sent, awaiting response... 200 OK\n",
            "Length: 862182613 (822M) [application/zip]\n",
            "Saving to: ‘glove.6B.zip’\n",
            "\n",
            "glove.6B.zip        100%[===================>] 822.24M  5.01MB/s    in 2m 39s  \n",
            "\n",
            "2024-02-13 19:07:02 (5.17 MB/s) - ‘glove.6B.zip’ saved [862182613/862182613]\n",
            "\n",
            "Archive:  glove.6B.zip\n",
            "  inflating: glove.6B.50d.txt        \n",
            "  inflating: glove.6B.100d.txt       \n",
            "  inflating: glove.6B.200d.txt       \n",
            "  inflating: glove.6B.300d.txt       \n"
          ]
        }
      ],
      "source": [
        "!wget http://nlp.stanford.edu/data/glove.6B.zip\n",
        "!unzip glove.6B.zip\n"
      ]
    },
    {
      "cell_type": "code",
      "execution_count": null,
      "metadata": {
        "id": "6Mp5_jynrhA4"
      },
      "outputs": [],
      "source": [
        "def load_glove_embeddings(path):\n",
        "    embeddings_index = {}\n",
        "    with open(path) as f:\n",
        "        for line in f:\n",
        "            values = line.split()\n",
        "            word = values[0]\n",
        "            coefs = np.asarray(values[1:], dtype='float32')\n",
        "            embeddings_index[word] = coefs\n",
        "    return embeddings_index\n",
        "\n",
        "glove_path = 'glove.6B.100d.txt'"
      ]
    },
    {
      "cell_type": "markdown",
      "metadata": {
        "id": "QhY62PZsm1FH"
      },
      "source": [
        "#### Word2Vec"
      ]
    },
    {
      "cell_type": "code",
      "execution_count": null,
      "metadata": {
        "colab": {
          "base_uri": "https://localhost:8080/"
        },
        "id": "j73HALPNg2W4",
        "outputId": "1ebada45-c600-4223-b70c-01e5b618f680"
      },
      "outputs": [
        {
          "name": "stdout",
          "output_type": "stream",
          "text": [
            "      word1        word2  SimLex999  ModelSimilarity  word1_afinn  \\\n",
            "0       old          new      0.158         0.319609          0.0   \n",
            "1     smart  intelligent      0.920         0.744467          0.2   \n",
            "2      hard    difficult      0.877         0.735163         -0.2   \n",
            "3     happy     cheerful      0.955         0.638997          0.6   \n",
            "4      hard         easy      0.095         0.910724         -0.2   \n",
            "..      ...          ...        ...              ...          ...   \n",
            "994    join      acquire      0.285         0.871304          0.2   \n",
            "995    send       attend      0.167         0.840495          0.0   \n",
            "996  gather       attend      0.480         0.882083          0.0   \n",
            "997  absorb     withdraw      0.297         0.758678          0.0   \n",
            "998  attend       arrive      0.608         0.775865          0.0   \n",
            "\n",
            "     word2_afinn    NewSim  Spacy_lm  \n",
            "0            0.0  0.319609  0.157152  \n",
            "1            0.4  0.644467  0.592976  \n",
            "2           -0.2  0.735163  0.698994  \n",
            "3            0.4  0.638997  0.606921  \n",
            "4            0.2  0.710724  0.554700  \n",
            "..           ...       ...       ...  \n",
            "994          0.0  0.871304  0.320770  \n",
            "995          0.0  0.840495  0.379135  \n",
            "996          0.0  0.882083  0.478372  \n",
            "997          0.0  0.758678  0.349713  \n",
            "998          0.0  0.775865  0.421151  \n",
            "\n",
            "[999 rows x 8 columns]\n"
          ]
        }
      ],
      "source": [
        "\n",
        "\n",
        "def try_similarity_model1(word1, word2, model):\n",
        "    try:\n",
        "        word1_enc = nlp(word1)\n",
        "        word2_enc = nlp(word2)\n",
        "        return word1_enc.similarity(word2_enc)\n",
        "    except KeyError:\n",
        "        return 0\n",
        "\n",
        "# df.drop(columns = ['ModelSimilarity', 'word1_afinn', 'word2_afinn', 'NewSim', 'test_grade', 'model_grade'], inplace = True)\n",
        "df['Spacy_lm'] = df.apply(lambda row: try_similarity_model1(row['word1'], row['word2'], model), axis=1)\n",
        "print(df)\n"
      ]
    },
    {
      "cell_type": "code",
      "execution_count": null,
      "metadata": {
        "colab": {
          "base_uri": "https://localhost:8080/"
        },
        "id": "lrQQpyHjmHJT",
        "outputId": "bf0df8ed-aa6c-497c-af50-fcfb76cf8960"
      },
      "outputs": [
        {
          "name": "stdout",
          "output_type": "stream",
          "text": [
            "Accuracy of Spacy unconstricted model:  47.647647647647645\n",
            "Accuracy of Spacy unconstricted model with grades:  76.87687687687688\n",
            "Mse spacy:  0.06030644678805455\n"
          ]
        }
      ],
      "source": [
        "def calculate_accuracy_spacy(df, threshold):\n",
        "    df['Difference'] = abs(df['SimLex999'] - df['Spacy_lm'])\n",
        "    df['IsAccurate'] = df['Difference'] <= threshold\n",
        "    accuracy_percentage = (df['IsAccurate'].sum() / len(df)) * 100\n",
        "    df.drop(columns = ['Difference', 'IsAccurate'], inplace = True)\n",
        "    return accuracy_percentage\n",
        "\n",
        "def calc_accuracy_grades_spacy(df):\n",
        "    df[\"test_grade\"] = df.apply(lambda row: grade_similarity(row['SimLex999']), axis = 1)\n",
        "    df[\"model_grade\"] = df.apply(lambda row: int(grade_similarity(row['Spacy_lm'])), axis =1 )\n",
        "    df['Difference'] = abs(df['test_grade'] - df['model_grade'])\n",
        "    df['IsAccurate'] = df['Difference'] <= 1\n",
        "    accuracy_percentage = (df['IsAccurate'].sum() / len(df)) * 100\n",
        "    df.drop(columns = ['Difference', 'IsAccurate', 'test_grade', 'model_grade'], inplace = True)\n",
        "    return accuracy_percentage\n",
        "\n",
        "\n",
        "accuracy_perc_spacy = calculate_accuracy_spacy(df, 0.15)\n",
        "accuracy_grade_spacy = calc_accuracy_grades_spacy(df)\n",
        "\n",
        "\n",
        "print(\"Accuracy of Spacy unconstricted model: \", accuracy_perc_spacy)\n",
        "print(\"Accuracy of Spacy unconstricted model with grades: \", accuracy_grade_spacy)\n",
        "\n",
        "\n",
        "mse_spacy = mean_squared_error(df['SimLex999'], df['Spacy_lm'])\n",
        "print(\"Mse spacy: \", mse_spacy)"
      ]
    },
    {
      "cell_type": "markdown",
      "metadata": {
        "id": "ShaziTWwm3oq"
      },
      "source": [
        "#### GloVe"
      ]
    },
    {
      "cell_type": "code",
      "execution_count": null,
      "metadata": {
        "colab": {
          "base_uri": "https://localhost:8080/"
        },
        "id": "mdIcenb3uOjz",
        "outputId": "f2a8a175-efe5-4d0e-bfa7-56b8d73a3ceb"
      },
      "outputs": [
        {
          "name": "stdout",
          "output_type": "stream",
          "text": [
            "      word1        word2  SimLex999  ModelSimilarity  word1_afinn  \\\n",
            "0       old          new      0.158         0.319609          0.0   \n",
            "1     smart  intelligent      0.920         0.744467          0.2   \n",
            "2      hard    difficult      0.877         0.735163         -0.2   \n",
            "3     happy     cheerful      0.955         0.638997          0.6   \n",
            "4      hard         easy      0.095         0.910724         -0.2   \n",
            "..      ...          ...        ...              ...          ...   \n",
            "994    join      acquire      0.285         0.871304          0.2   \n",
            "995    send       attend      0.167         0.840495          0.0   \n",
            "996  gather       attend      0.480         0.882083          0.0   \n",
            "997  absorb     withdraw      0.297         0.758678          0.0   \n",
            "998  attend       arrive      0.608         0.775865          0.0   \n",
            "\n",
            "     word2_afinn    NewSim  Spacy_lm  Glove_Sim  \n",
            "0            0.0  0.319609  0.157152   0.643249  \n",
            "1            0.4  0.644467  0.592976   0.755273  \n",
            "2           -0.2  0.735163  0.698994   0.785255  \n",
            "3            0.4  0.638997  0.606921   0.545994  \n",
            "4            0.2  0.710724  0.554700   0.766768  \n",
            "..           ...       ...       ...        ...  \n",
            "994          0.0  0.871304  0.320770   0.464711  \n",
            "995          0.0  0.840495  0.379135   0.500936  \n",
            "996          0.0  0.882083  0.478372   0.540244  \n",
            "997          0.0  0.758678  0.349713   0.289158  \n",
            "998          0.0  0.775865  0.421151   0.593840  \n",
            "\n",
            "[999 rows x 9 columns]\n"
          ]
        }
      ],
      "source": [
        "embeddings_index = load_glove_embeddings(glove_path) #embeddings_index\n",
        "def cosine_similarity(vec1, vec2):\n",
        "    return np.dot(vec1, vec2) / (np.linalg.norm(vec1)* np.linalg.norm(vec2))\n",
        "\n",
        "def try_similarity_glove(word1, word2, embeddings):\n",
        "    try:\n",
        "        word1_emb = embeddings[word1]\n",
        "        word2_emb = embeddings[word2]\n",
        "        return cosine_similarity(word1_emb, word2_emb)\n",
        "\n",
        "    except KeyError:\n",
        "        return 0\n",
        "\n",
        "\n",
        "\n",
        "df['Glove_Sim'] = df.apply(lambda row: try_similarity_glove(row['word1'], row['word2'], embeddings_index), axis=1)\n",
        "print(df)"
      ]
    },
    {
      "cell_type": "code",
      "execution_count": null,
      "metadata": {
        "colab": {
          "base_uri": "https://localhost:8080/"
        },
        "id": "nfppPZIXuqI0",
        "outputId": "54b46f83-e243-4bc5-924c-3f085ebc5e92"
      },
      "outputs": [
        {
          "name": "stdout",
          "output_type": "stream",
          "text": [
            "Accuracy of Glove unconstricted model:  41.64164164164164\n",
            "Accuracy of Glove unconstricted model with grades:  71.47147147147147\n",
            "Mse glove:  0.07515397461959626\n"
          ]
        }
      ],
      "source": [
        "def calculate_accuracy_glove(df, threshold):\n",
        "    df['Difference'] = abs(df['SimLex999'] - df['Glove_Sim'])\n",
        "    df['IsAccurate'] = df['Difference'] <= threshold\n",
        "    accuracy_percentage = (df['IsAccurate'].sum() / len(df)) * 100\n",
        "    df.drop(columns = ['Difference', 'IsAccurate'], inplace = True)\n",
        "    return accuracy_percentage\n",
        "\n",
        "def calc_accuracy_grades_glove(df):\n",
        "    df[\"test_grade\"] = df.apply(lambda row: grade_similarity(row['SimLex999']), axis = 1)\n",
        "    df[\"model_grade\"] = df.apply(lambda row: int(grade_similarity(row['Glove_Sim'])), axis =1 )\n",
        "    df['Difference'] = abs(df['test_grade'] - df['model_grade'])\n",
        "    df['IsAccurate'] = df['Difference'] <= 1\n",
        "    accuracy_percentage = (df['IsAccurate'].sum() / len(df)) * 100\n",
        "    df.drop(columns = ['Difference', 'IsAccurate', 'test_grade', 'model_grade'], inplace = True)\n",
        "    return accuracy_percentage\n",
        "\n",
        "accuracy_perc_glove = calculate_accuracy_glove(df, 0.15)\n",
        "accuracy_grade_glove = calc_accuracy_grades_glove(df)\n",
        "\n",
        "print(\"Accuracy of Glove unconstricted model: \", accuracy_perc_glove)\n",
        "print(\"Accuracy of Glove unconstricted model with grades: \", accuracy_grade_glove)\n",
        "\n",
        "mse_glove = mean_squared_error(df['SimLex999'], df['Glove_Sim'])\n",
        "\n",
        "print(\"Mse glove: \", mse_glove)"
      ]
    },
    {
      "cell_type": "markdown",
      "metadata": {
        "id": "dULSl4QTE3OA"
      },
      "source": [
        "## Part 2: Phrase Embeddings\n"
      ]
    },
    {
      "cell_type": "markdown",
      "metadata": {
        "id": "wFU-5rbWe-S4"
      },
      "source": [
        "### Preprocessing\n"
      ]
    },
    {
      "cell_type": "code",
      "execution_count": null,
      "metadata": {
        "colab": {
          "base_uri": "https://localhost:8080/"
        },
        "id": "mp5PXI55CQzS",
        "outputId": "d7240066-139f-4b4f-f317-80242ce2f345"
      },
      "outputs": [
        {
          "name": "stdout",
          "output_type": "stream",
          "text": [
            "Requirement already satisfied: datasets in /usr/local/lib/python3.10/dist-packages (2.17.0)\n",
            "Requirement already satisfied: filelock in /usr/local/lib/python3.10/dist-packages (from datasets) (3.13.1)\n",
            "Requirement already satisfied: numpy>=1.17 in /usr/local/lib/python3.10/dist-packages (from datasets) (1.23.5)\n",
            "Requirement already satisfied: pyarrow>=12.0.0 in /usr/local/lib/python3.10/dist-packages (from datasets) (15.0.0)\n",
            "Requirement already satisfied: pyarrow-hotfix in /usr/local/lib/python3.10/dist-packages (from datasets) (0.6)\n",
            "Requirement already satisfied: dill<0.3.9,>=0.3.0 in /usr/local/lib/python3.10/dist-packages (from datasets) (0.3.8)\n",
            "Requirement already satisfied: pandas in /usr/local/lib/python3.10/dist-packages (from datasets) (1.5.3)\n",
            "Requirement already satisfied: requests>=2.19.0 in /usr/local/lib/python3.10/dist-packages (from datasets) (2.31.0)\n",
            "Requirement already satisfied: tqdm>=4.62.1 in /usr/local/lib/python3.10/dist-packages (from datasets) (4.66.1)\n",
            "Requirement already satisfied: xxhash in /usr/local/lib/python3.10/dist-packages (from datasets) (3.4.1)\n",
            "Requirement already satisfied: multiprocess in /usr/local/lib/python3.10/dist-packages (from datasets) (0.70.16)\n",
            "Requirement already satisfied: fsspec[http]<=2023.10.0,>=2023.1.0 in /usr/local/lib/python3.10/dist-packages (from datasets) (2023.6.0)\n",
            "Requirement already satisfied: aiohttp in /usr/local/lib/python3.10/dist-packages (from datasets) (3.9.3)\n",
            "Requirement already satisfied: huggingface-hub>=0.19.4 in /usr/local/lib/python3.10/dist-packages (from datasets) (0.20.3)\n",
            "Requirement already satisfied: packaging in /usr/local/lib/python3.10/dist-packages (from datasets) (23.2)\n",
            "Requirement already satisfied: pyyaml>=5.1 in /usr/local/lib/python3.10/dist-packages (from datasets) (6.0.1)\n",
            "Requirement already satisfied: aiosignal>=1.1.2 in /usr/local/lib/python3.10/dist-packages (from aiohttp->datasets) (1.3.1)\n",
            "Requirement already satisfied: attrs>=17.3.0 in /usr/local/lib/python3.10/dist-packages (from aiohttp->datasets) (23.2.0)\n",
            "Requirement already satisfied: frozenlist>=1.1.1 in /usr/local/lib/python3.10/dist-packages (from aiohttp->datasets) (1.4.1)\n",
            "Requirement already satisfied: multidict<7.0,>=4.5 in /usr/local/lib/python3.10/dist-packages (from aiohttp->datasets) (6.0.5)\n",
            "Requirement already satisfied: yarl<2.0,>=1.0 in /usr/local/lib/python3.10/dist-packages (from aiohttp->datasets) (1.9.4)\n",
            "Requirement already satisfied: async-timeout<5.0,>=4.0 in /usr/local/lib/python3.10/dist-packages (from aiohttp->datasets) (4.0.3)\n",
            "Requirement already satisfied: typing-extensions>=3.7.4.3 in /usr/local/lib/python3.10/dist-packages (from huggingface-hub>=0.19.4->datasets) (4.9.0)\n",
            "Requirement already satisfied: charset-normalizer<4,>=2 in /usr/local/lib/python3.10/dist-packages (from requests>=2.19.0->datasets) (3.3.2)\n",
            "Requirement already satisfied: idna<4,>=2.5 in /usr/local/lib/python3.10/dist-packages (from requests>=2.19.0->datasets) (3.6)\n",
            "Requirement already satisfied: urllib3<3,>=1.21.1 in /usr/local/lib/python3.10/dist-packages (from requests>=2.19.0->datasets) (2.0.7)\n",
            "Requirement already satisfied: certifi>=2017.4.17 in /usr/local/lib/python3.10/dist-packages (from requests>=2.19.0->datasets) (2024.2.2)\n",
            "Requirement already satisfied: python-dateutil>=2.8.1 in /usr/local/lib/python3.10/dist-packages (from pandas->datasets) (2.8.2)\n",
            "Requirement already satisfied: pytz>=2020.1 in /usr/local/lib/python3.10/dist-packages (from pandas->datasets) (2023.4)\n",
            "Requirement already satisfied: six>=1.5 in /usr/local/lib/python3.10/dist-packages (from python-dateutil>=2.8.1->pandas->datasets) (1.16.0)\n"
          ]
        }
      ],
      "source": [
        "!pip install datasets\n"
      ]
    },
    {
      "cell_type": "code",
      "execution_count": null,
      "metadata": {
        "colab": {
          "base_uri": "https://localhost:8080/",
          "height": 576,
          "referenced_widgets": [
            "28f1307042224346aa2582b226c110b5",
            "d853bc9c4acb4880b0ef29d2d557c1b2",
            "4a652a55c51143a6a482b5cdf383c9e8",
            "ba7a30c07fa747a18430abe0649b06e2",
            "77d5447562024f52ae880bd9f86587a7",
            "ff56714a15694d7e9feeb2212aae721f",
            "40d26f7f5f1f4fb98d5c629134ff0d88",
            "8fb477e2e9e041bb8ed084f88bd9be42",
            "5cb2976c86b5469192c5ce3b355ac583",
            "6639645fafcf41abbc7c67dfb8e70e14",
            "8a10cd57d52b4abdabd22c42a1ba6e19",
            "b7fd7aad135f4178be64d392746af297",
            "fbe7d85cf7e74cd7aa93e17b9d00e291",
            "866fc68ea4514c52bc5681a268c8f2df",
            "a8e8e5e4aebb46eebcf063e656782499",
            "83d8809449884204b52143d89e6201f5",
            "e1c6e8a9d0c9438f84e70e04d112e3c0",
            "b75ab7ac13da4f32b98d4199e79cce36",
            "9b643d1e1d29452c85a19d33ebd87c57",
            "dd182946b27646ad85c6c90d0d962efb",
            "b69c26729c6645c8b1e4bb5fcf2a85b9",
            "9938392d088343bba8b6d423f4bbeb55",
            "08e4c69664a14fb0ab124c8fdcdef56f",
            "25d86e21fd2043ccb5789f38518a2f04",
            "cb5f87b764024bd58f12b5ef1171e023",
            "a061358975f24e2395c3d3406bcc8d46",
            "f331ed50f38b43ce9c2766256814a31d",
            "6e735773384e44b8b56a517ecaf9b172",
            "eb912a1361b943518a4856bc0d646ffe",
            "34bc9b15842648a8929fc5e00188851e",
            "c1be1abcdf814aebb516912a4ad789ff",
            "5c8820601cb54aa9afcd8242cdf95324",
            "fd97dce6f05b46508a86749dae8d619e",
            "bfe652d54a1248afaaaf7092043218a6",
            "76885b8720074dc58ea3327839df35bf",
            "aea767bc3ca64fb684babf9acc49e028",
            "f802d0e6f5ab445ca16209016d59002b",
            "b38a536f7bac444b8e7ac3151d4ed7ea",
            "9388de70bbd3478abcf173b613aee90d",
            "b0480e86d04a41dcbdcfc7ef8d0e108e",
            "6644ab7866ef484e998bef12fd59555e",
            "cd0008f0ffd54984a1600f41acba767d",
            "1df09f55047c425db10fb5ce9cb23218",
            "77876dee02234830bac5a1e52b83f06c",
            "0e9cc7674300478ca6e438c51580b165",
            "b720648fa17247db93fbd83f9ee778b5",
            "837f74f80bdd4782a2b62c52ebc03a21",
            "fd9c66c1efc54f2f8d3817b3837b15fa",
            "d9a958dcf2b24de990d31ad9b646f91a",
            "bf830aa6d41b4ffdbc5b19c645c4f3ca",
            "5ae1f1f07e9e481db862533f0755011c",
            "df462f08d6c84772a0c8fa21b91278e5",
            "1cd82e4e807b4ae5b5221418d7dfe7fa",
            "15fd4324042048f3a2547d5c8e104eaf",
            "7c1b8ce9909f4502ba7e392846d1b813",
            "76084686e0e647ff8a0ff5d1934dad58",
            "f45c1bebba234742b1b8259d25162d07",
            "3251fcb5a80c498786f2609d5e611515",
            "1be42b78deac44e989d9696ce6cbb9e8",
            "a16fc8e8d234420289a3a797881f220f",
            "cbd19c37ef294a4eb3e12afe8be12a5f",
            "ac77cd543c524e33be1c4ba29d098336",
            "26a598d708a74111a87bfa21d6230642",
            "b9dfa978cd5b47ccb4f63ac4a9ba70f4",
            "2124fa783a1848718c73b41520ce05a2",
            "6278ce22448144bebd4b4e4f91bf9f55"
          ]
        },
        "id": "3UMPVkoY4mcj",
        "outputId": "9ee49b8d-0fbb-4ae4-f4d9-b6e6f0f964ce"
      },
      "outputs": [
        {
          "name": "stderr",
          "output_type": "stream",
          "text": [
            "/usr/local/lib/python3.10/dist-packages/huggingface_hub/utils/_token.py:88: UserWarning: \n",
            "The secret `HF_TOKEN` does not exist in your Colab secrets.\n",
            "To authenticate with the Hugging Face Hub, create a token in your settings tab (https://huggingface.co/settings/tokens), set it as secret in your Google Colab and restart your session.\n",
            "You will be able to reuse this secret in all of your notebooks.\n",
            "Please note that authentication is recommended but still optional to access public models or datasets.\n",
            "  warnings.warn(\n"
          ]
        },
        {
          "data": {
            "application/vnd.jupyter.widget-view+json": {
              "model_id": "28f1307042224346aa2582b226c110b5",
              "version_major": 2,
              "version_minor": 0
            },
            "text/plain": [
              "Downloading data:   0%|          | 0.00/1.42M [00:00<?, ?B/s]"
            ]
          },
          "metadata": {},
          "output_type": "display_data"
        },
        {
          "data": {
            "application/vnd.jupyter.widget-view+json": {
              "model_id": "b7fd7aad135f4178be64d392746af297",
              "version_major": 2,
              "version_minor": 0
            },
            "text/plain": [
              "Downloading data:   0%|          | 0.00/202k [00:00<?, ?B/s]"
            ]
          },
          "metadata": {},
          "output_type": "display_data"
        },
        {
          "data": {
            "application/vnd.jupyter.widget-view+json": {
              "model_id": "08e4c69664a14fb0ab124c8fdcdef56f",
              "version_major": 2,
              "version_minor": 0
            },
            "text/plain": [
              "Downloading data:   0%|          | 0.00/403k [00:00<?, ?B/s]"
            ]
          },
          "metadata": {},
          "output_type": "display_data"
        },
        {
          "data": {
            "application/vnd.jupyter.widget-view+json": {
              "model_id": "bfe652d54a1248afaaaf7092043218a6",
              "version_major": 2,
              "version_minor": 0
            },
            "text/plain": [
              "Generating train split:   0%|          | 0/7004 [00:00<?, ? examples/s]"
            ]
          },
          "metadata": {},
          "output_type": "display_data"
        },
        {
          "data": {
            "application/vnd.jupyter.widget-view+json": {
              "model_id": "0e9cc7674300478ca6e438c51580b165",
              "version_major": 2,
              "version_minor": 0
            },
            "text/plain": [
              "Generating validation split:   0%|          | 0/1000 [00:00<?, ? examples/s]"
            ]
          },
          "metadata": {},
          "output_type": "display_data"
        },
        {
          "data": {
            "application/vnd.jupyter.widget-view+json": {
              "model_id": "76084686e0e647ff8a0ff5d1934dad58",
              "version_major": 2,
              "version_minor": 0
            },
            "text/plain": [
              "Generating test split:   0%|          | 0/2000 [00:00<?, ? examples/s]"
            ]
          },
          "metadata": {},
          "output_type": "display_data"
        },
        {
          "data": {
            "text/plain": [
              "DatasetDict({\n",
              "    train: Dataset({\n",
              "        features: ['phrase1', 'phrase2', 'sentence1', 'sentence2', 'label', 'idx'],\n",
              "        num_rows: 7004\n",
              "    })\n",
              "    validation: Dataset({\n",
              "        features: ['phrase1', 'phrase2', 'sentence1', 'sentence2', 'label', 'idx'],\n",
              "        num_rows: 1000\n",
              "    })\n",
              "    test: Dataset({\n",
              "        features: ['phrase1', 'phrase2', 'sentence1', 'sentence2', 'label', 'idx'],\n",
              "        num_rows: 2000\n",
              "    })\n",
              "})"
            ]
          },
          "execution_count": 1,
          "metadata": {},
          "output_type": "execute_result"
        }
      ],
      "source": [
        "from datasets import load_dataset\n",
        "\n",
        "dataset = load_dataset(\"PiC/phrase_similarity\")\n",
        "dataset"
      ]
    },
    {
      "cell_type": "code",
      "execution_count": null,
      "metadata": {
        "colab": {
          "base_uri": "https://localhost:8080/"
        },
        "id": "aOCrI-aFDXwl",
        "outputId": "f8871d8a-da07-4644-d535-a6342795fa33"
      },
      "outputs": [
        {
          "name": "stdout",
          "output_type": "stream",
          "text": [
            "                   phrase1                                    phrase2  \\\n",
            "0        newly formed camp                   recently made encampment   \n",
            "1                 one data                     a particular statistic   \n",
            "2     particular structure                           specific edifice   \n",
            "3          involved people                  participating individuals   \n",
            "4          different cross                         opposing inquiries   \n",
            "...                    ...                                        ...   \n",
            "6999        similar notice                    comparable notification   \n",
            "7000             color map                              painted chart   \n",
            "7001            dutch tool  device from the people of the Netherlands   \n",
            "7002     secondary concern                         less serious issue   \n",
            "7003            full order                   comprehensive commission   \n",
            "\n",
            "                                              sentence1  \\\n",
            "0     newly formed camp is released from the membran...   \n",
            "1     According to one data, in 1910, on others – in...   \n",
            "2     Note that Fact 1 does not assume any particula...   \n",
            "3     Assessment-Center are usually group-processes ...   \n",
            "4     At the end of the 1980s, a different cross had...   \n",
            "...                                                 ...   \n",
            "6999  Nereus and Achilleus a similar notice was admi...   \n",
            "7000  Color quantization is the process of creating ...   \n",
            "7001  petra is a dutch tool with which patients and ...   \n",
            "7002  However, granting this access, especially to a...   \n",
            "7003  The show was immediately picked up for a full ...   \n",
            "\n",
            "                                              sentence2  label   idx  \n",
            "0     recently made encampment is released from the ...      0     0  \n",
            "1     According to a particular statistic, in 1910, ...      1     1  \n",
            "2     Note that Fact 1 does not assume any specific ...      0     2  \n",
            "3     Assessment-Center are usually group-processes ...      1     3  \n",
            "4     At the end of the 1980s, a opposing inquiries ...      0     4  \n",
            "...                                                 ...    ...   ...  \n",
            "6999  Nereus and Achilleus a comparable notification...      1  6999  \n",
            "7000  Color quantization is the process of creating ...      0  7000  \n",
            "7001  petra is a device from the people of the Nethe...      1  7001  \n",
            "7002  However, granting this access, especially to a...      1  7002  \n",
            "7003  The show was immediately picked up for a compr...      1  7003  \n",
            "\n",
            "[7004 rows x 6 columns]\n"
          ]
        }
      ],
      "source": [
        "\n",
        "train_dataset = dataset['train']\n",
        "validation_dataset = dataset['validation']\n",
        "test_dataset = dataset['test']\n",
        "train_df = train_dataset.to_pandas()\n",
        "validation_df = validation_dataset.to_pandas()\n",
        "test_df = test_dataset.to_pandas()\n",
        "print(train_df)\n"
      ]
    },
    {
      "cell_type": "code",
      "execution_count": null,
      "metadata": {
        "id": "lpop2uJp9NWA"
      },
      "outputs": [],
      "source": [
        "\n",
        "nlp = spacy.load('en_core_web_lg')\n",
        "embeddings_index = load_glove_embeddings(glove_path) #for GloVe"
      ]
    },
    {
      "cell_type": "markdown",
      "metadata": {
        "id": "2OFVa27CfrFP"
      },
      "source": [
        "### Word2Vec: Hybrid (compositional and distributional method)"
      ]
    },
    {
      "cell_type": "markdown",
      "metadata": {
        "id": "xJnLwmn9ecMC"
      },
      "source": [
        "#### NN with similarity scores "
      ]
    },
    {
      "cell_type": "code",
      "execution_count": null,
      "metadata": {
        "id": "t2phsF_HHr5L"
      },
      "outputs": [],
      "source": [
        "\n",
        "def vectorize_add(df):\n",
        "    X = []\n",
        "    y = []\n",
        "    for index, row in df.iterrows():\n",
        "        phrase1_vec = nlp(row['phrase1'])\n",
        "        phrase2_vec = nlp(row['phrase2'])\n",
        "        sim = phrase1_vec.similarity(phrase2_vec)\n",
        "\n",
        "        X.append(sim)\n",
        "        y.append(row['label'])\n",
        "\n",
        "    return np.array(X).reshape(-1, 1), np.array(y)\n",
        "\n",
        "X_train, y_train = vectorize_add(train_df)\n",
        "X_test, y_test = vectorize_add(test_df)\n",
        "X_validate, y_validate = vectorize_add(validation_df)\n"
      ]
    },
    {
      "cell_type": "code",
      "execution_count": null,
      "metadata": {
        "colab": {
          "base_uri": "https://localhost:8080/"
        },
        "id": "Sq_mJ1kxfIpW",
        "outputId": "36c45f84-239d-447e-8df7-44cd4695fd09"
      },
      "outputs": [
        {
          "name": "stdout",
          "output_type": "stream",
          "text": [
            "Epoch 1/10\n",
            "219/219 [==============================] - 4s 8ms/step - loss: 0.6949 - accuracy: 0.4803 - val_loss: 0.6931 - val_accuracy: 0.5000\n",
            "Epoch 2/10\n",
            "219/219 [==============================] - 1s 6ms/step - loss: 0.6939 - accuracy: 0.5010 - val_loss: 0.6939 - val_accuracy: 0.5000\n",
            "Epoch 3/10\n",
            "219/219 [==============================] - 1s 5ms/step - loss: 0.6942 - accuracy: 0.4936 - val_loss: 0.6934 - val_accuracy: 0.5000\n",
            "Epoch 4/10\n",
            "219/219 [==============================] - 1s 5ms/step - loss: 0.6938 - accuracy: 0.4890 - val_loss: 0.6931 - val_accuracy: 0.5000\n",
            "Epoch 5/10\n",
            "219/219 [==============================] - 1s 5ms/step - loss: 0.6934 - accuracy: 0.4956 - val_loss: 0.6932 - val_accuracy: 0.5000\n",
            "Epoch 6/10\n",
            "219/219 [==============================] - 1s 6ms/step - loss: 0.6935 - accuracy: 0.5003 - val_loss: 0.6932 - val_accuracy: 0.5000\n",
            "Epoch 7/10\n",
            "219/219 [==============================] - 1s 6ms/step - loss: 0.6931 - accuracy: 0.5093 - val_loss: 0.6937 - val_accuracy: 0.5000\n",
            "Epoch 8/10\n",
            "219/219 [==============================] - 1s 5ms/step - loss: 0.6934 - accuracy: 0.5020 - val_loss: 0.6932 - val_accuracy: 0.5000\n",
            "Epoch 9/10\n",
            "219/219 [==============================] - 2s 8ms/step - loss: 0.6938 - accuracy: 0.4883 - val_loss: 0.6932 - val_accuracy: 0.5000\n",
            "Epoch 10/10\n",
            "219/219 [==============================] - 2s 9ms/step - loss: 0.6935 - accuracy: 0.4967 - val_loss: 0.6932 - val_accuracy: 0.4980\n",
            "63/63 [==============================] - 0s 3ms/step\n",
            "              precision    recall  f1-score   support\n",
            "\n",
            "           0       0.80      0.01      0.02      1000\n",
            "           1       0.50      1.00      0.67      1000\n",
            "\n",
            "    accuracy                           0.50      2000\n",
            "   macro avg       0.65      0.50      0.34      2000\n",
            "weighted avg       0.65      0.50      0.34      2000\n",
            "\n"
          ]
        }
      ],
      "source": [
        "\n",
        "\n",
        "model = Sequential()\n",
        "model.add(Dense(512, input_dim=1, activation='relu'))\n",
        "model.add(Dropout(0.5))\n",
        "model.add(Dense(128, activation='relu'))\n",
        "model.add(Dropout(0.5))\n",
        "model.add(Dense(128, activation='relu'))\n",
        "model.add(Dropout(0.5))\n",
        "model.add(Dense(128, activation='relu'))\n",
        "model.add(Dropout(0.5))\n",
        "model.add(Dense(1, activation='sigmoid'))\n",
        "model.compile(optimizer='adam', loss='binary_crossentropy', metrics=['accuracy'])\n",
        "\n",
        "model.fit(X_train, y_train, epochs=10, batch_size=32, validation_data=(X_validate, y_validate))\n",
        "predictions = model.predict(X_test) > 0.5\n",
        "\n",
        "print(classification_report(y_test, predictions.flatten()))\n",
        "\n"
      ]
    },
    {
      "cell_type": "markdown",
      "metadata": {
        "id": "RBDCPiTOPZ88"
      },
      "source": [
        "#### NN with the phrase embeddings\n"
      ]
    },
    {
      "cell_type": "code",
      "execution_count": null,
      "metadata": {
        "id": "QX4Dq-rcP5Nt"
      },
      "outputs": [],
      "source": [
        "\n",
        "def add_preprocessing(df):\n",
        "    phrase1_embeddings = []\n",
        "    phrase2_embeddings = []\n",
        "    y = []\n",
        "    for index, row in df.iterrows():\n",
        "        phrase1_vec = sum(nlp(token).vector for token in row['phrase1'].split(' '))\n",
        "        phrase2_vec = sum(nlp(token).vector for token in row['phrase2'].split(' '))\n",
        "        norm_phrase1_vec = phrase1_vec / np.linalg.norm(phrase1_vec) if np.linalg.norm(phrase1_vec) != 0 else np.zeros(300)\n",
        "        norm_phrase2_vec = phrase2_vec / np.linalg.norm(phrase2_vec) if np.linalg.norm(phrase2_vec) != 0 else np.zeros(300)\n",
        "\n",
        "        phrase1_embeddings.append(norm_phrase1_vec)\n",
        "        phrase2_embeddings.append(norm_phrase2_vec)\n",
        "        y.append(row['label'])\n",
        "\n",
        "    return np.array(phrase1_embeddings), np.array(phrase2_embeddings), np.array(y)\n",
        "\n",
        "p1_train, p2_train, yfcnn_train = add_preprocessing(train_df)\n",
        "p1_test, p2_test, yfcnn_test = add_preprocessing(test_df)\n",
        "p1_validate, p2_validate, yfcnn_validate = add_preprocessing(validation_df)"
      ]
    },
    {
      "cell_type": "code",
      "execution_count": null,
      "metadata": {
        "colab": {
          "base_uri": "https://localhost:8080/"
        },
        "id": "Vfn6mvVKPbde",
        "outputId": "64e4b40f-a70d-4483-ecd0-03c5c14cfd6e"
      },
      "outputs": [
        {
          "name": "stdout",
          "output_type": "stream",
          "text": [
            "Epoch 1/50\n",
            "219/219 [==============================] - 2s 4ms/step - loss: 0.8250 - accuracy: 0.4919 - val_loss: 0.7318 - val_accuracy: 0.4930\n",
            "Epoch 2/50\n",
            "219/219 [==============================] - 1s 3ms/step - loss: 0.7122 - accuracy: 0.4953 - val_loss: 0.7026 - val_accuracy: 0.4780\n",
            "Epoch 3/50\n",
            "219/219 [==============================] - 1s 4ms/step - loss: 0.6987 - accuracy: 0.4929 - val_loss: 0.6969 - val_accuracy: 0.4770\n",
            "Epoch 4/50\n",
            "219/219 [==============================] - 1s 4ms/step - loss: 0.6954 - accuracy: 0.5023 - val_loss: 0.6949 - val_accuracy: 0.4970\n",
            "Epoch 5/50\n",
            "219/219 [==============================] - 1s 3ms/step - loss: 0.6943 - accuracy: 0.4989 - val_loss: 0.6941 - val_accuracy: 0.4700\n",
            "Epoch 6/50\n",
            "219/219 [==============================] - 1s 3ms/step - loss: 0.6939 - accuracy: 0.4927 - val_loss: 0.6938 - val_accuracy: 0.5000\n",
            "Epoch 7/50\n",
            "219/219 [==============================] - 1s 4ms/step - loss: 0.6935 - accuracy: 0.5011 - val_loss: 0.6935 - val_accuracy: 0.4990\n",
            "Epoch 8/50\n",
            "219/219 [==============================] - 1s 4ms/step - loss: 0.6936 - accuracy: 0.4986 - val_loss: 0.6937 - val_accuracy: 0.5000\n",
            "Epoch 9/50\n",
            "219/219 [==============================] - 1s 4ms/step - loss: 0.6936 - accuracy: 0.4971 - val_loss: 0.6938 - val_accuracy: 0.4970\n",
            "Epoch 10/50\n",
            "219/219 [==============================] - 1s 4ms/step - loss: 0.6936 - accuracy: 0.4953 - val_loss: 0.6937 - val_accuracy: 0.5040\n",
            "Epoch 11/50\n",
            "219/219 [==============================] - 1s 6ms/step - loss: 0.6937 - accuracy: 0.5020 - val_loss: 0.6938 - val_accuracy: 0.4990\n",
            "Epoch 12/50\n",
            "219/219 [==============================] - 1s 7ms/step - loss: 0.6935 - accuracy: 0.4930 - val_loss: 0.6934 - val_accuracy: 0.5090\n",
            "Epoch 13/50\n",
            "219/219 [==============================] - 1s 6ms/step - loss: 0.6935 - accuracy: 0.4843 - val_loss: 0.6934 - val_accuracy: 0.4870\n",
            "Epoch 14/50\n",
            "219/219 [==============================] - 1s 7ms/step - loss: 0.6935 - accuracy: 0.4997 - val_loss: 0.6934 - val_accuracy: 0.4820\n",
            "Epoch 15/50\n",
            "219/219 [==============================] - 1s 6ms/step - loss: 0.6935 - accuracy: 0.5006 - val_loss: 0.6935 - val_accuracy: 0.4990\n",
            "Epoch 16/50\n",
            "219/219 [==============================] - 1s 6ms/step - loss: 0.6935 - accuracy: 0.4950 - val_loss: 0.6935 - val_accuracy: 0.5000\n",
            "Epoch 17/50\n",
            "219/219 [==============================] - 1s 6ms/step - loss: 0.6936 - accuracy: 0.4946 - val_loss: 0.6934 - val_accuracy: 0.4580\n",
            "Epoch 18/50\n",
            "219/219 [==============================] - 1s 7ms/step - loss: 0.6934 - accuracy: 0.4981 - val_loss: 0.6933 - val_accuracy: 0.4770\n",
            "Epoch 19/50\n",
            "219/219 [==============================] - 1s 7ms/step - loss: 0.6934 - accuracy: 0.5016 - val_loss: 0.6934 - val_accuracy: 0.4940\n",
            "Epoch 20/50\n",
            "219/219 [==============================] - 1s 6ms/step - loss: 0.6935 - accuracy: 0.5006 - val_loss: 0.6933 - val_accuracy: 0.5040\n",
            "Epoch 21/50\n",
            "219/219 [==============================] - 2s 7ms/step - loss: 0.6934 - accuracy: 0.4977 - val_loss: 0.6933 - val_accuracy: 0.5080\n",
            "Epoch 22/50\n",
            "219/219 [==============================] - 1s 7ms/step - loss: 0.6934 - accuracy: 0.4874 - val_loss: 0.6933 - val_accuracy: 0.5040\n",
            "Epoch 23/50\n",
            "219/219 [==============================] - 2s 7ms/step - loss: 0.6934 - accuracy: 0.4999 - val_loss: 0.6933 - val_accuracy: 0.4960\n",
            "Epoch 24/50\n",
            "219/219 [==============================] - 1s 6ms/step - loss: 0.6934 - accuracy: 0.4950 - val_loss: 0.6933 - val_accuracy: 0.5080\n",
            "Epoch 25/50\n",
            "219/219 [==============================] - 1s 6ms/step - loss: 0.6933 - accuracy: 0.4987 - val_loss: 0.6932 - val_accuracy: 0.5060\n",
            "Epoch 26/50\n",
            "219/219 [==============================] - 1s 5ms/step - loss: 0.6933 - accuracy: 0.4956 - val_loss: 0.6933 - val_accuracy: 0.5040\n",
            "Epoch 27/50\n",
            "219/219 [==============================] - 1s 4ms/step - loss: 0.6934 - accuracy: 0.4940 - val_loss: 0.6935 - val_accuracy: 0.4970\n",
            "Epoch 28/50\n",
            "219/219 [==============================] - 1s 4ms/step - loss: 0.6933 - accuracy: 0.5044 - val_loss: 0.6934 - val_accuracy: 0.4900\n",
            "Epoch 29/50\n",
            "219/219 [==============================] - 1s 4ms/step - loss: 0.6934 - accuracy: 0.4936 - val_loss: 0.6934 - val_accuracy: 0.5000\n",
            "Epoch 30/50\n",
            "219/219 [==============================] - 1s 4ms/step - loss: 0.6934 - accuracy: 0.4913 - val_loss: 0.6933 - val_accuracy: 0.4820\n"
          ]
        }
      ],
      "source": [
        "\n",
        "\n",
        "def create_binary_classification_model(embedding_dim, fcnn_units, dropout_rate, l2_lambda):\n",
        "    input_phrase1 = Input(shape=(embedding_dim,))\n",
        "    input_phrase2 = Input(shape=(embedding_dim,))\n",
        "    fcnn_en1 = Dense(fcnn_units, activation='relu', kernel_regularizer=l2(l2_lambda))(input_phrase1)\n",
        "    fcnn_en2 = Dense(fcnn_units, activation='relu', kernel_regularizer=l2(l2_lambda))(input_phrase2)\n",
        "\n",
        "    combined = concatenate([fcnn_en1, fcnn_en2])\n",
        "    combined = Dropout(dropout_rate)(combined)\n",
        "\n",
        "    classification = Dense(1, activation='sigmoid')(combined)\n",
        "\n",
        "    model = Model(inputs=[input_phrase1, input_phrase2], outputs=classification)\n",
        "    model.compile(optimizer='adam', loss='binary_crossentropy', metrics=['accuracy'])\n",
        "\n",
        "    return model\n",
        "\n",
        "embedding_dim = 300\n",
        "fcnn_units = 128\n",
        "dropout_rate = 0.5\n",
        "l2_lambda = 0.001  # Example L2 regularization factor\n",
        "\n",
        "model = create_binary_classification_model(embedding_dim, fcnn_units, dropout_rate, l2_lambda)\n",
        "early_stopping = EarlyStopping(monitor='val_loss', patience=5, restore_best_weights=True)\n",
        "history = model.fit(\n",
        "    [p1_train, p2_train], yfcnn_train,\n",
        "    epochs=50,\n",
        "    batch_size=32,\n",
        "    validation_data=([p1_validate, p2_validate], yfcnn_validate),\n",
        "    callbacks=[early_stopping]\n",
        ")\n"
      ]
    },
    {
      "cell_type": "code",
      "execution_count": null,
      "metadata": {
        "colab": {
          "base_uri": "https://localhost:8080/"
        },
        "id": "C07jkIytakMo",
        "outputId": "a2e1b393-575a-4e88-c9bb-b64bcbc12e9b"
      },
      "outputs": [
        {
          "name": "stdout",
          "output_type": "stream",
          "text": [
            "63/63 [==============================] - 0s 2ms/step - loss: 0.6933 - accuracy: 0.5015\n",
            "63/63 [==============================] - 0s 2ms/step\n",
            "              precision    recall  f1-score   support\n",
            "\n",
            "           0       0.50      0.99      0.66      1000\n",
            "           1       0.55      0.02      0.03      1000\n",
            "\n",
            "    accuracy                           0.50      2000\n",
            "   macro avg       0.52      0.50      0.35      2000\n",
            "weighted avg       0.52      0.50      0.35      2000\n",
            "\n",
            "Test Loss: 0.6932875514030457\n",
            "Test Accuracy: 0.5015000104904175\n"
          ]
        }
      ],
      "source": [
        "\n",
        "test_loss, test_accuracy = model.evaluate([p1_test, p2_test], yfcnn_test)\n",
        "predictions = model.predict([p1_test, p2_test])\n",
        "\n",
        "thresholded_predictions = (predictions > 0.5).astype(int)\n",
        "print(classification_report(yfcnn_test, thresholded_predictions))\n",
        "print(f\"Test Loss: {test_loss}\")\n",
        "print(f\"Test Accuracy: {test_accuracy}\")"
      ]
    },
    {
      "cell_type": "markdown",
      "metadata": {
        "id": "KAxHgfxBPXk4"
      },
      "source": [
        "#### NN with embedding map\n"
      ]
    },
    {
      "cell_type": "code",
      "execution_count": null,
      "metadata": {
        "colab": {
          "base_uri": "https://localhost:8080/"
        },
        "id": "XR73MfAlPh47",
        "outputId": "fba1d2a0-a93b-4ffc-c247-cd47b62f68ef"
      },
      "outputs": [
        {
          "name": "stdout",
          "output_type": "stream",
          "text": [
            "Epoch 1/10\n",
            "197/197 [==============================] - 3s 7ms/step - loss: 0.6977 - accuracy: 0.4983 - val_loss: 0.7016 - val_accuracy: 0.4665\n",
            "Epoch 2/10\n",
            "197/197 [==============================] - 1s 6ms/step - loss: 0.6955 - accuracy: 0.5106 - val_loss: 0.7039 - val_accuracy: 0.4422\n",
            "Epoch 3/10\n",
            "197/197 [==============================] - 1s 6ms/step - loss: 0.6939 - accuracy: 0.5101 - val_loss: 0.7149 - val_accuracy: 0.4779\n",
            "Epoch 4/10\n",
            "197/197 [==============================] - 1s 6ms/step - loss: 0.6936 - accuracy: 0.5207 - val_loss: 0.7079 - val_accuracy: 0.4251\n",
            "Epoch 5/10\n",
            "197/197 [==============================] - 1s 6ms/step - loss: 0.6930 - accuracy: 0.5166 - val_loss: 0.7099 - val_accuracy: 0.4508\n",
            "Epoch 6/10\n",
            "197/197 [==============================] - 1s 6ms/step - loss: 0.6920 - accuracy: 0.5232 - val_loss: 0.7122 - val_accuracy: 0.4223\n",
            "Epoch 7/10\n",
            "197/197 [==============================] - 1s 7ms/step - loss: 0.6910 - accuracy: 0.5271 - val_loss: 0.7129 - val_accuracy: 0.4080\n",
            "Epoch 8/10\n",
            "197/197 [==============================] - 1s 6ms/step - loss: 0.6911 - accuracy: 0.5226 - val_loss: 0.7167 - val_accuracy: 0.4251\n",
            "Epoch 9/10\n",
            "197/197 [==============================] - 1s 6ms/step - loss: 0.6898 - accuracy: 0.5378 - val_loss: 0.7158 - val_accuracy: 0.3951\n",
            "Epoch 10/10\n",
            "197/197 [==============================] - 1s 6ms/step - loss: 0.6898 - accuracy: 0.5271 - val_loss: 0.7165 - val_accuracy: 0.4108\n"
          ]
        }
      ],
      "source": [
        "\n",
        "\n",
        "def rnn_preprocessing(df, max_len):\n",
        "    tokenizer = Tokenizer(oov_token=\"<OOV>\")\n",
        "    tokenizer.fit_on_texts(df['phrase1'].tolist() + df['phrase2'].tolist())\n",
        "    sequences_1 = tokenizer.texts_to_sequences(df['phrase1'].tolist())\n",
        "    sequences_2 = tokenizer.texts_to_sequences(df['phrase2'].tolist())\n",
        "\n",
        "    padded_sequences_1 = pad_sequences(sequences_1, maxlen=max_len, padding='post')\n",
        "    padded_sequences_2 = pad_sequences(sequences_2, maxlen=max_len, padding='post')\n",
        "\n",
        "    embedding_matrix = np.zeros((len(tokenizer.word_index) + 1, nlp.vocab.vectors_length))\n",
        "    for word, i in tokenizer.word_index.items():\n",
        "        embedding_vector = nlp(word).vector\n",
        "        if embedding_vector is not None:\n",
        "            embedding_matrix[i] = embedding_vector\n",
        "\n",
        "    embedding_layer = Embedding(len(tokenizer.word_index) + 1,\n",
        "                                nlp.vocab.vectors_length,\n",
        "                                weights=[embedding_matrix],\n",
        "                                input_length=max_len,\n",
        "                                trainable=False)\n",
        "\n",
        "    global_average_layer = GlobalAveragePooling1D()\n",
        "\n",
        "    input_1 = Input(shape=(max_len,))\n",
        "    input_2 = Input(shape=(max_len,))\n",
        "\n",
        "    embedded_sequences_1 = embedding_layer(input_1)\n",
        "    embedded_sequences_2 = embedding_layer(input_2)\n",
        "\n",
        "    pooled_output_1 = global_average_layer(embedded_sequences_1)\n",
        "    pooled_output_2 = global_average_layer(embedded_sequences_2)\n",
        "\n",
        "    concatenated = tf.keras.layers.concatenate([pooled_output_1, pooled_output_2])\n",
        "    predictions = Dense(1, activation='sigmoid')(concatenated)\n",
        "    model = Model(inputs=[input_1, input_2], outputs=predictions)\n",
        "\n",
        "    model.compile(optimizer='adam',\n",
        "                  loss='binary_crossentropy',\n",
        "                  metrics=['accuracy'])\n",
        "    y = df['label'].values\n",
        "    model.fit([padded_sequences_1, padded_sequences_2], y, epochs=10, validation_split=0.1)\n",
        "\n",
        "    return model\n",
        "\n",
        "max_len = 30\n",
        "model = rnn_preprocessing(train_df, max_len)\n"
      ]
    },
    {
      "cell_type": "markdown",
      "metadata": {
        "id": "fOm5C1qjc3nL"
      },
      "source": [
        "### Using Glove for Hybrid Methods of phrase embeddings"
      ]
    },
    {
      "cell_type": "markdown",
      "metadata": {
        "id": "GEQ_FlYgryar"
      },
      "source": [
        "#### Adding word embeddings to get phrase embeddings"
      ]
    },
    {
      "cell_type": "code",
      "execution_count": null,
      "metadata": {
        "id": "KS7FQp-Rr8gO"
      },
      "outputs": [],
      "source": [
        "\n",
        "def add_preprocessing(df, embeddings):\n",
        "    oov_vec = np.zeros(100)\n",
        "    phrase1_embeddings = []\n",
        "    phrase2_embeddings = []\n",
        "    y = []\n",
        "\n",
        "    for index, row in df.iterrows():\n",
        "        phrase1_vec = sum(embeddings.get(token, oov_vec) for token in row['phrase1'].split(' '))\n",
        "        phrase2_vec = sum(embeddings.get(token, oov_vec) for token in row['phrase2'].split(' '))\n",
        "\n",
        "        norm_phrase1_vec = phrase1_vec / np.linalg.norm(phrase1_vec) if np.linalg.norm(phrase1_vec) != 0 else oov_vec\n",
        "        norm_phrase2_vec = phrase2_vec / np.linalg.norm(phrase2_vec) if np.linalg.norm(phrase2_vec) != 0 else oov_vec\n",
        "\n",
        "        phrase1_embeddings.append(norm_phrase1_vec)\n",
        "        phrase2_embeddings.append(norm_phrase2_vec)\n",
        "        y.append(row['label'])\n",
        "\n",
        "    return np.array(phrase1_embeddings), np.array(phrase2_embeddings), np.array(y)\n",
        "\n",
        "p1_traing, p2_traing, y_train_g1 = add_preprocessing(train_df, embeddings_index)\n",
        "p1_testg, p2_testg, y_test_g1 = add_preprocessing(test_df, embeddings_index)\n",
        "p1_validateg, p2_validateg,  y_validate_g1 = add_preprocessing(validation_df, embeddings_index)"
      ]
    },
    {
      "cell_type": "code",
      "execution_count": null,
      "metadata": {
        "colab": {
          "base_uri": "https://localhost:8080/"
        },
        "id": "ep7uatm0uCg5",
        "outputId": "1fa5b90a-2a62-44fd-d431-448ee34367de"
      },
      "outputs": [
        {
          "name": "stdout",
          "output_type": "stream",
          "text": [
            "Epoch 1/50\n",
            "219/219 [==============================] - 2s 4ms/step - loss: 0.7998 - accuracy: 0.4897 - val_loss: 0.7387 - val_accuracy: 0.4750\n",
            "Epoch 2/50\n",
            "219/219 [==============================] - 1s 3ms/step - loss: 0.7206 - accuracy: 0.5019 - val_loss: 0.7115 - val_accuracy: 0.4790\n",
            "Epoch 3/50\n",
            "219/219 [==============================] - 1s 3ms/step - loss: 0.7041 - accuracy: 0.5026 - val_loss: 0.7029 - val_accuracy: 0.4670\n",
            "Epoch 4/50\n",
            "219/219 [==============================] - 1s 4ms/step - loss: 0.6990 - accuracy: 0.5021 - val_loss: 0.6989 - val_accuracy: 0.4560\n",
            "Epoch 5/50\n",
            "219/219 [==============================] - 1s 3ms/step - loss: 0.6964 - accuracy: 0.5081 - val_loss: 0.6976 - val_accuracy: 0.4230\n",
            "Epoch 6/50\n",
            "219/219 [==============================] - 1s 3ms/step - loss: 0.6961 - accuracy: 0.4973 - val_loss: 0.6964 - val_accuracy: 0.4840\n",
            "Epoch 7/50\n",
            "219/219 [==============================] - 1s 3ms/step - loss: 0.6948 - accuracy: 0.4971 - val_loss: 0.6957 - val_accuracy: 0.4490\n",
            "Epoch 8/50\n",
            "219/219 [==============================] - 1s 3ms/step - loss: 0.6943 - accuracy: 0.5051 - val_loss: 0.6952 - val_accuracy: 0.4440\n",
            "Epoch 9/50\n",
            "219/219 [==============================] - 1s 3ms/step - loss: 0.6940 - accuracy: 0.5033 - val_loss: 0.6949 - val_accuracy: 0.4800\n",
            "Epoch 10/50\n",
            "219/219 [==============================] - 1s 3ms/step - loss: 0.6940 - accuracy: 0.5043 - val_loss: 0.6948 - val_accuracy: 0.4610\n",
            "Epoch 11/50\n",
            "219/219 [==============================] - 1s 3ms/step - loss: 0.6939 - accuracy: 0.5043 - val_loss: 0.6948 - val_accuracy: 0.4420\n",
            "Epoch 12/50\n",
            "219/219 [==============================] - 1s 3ms/step - loss: 0.6938 - accuracy: 0.5010 - val_loss: 0.6948 - val_accuracy: 0.4990\n",
            "Epoch 13/50\n",
            "219/219 [==============================] - 1s 3ms/step - loss: 0.6938 - accuracy: 0.4986 - val_loss: 0.6944 - val_accuracy: 0.4610\n",
            "Epoch 14/50\n",
            "219/219 [==============================] - 1s 5ms/step - loss: 0.6934 - accuracy: 0.5084 - val_loss: 0.6944 - val_accuracy: 0.4590\n",
            "Epoch 15/50\n",
            "219/219 [==============================] - 1s 5ms/step - loss: 0.6939 - accuracy: 0.4997 - val_loss: 0.6942 - val_accuracy: 0.4760\n",
            "Epoch 16/50\n",
            "219/219 [==============================] - 1s 5ms/step - loss: 0.6934 - accuracy: 0.5107 - val_loss: 0.6941 - val_accuracy: 0.4690\n",
            "Epoch 17/50\n",
            "219/219 [==============================] - 1s 5ms/step - loss: 0.6936 - accuracy: 0.5006 - val_loss: 0.6941 - val_accuracy: 0.4460\n",
            "Epoch 18/50\n",
            "219/219 [==============================] - 1s 6ms/step - loss: 0.6937 - accuracy: 0.5013 - val_loss: 0.6941 - val_accuracy: 0.4980\n",
            "Epoch 19/50\n",
            "219/219 [==============================] - 1s 6ms/step - loss: 0.6937 - accuracy: 0.5050 - val_loss: 0.6939 - val_accuracy: 0.4960\n",
            "Epoch 20/50\n",
            "219/219 [==============================] - 1s 6ms/step - loss: 0.6935 - accuracy: 0.5011 - val_loss: 0.6938 - val_accuracy: 0.4820\n",
            "Epoch 21/50\n",
            "219/219 [==============================] - 1s 6ms/step - loss: 0.6933 - accuracy: 0.5109 - val_loss: 0.6938 - val_accuracy: 0.4680\n",
            "Epoch 22/50\n",
            "219/219 [==============================] - 1s 6ms/step - loss: 0.6934 - accuracy: 0.5006 - val_loss: 0.6939 - val_accuracy: 0.4730\n",
            "Epoch 23/50\n",
            "219/219 [==============================] - 1s 5ms/step - loss: 0.6933 - accuracy: 0.5016 - val_loss: 0.6940 - val_accuracy: 0.5000\n",
            "Epoch 24/50\n",
            "219/219 [==============================] - 1s 5ms/step - loss: 0.6936 - accuracy: 0.4993 - val_loss: 0.6937 - val_accuracy: 0.4980\n",
            "Epoch 25/50\n",
            "219/219 [==============================] - 1s 6ms/step - loss: 0.6934 - accuracy: 0.4993 - val_loss: 0.6936 - val_accuracy: 0.4900\n",
            "Epoch 26/50\n",
            "219/219 [==============================] - 1s 6ms/step - loss: 0.6933 - accuracy: 0.5067 - val_loss: 0.6936 - val_accuracy: 0.4760\n",
            "Epoch 27/50\n",
            "219/219 [==============================] - 1s 6ms/step - loss: 0.6930 - accuracy: 0.5156 - val_loss: 0.6938 - val_accuracy: 0.4570\n",
            "Epoch 28/50\n",
            "219/219 [==============================] - 1s 6ms/step - loss: 0.6936 - accuracy: 0.4976 - val_loss: 0.6938 - val_accuracy: 0.5000\n",
            "Epoch 29/50\n",
            "219/219 [==============================] - 1s 6ms/step - loss: 0.6936 - accuracy: 0.5007 - val_loss: 0.6937 - val_accuracy: 0.5000\n",
            "Epoch 30/50\n",
            "219/219 [==============================] - 1s 5ms/step - loss: 0.6934 - accuracy: 0.4954 - val_loss: 0.6937 - val_accuracy: 0.4740\n"
          ]
        }
      ],
      "source": [
        "\n",
        "\n",
        "def create_binary_classification_model(embedding_dim, fcnn_units, dropout_rate, l2_lambda):\n",
        "    input_phrase1 = Input(shape=(embedding_dim,))\n",
        "    input_phrase2 = Input(shape=(embedding_dim,))\n",
        "    fcnn_en1 = Dense(fcnn_units, activation='relu', kernel_regularizer=l2(l2_lambda))(input_phrase1)\n",
        "    fcnn_en2 = Dense(fcnn_units, activation='relu', kernel_regularizer=l2(l2_lambda))(input_phrase2)\n",
        "\n",
        "    combined = concatenate([fcnn_en1, fcnn_en2])\n",
        "    combined = Dropout(dropout_rate)(combined)\n",
        "\n",
        "    classification = Dense(1, activation='sigmoid')(combined)\n",
        "\n",
        "    model = Model(inputs=[input_phrase1, input_phrase2], outputs=classification)\n",
        "    model.compile(optimizer='adam', loss='binary_crossentropy', metrics=['accuracy'])\n",
        "\n",
        "    return model\n",
        "\n",
        "embedding_dim = 100 #glove vectors are 100d\n",
        "units = 128\n",
        "dropout_rate = 0.5\n",
        "l2_lambda = 0.001\n",
        "\n",
        "model = create_binary_classification_model(embedding_dim, units, dropout_rate, l2_lambda)\n",
        "early_stopping = EarlyStopping(monitor='val_loss', patience=5, restore_best_weights=True)\n",
        "history = model.fit(\n",
        "    [p1_traing, p2_traing], y_train_g1,\n",
        "    epochs=50,\n",
        "    batch_size=32,\n",
        "    validation_data=([p1_validateg, p2_validateg], y_validate_g1),\n",
        "    callbacks=[early_stopping]\n",
        ")"
      ]
    },
    {
      "cell_type": "code",
      "execution_count": null,
      "metadata": {
        "colab": {
          "base_uri": "https://localhost:8080/"
        },
        "id": "7GMcBlRhG5yU",
        "outputId": "12521c40-b4ad-4fa1-d564-da7ff07cb6ca"
      },
      "outputs": [
        {
          "name": "stdout",
          "output_type": "stream",
          "text": [
            "63/63 [==============================] - 0s 2ms/step - loss: 0.6938 - accuracy: 0.4780\n",
            "63/63 [==============================] - 0s 2ms/step\n",
            "              precision    recall  f1-score   support\n",
            "\n",
            "           0       0.49      0.88      0.63      1000\n",
            "           1       0.39      0.07      0.13      1000\n",
            "\n",
            "    accuracy                           0.48      2000\n",
            "   macro avg       0.44      0.48      0.38      2000\n",
            "weighted avg       0.44      0.48      0.38      2000\n",
            "\n",
            "Test Loss: 0.6937527656555176\n",
            "Test Accuracy: 0.4779999852180481\n"
          ]
        }
      ],
      "source": [
        "\n",
        "test_loss, test_accuracy = model.evaluate([p1_testg, p2_testg], y_test_g1)\n",
        "predictions = model.predict([p1_testg, p2_testg])\n",
        "\n",
        "thresholded_predictions = (predictions > 0.5).astype(int)\n",
        "print(classification_report(y_test_g1, thresholded_predictions))\n",
        "print(f\"Test Loss: {test_loss}\")\n",
        "print(f\"Test Accuracy: {test_accuracy}\")"
      ]
    },
    {
      "cell_type": "markdown",
      "metadata": {
        "id": "RByJrztIsByN"
      },
      "source": [
        "#### Using tensorflow embeddings to map"
      ]
    },
    {
      "cell_type": "code",
      "execution_count": null,
      "metadata": {
        "colab": {
          "base_uri": "https://localhost:8080/"
        },
        "id": "82p61MbysFE6",
        "outputId": "d815546e-840e-4e67-8c79-ebd5ed5d389d"
      },
      "outputs": [
        {
          "name": "stdout",
          "output_type": "stream",
          "text": [
            "Epoch 1/10\n",
            "219/219 [==============================] - 6s 12ms/step - loss: 0.6945 - accuracy: 0.4964 - val_loss: 0.6953 - val_accuracy: 0.4800\n",
            "Epoch 2/10\n",
            "219/219 [==============================] - 2s 9ms/step - loss: 0.6937 - accuracy: 0.5009 - val_loss: 0.6956 - val_accuracy: 0.4520\n",
            "Epoch 3/10\n",
            "219/219 [==============================] - 1s 6ms/step - loss: 0.6934 - accuracy: 0.5010 - val_loss: 0.6960 - val_accuracy: 0.4590\n",
            "Epoch 4/10\n",
            "219/219 [==============================] - 1s 3ms/step - loss: 0.6932 - accuracy: 0.5066 - val_loss: 0.6966 - val_accuracy: 0.4620\n",
            "Epoch 5/10\n",
            "219/219 [==============================] - 1s 2ms/step - loss: 0.6931 - accuracy: 0.5064 - val_loss: 0.6967 - val_accuracy: 0.4450\n",
            "Epoch 6/10\n",
            "219/219 [==============================] - 1s 3ms/step - loss: 0.6930 - accuracy: 0.5027 - val_loss: 0.6972 - val_accuracy: 0.4380\n",
            "Epoch 7/10\n",
            "219/219 [==============================] - 1s 3ms/step - loss: 0.6930 - accuracy: 0.5128 - val_loss: 0.6974 - val_accuracy: 0.4500\n",
            "Epoch 8/10\n",
            "219/219 [==============================] - 1s 3ms/step - loss: 0.6926 - accuracy: 0.5171 - val_loss: 0.6978 - val_accuracy: 0.4480\n",
            "Epoch 9/10\n",
            "219/219 [==============================] - 1s 2ms/step - loss: 0.6927 - accuracy: 0.5100 - val_loss: 0.6981 - val_accuracy: 0.4510\n",
            "Epoch 10/10\n",
            "219/219 [==============================] - 1s 2ms/step - loss: 0.6924 - accuracy: 0.5124 - val_loss: 0.6985 - val_accuracy: 0.4400\n",
            "63/63 [==============================] - 0s 1ms/step\n",
            "              precision    recall  f1-score   support\n",
            "\n",
            "           0       0.47      0.60      0.53      1000\n",
            "           1       0.44      0.32      0.37      1000\n",
            "\n",
            "    accuracy                           0.46      2000\n",
            "   macro avg       0.46      0.46      0.45      2000\n",
            "weighted avg       0.46      0.46      0.45      2000\n",
            "\n"
          ]
        }
      ],
      "source": [
        "\n",
        "\n",
        "def preprocess_texts(df, tokenizer, max_len):\n",
        "    sequences = tokenizer.texts_to_sequences(df.tolist())\n",
        "    padded_sequences = pad_sequences(sequences, maxlen=max_len, padding='post')\n",
        "    return padded_sequences\n",
        "\n",
        "def glove_model_2_preprocessing(train_df, validation_df, max_len, embeddings_index):\n",
        "    tokenizer = Tokenizer(oov_token=\"<OOV>\")\n",
        "    tokenizer.fit_on_texts(train_df['phrase1'].tolist() + train_df['phrase2'].tolist())\n",
        "\n",
        "    train_sequences_1 = preprocess_texts(train_df['phrase1'], tokenizer, max_len)\n",
        "    train_sequences_2 = preprocess_texts(train_df['phrase2'], tokenizer, max_len)\n",
        "    val_sequences_1 = preprocess_texts(validation_df['phrase1'], tokenizer, max_len)\n",
        "    val_sequences_2 = preprocess_texts(validation_df['phrase2'], tokenizer, max_len)\n",
        "\n",
        "    embedding_matrix = np.zeros((len(tokenizer.word_index) + 1, 100))\n",
        "    embeddings_index['<OOV>'] = np.zeros(100)\n",
        "    for word, i in tokenizer.word_index.items():\n",
        "        embedding_vector = embeddings_index.get(word, embeddings_index['<OOV>'])\n",
        "        embedding_matrix[i] = embedding_vector\n",
        "\n",
        "    embedding_layer = Embedding(len(tokenizer.word_index) + 1, 100, weights=[embedding_matrix], input_length=max_len, trainable=False)\n",
        "    global_average_layer = GlobalAveragePooling1D()\n",
        "\n",
        "    input_1 = Input(shape=(max_len,))\n",
        "    input_2 = Input(shape=(max_len,))\n",
        "\n",
        "    embedded_sequences_1 = embedding_layer(input_1)\n",
        "    embedded_sequences_2 = embedding_layer(input_2)\n",
        "\n",
        "    pooled_output_1 = global_average_layer(embedded_sequences_1)\n",
        "    pooled_output_2 = global_average_layer(embedded_sequences_2)\n",
        "\n",
        "    concatenated = tf.keras.layers.concatenate([pooled_output_1, pooled_output_2])\n",
        "    predictions = Dense(1, activation='sigmoid')(concatenated)\n",
        "    model = Model(inputs=[input_1, input_2], outputs=predictions)\n",
        "\n",
        "    model.compile(optimizer='adam', loss='binary_crossentropy', metrics=['accuracy'])\n",
        "    y_train = train_df['label'].values\n",
        "    y_val = validation_df['label'].values\n",
        "    model.fit([train_sequences_1, train_sequences_2], y_train, epochs=10, validation_data=([val_sequences_1, val_sequences_2], y_val))\n",
        "    return model, tokenizer\n",
        "\n",
        "def preprocess_test_data(test_df, tokenizer, max_len):\n",
        "    test_sequences_1 = preprocess_texts(test_df['phrase1'], tokenizer, max_len)\n",
        "    test_sequences_2 = preprocess_texts(test_df['phrase2'], tokenizer, max_len)\n",
        "    y_test = test_df['label'].values\n",
        "    return [test_sequences_1, test_sequences_2], y_test\n",
        "\n",
        "# Example usage\n",
        "max_len = 15\n",
        "model, tokenizer = glove_model_2_preprocessing(train_df, validation_df, max_len, embeddings_index)\n",
        "test_data, y_test = preprocess_test_data(test_df, tokenizer, max_len)\n",
        "y_pred = model.predict(test_data)\n",
        "y_pred_classes = (y_pred > 0.5).astype(\"int32\")\n",
        "print(classification_report(y_test, y_pred_classes))\n"
      ]
    }
  ],
  "metadata": {
    "accelerator": "TPU",
    "colab": {
      "collapsed_sections": [
        "OPalZ0-9f452",
        "SfSlG3USf_hJ",
        "3JqUuaNAgl9d",
        "oXvAHPWjgDxO",
        "0NxURoaLgIGo",
        "_qNVjh-GmL8X",
        "QhY62PZsm1FH",
        "ShaziTWwm3oq",
        "wFU-5rbWe-S4",
        "KAxHgfxBPXk4",
        "fOm5C1qjc3nL"
      ],
      "provenance": []
    },
    "kernelspec": {
      "display_name": "Python 3",
      "name": "python3"
    },
    "language_info": {
      "name": "python"
    },
    "widgets": {
      "application/vnd.jupyter.widget-state+json": {
        "08e4c69664a14fb0ab124c8fdcdef56f": {
          "model_module": "@jupyter-widgets/controls",
          "model_module_version": "1.5.0",
          "model_name": "HBoxModel",
          "state": {
            "_dom_classes": [],
            "_model_module": "@jupyter-widgets/controls",
            "_model_module_version": "1.5.0",
            "_model_name": "HBoxModel",
            "_view_count": null,
            "_view_module": "@jupyter-widgets/controls",
            "_view_module_version": "1.5.0",
            "_view_name": "HBoxView",
            "box_style": "",
            "children": [
              "IPY_MODEL_25d86e21fd2043ccb5789f38518a2f04",
              "IPY_MODEL_cb5f87b764024bd58f12b5ef1171e023",
              "IPY_MODEL_a061358975f24e2395c3d3406bcc8d46"
            ],
            "layout": "IPY_MODEL_f331ed50f38b43ce9c2766256814a31d"
          }
        },
        "0e9cc7674300478ca6e438c51580b165": {
          "model_module": "@jupyter-widgets/controls",
          "model_module_version": "1.5.0",
          "model_name": "HBoxModel",
          "state": {
            "_dom_classes": [],
            "_model_module": "@jupyter-widgets/controls",
            "_model_module_version": "1.5.0",
            "_model_name": "HBoxModel",
            "_view_count": null,
            "_view_module": "@jupyter-widgets/controls",
            "_view_module_version": "1.5.0",
            "_view_name": "HBoxView",
            "box_style": "",
            "children": [
              "IPY_MODEL_b720648fa17247db93fbd83f9ee778b5",
              "IPY_MODEL_837f74f80bdd4782a2b62c52ebc03a21",
              "IPY_MODEL_fd9c66c1efc54f2f8d3817b3837b15fa"
            ],
            "layout": "IPY_MODEL_d9a958dcf2b24de990d31ad9b646f91a"
          }
        },
        "15fd4324042048f3a2547d5c8e104eaf": {
          "model_module": "@jupyter-widgets/base",
          "model_module_version": "1.2.0",
          "model_name": "LayoutModel",
          "state": {
            "_model_module": "@jupyter-widgets/base",
            "_model_module_version": "1.2.0",
            "_model_name": "LayoutModel",
            "_view_count": null,
            "_view_module": "@jupyter-widgets/base",
            "_view_module_version": "1.2.0",
            "_view_name": "LayoutView",
            "align_content": null,
            "align_items": null,
            "align_self": null,
            "border": null,
            "bottom": null,
            "display": null,
            "flex": null,
            "flex_flow": null,
            "grid_area": null,
            "grid_auto_columns": null,
            "grid_auto_flow": null,
            "grid_auto_rows": null,
            "grid_column": null,
            "grid_gap": null,
            "grid_row": null,
            "grid_template_areas": null,
            "grid_template_columns": null,
            "grid_template_rows": null,
            "height": null,
            "justify_content": null,
            "justify_items": null,
            "left": null,
            "margin": null,
            "max_height": null,
            "max_width": null,
            "min_height": null,
            "min_width": null,
            "object_fit": null,
            "object_position": null,
            "order": null,
            "overflow": null,
            "overflow_x": null,
            "overflow_y": null,
            "padding": null,
            "right": null,
            "top": null,
            "visibility": null,
            "width": null
          }
        },
        "1be42b78deac44e989d9696ce6cbb9e8": {
          "model_module": "@jupyter-widgets/controls",
          "model_module_version": "1.5.0",
          "model_name": "HTMLModel",
          "state": {
            "_dom_classes": [],
            "_model_module": "@jupyter-widgets/controls",
            "_model_module_version": "1.5.0",
            "_model_name": "HTMLModel",
            "_view_count": null,
            "_view_module": "@jupyter-widgets/controls",
            "_view_module_version": "1.5.0",
            "_view_name": "HTMLView",
            "description": "",
            "description_tooltip": null,
            "layout": "IPY_MODEL_2124fa783a1848718c73b41520ce05a2",
            "placeholder": "​",
            "style": "IPY_MODEL_6278ce22448144bebd4b4e4f91bf9f55",
            "value": " 2000/2000 [00:00&lt;00:00, 42213.63 examples/s]"
          }
        },
        "1cd82e4e807b4ae5b5221418d7dfe7fa": {
          "model_module": "@jupyter-widgets/controls",
          "model_module_version": "1.5.0",
          "model_name": "ProgressStyleModel",
          "state": {
            "_model_module": "@jupyter-widgets/controls",
            "_model_module_version": "1.5.0",
            "_model_name": "ProgressStyleModel",
            "_view_count": null,
            "_view_module": "@jupyter-widgets/base",
            "_view_module_version": "1.2.0",
            "_view_name": "StyleView",
            "bar_color": null,
            "description_width": ""
          }
        },
        "1df09f55047c425db10fb5ce9cb23218": {
          "model_module": "@jupyter-widgets/base",
          "model_module_version": "1.2.0",
          "model_name": "LayoutModel",
          "state": {
            "_model_module": "@jupyter-widgets/base",
            "_model_module_version": "1.2.0",
            "_model_name": "LayoutModel",
            "_view_count": null,
            "_view_module": "@jupyter-widgets/base",
            "_view_module_version": "1.2.0",
            "_view_name": "LayoutView",
            "align_content": null,
            "align_items": null,
            "align_self": null,
            "border": null,
            "bottom": null,
            "display": null,
            "flex": null,
            "flex_flow": null,
            "grid_area": null,
            "grid_auto_columns": null,
            "grid_auto_flow": null,
            "grid_auto_rows": null,
            "grid_column": null,
            "grid_gap": null,
            "grid_row": null,
            "grid_template_areas": null,
            "grid_template_columns": null,
            "grid_template_rows": null,
            "height": null,
            "justify_content": null,
            "justify_items": null,
            "left": null,
            "margin": null,
            "max_height": null,
            "max_width": null,
            "min_height": null,
            "min_width": null,
            "object_fit": null,
            "object_position": null,
            "order": null,
            "overflow": null,
            "overflow_x": null,
            "overflow_y": null,
            "padding": null,
            "right": null,
            "top": null,
            "visibility": null,
            "width": null
          }
        },
        "2124fa783a1848718c73b41520ce05a2": {
          "model_module": "@jupyter-widgets/base",
          "model_module_version": "1.2.0",
          "model_name": "LayoutModel",
          "state": {
            "_model_module": "@jupyter-widgets/base",
            "_model_module_version": "1.2.0",
            "_model_name": "LayoutModel",
            "_view_count": null,
            "_view_module": "@jupyter-widgets/base",
            "_view_module_version": "1.2.0",
            "_view_name": "LayoutView",
            "align_content": null,
            "align_items": null,
            "align_self": null,
            "border": null,
            "bottom": null,
            "display": null,
            "flex": null,
            "flex_flow": null,
            "grid_area": null,
            "grid_auto_columns": null,
            "grid_auto_flow": null,
            "grid_auto_rows": null,
            "grid_column": null,
            "grid_gap": null,
            "grid_row": null,
            "grid_template_areas": null,
            "grid_template_columns": null,
            "grid_template_rows": null,
            "height": null,
            "justify_content": null,
            "justify_items": null,
            "left": null,
            "margin": null,
            "max_height": null,
            "max_width": null,
            "min_height": null,
            "min_width": null,
            "object_fit": null,
            "object_position": null,
            "order": null,
            "overflow": null,
            "overflow_x": null,
            "overflow_y": null,
            "padding": null,
            "right": null,
            "top": null,
            "visibility": null,
            "width": null
          }
        },
        "25d86e21fd2043ccb5789f38518a2f04": {
          "model_module": "@jupyter-widgets/controls",
          "model_module_version": "1.5.0",
          "model_name": "HTMLModel",
          "state": {
            "_dom_classes": [],
            "_model_module": "@jupyter-widgets/controls",
            "_model_module_version": "1.5.0",
            "_model_name": "HTMLModel",
            "_view_count": null,
            "_view_module": "@jupyter-widgets/controls",
            "_view_module_version": "1.5.0",
            "_view_name": "HTMLView",
            "description": "",
            "description_tooltip": null,
            "layout": "IPY_MODEL_6e735773384e44b8b56a517ecaf9b172",
            "placeholder": "​",
            "style": "IPY_MODEL_eb912a1361b943518a4856bc0d646ffe",
            "value": "Downloading data: 100%"
          }
        },
        "26a598d708a74111a87bfa21d6230642": {
          "model_module": "@jupyter-widgets/base",
          "model_module_version": "1.2.0",
          "model_name": "LayoutModel",
          "state": {
            "_model_module": "@jupyter-widgets/base",
            "_model_module_version": "1.2.0",
            "_model_name": "LayoutModel",
            "_view_count": null,
            "_view_module": "@jupyter-widgets/base",
            "_view_module_version": "1.2.0",
            "_view_name": "LayoutView",
            "align_content": null,
            "align_items": null,
            "align_self": null,
            "border": null,
            "bottom": null,
            "display": null,
            "flex": null,
            "flex_flow": null,
            "grid_area": null,
            "grid_auto_columns": null,
            "grid_auto_flow": null,
            "grid_auto_rows": null,
            "grid_column": null,
            "grid_gap": null,
            "grid_row": null,
            "grid_template_areas": null,
            "grid_template_columns": null,
            "grid_template_rows": null,
            "height": null,
            "justify_content": null,
            "justify_items": null,
            "left": null,
            "margin": null,
            "max_height": null,
            "max_width": null,
            "min_height": null,
            "min_width": null,
            "object_fit": null,
            "object_position": null,
            "order": null,
            "overflow": null,
            "overflow_x": null,
            "overflow_y": null,
            "padding": null,
            "right": null,
            "top": null,
            "visibility": null,
            "width": null
          }
        },
        "28f1307042224346aa2582b226c110b5": {
          "model_module": "@jupyter-widgets/controls",
          "model_module_version": "1.5.0",
          "model_name": "HBoxModel",
          "state": {
            "_dom_classes": [],
            "_model_module": "@jupyter-widgets/controls",
            "_model_module_version": "1.5.0",
            "_model_name": "HBoxModel",
            "_view_count": null,
            "_view_module": "@jupyter-widgets/controls",
            "_view_module_version": "1.5.0",
            "_view_name": "HBoxView",
            "box_style": "",
            "children": [
              "IPY_MODEL_d853bc9c4acb4880b0ef29d2d557c1b2",
              "IPY_MODEL_4a652a55c51143a6a482b5cdf383c9e8",
              "IPY_MODEL_ba7a30c07fa747a18430abe0649b06e2"
            ],
            "layout": "IPY_MODEL_77d5447562024f52ae880bd9f86587a7"
          }
        },
        "3251fcb5a80c498786f2609d5e611515": {
          "model_module": "@jupyter-widgets/controls",
          "model_module_version": "1.5.0",
          "model_name": "FloatProgressModel",
          "state": {
            "_dom_classes": [],
            "_model_module": "@jupyter-widgets/controls",
            "_model_module_version": "1.5.0",
            "_model_name": "FloatProgressModel",
            "_view_count": null,
            "_view_module": "@jupyter-widgets/controls",
            "_view_module_version": "1.5.0",
            "_view_name": "ProgressView",
            "bar_style": "success",
            "description": "",
            "description_tooltip": null,
            "layout": "IPY_MODEL_26a598d708a74111a87bfa21d6230642",
            "max": 2000,
            "min": 0,
            "orientation": "horizontal",
            "style": "IPY_MODEL_b9dfa978cd5b47ccb4f63ac4a9ba70f4",
            "value": 2000
          }
        },
        "34bc9b15842648a8929fc5e00188851e": {
          "model_module": "@jupyter-widgets/base",
          "model_module_version": "1.2.0",
          "model_name": "LayoutModel",
          "state": {
            "_model_module": "@jupyter-widgets/base",
            "_model_module_version": "1.2.0",
            "_model_name": "LayoutModel",
            "_view_count": null,
            "_view_module": "@jupyter-widgets/base",
            "_view_module_version": "1.2.0",
            "_view_name": "LayoutView",
            "align_content": null,
            "align_items": null,
            "align_self": null,
            "border": null,
            "bottom": null,
            "display": null,
            "flex": null,
            "flex_flow": null,
            "grid_area": null,
            "grid_auto_columns": null,
            "grid_auto_flow": null,
            "grid_auto_rows": null,
            "grid_column": null,
            "grid_gap": null,
            "grid_row": null,
            "grid_template_areas": null,
            "grid_template_columns": null,
            "grid_template_rows": null,
            "height": null,
            "justify_content": null,
            "justify_items": null,
            "left": null,
            "margin": null,
            "max_height": null,
            "max_width": null,
            "min_height": null,
            "min_width": null,
            "object_fit": null,
            "object_position": null,
            "order": null,
            "overflow": null,
            "overflow_x": null,
            "overflow_y": null,
            "padding": null,
            "right": null,
            "top": null,
            "visibility": null,
            "width": null
          }
        },
        "40d26f7f5f1f4fb98d5c629134ff0d88": {
          "model_module": "@jupyter-widgets/controls",
          "model_module_version": "1.5.0",
          "model_name": "DescriptionStyleModel",
          "state": {
            "_model_module": "@jupyter-widgets/controls",
            "_model_module_version": "1.5.0",
            "_model_name": "DescriptionStyleModel",
            "_view_count": null,
            "_view_module": "@jupyter-widgets/base",
            "_view_module_version": "1.2.0",
            "_view_name": "StyleView",
            "description_width": ""
          }
        },
        "4a652a55c51143a6a482b5cdf383c9e8": {
          "model_module": "@jupyter-widgets/controls",
          "model_module_version": "1.5.0",
          "model_name": "FloatProgressModel",
          "state": {
            "_dom_classes": [],
            "_model_module": "@jupyter-widgets/controls",
            "_model_module_version": "1.5.0",
            "_model_name": "FloatProgressModel",
            "_view_count": null,
            "_view_module": "@jupyter-widgets/controls",
            "_view_module_version": "1.5.0",
            "_view_name": "ProgressView",
            "bar_style": "success",
            "description": "",
            "description_tooltip": null,
            "layout": "IPY_MODEL_8fb477e2e9e041bb8ed084f88bd9be42",
            "max": 1416219,
            "min": 0,
            "orientation": "horizontal",
            "style": "IPY_MODEL_5cb2976c86b5469192c5ce3b355ac583",
            "value": 1416219
          }
        },
        "5ae1f1f07e9e481db862533f0755011c": {
          "model_module": "@jupyter-widgets/controls",
          "model_module_version": "1.5.0",
          "model_name": "DescriptionStyleModel",
          "state": {
            "_model_module": "@jupyter-widgets/controls",
            "_model_module_version": "1.5.0",
            "_model_name": "DescriptionStyleModel",
            "_view_count": null,
            "_view_module": "@jupyter-widgets/base",
            "_view_module_version": "1.2.0",
            "_view_name": "StyleView",
            "description_width": ""
          }
        },
        "5c8820601cb54aa9afcd8242cdf95324": {
          "model_module": "@jupyter-widgets/base",
          "model_module_version": "1.2.0",
          "model_name": "LayoutModel",
          "state": {
            "_model_module": "@jupyter-widgets/base",
            "_model_module_version": "1.2.0",
            "_model_name": "LayoutModel",
            "_view_count": null,
            "_view_module": "@jupyter-widgets/base",
            "_view_module_version": "1.2.0",
            "_view_name": "LayoutView",
            "align_content": null,
            "align_items": null,
            "align_self": null,
            "border": null,
            "bottom": null,
            "display": null,
            "flex": null,
            "flex_flow": null,
            "grid_area": null,
            "grid_auto_columns": null,
            "grid_auto_flow": null,
            "grid_auto_rows": null,
            "grid_column": null,
            "grid_gap": null,
            "grid_row": null,
            "grid_template_areas": null,
            "grid_template_columns": null,
            "grid_template_rows": null,
            "height": null,
            "justify_content": null,
            "justify_items": null,
            "left": null,
            "margin": null,
            "max_height": null,
            "max_width": null,
            "min_height": null,
            "min_width": null,
            "object_fit": null,
            "object_position": null,
            "order": null,
            "overflow": null,
            "overflow_x": null,
            "overflow_y": null,
            "padding": null,
            "right": null,
            "top": null,
            "visibility": null,
            "width": null
          }
        },
        "5cb2976c86b5469192c5ce3b355ac583": {
          "model_module": "@jupyter-widgets/controls",
          "model_module_version": "1.5.0",
          "model_name": "ProgressStyleModel",
          "state": {
            "_model_module": "@jupyter-widgets/controls",
            "_model_module_version": "1.5.0",
            "_model_name": "ProgressStyleModel",
            "_view_count": null,
            "_view_module": "@jupyter-widgets/base",
            "_view_module_version": "1.2.0",
            "_view_name": "StyleView",
            "bar_color": null,
            "description_width": ""
          }
        },
        "6278ce22448144bebd4b4e4f91bf9f55": {
          "model_module": "@jupyter-widgets/controls",
          "model_module_version": "1.5.0",
          "model_name": "DescriptionStyleModel",
          "state": {
            "_model_module": "@jupyter-widgets/controls",
            "_model_module_version": "1.5.0",
            "_model_name": "DescriptionStyleModel",
            "_view_count": null,
            "_view_module": "@jupyter-widgets/base",
            "_view_module_version": "1.2.0",
            "_view_name": "StyleView",
            "description_width": ""
          }
        },
        "6639645fafcf41abbc7c67dfb8e70e14": {
          "model_module": "@jupyter-widgets/base",
          "model_module_version": "1.2.0",
          "model_name": "LayoutModel",
          "state": {
            "_model_module": "@jupyter-widgets/base",
            "_model_module_version": "1.2.0",
            "_model_name": "LayoutModel",
            "_view_count": null,
            "_view_module": "@jupyter-widgets/base",
            "_view_module_version": "1.2.0",
            "_view_name": "LayoutView",
            "align_content": null,
            "align_items": null,
            "align_self": null,
            "border": null,
            "bottom": null,
            "display": null,
            "flex": null,
            "flex_flow": null,
            "grid_area": null,
            "grid_auto_columns": null,
            "grid_auto_flow": null,
            "grid_auto_rows": null,
            "grid_column": null,
            "grid_gap": null,
            "grid_row": null,
            "grid_template_areas": null,
            "grid_template_columns": null,
            "grid_template_rows": null,
            "height": null,
            "justify_content": null,
            "justify_items": null,
            "left": null,
            "margin": null,
            "max_height": null,
            "max_width": null,
            "min_height": null,
            "min_width": null,
            "object_fit": null,
            "object_position": null,
            "order": null,
            "overflow": null,
            "overflow_x": null,
            "overflow_y": null,
            "padding": null,
            "right": null,
            "top": null,
            "visibility": null,
            "width": null
          }
        },
        "6644ab7866ef484e998bef12fd59555e": {
          "model_module": "@jupyter-widgets/base",
          "model_module_version": "1.2.0",
          "model_name": "LayoutModel",
          "state": {
            "_model_module": "@jupyter-widgets/base",
            "_model_module_version": "1.2.0",
            "_model_name": "LayoutModel",
            "_view_count": null,
            "_view_module": "@jupyter-widgets/base",
            "_view_module_version": "1.2.0",
            "_view_name": "LayoutView",
            "align_content": null,
            "align_items": null,
            "align_self": null,
            "border": null,
            "bottom": null,
            "display": null,
            "flex": null,
            "flex_flow": null,
            "grid_area": null,
            "grid_auto_columns": null,
            "grid_auto_flow": null,
            "grid_auto_rows": null,
            "grid_column": null,
            "grid_gap": null,
            "grid_row": null,
            "grid_template_areas": null,
            "grid_template_columns": null,
            "grid_template_rows": null,
            "height": null,
            "justify_content": null,
            "justify_items": null,
            "left": null,
            "margin": null,
            "max_height": null,
            "max_width": null,
            "min_height": null,
            "min_width": null,
            "object_fit": null,
            "object_position": null,
            "order": null,
            "overflow": null,
            "overflow_x": null,
            "overflow_y": null,
            "padding": null,
            "right": null,
            "top": null,
            "visibility": null,
            "width": null
          }
        },
        "6e735773384e44b8b56a517ecaf9b172": {
          "model_module": "@jupyter-widgets/base",
          "model_module_version": "1.2.0",
          "model_name": "LayoutModel",
          "state": {
            "_model_module": "@jupyter-widgets/base",
            "_model_module_version": "1.2.0",
            "_model_name": "LayoutModel",
            "_view_count": null,
            "_view_module": "@jupyter-widgets/base",
            "_view_module_version": "1.2.0",
            "_view_name": "LayoutView",
            "align_content": null,
            "align_items": null,
            "align_self": null,
            "border": null,
            "bottom": null,
            "display": null,
            "flex": null,
            "flex_flow": null,
            "grid_area": null,
            "grid_auto_columns": null,
            "grid_auto_flow": null,
            "grid_auto_rows": null,
            "grid_column": null,
            "grid_gap": null,
            "grid_row": null,
            "grid_template_areas": null,
            "grid_template_columns": null,
            "grid_template_rows": null,
            "height": null,
            "justify_content": null,
            "justify_items": null,
            "left": null,
            "margin": null,
            "max_height": null,
            "max_width": null,
            "min_height": null,
            "min_width": null,
            "object_fit": null,
            "object_position": null,
            "order": null,
            "overflow": null,
            "overflow_x": null,
            "overflow_y": null,
            "padding": null,
            "right": null,
            "top": null,
            "visibility": null,
            "width": null
          }
        },
        "76084686e0e647ff8a0ff5d1934dad58": {
          "model_module": "@jupyter-widgets/controls",
          "model_module_version": "1.5.0",
          "model_name": "HBoxModel",
          "state": {
            "_dom_classes": [],
            "_model_module": "@jupyter-widgets/controls",
            "_model_module_version": "1.5.0",
            "_model_name": "HBoxModel",
            "_view_count": null,
            "_view_module": "@jupyter-widgets/controls",
            "_view_module_version": "1.5.0",
            "_view_name": "HBoxView",
            "box_style": "",
            "children": [
              "IPY_MODEL_f45c1bebba234742b1b8259d25162d07",
              "IPY_MODEL_3251fcb5a80c498786f2609d5e611515",
              "IPY_MODEL_1be42b78deac44e989d9696ce6cbb9e8"
            ],
            "layout": "IPY_MODEL_a16fc8e8d234420289a3a797881f220f"
          }
        },
        "76885b8720074dc58ea3327839df35bf": {
          "model_module": "@jupyter-widgets/controls",
          "model_module_version": "1.5.0",
          "model_name": "HTMLModel",
          "state": {
            "_dom_classes": [],
            "_model_module": "@jupyter-widgets/controls",
            "_model_module_version": "1.5.0",
            "_model_name": "HTMLModel",
            "_view_count": null,
            "_view_module": "@jupyter-widgets/controls",
            "_view_module_version": "1.5.0",
            "_view_name": "HTMLView",
            "description": "",
            "description_tooltip": null,
            "layout": "IPY_MODEL_9388de70bbd3478abcf173b613aee90d",
            "placeholder": "​",
            "style": "IPY_MODEL_b0480e86d04a41dcbdcfc7ef8d0e108e",
            "value": "Generating train split: 100%"
          }
        },
        "77876dee02234830bac5a1e52b83f06c": {
          "model_module": "@jupyter-widgets/controls",
          "model_module_version": "1.5.0",
          "model_name": "DescriptionStyleModel",
          "state": {
            "_model_module": "@jupyter-widgets/controls",
            "_model_module_version": "1.5.0",
            "_model_name": "DescriptionStyleModel",
            "_view_count": null,
            "_view_module": "@jupyter-widgets/base",
            "_view_module_version": "1.2.0",
            "_view_name": "StyleView",
            "description_width": ""
          }
        },
        "77d5447562024f52ae880bd9f86587a7": {
          "model_module": "@jupyter-widgets/base",
          "model_module_version": "1.2.0",
          "model_name": "LayoutModel",
          "state": {
            "_model_module": "@jupyter-widgets/base",
            "_model_module_version": "1.2.0",
            "_model_name": "LayoutModel",
            "_view_count": null,
            "_view_module": "@jupyter-widgets/base",
            "_view_module_version": "1.2.0",
            "_view_name": "LayoutView",
            "align_content": null,
            "align_items": null,
            "align_self": null,
            "border": null,
            "bottom": null,
            "display": null,
            "flex": null,
            "flex_flow": null,
            "grid_area": null,
            "grid_auto_columns": null,
            "grid_auto_flow": null,
            "grid_auto_rows": null,
            "grid_column": null,
            "grid_gap": null,
            "grid_row": null,
            "grid_template_areas": null,
            "grid_template_columns": null,
            "grid_template_rows": null,
            "height": null,
            "justify_content": null,
            "justify_items": null,
            "left": null,
            "margin": null,
            "max_height": null,
            "max_width": null,
            "min_height": null,
            "min_width": null,
            "object_fit": null,
            "object_position": null,
            "order": null,
            "overflow": null,
            "overflow_x": null,
            "overflow_y": null,
            "padding": null,
            "right": null,
            "top": null,
            "visibility": null,
            "width": null
          }
        },
        "7c1b8ce9909f4502ba7e392846d1b813": {
          "model_module": "@jupyter-widgets/controls",
          "model_module_version": "1.5.0",
          "model_name": "DescriptionStyleModel",
          "state": {
            "_model_module": "@jupyter-widgets/controls",
            "_model_module_version": "1.5.0",
            "_model_name": "DescriptionStyleModel",
            "_view_count": null,
            "_view_module": "@jupyter-widgets/base",
            "_view_module_version": "1.2.0",
            "_view_name": "StyleView",
            "description_width": ""
          }
        },
        "837f74f80bdd4782a2b62c52ebc03a21": {
          "model_module": "@jupyter-widgets/controls",
          "model_module_version": "1.5.0",
          "model_name": "FloatProgressModel",
          "state": {
            "_dom_classes": [],
            "_model_module": "@jupyter-widgets/controls",
            "_model_module_version": "1.5.0",
            "_model_name": "FloatProgressModel",
            "_view_count": null,
            "_view_module": "@jupyter-widgets/controls",
            "_view_module_version": "1.5.0",
            "_view_name": "ProgressView",
            "bar_style": "success",
            "description": "",
            "description_tooltip": null,
            "layout": "IPY_MODEL_df462f08d6c84772a0c8fa21b91278e5",
            "max": 1000,
            "min": 0,
            "orientation": "horizontal",
            "style": "IPY_MODEL_1cd82e4e807b4ae5b5221418d7dfe7fa",
            "value": 1000
          }
        },
        "83d8809449884204b52143d89e6201f5": {
          "model_module": "@jupyter-widgets/base",
          "model_module_version": "1.2.0",
          "model_name": "LayoutModel",
          "state": {
            "_model_module": "@jupyter-widgets/base",
            "_model_module_version": "1.2.0",
            "_model_name": "LayoutModel",
            "_view_count": null,
            "_view_module": "@jupyter-widgets/base",
            "_view_module_version": "1.2.0",
            "_view_name": "LayoutView",
            "align_content": null,
            "align_items": null,
            "align_self": null,
            "border": null,
            "bottom": null,
            "display": null,
            "flex": null,
            "flex_flow": null,
            "grid_area": null,
            "grid_auto_columns": null,
            "grid_auto_flow": null,
            "grid_auto_rows": null,
            "grid_column": null,
            "grid_gap": null,
            "grid_row": null,
            "grid_template_areas": null,
            "grid_template_columns": null,
            "grid_template_rows": null,
            "height": null,
            "justify_content": null,
            "justify_items": null,
            "left": null,
            "margin": null,
            "max_height": null,
            "max_width": null,
            "min_height": null,
            "min_width": null,
            "object_fit": null,
            "object_position": null,
            "order": null,
            "overflow": null,
            "overflow_x": null,
            "overflow_y": null,
            "padding": null,
            "right": null,
            "top": null,
            "visibility": null,
            "width": null
          }
        },
        "866fc68ea4514c52bc5681a268c8f2df": {
          "model_module": "@jupyter-widgets/controls",
          "model_module_version": "1.5.0",
          "model_name": "FloatProgressModel",
          "state": {
            "_dom_classes": [],
            "_model_module": "@jupyter-widgets/controls",
            "_model_module_version": "1.5.0",
            "_model_name": "FloatProgressModel",
            "_view_count": null,
            "_view_module": "@jupyter-widgets/controls",
            "_view_module_version": "1.5.0",
            "_view_name": "ProgressView",
            "bar_style": "success",
            "description": "",
            "description_tooltip": null,
            "layout": "IPY_MODEL_9b643d1e1d29452c85a19d33ebd87c57",
            "max": 202396,
            "min": 0,
            "orientation": "horizontal",
            "style": "IPY_MODEL_dd182946b27646ad85c6c90d0d962efb",
            "value": 202396
          }
        },
        "8a10cd57d52b4abdabd22c42a1ba6e19": {
          "model_module": "@jupyter-widgets/controls",
          "model_module_version": "1.5.0",
          "model_name": "DescriptionStyleModel",
          "state": {
            "_model_module": "@jupyter-widgets/controls",
            "_model_module_version": "1.5.0",
            "_model_name": "DescriptionStyleModel",
            "_view_count": null,
            "_view_module": "@jupyter-widgets/base",
            "_view_module_version": "1.2.0",
            "_view_name": "StyleView",
            "description_width": ""
          }
        },
        "8fb477e2e9e041bb8ed084f88bd9be42": {
          "model_module": "@jupyter-widgets/base",
          "model_module_version": "1.2.0",
          "model_name": "LayoutModel",
          "state": {
            "_model_module": "@jupyter-widgets/base",
            "_model_module_version": "1.2.0",
            "_model_name": "LayoutModel",
            "_view_count": null,
            "_view_module": "@jupyter-widgets/base",
            "_view_module_version": "1.2.0",
            "_view_name": "LayoutView",
            "align_content": null,
            "align_items": null,
            "align_self": null,
            "border": null,
            "bottom": null,
            "display": null,
            "flex": null,
            "flex_flow": null,
            "grid_area": null,
            "grid_auto_columns": null,
            "grid_auto_flow": null,
            "grid_auto_rows": null,
            "grid_column": null,
            "grid_gap": null,
            "grid_row": null,
            "grid_template_areas": null,
            "grid_template_columns": null,
            "grid_template_rows": null,
            "height": null,
            "justify_content": null,
            "justify_items": null,
            "left": null,
            "margin": null,
            "max_height": null,
            "max_width": null,
            "min_height": null,
            "min_width": null,
            "object_fit": null,
            "object_position": null,
            "order": null,
            "overflow": null,
            "overflow_x": null,
            "overflow_y": null,
            "padding": null,
            "right": null,
            "top": null,
            "visibility": null,
            "width": null
          }
        },
        "9388de70bbd3478abcf173b613aee90d": {
          "model_module": "@jupyter-widgets/base",
          "model_module_version": "1.2.0",
          "model_name": "LayoutModel",
          "state": {
            "_model_module": "@jupyter-widgets/base",
            "_model_module_version": "1.2.0",
            "_model_name": "LayoutModel",
            "_view_count": null,
            "_view_module": "@jupyter-widgets/base",
            "_view_module_version": "1.2.0",
            "_view_name": "LayoutView",
            "align_content": null,
            "align_items": null,
            "align_self": null,
            "border": null,
            "bottom": null,
            "display": null,
            "flex": null,
            "flex_flow": null,
            "grid_area": null,
            "grid_auto_columns": null,
            "grid_auto_flow": null,
            "grid_auto_rows": null,
            "grid_column": null,
            "grid_gap": null,
            "grid_row": null,
            "grid_template_areas": null,
            "grid_template_columns": null,
            "grid_template_rows": null,
            "height": null,
            "justify_content": null,
            "justify_items": null,
            "left": null,
            "margin": null,
            "max_height": null,
            "max_width": null,
            "min_height": null,
            "min_width": null,
            "object_fit": null,
            "object_position": null,
            "order": null,
            "overflow": null,
            "overflow_x": null,
            "overflow_y": null,
            "padding": null,
            "right": null,
            "top": null,
            "visibility": null,
            "width": null
          }
        },
        "9938392d088343bba8b6d423f4bbeb55": {
          "model_module": "@jupyter-widgets/controls",
          "model_module_version": "1.5.0",
          "model_name": "DescriptionStyleModel",
          "state": {
            "_model_module": "@jupyter-widgets/controls",
            "_model_module_version": "1.5.0",
            "_model_name": "DescriptionStyleModel",
            "_view_count": null,
            "_view_module": "@jupyter-widgets/base",
            "_view_module_version": "1.2.0",
            "_view_name": "StyleView",
            "description_width": ""
          }
        },
        "9b643d1e1d29452c85a19d33ebd87c57": {
          "model_module": "@jupyter-widgets/base",
          "model_module_version": "1.2.0",
          "model_name": "LayoutModel",
          "state": {
            "_model_module": "@jupyter-widgets/base",
            "_model_module_version": "1.2.0",
            "_model_name": "LayoutModel",
            "_view_count": null,
            "_view_module": "@jupyter-widgets/base",
            "_view_module_version": "1.2.0",
            "_view_name": "LayoutView",
            "align_content": null,
            "align_items": null,
            "align_self": null,
            "border": null,
            "bottom": null,
            "display": null,
            "flex": null,
            "flex_flow": null,
            "grid_area": null,
            "grid_auto_columns": null,
            "grid_auto_flow": null,
            "grid_auto_rows": null,
            "grid_column": null,
            "grid_gap": null,
            "grid_row": null,
            "grid_template_areas": null,
            "grid_template_columns": null,
            "grid_template_rows": null,
            "height": null,
            "justify_content": null,
            "justify_items": null,
            "left": null,
            "margin": null,
            "max_height": null,
            "max_width": null,
            "min_height": null,
            "min_width": null,
            "object_fit": null,
            "object_position": null,
            "order": null,
            "overflow": null,
            "overflow_x": null,
            "overflow_y": null,
            "padding": null,
            "right": null,
            "top": null,
            "visibility": null,
            "width": null
          }
        },
        "a061358975f24e2395c3d3406bcc8d46": {
          "model_module": "@jupyter-widgets/controls",
          "model_module_version": "1.5.0",
          "model_name": "HTMLModel",
          "state": {
            "_dom_classes": [],
            "_model_module": "@jupyter-widgets/controls",
            "_model_module_version": "1.5.0",
            "_model_name": "HTMLModel",
            "_view_count": null,
            "_view_module": "@jupyter-widgets/controls",
            "_view_module_version": "1.5.0",
            "_view_name": "HTMLView",
            "description": "",
            "description_tooltip": null,
            "layout": "IPY_MODEL_5c8820601cb54aa9afcd8242cdf95324",
            "placeholder": "​",
            "style": "IPY_MODEL_fd97dce6f05b46508a86749dae8d619e",
            "value": " 403k/403k [00:00&lt;00:00, 2.71MB/s]"
          }
        },
        "a16fc8e8d234420289a3a797881f220f": {
          "model_module": "@jupyter-widgets/base",
          "model_module_version": "1.2.0",
          "model_name": "LayoutModel",
          "state": {
            "_model_module": "@jupyter-widgets/base",
            "_model_module_version": "1.2.0",
            "_model_name": "LayoutModel",
            "_view_count": null,
            "_view_module": "@jupyter-widgets/base",
            "_view_module_version": "1.2.0",
            "_view_name": "LayoutView",
            "align_content": null,
            "align_items": null,
            "align_self": null,
            "border": null,
            "bottom": null,
            "display": null,
            "flex": null,
            "flex_flow": null,
            "grid_area": null,
            "grid_auto_columns": null,
            "grid_auto_flow": null,
            "grid_auto_rows": null,
            "grid_column": null,
            "grid_gap": null,
            "grid_row": null,
            "grid_template_areas": null,
            "grid_template_columns": null,
            "grid_template_rows": null,
            "height": null,
            "justify_content": null,
            "justify_items": null,
            "left": null,
            "margin": null,
            "max_height": null,
            "max_width": null,
            "min_height": null,
            "min_width": null,
            "object_fit": null,
            "object_position": null,
            "order": null,
            "overflow": null,
            "overflow_x": null,
            "overflow_y": null,
            "padding": null,
            "right": null,
            "top": null,
            "visibility": null,
            "width": null
          }
        },
        "a8e8e5e4aebb46eebcf063e656782499": {
          "model_module": "@jupyter-widgets/controls",
          "model_module_version": "1.5.0",
          "model_name": "HTMLModel",
          "state": {
            "_dom_classes": [],
            "_model_module": "@jupyter-widgets/controls",
            "_model_module_version": "1.5.0",
            "_model_name": "HTMLModel",
            "_view_count": null,
            "_view_module": "@jupyter-widgets/controls",
            "_view_module_version": "1.5.0",
            "_view_name": "HTMLView",
            "description": "",
            "description_tooltip": null,
            "layout": "IPY_MODEL_b69c26729c6645c8b1e4bb5fcf2a85b9",
            "placeholder": "​",
            "style": "IPY_MODEL_9938392d088343bba8b6d423f4bbeb55",
            "value": " 202k/202k [00:00&lt;00:00, 1.44MB/s]"
          }
        },
        "ac77cd543c524e33be1c4ba29d098336": {
          "model_module": "@jupyter-widgets/controls",
          "model_module_version": "1.5.0",
          "model_name": "DescriptionStyleModel",
          "state": {
            "_model_module": "@jupyter-widgets/controls",
            "_model_module_version": "1.5.0",
            "_model_name": "DescriptionStyleModel",
            "_view_count": null,
            "_view_module": "@jupyter-widgets/base",
            "_view_module_version": "1.2.0",
            "_view_name": "StyleView",
            "description_width": ""
          }
        },
        "aea767bc3ca64fb684babf9acc49e028": {
          "model_module": "@jupyter-widgets/controls",
          "model_module_version": "1.5.0",
          "model_name": "FloatProgressModel",
          "state": {
            "_dom_classes": [],
            "_model_module": "@jupyter-widgets/controls",
            "_model_module_version": "1.5.0",
            "_model_name": "FloatProgressModel",
            "_view_count": null,
            "_view_module": "@jupyter-widgets/controls",
            "_view_module_version": "1.5.0",
            "_view_name": "ProgressView",
            "bar_style": "success",
            "description": "",
            "description_tooltip": null,
            "layout": "IPY_MODEL_6644ab7866ef484e998bef12fd59555e",
            "max": 7004,
            "min": 0,
            "orientation": "horizontal",
            "style": "IPY_MODEL_cd0008f0ffd54984a1600f41acba767d",
            "value": 7004
          }
        },
        "b0480e86d04a41dcbdcfc7ef8d0e108e": {
          "model_module": "@jupyter-widgets/controls",
          "model_module_version": "1.5.0",
          "model_name": "DescriptionStyleModel",
          "state": {
            "_model_module": "@jupyter-widgets/controls",
            "_model_module_version": "1.5.0",
            "_model_name": "DescriptionStyleModel",
            "_view_count": null,
            "_view_module": "@jupyter-widgets/base",
            "_view_module_version": "1.2.0",
            "_view_name": "StyleView",
            "description_width": ""
          }
        },
        "b38a536f7bac444b8e7ac3151d4ed7ea": {
          "model_module": "@jupyter-widgets/base",
          "model_module_version": "1.2.0",
          "model_name": "LayoutModel",
          "state": {
            "_model_module": "@jupyter-widgets/base",
            "_model_module_version": "1.2.0",
            "_model_name": "LayoutModel",
            "_view_count": null,
            "_view_module": "@jupyter-widgets/base",
            "_view_module_version": "1.2.0",
            "_view_name": "LayoutView",
            "align_content": null,
            "align_items": null,
            "align_self": null,
            "border": null,
            "bottom": null,
            "display": null,
            "flex": null,
            "flex_flow": null,
            "grid_area": null,
            "grid_auto_columns": null,
            "grid_auto_flow": null,
            "grid_auto_rows": null,
            "grid_column": null,
            "grid_gap": null,
            "grid_row": null,
            "grid_template_areas": null,
            "grid_template_columns": null,
            "grid_template_rows": null,
            "height": null,
            "justify_content": null,
            "justify_items": null,
            "left": null,
            "margin": null,
            "max_height": null,
            "max_width": null,
            "min_height": null,
            "min_width": null,
            "object_fit": null,
            "object_position": null,
            "order": null,
            "overflow": null,
            "overflow_x": null,
            "overflow_y": null,
            "padding": null,
            "right": null,
            "top": null,
            "visibility": null,
            "width": null
          }
        },
        "b69c26729c6645c8b1e4bb5fcf2a85b9": {
          "model_module": "@jupyter-widgets/base",
          "model_module_version": "1.2.0",
          "model_name": "LayoutModel",
          "state": {
            "_model_module": "@jupyter-widgets/base",
            "_model_module_version": "1.2.0",
            "_model_name": "LayoutModel",
            "_view_count": null,
            "_view_module": "@jupyter-widgets/base",
            "_view_module_version": "1.2.0",
            "_view_name": "LayoutView",
            "align_content": null,
            "align_items": null,
            "align_self": null,
            "border": null,
            "bottom": null,
            "display": null,
            "flex": null,
            "flex_flow": null,
            "grid_area": null,
            "grid_auto_columns": null,
            "grid_auto_flow": null,
            "grid_auto_rows": null,
            "grid_column": null,
            "grid_gap": null,
            "grid_row": null,
            "grid_template_areas": null,
            "grid_template_columns": null,
            "grid_template_rows": null,
            "height": null,
            "justify_content": null,
            "justify_items": null,
            "left": null,
            "margin": null,
            "max_height": null,
            "max_width": null,
            "min_height": null,
            "min_width": null,
            "object_fit": null,
            "object_position": null,
            "order": null,
            "overflow": null,
            "overflow_x": null,
            "overflow_y": null,
            "padding": null,
            "right": null,
            "top": null,
            "visibility": null,
            "width": null
          }
        },
        "b720648fa17247db93fbd83f9ee778b5": {
          "model_module": "@jupyter-widgets/controls",
          "model_module_version": "1.5.0",
          "model_name": "HTMLModel",
          "state": {
            "_dom_classes": [],
            "_model_module": "@jupyter-widgets/controls",
            "_model_module_version": "1.5.0",
            "_model_name": "HTMLModel",
            "_view_count": null,
            "_view_module": "@jupyter-widgets/controls",
            "_view_module_version": "1.5.0",
            "_view_name": "HTMLView",
            "description": "",
            "description_tooltip": null,
            "layout": "IPY_MODEL_bf830aa6d41b4ffdbc5b19c645c4f3ca",
            "placeholder": "​",
            "style": "IPY_MODEL_5ae1f1f07e9e481db862533f0755011c",
            "value": "Generating validation split: 100%"
          }
        },
        "b75ab7ac13da4f32b98d4199e79cce36": {
          "model_module": "@jupyter-widgets/controls",
          "model_module_version": "1.5.0",
          "model_name": "DescriptionStyleModel",
          "state": {
            "_model_module": "@jupyter-widgets/controls",
            "_model_module_version": "1.5.0",
            "_model_name": "DescriptionStyleModel",
            "_view_count": null,
            "_view_module": "@jupyter-widgets/base",
            "_view_module_version": "1.2.0",
            "_view_name": "StyleView",
            "description_width": ""
          }
        },
        "b7fd7aad135f4178be64d392746af297": {
          "model_module": "@jupyter-widgets/controls",
          "model_module_version": "1.5.0",
          "model_name": "HBoxModel",
          "state": {
            "_dom_classes": [],
            "_model_module": "@jupyter-widgets/controls",
            "_model_module_version": "1.5.0",
            "_model_name": "HBoxModel",
            "_view_count": null,
            "_view_module": "@jupyter-widgets/controls",
            "_view_module_version": "1.5.0",
            "_view_name": "HBoxView",
            "box_style": "",
            "children": [
              "IPY_MODEL_fbe7d85cf7e74cd7aa93e17b9d00e291",
              "IPY_MODEL_866fc68ea4514c52bc5681a268c8f2df",
              "IPY_MODEL_a8e8e5e4aebb46eebcf063e656782499"
            ],
            "layout": "IPY_MODEL_83d8809449884204b52143d89e6201f5"
          }
        },
        "b9dfa978cd5b47ccb4f63ac4a9ba70f4": {
          "model_module": "@jupyter-widgets/controls",
          "model_module_version": "1.5.0",
          "model_name": "ProgressStyleModel",
          "state": {
            "_model_module": "@jupyter-widgets/controls",
            "_model_module_version": "1.5.0",
            "_model_name": "ProgressStyleModel",
            "_view_count": null,
            "_view_module": "@jupyter-widgets/base",
            "_view_module_version": "1.2.0",
            "_view_name": "StyleView",
            "bar_color": null,
            "description_width": ""
          }
        },
        "ba7a30c07fa747a18430abe0649b06e2": {
          "model_module": "@jupyter-widgets/controls",
          "model_module_version": "1.5.0",
          "model_name": "HTMLModel",
          "state": {
            "_dom_classes": [],
            "_model_module": "@jupyter-widgets/controls",
            "_model_module_version": "1.5.0",
            "_model_name": "HTMLModel",
            "_view_count": null,
            "_view_module": "@jupyter-widgets/controls",
            "_view_module_version": "1.5.0",
            "_view_name": "HTMLView",
            "description": "",
            "description_tooltip": null,
            "layout": "IPY_MODEL_6639645fafcf41abbc7c67dfb8e70e14",
            "placeholder": "​",
            "style": "IPY_MODEL_8a10cd57d52b4abdabd22c42a1ba6e19",
            "value": " 1.42M/1.42M [00:00&lt;00:00, 2.85MB/s]"
          }
        },
        "bf830aa6d41b4ffdbc5b19c645c4f3ca": {
          "model_module": "@jupyter-widgets/base",
          "model_module_version": "1.2.0",
          "model_name": "LayoutModel",
          "state": {
            "_model_module": "@jupyter-widgets/base",
            "_model_module_version": "1.2.0",
            "_model_name": "LayoutModel",
            "_view_count": null,
            "_view_module": "@jupyter-widgets/base",
            "_view_module_version": "1.2.0",
            "_view_name": "LayoutView",
            "align_content": null,
            "align_items": null,
            "align_self": null,
            "border": null,
            "bottom": null,
            "display": null,
            "flex": null,
            "flex_flow": null,
            "grid_area": null,
            "grid_auto_columns": null,
            "grid_auto_flow": null,
            "grid_auto_rows": null,
            "grid_column": null,
            "grid_gap": null,
            "grid_row": null,
            "grid_template_areas": null,
            "grid_template_columns": null,
            "grid_template_rows": null,
            "height": null,
            "justify_content": null,
            "justify_items": null,
            "left": null,
            "margin": null,
            "max_height": null,
            "max_width": null,
            "min_height": null,
            "min_width": null,
            "object_fit": null,
            "object_position": null,
            "order": null,
            "overflow": null,
            "overflow_x": null,
            "overflow_y": null,
            "padding": null,
            "right": null,
            "top": null,
            "visibility": null,
            "width": null
          }
        },
        "bfe652d54a1248afaaaf7092043218a6": {
          "model_module": "@jupyter-widgets/controls",
          "model_module_version": "1.5.0",
          "model_name": "HBoxModel",
          "state": {
            "_dom_classes": [],
            "_model_module": "@jupyter-widgets/controls",
            "_model_module_version": "1.5.0",
            "_model_name": "HBoxModel",
            "_view_count": null,
            "_view_module": "@jupyter-widgets/controls",
            "_view_module_version": "1.5.0",
            "_view_name": "HBoxView",
            "box_style": "",
            "children": [
              "IPY_MODEL_76885b8720074dc58ea3327839df35bf",
              "IPY_MODEL_aea767bc3ca64fb684babf9acc49e028",
              "IPY_MODEL_f802d0e6f5ab445ca16209016d59002b"
            ],
            "layout": "IPY_MODEL_b38a536f7bac444b8e7ac3151d4ed7ea"
          }
        },
        "c1be1abcdf814aebb516912a4ad789ff": {
          "model_module": "@jupyter-widgets/controls",
          "model_module_version": "1.5.0",
          "model_name": "ProgressStyleModel",
          "state": {
            "_model_module": "@jupyter-widgets/controls",
            "_model_module_version": "1.5.0",
            "_model_name": "ProgressStyleModel",
            "_view_count": null,
            "_view_module": "@jupyter-widgets/base",
            "_view_module_version": "1.2.0",
            "_view_name": "StyleView",
            "bar_color": null,
            "description_width": ""
          }
        },
        "cb5f87b764024bd58f12b5ef1171e023": {
          "model_module": "@jupyter-widgets/controls",
          "model_module_version": "1.5.0",
          "model_name": "FloatProgressModel",
          "state": {
            "_dom_classes": [],
            "_model_module": "@jupyter-widgets/controls",
            "_model_module_version": "1.5.0",
            "_model_name": "FloatProgressModel",
            "_view_count": null,
            "_view_module": "@jupyter-widgets/controls",
            "_view_module_version": "1.5.0",
            "_view_name": "ProgressView",
            "bar_style": "success",
            "description": "",
            "description_tooltip": null,
            "layout": "IPY_MODEL_34bc9b15842648a8929fc5e00188851e",
            "max": 402715,
            "min": 0,
            "orientation": "horizontal",
            "style": "IPY_MODEL_c1be1abcdf814aebb516912a4ad789ff",
            "value": 402715
          }
        },
        "cbd19c37ef294a4eb3e12afe8be12a5f": {
          "model_module": "@jupyter-widgets/base",
          "model_module_version": "1.2.0",
          "model_name": "LayoutModel",
          "state": {
            "_model_module": "@jupyter-widgets/base",
            "_model_module_version": "1.2.0",
            "_model_name": "LayoutModel",
            "_view_count": null,
            "_view_module": "@jupyter-widgets/base",
            "_view_module_version": "1.2.0",
            "_view_name": "LayoutView",
            "align_content": null,
            "align_items": null,
            "align_self": null,
            "border": null,
            "bottom": null,
            "display": null,
            "flex": null,
            "flex_flow": null,
            "grid_area": null,
            "grid_auto_columns": null,
            "grid_auto_flow": null,
            "grid_auto_rows": null,
            "grid_column": null,
            "grid_gap": null,
            "grid_row": null,
            "grid_template_areas": null,
            "grid_template_columns": null,
            "grid_template_rows": null,
            "height": null,
            "justify_content": null,
            "justify_items": null,
            "left": null,
            "margin": null,
            "max_height": null,
            "max_width": null,
            "min_height": null,
            "min_width": null,
            "object_fit": null,
            "object_position": null,
            "order": null,
            "overflow": null,
            "overflow_x": null,
            "overflow_y": null,
            "padding": null,
            "right": null,
            "top": null,
            "visibility": null,
            "width": null
          }
        },
        "cd0008f0ffd54984a1600f41acba767d": {
          "model_module": "@jupyter-widgets/controls",
          "model_module_version": "1.5.0",
          "model_name": "ProgressStyleModel",
          "state": {
            "_model_module": "@jupyter-widgets/controls",
            "_model_module_version": "1.5.0",
            "_model_name": "ProgressStyleModel",
            "_view_count": null,
            "_view_module": "@jupyter-widgets/base",
            "_view_module_version": "1.2.0",
            "_view_name": "StyleView",
            "bar_color": null,
            "description_width": ""
          }
        },
        "d853bc9c4acb4880b0ef29d2d557c1b2": {
          "model_module": "@jupyter-widgets/controls",
          "model_module_version": "1.5.0",
          "model_name": "HTMLModel",
          "state": {
            "_dom_classes": [],
            "_model_module": "@jupyter-widgets/controls",
            "_model_module_version": "1.5.0",
            "_model_name": "HTMLModel",
            "_view_count": null,
            "_view_module": "@jupyter-widgets/controls",
            "_view_module_version": "1.5.0",
            "_view_name": "HTMLView",
            "description": "",
            "description_tooltip": null,
            "layout": "IPY_MODEL_ff56714a15694d7e9feeb2212aae721f",
            "placeholder": "​",
            "style": "IPY_MODEL_40d26f7f5f1f4fb98d5c629134ff0d88",
            "value": "Downloading data: 100%"
          }
        },
        "d9a958dcf2b24de990d31ad9b646f91a": {
          "model_module": "@jupyter-widgets/base",
          "model_module_version": "1.2.0",
          "model_name": "LayoutModel",
          "state": {
            "_model_module": "@jupyter-widgets/base",
            "_model_module_version": "1.2.0",
            "_model_name": "LayoutModel",
            "_view_count": null,
            "_view_module": "@jupyter-widgets/base",
            "_view_module_version": "1.2.0",
            "_view_name": "LayoutView",
            "align_content": null,
            "align_items": null,
            "align_self": null,
            "border": null,
            "bottom": null,
            "display": null,
            "flex": null,
            "flex_flow": null,
            "grid_area": null,
            "grid_auto_columns": null,
            "grid_auto_flow": null,
            "grid_auto_rows": null,
            "grid_column": null,
            "grid_gap": null,
            "grid_row": null,
            "grid_template_areas": null,
            "grid_template_columns": null,
            "grid_template_rows": null,
            "height": null,
            "justify_content": null,
            "justify_items": null,
            "left": null,
            "margin": null,
            "max_height": null,
            "max_width": null,
            "min_height": null,
            "min_width": null,
            "object_fit": null,
            "object_position": null,
            "order": null,
            "overflow": null,
            "overflow_x": null,
            "overflow_y": null,
            "padding": null,
            "right": null,
            "top": null,
            "visibility": null,
            "width": null
          }
        },
        "dd182946b27646ad85c6c90d0d962efb": {
          "model_module": "@jupyter-widgets/controls",
          "model_module_version": "1.5.0",
          "model_name": "ProgressStyleModel",
          "state": {
            "_model_module": "@jupyter-widgets/controls",
            "_model_module_version": "1.5.0",
            "_model_name": "ProgressStyleModel",
            "_view_count": null,
            "_view_module": "@jupyter-widgets/base",
            "_view_module_version": "1.2.0",
            "_view_name": "StyleView",
            "bar_color": null,
            "description_width": ""
          }
        },
        "df462f08d6c84772a0c8fa21b91278e5": {
          "model_module": "@jupyter-widgets/base",
          "model_module_version": "1.2.0",
          "model_name": "LayoutModel",
          "state": {
            "_model_module": "@jupyter-widgets/base",
            "_model_module_version": "1.2.0",
            "_model_name": "LayoutModel",
            "_view_count": null,
            "_view_module": "@jupyter-widgets/base",
            "_view_module_version": "1.2.0",
            "_view_name": "LayoutView",
            "align_content": null,
            "align_items": null,
            "align_self": null,
            "border": null,
            "bottom": null,
            "display": null,
            "flex": null,
            "flex_flow": null,
            "grid_area": null,
            "grid_auto_columns": null,
            "grid_auto_flow": null,
            "grid_auto_rows": null,
            "grid_column": null,
            "grid_gap": null,
            "grid_row": null,
            "grid_template_areas": null,
            "grid_template_columns": null,
            "grid_template_rows": null,
            "height": null,
            "justify_content": null,
            "justify_items": null,
            "left": null,
            "margin": null,
            "max_height": null,
            "max_width": null,
            "min_height": null,
            "min_width": null,
            "object_fit": null,
            "object_position": null,
            "order": null,
            "overflow": null,
            "overflow_x": null,
            "overflow_y": null,
            "padding": null,
            "right": null,
            "top": null,
            "visibility": null,
            "width": null
          }
        },
        "e1c6e8a9d0c9438f84e70e04d112e3c0": {
          "model_module": "@jupyter-widgets/base",
          "model_module_version": "1.2.0",
          "model_name": "LayoutModel",
          "state": {
            "_model_module": "@jupyter-widgets/base",
            "_model_module_version": "1.2.0",
            "_model_name": "LayoutModel",
            "_view_count": null,
            "_view_module": "@jupyter-widgets/base",
            "_view_module_version": "1.2.0",
            "_view_name": "LayoutView",
            "align_content": null,
            "align_items": null,
            "align_self": null,
            "border": null,
            "bottom": null,
            "display": null,
            "flex": null,
            "flex_flow": null,
            "grid_area": null,
            "grid_auto_columns": null,
            "grid_auto_flow": null,
            "grid_auto_rows": null,
            "grid_column": null,
            "grid_gap": null,
            "grid_row": null,
            "grid_template_areas": null,
            "grid_template_columns": null,
            "grid_template_rows": null,
            "height": null,
            "justify_content": null,
            "justify_items": null,
            "left": null,
            "margin": null,
            "max_height": null,
            "max_width": null,
            "min_height": null,
            "min_width": null,
            "object_fit": null,
            "object_position": null,
            "order": null,
            "overflow": null,
            "overflow_x": null,
            "overflow_y": null,
            "padding": null,
            "right": null,
            "top": null,
            "visibility": null,
            "width": null
          }
        },
        "eb912a1361b943518a4856bc0d646ffe": {
          "model_module": "@jupyter-widgets/controls",
          "model_module_version": "1.5.0",
          "model_name": "DescriptionStyleModel",
          "state": {
            "_model_module": "@jupyter-widgets/controls",
            "_model_module_version": "1.5.0",
            "_model_name": "DescriptionStyleModel",
            "_view_count": null,
            "_view_module": "@jupyter-widgets/base",
            "_view_module_version": "1.2.0",
            "_view_name": "StyleView",
            "description_width": ""
          }
        },
        "f331ed50f38b43ce9c2766256814a31d": {
          "model_module": "@jupyter-widgets/base",
          "model_module_version": "1.2.0",
          "model_name": "LayoutModel",
          "state": {
            "_model_module": "@jupyter-widgets/base",
            "_model_module_version": "1.2.0",
            "_model_name": "LayoutModel",
            "_view_count": null,
            "_view_module": "@jupyter-widgets/base",
            "_view_module_version": "1.2.0",
            "_view_name": "LayoutView",
            "align_content": null,
            "align_items": null,
            "align_self": null,
            "border": null,
            "bottom": null,
            "display": null,
            "flex": null,
            "flex_flow": null,
            "grid_area": null,
            "grid_auto_columns": null,
            "grid_auto_flow": null,
            "grid_auto_rows": null,
            "grid_column": null,
            "grid_gap": null,
            "grid_row": null,
            "grid_template_areas": null,
            "grid_template_columns": null,
            "grid_template_rows": null,
            "height": null,
            "justify_content": null,
            "justify_items": null,
            "left": null,
            "margin": null,
            "max_height": null,
            "max_width": null,
            "min_height": null,
            "min_width": null,
            "object_fit": null,
            "object_position": null,
            "order": null,
            "overflow": null,
            "overflow_x": null,
            "overflow_y": null,
            "padding": null,
            "right": null,
            "top": null,
            "visibility": null,
            "width": null
          }
        },
        "f45c1bebba234742b1b8259d25162d07": {
          "model_module": "@jupyter-widgets/controls",
          "model_module_version": "1.5.0",
          "model_name": "HTMLModel",
          "state": {
            "_dom_classes": [],
            "_model_module": "@jupyter-widgets/controls",
            "_model_module_version": "1.5.0",
            "_model_name": "HTMLModel",
            "_view_count": null,
            "_view_module": "@jupyter-widgets/controls",
            "_view_module_version": "1.5.0",
            "_view_name": "HTMLView",
            "description": "",
            "description_tooltip": null,
            "layout": "IPY_MODEL_cbd19c37ef294a4eb3e12afe8be12a5f",
            "placeholder": "​",
            "style": "IPY_MODEL_ac77cd543c524e33be1c4ba29d098336",
            "value": "Generating test split: 100%"
          }
        },
        "f802d0e6f5ab445ca16209016d59002b": {
          "model_module": "@jupyter-widgets/controls",
          "model_module_version": "1.5.0",
          "model_name": "HTMLModel",
          "state": {
            "_dom_classes": [],
            "_model_module": "@jupyter-widgets/controls",
            "_model_module_version": "1.5.0",
            "_model_name": "HTMLModel",
            "_view_count": null,
            "_view_module": "@jupyter-widgets/controls",
            "_view_module_version": "1.5.0",
            "_view_name": "HTMLView",
            "description": "",
            "description_tooltip": null,
            "layout": "IPY_MODEL_1df09f55047c425db10fb5ce9cb23218",
            "placeholder": "​",
            "style": "IPY_MODEL_77876dee02234830bac5a1e52b83f06c",
            "value": " 7004/7004 [00:00&lt;00:00, 44378.20 examples/s]"
          }
        },
        "fbe7d85cf7e74cd7aa93e17b9d00e291": {
          "model_module": "@jupyter-widgets/controls",
          "model_module_version": "1.5.0",
          "model_name": "HTMLModel",
          "state": {
            "_dom_classes": [],
            "_model_module": "@jupyter-widgets/controls",
            "_model_module_version": "1.5.0",
            "_model_name": "HTMLModel",
            "_view_count": null,
            "_view_module": "@jupyter-widgets/controls",
            "_view_module_version": "1.5.0",
            "_view_name": "HTMLView",
            "description": "",
            "description_tooltip": null,
            "layout": "IPY_MODEL_e1c6e8a9d0c9438f84e70e04d112e3c0",
            "placeholder": "​",
            "style": "IPY_MODEL_b75ab7ac13da4f32b98d4199e79cce36",
            "value": "Downloading data: 100%"
          }
        },
        "fd97dce6f05b46508a86749dae8d619e": {
          "model_module": "@jupyter-widgets/controls",
          "model_module_version": "1.5.0",
          "model_name": "DescriptionStyleModel",
          "state": {
            "_model_module": "@jupyter-widgets/controls",
            "_model_module_version": "1.5.0",
            "_model_name": "DescriptionStyleModel",
            "_view_count": null,
            "_view_module": "@jupyter-widgets/base",
            "_view_module_version": "1.2.0",
            "_view_name": "StyleView",
            "description_width": ""
          }
        },
        "fd9c66c1efc54f2f8d3817b3837b15fa": {
          "model_module": "@jupyter-widgets/controls",
          "model_module_version": "1.5.0",
          "model_name": "HTMLModel",
          "state": {
            "_dom_classes": [],
            "_model_module": "@jupyter-widgets/controls",
            "_model_module_version": "1.5.0",
            "_model_name": "HTMLModel",
            "_view_count": null,
            "_view_module": "@jupyter-widgets/controls",
            "_view_module_version": "1.5.0",
            "_view_name": "HTMLView",
            "description": "",
            "description_tooltip": null,
            "layout": "IPY_MODEL_15fd4324042048f3a2547d5c8e104eaf",
            "placeholder": "​",
            "style": "IPY_MODEL_7c1b8ce9909f4502ba7e392846d1b813",
            "value": " 1000/1000 [00:00&lt;00:00, 11233.82 examples/s]"
          }
        },
        "ff56714a15694d7e9feeb2212aae721f": {
          "model_module": "@jupyter-widgets/base",
          "model_module_version": "1.2.0",
          "model_name": "LayoutModel",
          "state": {
            "_model_module": "@jupyter-widgets/base",
            "_model_module_version": "1.2.0",
            "_model_name": "LayoutModel",
            "_view_count": null,
            "_view_module": "@jupyter-widgets/base",
            "_view_module_version": "1.2.0",
            "_view_name": "LayoutView",
            "align_content": null,
            "align_items": null,
            "align_self": null,
            "border": null,
            "bottom": null,
            "display": null,
            "flex": null,
            "flex_flow": null,
            "grid_area": null,
            "grid_auto_columns": null,
            "grid_auto_flow": null,
            "grid_auto_rows": null,
            "grid_column": null,
            "grid_gap": null,
            "grid_row": null,
            "grid_template_areas": null,
            "grid_template_columns": null,
            "grid_template_rows": null,
            "height": null,
            "justify_content": null,
            "justify_items": null,
            "left": null,
            "margin": null,
            "max_height": null,
            "max_width": null,
            "min_height": null,
            "min_width": null,
            "object_fit": null,
            "object_position": null,
            "order": null,
            "overflow": null,
            "overflow_x": null,
            "overflow_y": null,
            "padding": null,
            "right": null,
            "top": null,
            "visibility": null,
            "width": null
          }
        }
      }
    }
  },
  "nbformat": 4,
  "nbformat_minor": 0
}
